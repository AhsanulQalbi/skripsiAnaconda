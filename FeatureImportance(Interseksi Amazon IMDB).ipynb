{
 "cells": [
  {
   "cell_type": "markdown",
   "metadata": {},
   "source": [
    "SKRIPSI"
   ]
  },
  {
   "cell_type": "markdown",
   "metadata": {},
   "source": [
    "# Import library"
   ]
  },
  {
   "cell_type": "code",
   "execution_count": 1,
   "metadata": {},
   "outputs": [],
   "source": [
    "import sys\n",
    "import pandas as pd\n",
    "import numpy as np\n",
    "import matplotlib.pyplot as plt\n",
    "import string\n",
    "import re\n",
    "import nltk\n",
    "import os\n",
    "\n",
    "from nltk import ngrams\n",
    "from sklearn.ensemble import RandomForestClassifier\n",
    "from sklearn.model_selection import train_test_split, validation_curve,RandomizedSearchCV\n",
    "from sklearn.feature_extraction.text import CountVectorizer, TfidfVectorizer\n",
    "from matplotlib_venn import venn2\n",
    "from time import time\n",
    "from joblib import dump, load\n",
    "from sklearn.metrics import confusion_matrix\n",
    "from sklearn import metrics\n",
    "\n",
    "np.random.seed(0)\n",
    "stopwords = nltk.corpus.stopwords.words('english')\n",
    "poster_Stemmer = nltk.PorterStemmer()\n"
   ]
  },
  {
   "cell_type": "markdown",
   "metadata": {},
   "source": [
    "# Baca file csv"
   ]
  },
  {
   "cell_type": "code",
   "execution_count": 2,
   "metadata": {},
   "outputs": [],
   "source": [
    "data_train_imdb = pd.read_csv('dataset/IMDB_Train.csv')\n",
    "data_test_imdb = pd.read_csv('dataset/IMDB_Test.csv')"
   ]
  },
  {
   "cell_type": "code",
   "execution_count": 3,
   "metadata": {},
   "outputs": [
    {
     "name": "stdout",
     "output_type": "stream",
     "text": [
      "   Label                                           Sentimen\n",
      "0      0  Story of a man who has unnatural feelings for ...\n",
      "1      0  Airport '77 starts as a brand new luxury 747 p...\n",
      "2      0  This film lacked something I couldn't put my f...\n",
      "3      0  Sorry everyone,,, I know this is supposed to b...\n",
      "4      0  When I was little my parents took me along to ...\n"
     ]
    }
   ],
   "source": [
    "print(data_train_imdb.head())"
   ]
  },
  {
   "cell_type": "code",
   "execution_count": 4,
   "metadata": {},
   "outputs": [
    {
     "name": "stdout",
     "output_type": "stream",
     "text": [
      "   Label                                           Sentimen\n",
      "0      0  Once again Mr. Costner has dragged out a movie...\n",
      "1      0  First of all, I would like to say that I am a ...\n",
      "2      0  I'm a huge fan of both Emily Watson (Breaking ...\n",
      "3      0  I was pulled into this movie early on, much to...\n",
      "4      0  This tale of the upper-classes getting their c...\n"
     ]
    }
   ],
   "source": [
    "print(data_test_imdb.head())"
   ]
  },
  {
   "cell_type": "markdown",
   "metadata": {},
   "source": [
    "# Preprocessing "
   ]
  },
  {
   "cell_type": "code",
   "execution_count": 5,
   "metadata": {},
   "outputs": [],
   "source": [
    "data_Preprocessing_IMDB_Train = data_train_imdb.Sentimen.astype(str)\n",
    "data_Preprocessing_IMDB_Train = data_Preprocessing_IMDB_Train.apply(lambda x: x.lower())\n",
    "data_Preprocessing_IMDB_Train = data_Preprocessing_IMDB_Train.apply(lambda x: re.sub(r\"\\d\", \"\", x))   \n",
    "data_Preprocessing_IMDB_Train = data_Preprocessing_IMDB_Train.apply(\n",
    "                                    lambda x: x.translate(str.maketrans('','',string.punctuation)))  \n",
    "data_Preprocessing_IMDB_Train = data_Preprocessing_IMDB_Train.apply(\n",
    "                                    lambda x: \" \".join(re.findall(\"[a-zA-Z]+\", x)))"
   ]
  },
  {
   "cell_type": "code",
   "execution_count": 6,
   "metadata": {},
   "outputs": [
    {
     "data": {
      "text/plain": [
       "0    story of a man who has unnatural feelings for ...\n",
       "1    airport starts as a brand new luxury plane is ...\n",
       "2    this film lacked something i couldnt put my fi...\n",
       "3    sorry everyone i know this is supposed to be a...\n",
       "4    when i was little my parents took me along to ...\n",
       "Name: Sentimen, dtype: object"
      ]
     },
     "execution_count": 6,
     "metadata": {},
     "output_type": "execute_result"
    }
   ],
   "source": [
    "data_Preprocessing_IMDB_Train.head()"
   ]
  },
  {
   "cell_type": "code",
   "execution_count": 7,
   "metadata": {},
   "outputs": [],
   "source": [
    "data_Preprocessing_IMDB_Test = data_test_imdb.Sentimen.astype(str)\n",
    "data_Preprocessing_IMDB_Test = data_Preprocessing_IMDB_Test.apply(lambda x: x.lower())\n",
    "data_Preprocessing_IMDB_Test = data_Preprocessing_IMDB_Test.apply(lambda x: re.sub(r\"\\d\", \"\", x))   \n",
    "data_Preprocessing_IMDB_Test = data_Preprocessing_IMDB_Test.apply(lambda x: x.translate(\n",
    "                                str.maketrans('','',string.punctuation)))  \n",
    "data_Preprocessing_IMDB_Test = data_Preprocessing_IMDB_Test.apply(lambda x: \" \".join(\n",
    "                                re.findall(\"[a-zA-Z]+\", x)))"
   ]
  },
  {
   "cell_type": "code",
   "execution_count": 8,
   "metadata": {},
   "outputs": [
    {
     "data": {
      "text/plain": [
       "0    once again mr costner has dragged out a movie ...\n",
       "1    first of all i would like to say that i am a f...\n",
       "2    im a huge fan of both emily watson breaking th...\n",
       "3    i was pulled into this movie early on much to ...\n",
       "4    this tale of the upperclasses getting their co...\n",
       "Name: Sentimen, dtype: object"
      ]
     },
     "execution_count": 8,
     "metadata": {},
     "output_type": "execute_result"
    }
   ],
   "source": [
    "data_Preprocessing_IMDB_Test.head()"
   ]
  },
  {
   "cell_type": "code",
   "execution_count": 9,
   "metadata": {},
   "outputs": [],
   "source": [
    "Clean_IMDB_Sentiment_Train = data_Preprocessing_IMDB_Train\n",
    "Label_IMDB_Train = data_train_imdb['Label']\n",
    "Clean_IMDB_Sentiment_Test = data_Preprocessing_IMDB_Test\n",
    "Label_IMDB_Test = data_test_imdb['Label']"
   ]
  },
  {
   "cell_type": "markdown",
   "metadata": {},
   "source": [
    "# N-Gram (bigram dan trigram)"
   ]
  },
  {
   "cell_type": "code",
   "execution_count": 10,
   "metadata": {},
   "outputs": [],
   "source": [
    "def bigram_trigram(Clean_Sentiment) :\n",
    "    iterator = 0\n",
    "    Vocabulary = []\n",
    "    ngram_result = []\n",
    "    while iterator < len(Clean_Sentiment) :\n",
    "        ngram = 2\n",
    "        sentence = Clean_Sentiment[iterator]\n",
    "        vocab = list(ngrams(sentence, ngram))\n",
    "        temp = vocab\n",
    "\n",
    "        iterator2 = 0\n",
    "        while iterator2 < len (vocab):\n",
    "            if(vocab[iterator2] not in Vocabulary) :\n",
    "                Vocabulary.append(vocab[iterator2])\n",
    "            iterator2 = iterator2 + 1\n",
    "\n",
    "        ngram = 3\n",
    "        vocab = list(ngrams(sentence, ngram))\n",
    "        temp = temp + vocab\n",
    "        ngram_result.append(temp)\n",
    "        iterator2 = 0\n",
    "        while iterator2 < len (vocab):\n",
    "            if(vocab[iterator2] not in Vocabulary) :\n",
    "                Vocabulary.append(vocab[iterator2])\n",
    "            iterator2 = iterator2 + 1\n",
    "        iterator = iterator + 1\n",
    "    \n",
    "    return ngram_result,Vocabulary\n"
   ]
  },
  {
   "cell_type": "code",
   "execution_count": 11,
   "metadata": {},
   "outputs": [],
   "source": [
    "ngram_imdb_train, Vocabulary_IMDB_Train = bigram_trigram(Clean_IMDB_Sentiment_Train)"
   ]
  },
  {
   "cell_type": "code",
   "execution_count": 12,
   "metadata": {},
   "outputs": [],
   "source": [
    "ngram_imdb_test, Vocabulary_IMDB_Test = bigram_trigram(Clean_IMDB_Sentiment_Test)"
   ]
  },
  {
   "cell_type": "markdown",
   "metadata": {},
   "source": [
    "# Me inisialisasi jumlah frekuensi Gram di Vocabulary"
   ]
  },
  {
   "cell_type": "code",
   "execution_count": 13,
   "metadata": {},
   "outputs": [],
   "source": [
    "def dictionaryInitialize(Clean_Sentiment, Vocabulary, ngram, jenisdata) :\n",
    "    wordDictionaryCount = []\n",
    "    iterator = 0\n",
    "    while iterator < len(Clean_Sentiment):\n",
    "        wordDictionaryCount.append(dict.fromkeys(Vocabulary , 0))\n",
    "        iterator = iterator + 1\n",
    "    \n",
    "    iterator = 0\n",
    "    \n",
    "    while iterator < len(Clean_Sentiment) :\n",
    "        for gram in ngram[iterator] :\n",
    "            if (jenisdata == 'test' or jenisdata == 'transfer') and gram not in Vocabulary :\n",
    "                continue\n",
    "            wordDictionaryCount[iterator][gram] += 1\n",
    "        iterator = iterator + 1\n",
    "    \n",
    "    return wordDictionaryCount"
   ]
  },
  {
   "cell_type": "code",
   "execution_count": 14,
   "metadata": {},
   "outputs": [],
   "source": [
    "WordDictionaryCount_IMDB_Train = dictionaryInitialize(Clean_IMDB_Sentiment_Train, Vocabulary_IMDB_Train, ngram_imdb_train,'train')"
   ]
  },
  {
   "cell_type": "code",
   "execution_count": 15,
   "metadata": {},
   "outputs": [],
   "source": [
    "WordDictionaryCount_IMDB_Test = dictionaryInitialize(Clean_IMDB_Sentiment_Test, Vocabulary_IMDB_Train, ngram_imdb_test,'test')"
   ]
  },
  {
   "cell_type": "code",
   "execution_count": 16,
   "metadata": {},
   "outputs": [
    {
     "data": {
      "text/html": [
       "<div>\n",
       "<style scoped>\n",
       "    .dataframe tbody tr th:only-of-type {\n",
       "        vertical-align: middle;\n",
       "    }\n",
       "\n",
       "    .dataframe tbody tr th {\n",
       "        vertical-align: top;\n",
       "    }\n",
       "\n",
       "    .dataframe thead th {\n",
       "        text-align: right;\n",
       "    }\n",
       "</style>\n",
       "<table border=\"1\" class=\"dataframe\">\n",
       "  <thead>\n",
       "    <tr style=\"text-align: right;\">\n",
       "      <th></th>\n",
       "      <th>(s, t)</th>\n",
       "      <th>(t, o)</th>\n",
       "      <th>(o, r)</th>\n",
       "      <th>(r, y)</th>\n",
       "      <th>(y,  )</th>\n",
       "      <th>( , o)</th>\n",
       "      <th>(o, f)</th>\n",
       "      <th>(f,  )</th>\n",
       "      <th>( , a)</th>\n",
       "      <th>(a,  )</th>\n",
       "      <th>...</th>\n",
       "      <th>(k, b, l)</th>\n",
       "      <th>(d, m, y)</th>\n",
       "      <th>(p, s, n)</th>\n",
       "      <th>(g, p, i)</th>\n",
       "      <th>( , l, w)</th>\n",
       "      <th>(w, r,  )</th>\n",
       "      <th>(t, t, t)</th>\n",
       "      <th>(u, a, x)</th>\n",
       "      <th>(h, b, y)</th>\n",
       "      <th>(w, o, f)</th>\n",
       "    </tr>\n",
       "  </thead>\n",
       "  <tbody>\n",
       "    <tr>\n",
       "      <td>0</td>\n",
       "      <td>7</td>\n",
       "      <td>5</td>\n",
       "      <td>6</td>\n",
       "      <td>2</td>\n",
       "      <td>10</td>\n",
       "      <td>9</td>\n",
       "      <td>5</td>\n",
       "      <td>5</td>\n",
       "      <td>12</td>\n",
       "      <td>9</td>\n",
       "      <td>...</td>\n",
       "      <td>0</td>\n",
       "      <td>0</td>\n",
       "      <td>0</td>\n",
       "      <td>0</td>\n",
       "      <td>0</td>\n",
       "      <td>0</td>\n",
       "      <td>0</td>\n",
       "      <td>0</td>\n",
       "      <td>0</td>\n",
       "      <td>0</td>\n",
       "    </tr>\n",
       "    <tr>\n",
       "      <td>1</td>\n",
       "      <td>25</td>\n",
       "      <td>19</td>\n",
       "      <td>47</td>\n",
       "      <td>5</td>\n",
       "      <td>33</td>\n",
       "      <td>65</td>\n",
       "      <td>25</td>\n",
       "      <td>29</td>\n",
       "      <td>81</td>\n",
       "      <td>28</td>\n",
       "      <td>...</td>\n",
       "      <td>0</td>\n",
       "      <td>0</td>\n",
       "      <td>0</td>\n",
       "      <td>0</td>\n",
       "      <td>0</td>\n",
       "      <td>0</td>\n",
       "      <td>0</td>\n",
       "      <td>0</td>\n",
       "      <td>0</td>\n",
       "      <td>0</td>\n",
       "    </tr>\n",
       "  </tbody>\n",
       "</table>\n",
       "<p>2 rows × 9284 columns</p>\n",
       "</div>"
      ],
      "text/plain": [
       "   (s, t)  (t, o)  (o, r)  (r, y)  (y,  )  ( , o)  (o, f)  (f,  )  ( , a)  \\\n",
       "0       7       5       6       2      10       9       5       5      12   \n",
       "1      25      19      47       5      33      65      25      29      81   \n",
       "\n",
       "   (a,  )  ...  (k, b, l)  (d, m, y)  (p, s, n)  (g, p, i)  ( , l, w)  \\\n",
       "0       9  ...          0          0          0          0          0   \n",
       "1      28  ...          0          0          0          0          0   \n",
       "\n",
       "   (w, r,  )  (t, t, t)  (u, a, x)  (h, b, y)  (w, o, f)  \n",
       "0          0          0          0          0          0  \n",
       "1          0          0          0          0          0  \n",
       "\n",
       "[2 rows x 9284 columns]"
      ]
     },
     "execution_count": 16,
     "metadata": {},
     "output_type": "execute_result"
    }
   ],
   "source": [
    "pd.DataFrame([WordDictionaryCount_IMDB_Train[0],WordDictionaryCount_IMDB_Train[1]])"
   ]
  },
  {
   "cell_type": "markdown",
   "metadata": {},
   "source": [
    "## Menghitung nilai TF pada setiap data "
   ]
  },
  {
   "cell_type": "code",
   "execution_count": 17,
   "metadata": {},
   "outputs": [],
   "source": [
    "def computeFrequency(wordDict, ngram):\n",
    "    freqword = {}\n",
    "    ngramLength = len(ngram)\n",
    "    for word, count in wordDict.items():\n",
    "        freqword[word] = count\n",
    "    return freqword"
   ]
  },
  {
   "cell_type": "code",
   "execution_count": 18,
   "metadata": {},
   "outputs": [],
   "source": [
    "def getFrequencyTermPerData(wordDictionary, ngram) :\n",
    "    CountFrequency = []\n",
    "    iterator = 0\n",
    "    while iterator < len(ngram):\n",
    "        CountFrequency.append(computeFrequency(wordDictionary[iterator], ngram[iterator]))\n",
    "        iterator = iterator + 1\n",
    "    \n",
    "    return CountFrequency"
   ]
  },
  {
   "cell_type": "code",
   "execution_count": 19,
   "metadata": {},
   "outputs": [],
   "source": [
    "CountFrequency_Sentimen_IMDB_Train = getFrequencyTermPerData(WordDictionaryCount_IMDB_Train, ngram_imdb_train)\n",
    "CountFrequency_Sentimen_IMDB_Test = getFrequencyTermPerData(WordDictionaryCount_IMDB_Test, ngram_imdb_test)"
   ]
  },
  {
   "cell_type": "markdown",
   "metadata": {},
   "source": [
    "## Menghitung nilai IDF pada setiap data Amazon dan Yelp"
   ]
  },
  {
   "cell_type": "code",
   "execution_count": 20,
   "metadata": {},
   "outputs": [],
   "source": [
    "def computeIDF(WordDict):\n",
    "    idfDict = {}\n",
    "    number_of_document_with_term_t_in_it = {}\n",
    "    N = len(WordDict)\n",
    "    \n",
    "    idfDict = dict.fromkeys(WordDict[0].keys(), 0)\n",
    "    for doc in WordDict:\n",
    "        for word, val in doc.items():\n",
    "            if val > 0:\n",
    "                idfDict[word] += 1\n",
    "    \n",
    "    for word, val in idfDict.items():\n",
    "        number_of_document_with_term_t_in_it[word] = float(val)\n",
    "        idfDict[word] = np.log((1+N) / (1+val)) + 1\n",
    "        \n",
    "    return idfDict, number_of_document_with_term_t_in_it"
   ]
  },
  {
   "cell_type": "code",
   "execution_count": 21,
   "metadata": {},
   "outputs": [],
   "source": [
    "IDF_IMDB, number_of_document_with_term_t_in_IMDB_Train = computeIDF(WordDictionaryCount_IMDB_Train)"
   ]
  },
  {
   "cell_type": "code",
   "execution_count": 22,
   "metadata": {},
   "outputs": [],
   "source": [
    "def computeTFIDFnonScale(CountFrequency, idfs):\n",
    "    tfidf = None\n",
    "    tfidf = {}\n",
    "    for word, val in CountFrequency.items():\n",
    "        tfidf[word] = val*idfs[word]\n",
    "    return tfidf"
   ]
  },
  {
   "cell_type": "code",
   "execution_count": 23,
   "metadata": {},
   "outputs": [],
   "source": [
    "def computeTFIDF(tfidf_nonscaled) :\n",
    "    tfidf_nonscaled = np.array(tfidf_nonscaled)\n",
    "    tfidf_list = tfidf_nonscaled/sum(tfidf_nonscaled**2)**0.5\n",
    "    return tfidf_list"
   ]
  },
  {
   "cell_type": "code",
   "execution_count": 24,
   "metadata": {},
   "outputs": [],
   "source": [
    "def getTFIDF(wordDictionary, CountFrequency, IDF):\n",
    "    TFIDF_non_scaled = None\n",
    "    TFIDF_non_scaled = []\n",
    "    iterator = 0\n",
    "    while iterator < len(wordDictionary):\n",
    "        TFIDF_non_scaled.append(computeTFIDFnonScale(CountFrequency[iterator], IDF))\n",
    "        iterator = iterator + 1\n",
    "    \n",
    "    TFIDF = []\n",
    "    iterator = 0\n",
    "    while iterator < len(wordDictionary):\n",
    "        tf_idf_list = list(TFIDF_non_scaled[iterator].values())\n",
    "        TFIDF.append(computeTFIDF(tf_idf_list))\n",
    "        iterator = iterator + 1\n",
    "        \n",
    "    return TFIDF"
   ]
  },
  {
   "cell_type": "code",
   "execution_count": 25,
   "metadata": {},
   "outputs": [],
   "source": [
    "TFIDF_IMDB_Train = getTFIDF(WordDictionaryCount_IMDB_Train, CountFrequency_Sentimen_IMDB_Train, IDF_IMDB)"
   ]
  },
  {
   "cell_type": "code",
   "execution_count": 26,
   "metadata": {},
   "outputs": [],
   "source": [
    "TFIDF_IMDB_Test = getTFIDF(WordDictionaryCount_IMDB_Test, CountFrequency_Sentimen_IMDB_Test, IDF_IMDB)"
   ]
  },
  {
   "cell_type": "code",
   "execution_count": 27,
   "metadata": {},
   "outputs": [],
   "source": [
    "def toVectorizeList(TFIDF):\n",
    "    iterator  = 0\n",
    "    Vectorized = []\n",
    "    while iterator < len(TFIDF):\n",
    "        Vectorized.append(list(TFIDF[iterator]))\n",
    "        iterator = iterator + 1\n",
    "    return Vectorized"
   ]
  },
  {
   "cell_type": "code",
   "execution_count": 28,
   "metadata": {},
   "outputs": [],
   "source": [
    "Vectorizer_IMDB_Train = toVectorizeList(TFIDF_IMDB_Train)\n",
    "Vectorizer_IMDB_Test = toVectorizeList(TFIDF_IMDB_Test)"
   ]
  },
  {
   "cell_type": "code",
   "execution_count": 29,
   "metadata": {},
   "outputs": [
    {
     "name": "stdout",
     "output_type": "stream",
     "text": [
      "        ( , a)  ( , a,  )  ( , a, a)  ( , a, b)  ( , a, c)  ( , a, d)  \\\n",
      "0     0.179009   0.023233        0.0   0.037041   0.000000   0.000000   \n",
      "1     0.167577   0.082649        0.0   0.006935   0.006172   0.000000   \n",
      "2     0.188543   0.027573        0.0   0.021979   0.015649   0.012406   \n",
      "3     0.117361   0.012186        0.0   0.019427   0.000000   0.013707   \n",
      "4     0.159632   0.042972        0.0   0.000000   0.008710   0.027621   \n",
      "...        ...        ...        ...        ...        ...        ...   \n",
      "1245  0.207539   0.068565        0.0   0.000000   0.000000   0.000000   \n",
      "1246  0.153714   0.050698        0.0   0.002994   0.007993   0.000000   \n",
      "1247  0.178842   0.039094        0.0   0.000000   0.013867   0.000000   \n",
      "1248  0.191903   0.048468        0.0   0.008586   0.000000   0.000000   \n",
      "1249  0.212450   0.042017        0.0   0.000000   0.000000   0.023631   \n",
      "\n",
      "      ( , a, e)  ( , a, f)  ( , a, g)  ( , a, h)  ...  (z, y, s)  (z, z)  \\\n",
      "0           0.0   0.000000   0.017111   0.000000  ...        0.0     0.0   \n",
      "1           0.0   0.000000   0.000000   0.000000  ...        0.0     0.0   \n",
      "2           0.0   0.017876   0.006092   0.000000  ...        0.0     0.0   \n",
      "3           0.0   0.013167   0.000000   0.000000  ...        0.0     0.0   \n",
      "4           0.0   0.013266   0.000000   0.000000  ...        0.0     0.0   \n",
      "...         ...        ...        ...        ...  ...        ...     ...   \n",
      "1245        0.0   0.000000   0.000000   0.000000  ...        0.0     0.0   \n",
      "1246        0.0   0.012173   0.000000   0.000000  ...        0.0     0.0   \n",
      "1247        0.0   0.000000   0.000000   0.043138  ...        0.0     0.0   \n",
      "1248        0.0   0.000000   0.000000   0.000000  ...        0.0     0.0   \n",
      "1249        0.0   0.000000   0.046418   0.000000  ...        0.0     0.0   \n",
      "\n",
      "      (z, z,  )  (z, z, a)  (z, z, i)  (z, z, l)  (z, z, o)  (z, z, u)  \\\n",
      "0           0.0        0.0        0.0        0.0        0.0        0.0   \n",
      "1           0.0        0.0        0.0        0.0        0.0        0.0   \n",
      "2           0.0        0.0        0.0        0.0        0.0        0.0   \n",
      "3           0.0        0.0        0.0        0.0        0.0        0.0   \n",
      "4           0.0        0.0        0.0        0.0        0.0        0.0   \n",
      "...         ...        ...        ...        ...        ...        ...   \n",
      "1245        0.0        0.0        0.0        0.0        0.0        0.0   \n",
      "1246        0.0        0.0        0.0        0.0        0.0        0.0   \n",
      "1247        0.0        0.0        0.0        0.0        0.0        0.0   \n",
      "1248        0.0        0.0        0.0        0.0        0.0        0.0   \n",
      "1249        0.0        0.0        0.0        0.0        0.0        0.0   \n",
      "\n",
      "      (z, z, y)  (z, z, z)  \n",
      "0           0.0        0.0  \n",
      "1           0.0        0.0  \n",
      "2           0.0        0.0  \n",
      "3           0.0        0.0  \n",
      "4           0.0        0.0  \n",
      "...         ...        ...  \n",
      "1245        0.0        0.0  \n",
      "1246        0.0        0.0  \n",
      "1247        0.0        0.0  \n",
      "1248        0.0        0.0  \n",
      "1249        0.0        0.0  \n",
      "\n",
      "[1250 rows x 9284 columns]\n"
     ]
    }
   ],
   "source": [
    "DataFrame_IMDB_Test = pd.DataFrame(Vectorizer_IMDB_Test, columns = Vocabulary_IMDB_Train)\n",
    "DataFrame_IMDB_Test = DataFrame_IMDB_Test.reindex(sorted(DataFrame_IMDB_Test.columns), axis=1)\n",
    "print (DataFrame_IMDB_Test)"
   ]
  },
  {
   "cell_type": "markdown",
   "metadata": {},
   "source": [
    "## Akurasi dan Waktu Train Test "
   ]
  },
  {
   "cell_type": "code",
   "execution_count": 30,
   "metadata": {},
   "outputs": [
    {
     "name": "stdout",
     "output_type": "stream",
     "text": [
      "\n",
      "Waktu Training IMDB: 31.136s\n"
     ]
    }
   ],
   "source": [
    "Waktu_Training = time()\n",
    "RF_Classifier_IMDB = RandomForestClassifier(max_depth= 5, \n",
    "                    n_estimators = 800, random_state=42,\n",
    "                    bootstrap = False, min_samples_split = 5, min_samples_leaf = 1, max_features = 'auto')\n",
    "RF_Classifier_IMDB.fit(Vectorizer_IMDB_Train, Label_IMDB_Train)\n",
    "print(f\"\\nWaktu Training IMDB: {round(time()-Waktu_Training, 3)}s\")"
   ]
  },
  {
   "cell_type": "code",
   "execution_count": 31,
   "metadata": {},
   "outputs": [
    {
     "name": "stdout",
     "output_type": "stream",
     "text": [
      "waktu prediksi (train): 2.843s\n",
      "waktu prediksi (test): 0.98s\n",
      "\n",
      "Skor Random Forest Train IMDB : 0.9157333333333333\n",
      "Skor Random Forest Test IMDB : 0.7816\n"
     ]
    }
   ],
   "source": [
    "Waktu_Predict_Train = time()\n",
    "Skor_Train_IMDB = RF_Classifier_IMDB.score(Vectorizer_IMDB_Train, Label_IMDB_Train)\n",
    "print(f\"waktu prediksi (train): {round(time()-Waktu_Predict_Train, 3)}s\")\n",
    "\n",
    "Waktu_Predict_Test = time()\n",
    "Skor_Test_IMDB = RF_Classifier_IMDB.score(Vectorizer_IMDB_Test, Label_IMDB_Test)\n",
    "print(f\"waktu prediksi (test): {round(time()-Waktu_Predict_Test, 3)}s\")\n",
    "\n",
    "print(\"\\nSkor Random Forest Train IMDB : {}\".format(Skor_Train_IMDB))\n",
    "print(\"Skor Random Forest Test IMDB : {}\".format(Skor_Test_IMDB))"
   ]
  },
  {
   "cell_type": "code",
   "execution_count": 32,
   "metadata": {},
   "outputs": [
    {
     "name": "stdout",
     "output_type": "stream",
     "text": [
      "waktu prediksi (train): 2.882s\n",
      "waktu prediksi (test): 0.959s\n",
      "\n",
      "Skor Random Forest: 0.9157333333333333\n",
      "Skor Random Forest: 0.7816\n",
      "----------------------------------------------------\n",
      "\n",
      "\n",
      "[[1698  177]\n",
      " [ 139 1736]]\n",
      "              precision    recall  f1-score   support\n",
      "\n",
      "           0       0.92      0.91      0.91      1875\n",
      "           1       0.91      0.93      0.92      1875\n",
      "\n",
      "    accuracy                           0.92      3750\n",
      "   macro avg       0.92      0.92      0.92      3750\n",
      "weighted avg       0.92      0.92      0.92      3750\n",
      "\n",
      "----------------------------------------------------\n",
      "\n",
      "\n",
      "[[471 154]\n",
      " [119 506]]\n",
      "              precision    recall  f1-score   support\n",
      "\n",
      "           0       0.80      0.75      0.78       625\n",
      "           1       0.77      0.81      0.79       625\n",
      "\n",
      "    accuracy                           0.78      1250\n",
      "   macro avg       0.78      0.78      0.78      1250\n",
      "weighted avg       0.78      0.78      0.78      1250\n",
      "\n"
     ]
    }
   ],
   "source": [
    "Waktu_Predict_Train = time()\n",
    "Skor_Train_IMDB = RF_Classifier_IMDB.score(Vectorizer_IMDB_Train, Label_IMDB_Train)\n",
    "print(f\"waktu prediksi (train): {round(time()-Waktu_Predict_Train, 3)}s\")\n",
    "\n",
    "Waktu_Predict_Test = time()\n",
    "Skor_Test_IMDB = RF_Classifier_IMDB.score(Vectorizer_IMDB_Test, Label_IMDB_Test)\n",
    "print(f\"waktu prediksi (test): {round(time()-Waktu_Predict_Test, 3)}s\")\n",
    "\n",
    "print(\"\\nSkor Random Forest: {}\".format(Skor_Train_IMDB))\n",
    "print(\"Skor Random Forest: {}\".format(Skor_Test_IMDB))\n",
    "print(\"----------------------------------------------------\\n\\n\")\n",
    "\n",
    "RFClassifier_predict = RF_Classifier_IMDB.predict(Vectorizer_IMDB_Train)\n",
    "Confusion_matrix = confusion_matrix(Label_IMDB_Train, RFClassifier_predict)\n",
    "print(Confusion_matrix)\n",
    "print(metrics.classification_report(Label_IMDB_Train, RFClassifier_predict))\n",
    "\n",
    "print(\"----------------------------------------------------\\n\\n\")\n",
    "RFClassifier_predict = RF_Classifier_IMDB.predict(Vectorizer_IMDB_Test)\n",
    "Confusion_matrix = confusion_matrix(Label_IMDB_Test, RFClassifier_predict)\n",
    "print(Confusion_matrix)\n",
    "print(metrics.classification_report(Label_IMDB_Test, RFClassifier_predict))"
   ]
  },
  {
   "cell_type": "code",
   "execution_count": 33,
   "metadata": {},
   "outputs": [],
   "source": [
    "from joblib import dump, load"
   ]
  },
  {
   "cell_type": "code",
   "execution_count": 35,
   "metadata": {},
   "outputs": [],
   "source": [
    "Vocabulary_Importance_Amazon = load('savedlist/vocabularyImportanceAmazon')"
   ]
  },
  {
   "cell_type": "code",
   "execution_count": 36,
   "metadata": {},
   "outputs": [],
   "source": [
    "Vocabulary_intersection = list(set(\n",
    "                            Vocabulary_Importance_Amazon) & set (\n",
    "                            Vocabulary_IMDB_Train))"
   ]
  },
  {
   "cell_type": "code",
   "execution_count": 37,
   "metadata": {},
   "outputs": [],
   "source": [
    "WordDictionary_feature_importance_Train = dictionaryInitialize(\n",
    "            Clean_IMDB_Sentiment_Train,\n",
    "            Vocabulary_intersection, \n",
    "            ngram_imdb_train,'transfer')"
   ]
  },
  {
   "cell_type": "code",
   "execution_count": 38,
   "metadata": {},
   "outputs": [
    {
     "data": {
      "text/html": [
       "<div>\n",
       "<style scoped>\n",
       "    .dataframe tbody tr th:only-of-type {\n",
       "        vertical-align: middle;\n",
       "    }\n",
       "\n",
       "    .dataframe tbody tr th {\n",
       "        vertical-align: top;\n",
       "    }\n",
       "\n",
       "    .dataframe thead th {\n",
       "        text-align: right;\n",
       "    }\n",
       "</style>\n",
       "<table border=\"1\" class=\"dataframe\">\n",
       "  <thead>\n",
       "    <tr style=\"text-align: right;\">\n",
       "      <th></th>\n",
       "      <th>(s, t)</th>\n",
       "      <th>(t, o)</th>\n",
       "      <th>(o, r)</th>\n",
       "      <th>(r, y)</th>\n",
       "      <th>(y,  )</th>\n",
       "      <th>( , o)</th>\n",
       "      <th>(o, f)</th>\n",
       "      <th>(f,  )</th>\n",
       "      <th>( , a)</th>\n",
       "      <th>(a,  )</th>\n",
       "      <th>...</th>\n",
       "      <th>(k, b, l)</th>\n",
       "      <th>(d, m, y)</th>\n",
       "      <th>(p, s, n)</th>\n",
       "      <th>(g, p, i)</th>\n",
       "      <th>( , l, w)</th>\n",
       "      <th>(w, r,  )</th>\n",
       "      <th>(t, t, t)</th>\n",
       "      <th>(u, a, x)</th>\n",
       "      <th>(h, b, y)</th>\n",
       "      <th>(w, o, f)</th>\n",
       "    </tr>\n",
       "  </thead>\n",
       "  <tbody>\n",
       "    <tr>\n",
       "      <td>0</td>\n",
       "      <td>7</td>\n",
       "      <td>5</td>\n",
       "      <td>6</td>\n",
       "      <td>2</td>\n",
       "      <td>10</td>\n",
       "      <td>9</td>\n",
       "      <td>5</td>\n",
       "      <td>5</td>\n",
       "      <td>12</td>\n",
       "      <td>9</td>\n",
       "      <td>...</td>\n",
       "      <td>0</td>\n",
       "      <td>0</td>\n",
       "      <td>0</td>\n",
       "      <td>0</td>\n",
       "      <td>0</td>\n",
       "      <td>0</td>\n",
       "      <td>0</td>\n",
       "      <td>0</td>\n",
       "      <td>0</td>\n",
       "      <td>0</td>\n",
       "    </tr>\n",
       "    <tr>\n",
       "      <td>1</td>\n",
       "      <td>25</td>\n",
       "      <td>19</td>\n",
       "      <td>47</td>\n",
       "      <td>5</td>\n",
       "      <td>33</td>\n",
       "      <td>65</td>\n",
       "      <td>25</td>\n",
       "      <td>29</td>\n",
       "      <td>81</td>\n",
       "      <td>28</td>\n",
       "      <td>...</td>\n",
       "      <td>0</td>\n",
       "      <td>0</td>\n",
       "      <td>0</td>\n",
       "      <td>0</td>\n",
       "      <td>0</td>\n",
       "      <td>0</td>\n",
       "      <td>0</td>\n",
       "      <td>0</td>\n",
       "      <td>0</td>\n",
       "      <td>0</td>\n",
       "    </tr>\n",
       "  </tbody>\n",
       "</table>\n",
       "<p>2 rows × 9284 columns</p>\n",
       "</div>"
      ],
      "text/plain": [
       "   (s, t)  (t, o)  (o, r)  (r, y)  (y,  )  ( , o)  (o, f)  (f,  )  ( , a)  \\\n",
       "0       7       5       6       2      10       9       5       5      12   \n",
       "1      25      19      47       5      33      65      25      29      81   \n",
       "\n",
       "   (a,  )  ...  (k, b, l)  (d, m, y)  (p, s, n)  (g, p, i)  ( , l, w)  \\\n",
       "0       9  ...          0          0          0          0          0   \n",
       "1      28  ...          0          0          0          0          0   \n",
       "\n",
       "   (w, r,  )  (t, t, t)  (u, a, x)  (h, b, y)  (w, o, f)  \n",
       "0          0          0          0          0          0  \n",
       "1          0          0          0          0          0  \n",
       "\n",
       "[2 rows x 9284 columns]"
      ]
     },
     "execution_count": 38,
     "metadata": {},
     "output_type": "execute_result"
    }
   ],
   "source": [
    "pd.DataFrame([WordDictionaryCount_IMDB_Train[0],WordDictionaryCount_IMDB_Train[1]])"
   ]
  },
  {
   "cell_type": "code",
   "execution_count": 39,
   "metadata": {},
   "outputs": [
    {
     "data": {
      "text/html": [
       "<div>\n",
       "<style scoped>\n",
       "    .dataframe tbody tr th:only-of-type {\n",
       "        vertical-align: middle;\n",
       "    }\n",
       "\n",
       "    .dataframe tbody tr th {\n",
       "        vertical-align: top;\n",
       "    }\n",
       "\n",
       "    .dataframe thead th {\n",
       "        text-align: right;\n",
       "    }\n",
       "</style>\n",
       "<table border=\"1\" class=\"dataframe\">\n",
       "  <thead>\n",
       "    <tr style=\"text-align: right;\">\n",
       "      <th></th>\n",
       "      <th>(z, e,  )</th>\n",
       "      <th>(h, n)</th>\n",
       "      <th>( , k)</th>\n",
       "      <th>(o, n, a)</th>\n",
       "      <th>(h, e, a)</th>\n",
       "      <th>(e, m)</th>\n",
       "      <th>(c,  , a)</th>\n",
       "      <th>(d, n, t)</th>\n",
       "      <th>(n,  , c)</th>\n",
       "      <th>(c, o, p)</th>\n",
       "      <th>...</th>\n",
       "      <th>(e, n, c)</th>\n",
       "      <th>(e, g, y)</th>\n",
       "      <th>(i, l, t)</th>\n",
       "      <th>(r, k,  )</th>\n",
       "      <th>(a, u, g)</th>\n",
       "      <th>(l, u, e)</th>\n",
       "      <th>(r, u, l)</th>\n",
       "      <th>(l, u, d)</th>\n",
       "      <th>(y, a)</th>\n",
       "      <th>(t,  , u)</th>\n",
       "    </tr>\n",
       "  </thead>\n",
       "  <tbody>\n",
       "    <tr>\n",
       "      <td>0</td>\n",
       "      <td>0</td>\n",
       "      <td>1</td>\n",
       "      <td>1</td>\n",
       "      <td>0</td>\n",
       "      <td>0</td>\n",
       "      <td>2</td>\n",
       "      <td>0</td>\n",
       "      <td>0</td>\n",
       "      <td>0</td>\n",
       "      <td>0</td>\n",
       "      <td>...</td>\n",
       "      <td>1</td>\n",
       "      <td>0</td>\n",
       "      <td>0</td>\n",
       "      <td>0</td>\n",
       "      <td>0</td>\n",
       "      <td>0</td>\n",
       "      <td>0</td>\n",
       "      <td>0</td>\n",
       "      <td>0</td>\n",
       "      <td>0</td>\n",
       "    </tr>\n",
       "    <tr>\n",
       "      <td>1</td>\n",
       "      <td>0</td>\n",
       "      <td>0</td>\n",
       "      <td>6</td>\n",
       "      <td>0</td>\n",
       "      <td>1</td>\n",
       "      <td>5</td>\n",
       "      <td>1</td>\n",
       "      <td>2</td>\n",
       "      <td>2</td>\n",
       "      <td>2</td>\n",
       "      <td>...</td>\n",
       "      <td>2</td>\n",
       "      <td>0</td>\n",
       "      <td>0</td>\n",
       "      <td>1</td>\n",
       "      <td>1</td>\n",
       "      <td>1</td>\n",
       "      <td>0</td>\n",
       "      <td>2</td>\n",
       "      <td>0</td>\n",
       "      <td>0</td>\n",
       "    </tr>\n",
       "  </tbody>\n",
       "</table>\n",
       "<p>2 rows × 2834 columns</p>\n",
       "</div>"
      ],
      "text/plain": [
       "   (z, e,  )  (h, n)  ( , k)  (o, n, a)  (h, e, a)  (e, m)  (c,  , a)  \\\n",
       "0          0       1       1          0          0       2          0   \n",
       "1          0       0       6          0          1       5          1   \n",
       "\n",
       "   (d, n, t)  (n,  , c)  (c, o, p)  ...  (e, n, c)  (e, g, y)  (i, l, t)  \\\n",
       "0          0          0          0  ...          1          0          0   \n",
       "1          2          2          2  ...          2          0          0   \n",
       "\n",
       "   (r, k,  )  (a, u, g)  (l, u, e)  (r, u, l)  (l, u, d)  (y, a)  (t,  , u)  \n",
       "0          0          0          0          0          0       0          0  \n",
       "1          1          1          1          0          2       0          0  \n",
       "\n",
       "[2 rows x 2834 columns]"
      ]
     },
     "execution_count": 39,
     "metadata": {},
     "output_type": "execute_result"
    }
   ],
   "source": [
    "pd.DataFrame([WordDictionary_feature_importance_Train[0],WordDictionary_feature_importance_Train[1]])"
   ]
  },
  {
   "cell_type": "code",
   "execution_count": 40,
   "metadata": {},
   "outputs": [],
   "source": [
    "WordDictionary_feature_importance_Test = dictionaryInitialize(\n",
    "            Clean_IMDB_Sentiment_Test, \n",
    "            Vocabulary_intersection, \n",
    "            ngram_imdb_test,'test')"
   ]
  },
  {
   "cell_type": "code",
   "execution_count": 41,
   "metadata": {},
   "outputs": [],
   "source": [
    "CountFrequency_Sentimen_Train_FI = getFrequencyTermPerData(WordDictionary_feature_importance_Train, ngram_imdb_train)"
   ]
  },
  {
   "cell_type": "code",
   "execution_count": 42,
   "metadata": {},
   "outputs": [],
   "source": [
    "CountFrequency_Sentimen_Test_FI = getFrequencyTermPerData(WordDictionary_feature_importance_Test, ngram_imdb_test)"
   ]
  },
  {
   "cell_type": "code",
   "execution_count": 43,
   "metadata": {},
   "outputs": [],
   "source": [
    "IDF_Feature_Importance, number_term  = computeIDF(WordDictionary_feature_importance_Train)"
   ]
  },
  {
   "cell_type": "code",
   "execution_count": 44,
   "metadata": {},
   "outputs": [],
   "source": [
    "def getTFIDF(wordDictionary, CountFrequency, IDF):\n",
    "    TFIDF_non_scaled = None\n",
    "    TFIDF_non_scaled = []\n",
    "    iterator = 0\n",
    "    while iterator < len(wordDictionary):\n",
    "        TFIDF_non_scaled.append(computeTFIDFnonScale(CountFrequency[iterator], IDF))\n",
    "        iterator = iterator + 1\n",
    "    \n",
    "    TFIDF = []\n",
    "    iterator = 0\n",
    "    while iterator < len(wordDictionary):\n",
    "        tf_idf_list = list(TFIDF_non_scaled[iterator].values())\n",
    "        TFIDF.append(computeTFIDF(tf_idf_list))\n",
    "        iterator = iterator + 1\n",
    "        \n",
    "    return TFIDF"
   ]
  },
  {
   "cell_type": "code",
   "execution_count": 45,
   "metadata": {},
   "outputs": [],
   "source": [
    "TFIDF_Feature_importance_Train = getTFIDF(\n",
    "        WordDictionary_feature_importance_Train, \n",
    "        CountFrequency_Sentimen_Train_FI, \n",
    "        IDF_Feature_Importance)"
   ]
  },
  {
   "cell_type": "code",
   "execution_count": 46,
   "metadata": {},
   "outputs": [],
   "source": [
    "TFIDF_Feature_importance_Test = getTFIDF(\n",
    "        WordDictionary_feature_importance_Test, \n",
    "        CountFrequency_Sentimen_Test_FI, \n",
    "        IDF_Feature_Importance)"
   ]
  },
  {
   "cell_type": "code",
   "execution_count": 47,
   "metadata": {},
   "outputs": [],
   "source": [
    "Vectorizer_TF_Train = toVectorizeList(TFIDF_Feature_importance_Train)\n",
    "TFIDF_Feature_importance_Train = Vectorizer_TF_Train"
   ]
  },
  {
   "cell_type": "code",
   "execution_count": 48,
   "metadata": {},
   "outputs": [],
   "source": [
    "Vectorizer_TF_Test = toVectorizeList(TFIDF_Feature_importance_Test)\n",
    "TFIDF_Feature_importance_Test = Vectorizer_TF_Test"
   ]
  },
  {
   "cell_type": "code",
   "execution_count": 49,
   "metadata": {},
   "outputs": [
    {
     "name": "stdout",
     "output_type": "stream",
     "text": [
      "\n",
      "Waktu Training: 27.174s\n"
     ]
    }
   ],
   "source": [
    "Waktu_Training = time()\n",
    "RF_Classifier_TF_FI = RandomForestClassifier(\n",
    "        max_depth= 5, n_estimators = 800, random_state=42,\n",
    "        bootstrap = False, min_samples_split = 5, min_samples_leaf = 1, max_features = 'auto')\n",
    "RF_Classifier_TF_FI.fit(TFIDF_Feature_importance_Train, Label_IMDB_Train)\n",
    "print(f\"\\nWaktu Training: {round(time()-Waktu_Training, 3)}s\")"
   ]
  },
  {
   "cell_type": "code",
   "execution_count": 50,
   "metadata": {},
   "outputs": [
    {
     "name": "stdout",
     "output_type": "stream",
     "text": [
      "waktu prediksi (train): 1.198s\n",
      "waktu prediksi (test): 0.416s\n",
      "\n",
      "Skor Random Forest Train Interseksi : 0.9010666666666667\n",
      "Skor Random Forest Test Interseksi : 0.7632\n",
      "----------------------------------------------------\n",
      "\n",
      "\n",
      "[[1656  219]\n",
      " [ 152 1723]]\n",
      "              precision    recall  f1-score   support\n",
      "\n",
      "           0       0.92      0.88      0.90      1875\n",
      "           1       0.89      0.92      0.90      1875\n",
      "\n",
      "    accuracy                           0.90      3750\n",
      "   macro avg       0.90      0.90      0.90      3750\n",
      "weighted avg       0.90      0.90      0.90      3750\n",
      "\n",
      "----------------------------------------------------\n",
      "\n",
      "\n",
      "[[456 169]\n",
      " [127 498]]\n",
      "              precision    recall  f1-score   support\n",
      "\n",
      "           0       0.78      0.73      0.75       625\n",
      "           1       0.75      0.80      0.77       625\n",
      "\n",
      "    accuracy                           0.76      1250\n",
      "   macro avg       0.76      0.76      0.76      1250\n",
      "weighted avg       0.76      0.76      0.76      1250\n",
      "\n"
     ]
    }
   ],
   "source": [
    "Waktu_Predict_Train = time()\n",
    "Skor_Train_Interseksi_IMDB = RF_Classifier_TF_FI.score(TFIDF_Feature_importance_Train, Label_IMDB_Train)\n",
    "print(f\"waktu prediksi (train): {round(time()-Waktu_Predict_Train, 3)}s\")\n",
    "\n",
    "Waktu_Predict_Test = time()\n",
    "Skor_Test_Interseksi_IMDB = RF_Classifier_TF_FI.score(TFIDF_Feature_importance_Test, Label_IMDB_Test)\n",
    "print(f\"waktu prediksi (test): {round(time()-Waktu_Predict_Test, 3)}s\")\n",
    "\n",
    "print(\"\\nSkor Random Forest Train Interseksi : {}\".format(Skor_Train_Interseksi_IMDB))\n",
    "print(\"Skor Random Forest Test Interseksi : {}\".format(Skor_Test_Interseksi_IMDB))\n",
    "print(\"----------------------------------------------------\\n\\n\")\n",
    "\n",
    "RFClassifier_predict = RF_Classifier_TF_FI.predict(TFIDF_Feature_importance_Train)\n",
    "Confusion_matrix = confusion_matrix(Label_IMDB_Train, RFClassifier_predict)\n",
    "print(Confusion_matrix)\n",
    "print(metrics.classification_report(Label_IMDB_Train, RFClassifier_predict))\n",
    "\n",
    "print(\"----------------------------------------------------\\n\\n\")\n",
    "RFClassifier_predict = RF_Classifier_TF_FI.predict(TFIDF_Feature_importance_Test)\n",
    "Confusion_matrix = confusion_matrix(Label_IMDB_Test, RFClassifier_predict)\n",
    "print(Confusion_matrix)\n",
    "print(metrics.classification_report(Label_IMDB_Test, RFClassifier_predict))"
   ]
  },
  {
   "cell_type": "code",
   "execution_count": null,
   "metadata": {},
   "outputs": [],
   "source": []
  }
 ],
 "metadata": {
  "kernelspec": {
   "display_name": "Python 3",
   "language": "python",
   "name": "python3"
  },
  "language_info": {
   "codemirror_mode": {
    "name": "ipython",
    "version": 3
   },
   "file_extension": ".py",
   "mimetype": "text/x-python",
   "name": "python",
   "nbconvert_exporter": "python",
   "pygments_lexer": "ipython3",
   "version": "3.7.4"
  }
 },
 "nbformat": 4,
 "nbformat_minor": 2
}
