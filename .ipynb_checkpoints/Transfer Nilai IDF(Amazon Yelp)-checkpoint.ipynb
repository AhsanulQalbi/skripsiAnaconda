{
 "cells": [
  {
   "cell_type": "markdown",
   "metadata": {},
   "source": [
    "SKRIPSI"
   ]
  },
  {
   "cell_type": "markdown",
   "metadata": {},
   "source": [
    "# Import library"
   ]
  },
  {
   "cell_type": "code",
   "execution_count": 1,
   "metadata": {},
   "outputs": [],
   "source": [
    "import sys\n",
    "import pandas as pd\n",
    "import numpy as np\n",
    "import matplotlib.pyplot as plt\n",
    "import string\n",
    "import re\n",
    "import nltk\n",
    "import os\n",
    "\n",
    "from nltk import ngrams\n",
    "from sklearn.ensemble import RandomForestClassifier\n",
    "from sklearn.model_selection import train_test_split, validation_curve,RandomizedSearchCV\n",
    "from sklearn.feature_extraction.text import CountVectorizer, TfidfVectorizer\n",
    "from matplotlib_venn import venn2\n",
    "from time import time\n",
    "from joblib import dump, load\n",
    "from sklearn.metrics import confusion_matrix\n",
    "from sklearn import metrics\n",
    "\n",
    "np.random.seed(0)\n",
    "stopwords = nltk.corpus.stopwords.words('english')\n",
    "poster_Stemmer = nltk.PorterStemmer()\n"
   ]
  },
  {
   "cell_type": "markdown",
   "metadata": {},
   "source": [
    "# Baca file csv"
   ]
  },
  {
   "cell_type": "code",
   "execution_count": 2,
   "metadata": {},
   "outputs": [],
   "source": [
    "#baca csv\n",
    "data_train_amazon = pd.read_csv('dataset/Amazon_Train.csv')\n",
    "data_train_yelp = pd.read_csv('dataset/Yelp_Train_1000.csv')\n",
    "data_test_amazon = pd.read_csv('dataset/Amazon_Test.csv')\n",
    "data_test_yelp = pd.read_csv('dataset/Yelp_Test.csv')"
   ]
  },
  {
   "cell_type": "markdown",
   "metadata": {},
   "source": [
    "# Preprocessing "
   ]
  },
  {
   "cell_type": "code",
   "execution_count": 3,
   "metadata": {},
   "outputs": [],
   "source": [
    "data_Preprocessing_Amazon_Train = data_train_amazon.Sentimen.astype(str)\n",
    "data_Preprocessing_Amazon_Train = data_Preprocessing_Amazon_Train.apply(lambda x: x.lower())\n",
    "data_Preprocessing_Amazon_Train = data_Preprocessing_Amazon_Train.apply(lambda x: re.sub(r\"\\d\", \"\", x))   \n",
    "data_Preprocessing_Amazon_Train = data_Preprocessing_Amazon_Train.apply(\n",
    "                                    lambda x: x.translate(str.maketrans('','',string.punctuation)))  \n",
    "data_Preprocessing_Amazon_Train = data_Preprocessing_Amazon_Train.apply(\n",
    "                                    lambda x: \" \".join(re.findall(\"[a-zA-Z]+\", x)))\n",
    "\n",
    "data_Preprocessing_Yelp_Train = data_train_yelp.Sentimen.astype(str)\n",
    "data_Preprocessing_Yelp_Train = data_Preprocessing_Yelp_Train.apply(lambda x: x.lower())\n",
    "data_Preprocessing_Yelp_Train = data_Preprocessing_Yelp_Train.apply(lambda x: re.sub(r\"\\d\", \"\", x))   \n",
    "data_Preprocessing_Yelp_Train = data_Preprocessing_Yelp_Train.apply(\n",
    "                                    lambda x: x.translate(str.maketrans('','',string.punctuation)))  \n",
    "data_Preprocessing_Yelp_Train = data_Preprocessing_Yelp_Train.apply(\n",
    "                                    lambda x: \" \".join(re.findall(\"[a-zA-Z]+\", x)))"
   ]
  },
  {
   "cell_type": "code",
   "execution_count": 4,
   "metadata": {},
   "outputs": [
    {
     "data": {
      "text/plain": [
       "0    buyer beware this is a selfpublished book and ...\n",
       "1    the worst a complete waste of time typographic...\n",
       "2    oh please i guess you have to be a romance nov...\n",
       "3    awful beyond belief i feel i have to write to ...\n",
       "4    another abysmal digital copy rather than scrat...\n",
       "Name: Sentimen, dtype: object"
      ]
     },
     "execution_count": 4,
     "metadata": {},
     "output_type": "execute_result"
    }
   ],
   "source": [
    "data_Preprocessing_Amazon_Train.head()"
   ]
  },
  {
   "cell_type": "code",
   "execution_count": 5,
   "metadata": {},
   "outputs": [
    {
     "data": {
      "text/plain": [
       "0    i dont know what dr goldberg was like before m...\n",
       "1    im writing this review to give you a heads up ...\n",
       "2    owning a driving range inside the city limits ...\n",
       "3    this place is absolute garbage half of the tee...\n",
       "4    used to go there for tires brakes etc their pr...\n",
       "Name: Sentimen, dtype: object"
      ]
     },
     "execution_count": 5,
     "metadata": {},
     "output_type": "execute_result"
    }
   ],
   "source": [
    "data_Preprocessing_Yelp_Train.head()"
   ]
  },
  {
   "cell_type": "code",
   "execution_count": 6,
   "metadata": {},
   "outputs": [],
   "source": [
    "data_Preprocessing_Amazon_Test = data_test_amazon.Sentimen.astype(str)\n",
    "data_Preprocessing_Amazon_Test = data_Preprocessing_Amazon_Test.apply(lambda x: x.lower())\n",
    "data_Preprocessing_Amazon_Test = data_Preprocessing_Amazon_Test.apply(lambda x: re.sub(r\"\\d\", \"\", x))   \n",
    "data_Preprocessing_Amazon_Test = data_Preprocessing_Amazon_Test.apply(lambda x: x.translate(\n",
    "                                str.maketrans('','',string.punctuation)))  \n",
    "data_Preprocessing_Amazon_Test = data_Preprocessing_Amazon_Test.apply(lambda x: \" \".join(\n",
    "                                re.findall(\"[a-zA-Z]+\", x)))\n",
    "\n",
    "data_Preprocessing_Yelp_Test = data_test_yelp.Sentimen.astype(str)\n",
    "data_Preprocessing_Yelp_Test = data_Preprocessing_Yelp_Test.apply(lambda x: x.lower())\n",
    "data_Preprocessing_Yelp_Test = data_Preprocessing_Yelp_Test.apply(lambda x: re.sub(r\"\\d\", \"\", x))   \n",
    "data_Preprocessing_Yelp_Test = data_Preprocessing_Yelp_Test.apply(lambda x: x.translate(\n",
    "                                str.maketrans('','',string.punctuation)))  \n",
    "data_Preprocessing_Yelp_Test = data_Preprocessing_Yelp_Test.apply(lambda x: \" \".join(\n",
    "                                re.findall(\"[a-zA-Z]+\", x)))"
   ]
  },
  {
   "cell_type": "code",
   "execution_count": 7,
   "metadata": {},
   "outputs": [
    {
     "data": {
      "text/plain": [
       "0    overly complicated being both a us history buf...\n",
       "1    terrible disappointment parts dont fit my son ...\n",
       "2    didnt hold upvery disappointed i bought this o...\n",
       "3    gene hates jezebel i love jlj but this compila...\n",
       "4    nice toy but my sixyearold loves space and to ...\n",
       "Name: Sentimen, dtype: object"
      ]
     },
     "execution_count": 7,
     "metadata": {},
     "output_type": "execute_result"
    }
   ],
   "source": [
    "data_Preprocessing_Amazon_Test.head()"
   ]
  },
  {
   "cell_type": "code",
   "execution_count": 8,
   "metadata": {},
   "outputs": [
    {
     "data": {
      "text/plain": [
       "0    my wife and i used to love arribas til recentl...\n",
       "1    you get what you pay for the food is inexpensi...\n",
       "2    unfortunately yesterdays visit was one of the ...\n",
       "3    i went into the scottsdale location yesterday ...\n",
       "4    it takes a lot for me to write a review and bl...\n",
       "Name: Sentimen, dtype: object"
      ]
     },
     "execution_count": 8,
     "metadata": {},
     "output_type": "execute_result"
    }
   ],
   "source": [
    "data_Preprocessing_Yelp_Test.head()"
   ]
  },
  {
   "cell_type": "code",
   "execution_count": 9,
   "metadata": {},
   "outputs": [],
   "source": [
    "Clean_Amazon_Sentiment_Train = data_Preprocessing_Amazon_Train\n",
    "Clean_Yelp_Sentiment_Train = data_Preprocessing_Yelp_Train\n",
    "Label_Amazon_Train = data_train_amazon['Label']\n",
    "Label_Yelp_Train = data_train_yelp['Label']\n",
    "\n",
    "Clean_Amazon_Sentiment_Test = data_Preprocessing_Amazon_Test\n",
    "Clean_Yelp_Sentiment_Test = data_Preprocessing_Yelp_Test\n",
    "Label_Amazon_Test = data_test_amazon['Label']\n",
    "Label_Yelp_Test = data_test_yelp['Label']"
   ]
  },
  {
   "cell_type": "markdown",
   "metadata": {},
   "source": [
    "# N-Gram (bigram dan trigram)"
   ]
  },
  {
   "cell_type": "code",
   "execution_count": 10,
   "metadata": {},
   "outputs": [],
   "source": [
    "def bigram_trigram(Clean_Sentiment) :\n",
    "    iterator = 0\n",
    "    Vocabulary = []\n",
    "    ngram_result = []\n",
    "    while iterator < len(Clean_Sentiment) :\n",
    "        ngram = 2\n",
    "        sentence = Clean_Sentiment[iterator]\n",
    "        vocab = list(ngrams(sentence, ngram))\n",
    "        temp = vocab\n",
    "\n",
    "        iterator2 = 0\n",
    "        while iterator2 < len (vocab):\n",
    "            if(vocab[iterator2] not in Vocabulary) :\n",
    "                Vocabulary.append(vocab[iterator2])\n",
    "            iterator2 = iterator2 + 1\n",
    "\n",
    "        ngram = 3\n",
    "        vocab = list(ngrams(sentence, ngram))\n",
    "        temp = temp + vocab\n",
    "        ngram_result.append(temp)\n",
    "        iterator2 = 0\n",
    "        while iterator2 < len (vocab):\n",
    "            if(vocab[iterator2] not in Vocabulary) :\n",
    "                Vocabulary.append(vocab[iterator2])\n",
    "            iterator2 = iterator2 + 1\n",
    "        iterator = iterator + 1\n",
    "    \n",
    "    return ngram_result,Vocabulary\n"
   ]
  },
  {
   "cell_type": "code",
   "execution_count": 11,
   "metadata": {},
   "outputs": [],
   "source": [
    "ngram_amazon_train, Vocabulary_Amazon_Train = bigram_trigram(Clean_Amazon_Sentiment_Train)"
   ]
  },
  {
   "cell_type": "code",
   "execution_count": 12,
   "metadata": {},
   "outputs": [],
   "source": [
    "ngram_yelp_train, Vocabulary_Yelp_Train = bigram_trigram(Clean_Yelp_Sentiment_Train)"
   ]
  },
  {
   "cell_type": "code",
   "execution_count": 13,
   "metadata": {},
   "outputs": [],
   "source": [
    "ngram_amazon_test, Vocabulary_Amazon_Test = bigram_trigram(Clean_Amazon_Sentiment_Test)"
   ]
  },
  {
   "cell_type": "code",
   "execution_count": 14,
   "metadata": {},
   "outputs": [],
   "source": [
    "ngram_yelp_test, Vocabulary_Yelp_Test = bigram_trigram(Clean_Yelp_Sentiment_Test)"
   ]
  },
  {
   "cell_type": "markdown",
   "metadata": {},
   "source": [
    "# Me inisialisasi jumlah frekuensi Gram di Vocabulary"
   ]
  },
  {
   "cell_type": "code",
   "execution_count": 15,
   "metadata": {},
   "outputs": [],
   "source": [
    "def dictionaryInitialize(Clean_Sentiment, Vocabulary, ngram, jenisdata) :\n",
    "    wordDictionaryCount = []\n",
    "    iterator = 0\n",
    "    while iterator < len(Clean_Sentiment):\n",
    "        wordDictionaryCount.append(dict.fromkeys(Vocabulary , 0))\n",
    "        iterator = iterator + 1\n",
    "    \n",
    "    iterator = 0\n",
    "    \n",
    "    while iterator < len(Clean_Sentiment) :\n",
    "        for gram in ngram[iterator] :\n",
    "            if jenisdata == 'test' and gram not in Vocabulary :\n",
    "                continue\n",
    "            wordDictionaryCount[iterator][gram] += 1\n",
    "        iterator = iterator + 1\n",
    "    \n",
    "    return wordDictionaryCount"
   ]
  },
  {
   "cell_type": "code",
   "execution_count": 16,
   "metadata": {},
   "outputs": [],
   "source": [
    "WordDictionaryCount_Amazon_Train = dictionaryInitialize(Clean_Amazon_Sentiment_Train, Vocabulary_Amazon_Train, ngram_amazon_train,'train')"
   ]
  },
  {
   "cell_type": "code",
   "execution_count": 17,
   "metadata": {},
   "outputs": [],
   "source": [
    "WordDictionaryCount_Yelp_Train = dictionaryInitialize(Clean_Yelp_Sentiment_Train, Vocabulary_Yelp_Train, ngram_yelp_train,'train')"
   ]
  },
  {
   "cell_type": "code",
   "execution_count": 18,
   "metadata": {},
   "outputs": [],
   "source": [
    "WordDictionaryCount_Amazon_Test = dictionaryInitialize(Clean_Amazon_Sentiment_Test, Vocabulary_Amazon_Train, ngram_amazon_test,'test')"
   ]
  },
  {
   "cell_type": "code",
   "execution_count": 19,
   "metadata": {},
   "outputs": [],
   "source": [
    "WordDictionaryCount_Yelp_Test = dictionaryInitialize(Clean_Yelp_Sentiment_Test, Vocabulary_Yelp_Train, ngram_yelp_test,'test')"
   ]
  },
  {
   "cell_type": "code",
   "execution_count": 20,
   "metadata": {},
   "outputs": [
    {
     "data": {
      "text/html": [
       "<div>\n",
       "<style scoped>\n",
       "    .dataframe tbody tr th:only-of-type {\n",
       "        vertical-align: middle;\n",
       "    }\n",
       "\n",
       "    .dataframe tbody tr th {\n",
       "        vertical-align: top;\n",
       "    }\n",
       "\n",
       "    .dataframe thead th {\n",
       "        text-align: right;\n",
       "    }\n",
       "</style>\n",
       "<table border=\"1\" class=\"dataframe\">\n",
       "  <thead>\n",
       "    <tr style=\"text-align: right;\">\n",
       "      <th></th>\n",
       "      <th>(b, u)</th>\n",
       "      <th>(u, y)</th>\n",
       "      <th>(y, e)</th>\n",
       "      <th>(e, r)</th>\n",
       "      <th>(r,  )</th>\n",
       "      <th>( , b)</th>\n",
       "      <th>(b, e)</th>\n",
       "      <th>(e, w)</th>\n",
       "      <th>(w, a)</th>\n",
       "      <th>(a, r)</th>\n",
       "      <th>...</th>\n",
       "      <th>(k, o, y)</th>\n",
       "      <th>(t, y, n)</th>\n",
       "      <th>(w, s, y)</th>\n",
       "      <th>(i, u, n)</th>\n",
       "      <th>(b, y, p)</th>\n",
       "      <th>(b, u, o)</th>\n",
       "      <th>( , u, e)</th>\n",
       "      <th>(u, e, m)</th>\n",
       "      <th>(a, b, w)</th>\n",
       "      <th>(m, u,  )</th>\n",
       "    </tr>\n",
       "  </thead>\n",
       "  <tbody>\n",
       "    <tr>\n",
       "      <td>0</td>\n",
       "      <td>1</td>\n",
       "      <td>1</td>\n",
       "      <td>1</td>\n",
       "      <td>11</td>\n",
       "      <td>9</td>\n",
       "      <td>13</td>\n",
       "      <td>5</td>\n",
       "      <td>3</td>\n",
       "      <td>4</td>\n",
       "      <td>7</td>\n",
       "      <td>...</td>\n",
       "      <td>0</td>\n",
       "      <td>0</td>\n",
       "      <td>0</td>\n",
       "      <td>0</td>\n",
       "      <td>0</td>\n",
       "      <td>0</td>\n",
       "      <td>0</td>\n",
       "      <td>0</td>\n",
       "      <td>0</td>\n",
       "      <td>0</td>\n",
       "    </tr>\n",
       "    <tr>\n",
       "      <td>1</td>\n",
       "      <td>0</td>\n",
       "      <td>0</td>\n",
       "      <td>0</td>\n",
       "      <td>2</td>\n",
       "      <td>5</td>\n",
       "      <td>1</td>\n",
       "      <td>0</td>\n",
       "      <td>0</td>\n",
       "      <td>1</td>\n",
       "      <td>2</td>\n",
       "      <td>...</td>\n",
       "      <td>0</td>\n",
       "      <td>0</td>\n",
       "      <td>0</td>\n",
       "      <td>0</td>\n",
       "      <td>0</td>\n",
       "      <td>0</td>\n",
       "      <td>0</td>\n",
       "      <td>0</td>\n",
       "      <td>0</td>\n",
       "      <td>0</td>\n",
       "    </tr>\n",
       "  </tbody>\n",
       "</table>\n",
       "<p>2 rows × 8181 columns</p>\n",
       "</div>"
      ],
      "text/plain": [
       "   (b, u)  (u, y)  (y, e)  (e, r)  (r,  )  ( , b)  (b, e)  (e, w)  (w, a)  \\\n",
       "0       1       1       1      11       9      13       5       3       4   \n",
       "1       0       0       0       2       5       1       0       0       1   \n",
       "\n",
       "   (a, r)  ...  (k, o, y)  (t, y, n)  (w, s, y)  (i, u, n)  (b, y, p)  \\\n",
       "0       7  ...          0          0          0          0          0   \n",
       "1       2  ...          0          0          0          0          0   \n",
       "\n",
       "   (b, u, o)  ( , u, e)  (u, e, m)  (a, b, w)  (m, u,  )  \n",
       "0          0          0          0          0          0  \n",
       "1          0          0          0          0          0  \n",
       "\n",
       "[2 rows x 8181 columns]"
      ]
     },
     "execution_count": 20,
     "metadata": {},
     "output_type": "execute_result"
    }
   ],
   "source": [
    "pd.DataFrame([WordDictionaryCount_Amazon_Train[0],WordDictionaryCount_Amazon_Train[1]])"
   ]
  },
  {
   "cell_type": "code",
   "execution_count": 21,
   "metadata": {},
   "outputs": [
    {
     "data": {
      "text/html": [
       "<div>\n",
       "<style scoped>\n",
       "    .dataframe tbody tr th:only-of-type {\n",
       "        vertical-align: middle;\n",
       "    }\n",
       "\n",
       "    .dataframe tbody tr th {\n",
       "        vertical-align: top;\n",
       "    }\n",
       "\n",
       "    .dataframe thead th {\n",
       "        text-align: right;\n",
       "    }\n",
       "</style>\n",
       "<table border=\"1\" class=\"dataframe\">\n",
       "  <thead>\n",
       "    <tr style=\"text-align: right;\">\n",
       "      <th></th>\n",
       "      <th>(i,  )</th>\n",
       "      <th>( , d)</th>\n",
       "      <th>(d, o)</th>\n",
       "      <th>(o, n)</th>\n",
       "      <th>(n, t)</th>\n",
       "      <th>(t,  )</th>\n",
       "      <th>( , k)</th>\n",
       "      <th>(k, n)</th>\n",
       "      <th>(n, o)</th>\n",
       "      <th>(o, w)</th>\n",
       "      <th>...</th>\n",
       "      <th>(d, g, y)</th>\n",
       "      <th>(l, d, t)</th>\n",
       "      <th>(d, t, i)</th>\n",
       "      <th>(d, t, o)</th>\n",
       "      <th>(a, t, g)</th>\n",
       "      <th>(t, g, r)</th>\n",
       "      <th>(p, s, u)</th>\n",
       "      <th>(y, b, a)</th>\n",
       "      <th>(w, n, u)</th>\n",
       "      <th>(n, y, d)</th>\n",
       "    </tr>\n",
       "  </thead>\n",
       "  <tbody>\n",
       "    <tr>\n",
       "      <td>0</td>\n",
       "      <td>4</td>\n",
       "      <td>11</td>\n",
       "      <td>6</td>\n",
       "      <td>13</td>\n",
       "      <td>7</td>\n",
       "      <td>19</td>\n",
       "      <td>1</td>\n",
       "      <td>1</td>\n",
       "      <td>5</td>\n",
       "      <td>1</td>\n",
       "      <td>...</td>\n",
       "      <td>0</td>\n",
       "      <td>0</td>\n",
       "      <td>0</td>\n",
       "      <td>0</td>\n",
       "      <td>0</td>\n",
       "      <td>0</td>\n",
       "      <td>0</td>\n",
       "      <td>0</td>\n",
       "      <td>0</td>\n",
       "      <td>0</td>\n",
       "    </tr>\n",
       "    <tr>\n",
       "      <td>1</td>\n",
       "      <td>10</td>\n",
       "      <td>7</td>\n",
       "      <td>6</td>\n",
       "      <td>10</td>\n",
       "      <td>13</td>\n",
       "      <td>21</td>\n",
       "      <td>1</td>\n",
       "      <td>1</td>\n",
       "      <td>1</td>\n",
       "      <td>1</td>\n",
       "      <td>...</td>\n",
       "      <td>0</td>\n",
       "      <td>0</td>\n",
       "      <td>0</td>\n",
       "      <td>0</td>\n",
       "      <td>0</td>\n",
       "      <td>0</td>\n",
       "      <td>0</td>\n",
       "      <td>0</td>\n",
       "      <td>0</td>\n",
       "      <td>0</td>\n",
       "    </tr>\n",
       "  </tbody>\n",
       "</table>\n",
       "<p>2 rows × 6379 columns</p>\n",
       "</div>"
      ],
      "text/plain": [
       "   (i,  )  ( , d)  (d, o)  (o, n)  (n, t)  (t,  )  ( , k)  (k, n)  (n, o)  \\\n",
       "0       4      11       6      13       7      19       1       1       5   \n",
       "1      10       7       6      10      13      21       1       1       1   \n",
       "\n",
       "   (o, w)  ...  (d, g, y)  (l, d, t)  (d, t, i)  (d, t, o)  (a, t, g)  \\\n",
       "0       1  ...          0          0          0          0          0   \n",
       "1       1  ...          0          0          0          0          0   \n",
       "\n",
       "   (t, g, r)  (p, s, u)  (y, b, a)  (w, n, u)  (n, y, d)  \n",
       "0          0          0          0          0          0  \n",
       "1          0          0          0          0          0  \n",
       "\n",
       "[2 rows x 6379 columns]"
      ]
     },
     "execution_count": 21,
     "metadata": {},
     "output_type": "execute_result"
    }
   ],
   "source": [
    "pd.DataFrame([WordDictionaryCount_Yelp_Train[0],WordDictionaryCount_Yelp_Train[1]])"
   ]
  },
  {
   "cell_type": "markdown",
   "metadata": {},
   "source": [
    "## Menghitung nilai TF pada setiap data "
   ]
  },
  {
   "cell_type": "code",
   "execution_count": 22,
   "metadata": {},
   "outputs": [],
   "source": [
    "def computeFrequency(wordDict, ngram):\n",
    "    freqword = {}\n",
    "    ngramLength = len(ngram)\n",
    "    for word, count in wordDict.items():\n",
    "        freqword[word] = count\n",
    "    return freqword"
   ]
  },
  {
   "cell_type": "code",
   "execution_count": 23,
   "metadata": {},
   "outputs": [],
   "source": [
    "def getFrequencyTermPerData(wordDictionary, ngram) :\n",
    "    CountFrequency = []\n",
    "    iterator = 0\n",
    "    while iterator < len(ngram):\n",
    "        CountFrequency.append(computeFrequency(wordDictionary[iterator], ngram[iterator]))\n",
    "        iterator = iterator + 1\n",
    "    \n",
    "    return CountFrequency"
   ]
  },
  {
   "cell_type": "code",
   "execution_count": 24,
   "metadata": {},
   "outputs": [],
   "source": [
    "CountFrequency_Sentimen_Amazon_Train = getFrequencyTermPerData(WordDictionaryCount_Amazon_Train, ngram_amazon_train)\n",
    "CountFrequency_Sentimen_Yelp_Train = getFrequencyTermPerData(WordDictionaryCount_Yelp_Train, ngram_yelp_train)\n",
    "CountFrequency_Sentimen_Amazon_Test = getFrequencyTermPerData(WordDictionaryCount_Amazon_Test, ngram_amazon_test)\n",
    "CountFrequency_Sentimen_Yelp_Test = getFrequencyTermPerData(WordDictionaryCount_Yelp_Test, ngram_yelp_test)"
   ]
  },
  {
   "cell_type": "markdown",
   "metadata": {},
   "source": [
    "## Menghitung nilai IDF pada setiap data Amazon dan Yelp"
   ]
  },
  {
   "cell_type": "code",
   "execution_count": 25,
   "metadata": {},
   "outputs": [],
   "source": [
    "def computeIDF(WordDict):\n",
    "    idfDict = {}\n",
    "    number_of_document_with_term_t_in_it = {}\n",
    "    N = len(WordDict)\n",
    "    \n",
    "    idfDict = dict.fromkeys(WordDict[0].keys(), 0)\n",
    "    for doc in WordDict:\n",
    "        for word, val in doc.items():\n",
    "            if val > 0:\n",
    "                idfDict[word] += 1\n",
    "    \n",
    "    for word, val in idfDict.items():\n",
    "        number_of_document_with_term_t_in_it[word] = float(val)\n",
    "        idfDict[word] = np.log((1+N) / (1+val)) + 1\n",
    "        \n",
    "    return idfDict, number_of_document_with_term_t_in_it"
   ]
  },
  {
   "cell_type": "code",
   "execution_count": 26,
   "metadata": {},
   "outputs": [],
   "source": [
    "IDF_Amazon, number_of_document_with_term_t_Amazon_Train = computeIDF(WordDictionaryCount_Amazon_Train)\n",
    "IDF_Yelp, number_of_document_with_term_t_in_Yelp_Train = computeIDF(WordDictionaryCount_Yelp_Train)"
   ]
  },
  {
   "cell_type": "code",
   "execution_count": 27,
   "metadata": {},
   "outputs": [],
   "source": [
    "def computeTFIDFnonScale(CountFrequency, idfs):\n",
    "    tfidf = None\n",
    "    tfidf = {}\n",
    "    for word, val in CountFrequency.items():\n",
    "        tfidf[word] = val*idfs[word]\n",
    "    return tfidf"
   ]
  },
  {
   "cell_type": "code",
   "execution_count": 28,
   "metadata": {},
   "outputs": [],
   "source": [
    "def computeTFIDF(tfidf_nonscaled) :\n",
    "    tfidf_nonscaled = np.array(tfidf_nonscaled)\n",
    "    tfidf_list = tfidf_nonscaled/sum(tfidf_nonscaled**2)**0.5\n",
    "    return tfidf_list"
   ]
  },
  {
   "cell_type": "code",
   "execution_count": 29,
   "metadata": {},
   "outputs": [],
   "source": [
    "def getTFIDF(wordDictionary, CountFrequency, IDF):\n",
    "    TFIDF_non_scaled = None\n",
    "    TFIDF_non_scaled = []\n",
    "    iterator = 0\n",
    "    while iterator < len(wordDictionary):\n",
    "        TFIDF_non_scaled.append(computeTFIDFnonScale(CountFrequency[iterator], IDF))\n",
    "        iterator = iterator + 1\n",
    "    \n",
    "    TFIDF = []\n",
    "    iterator = 0\n",
    "    while iterator < len(wordDictionary):\n",
    "        tf_idf_list = list(TFIDF_non_scaled[iterator].values())\n",
    "        TFIDF.append(computeTFIDF(tf_idf_list))\n",
    "        iterator = iterator + 1\n",
    "        \n",
    "    return TFIDF"
   ]
  },
  {
   "cell_type": "code",
   "execution_count": 30,
   "metadata": {},
   "outputs": [],
   "source": [
    "TFIDF_Amazon_Train = getTFIDF(WordDictionaryCount_Amazon_Train, CountFrequency_Sentimen_Amazon_Train, IDF_Amazon)"
   ]
  },
  {
   "cell_type": "code",
   "execution_count": 31,
   "metadata": {},
   "outputs": [],
   "source": [
    "TFIDF_Amazon_Test = getTFIDF(WordDictionaryCount_Amazon_Test, CountFrequency_Sentimen_Amazon_Test, IDF_Amazon)"
   ]
  },
  {
   "cell_type": "code",
   "execution_count": 32,
   "metadata": {},
   "outputs": [],
   "source": [
    "TFIDF_Yelp_Train = getTFIDF(WordDictionaryCount_Yelp_Train, CountFrequency_Sentimen_Yelp_Train, IDF_Yelp)"
   ]
  },
  {
   "cell_type": "code",
   "execution_count": 33,
   "metadata": {},
   "outputs": [],
   "source": [
    "TFIDF_Yelp_Test = getTFIDF(WordDictionaryCount_Yelp_Test, CountFrequency_Sentimen_Yelp_Test, IDF_Yelp)"
   ]
  },
  {
   "cell_type": "code",
   "execution_count": 34,
   "metadata": {},
   "outputs": [],
   "source": [
    "def toVectorizeList(TFIDF):\n",
    "    iterator  = 0\n",
    "    Vectorized = []\n",
    "    while iterator < len(TFIDF):\n",
    "        Vectorized.append(list(TFIDF[iterator]))\n",
    "        iterator = iterator + 1\n",
    "    return Vectorized"
   ]
  },
  {
   "cell_type": "code",
   "execution_count": 35,
   "metadata": {},
   "outputs": [],
   "source": [
    "Vectorizer_Amazon_Train = toVectorizeList(TFIDF_Amazon_Train)\n",
    "Vectorizer_Amazon_Test = toVectorizeList(TFIDF_Amazon_Test)\n",
    "Vectorizer_Yelp_Train = toVectorizeList(TFIDF_Yelp_Train)\n",
    "Vectorizer_Yelp_Test = toVectorizeList(TFIDF_Yelp_Test)"
   ]
  },
  {
   "cell_type": "code",
   "execution_count": 36,
   "metadata": {},
   "outputs": [
    {
     "name": "stdout",
     "output_type": "stream",
     "text": [
      "        ( , a)  ( , a,  )  ( , a, a)  ( , a, b)  ( , a, c)  ( , a, d)  \\\n",
      "0     0.174588   0.080901        0.0   0.000000   0.000000   0.000000   \n",
      "1     0.149335   0.047575        0.0   0.044579   0.052005   0.056086   \n",
      "2     0.122767   0.056888        0.0   0.026653   0.000000   0.000000   \n",
      "3     0.106905   0.041917        0.0   0.000000   0.000000   0.000000   \n",
      "4     0.121334   0.023193        0.0   0.014488   0.016902   0.000000   \n",
      "...        ...        ...        ...        ...        ...        ...   \n",
      "3745  0.134475   0.000000        0.0   0.035683   0.041627   0.000000   \n",
      "3746  0.093831   0.027593        0.0   0.000000   0.000000   0.000000   \n",
      "3747  0.112662   0.028713        0.0   0.026905   0.000000   0.033850   \n",
      "3748  0.136468   0.041405        0.0   0.000000   0.000000   0.000000   \n",
      "3749  0.093960   0.059867        0.0   0.037398   0.000000   0.000000   \n",
      "\n",
      "      ( , a, e)  ( , a, f)  ( , a, g)  ( , a, h)  ...  (z, z, a)  (z, z, b)  \\\n",
      "0           0.0   0.000000   0.000000        0.0  ...        0.0        0.0   \n",
      "1           0.0   0.000000   0.000000        0.0  ...        0.0        0.0   \n",
      "2           0.0   0.033833   0.000000        0.0  ...        0.0        0.0   \n",
      "3           0.0   0.000000   0.024315        0.0  ...        0.0        0.0   \n",
      "4           0.0   0.000000   0.000000        0.0  ...        0.0        0.0   \n",
      "...         ...        ...        ...        ...  ...        ...        ...   \n",
      "3745        0.0   0.090590   0.000000        0.0  ...        0.0        0.0   \n",
      "3746        0.0   0.000000   0.000000        0.0  ...        0.0        0.0   \n",
      "3747        0.0   0.034153   0.000000        0.0  ...        0.0        0.0   \n",
      "3748        0.0   0.019700   0.000000        0.0  ...        0.0        0.0   \n",
      "3749        0.0   0.000000   0.000000        0.0  ...        0.0        0.0   \n",
      "\n",
      "      (z, z, e)  (z, z, f)  (z, z, i)  (z, z, l)  (z, z, s)  (z, z, t)  \\\n",
      "0           0.0        0.0        0.0        0.0        0.0        0.0   \n",
      "1           0.0        0.0        0.0        0.0        0.0        0.0   \n",
      "2           0.0        0.0        0.0        0.0        0.0        0.0   \n",
      "3           0.0        0.0        0.0        0.0        0.0        0.0   \n",
      "4           0.0        0.0        0.0        0.0        0.0        0.0   \n",
      "...         ...        ...        ...        ...        ...        ...   \n",
      "3745        0.0        0.0        0.0        0.0        0.0        0.0   \n",
      "3746        0.0        0.0        0.0        0.0        0.0        0.0   \n",
      "3747        0.0        0.0        0.0        0.0        0.0        0.0   \n",
      "3748        0.0        0.0        0.0        0.0        0.0        0.0   \n",
      "3749        0.0        0.0        0.0        0.0        0.0        0.0   \n",
      "\n",
      "      (z, z, y)  (z, z, z)  \n",
      "0           0.0        0.0  \n",
      "1           0.0        0.0  \n",
      "2           0.0        0.0  \n",
      "3           0.0        0.0  \n",
      "4           0.0        0.0  \n",
      "...         ...        ...  \n",
      "3745        0.0        0.0  \n",
      "3746        0.0        0.0  \n",
      "3747        0.0        0.0  \n",
      "3748        0.0        0.0  \n",
      "3749        0.0        0.0  \n",
      "\n",
      "[3750 rows x 8181 columns]\n"
     ]
    }
   ],
   "source": [
    "DataFrame_Amazon_Train = pd.DataFrame(Vectorizer_Amazon_Train, columns = Vocabulary_Amazon_Train)\n",
    "DataFrame_Amazon_Train = DataFrame_Amazon_Train.reindex(sorted(DataFrame_Amazon_Train.columns), axis=1)\n",
    "print (DataFrame_Amazon_Train)"
   ]
  },
  {
   "cell_type": "code",
   "execution_count": 37,
   "metadata": {},
   "outputs": [
    {
     "name": "stdout",
     "output_type": "stream",
     "text": [
      "        ( , a)  ( , a,  )  ( , a, a)  ( , a, b)  ( , a, c)  ( , a, d)  \\\n",
      "0     0.146314   0.062150        0.0   0.019412        0.0   0.048845   \n",
      "1     0.087126   0.013878        0.0   0.000000        0.0   0.000000   \n",
      "2     0.091250   0.049835        0.0   0.015566        0.0   0.000000   \n",
      "3     0.089522   0.000000        0.0   0.000000        0.0   0.000000   \n",
      "4     0.085220   0.000000        0.0   0.000000        0.0   0.000000   \n",
      "...        ...        ...        ...        ...        ...        ...   \n",
      "1245  0.170102   0.032514        0.0   0.020311        0.0   0.000000   \n",
      "1246  0.151306   0.044495        0.0   0.000000        0.0   0.069940   \n",
      "1247  0.097047   0.030917        0.0   0.000000        0.0   0.072896   \n",
      "1248  0.018945   0.000000        0.0   0.000000        0.0   0.000000   \n",
      "1249  0.062201   0.019816        0.0   0.000000        0.0   0.000000   \n",
      "\n",
      "      ( , a, e)  ( , a, f)  ( , a, g)  ( , a, h)  ...  (z, z, a)  (z, z, b)  \\\n",
      "0           0.0   0.024641   0.000000        0.0  ...        0.0        0.0   \n",
      "1           0.0   0.000000   0.000000        0.0  ...        0.0        0.0   \n",
      "2           0.0   0.039517   0.000000        0.0  ...        0.0        0.0   \n",
      "3           0.0   0.000000   0.000000        0.0  ...        0.0        0.0   \n",
      "4           0.0   0.000000   0.000000        0.0  ...        0.0        0.0   \n",
      "...         ...        ...        ...        ...  ...        ...        ...   \n",
      "1245        0.0   0.000000   0.050296        0.0  ...        0.0        0.0   \n",
      "1246        0.0   0.000000   0.000000        0.0  ...        0.0        0.0   \n",
      "1247        0.0   0.000000   0.000000        0.0  ...        0.0        0.0   \n",
      "1248        0.0   0.000000   0.000000        0.0  ...        0.0        0.0   \n",
      "1249        0.0   0.000000   0.045979        0.0  ...        0.0        0.0   \n",
      "\n",
      "      (z, z, e)  (z, z, f)  (z, z, i)  (z, z, l)  (z, z, s)  (z, z, t)  \\\n",
      "0           0.0        0.0        0.0        0.0        0.0        0.0   \n",
      "1           0.0        0.0        0.0        0.0        0.0        0.0   \n",
      "2           0.0        0.0        0.0        0.0        0.0        0.0   \n",
      "3           0.0        0.0        0.0        0.0        0.0        0.0   \n",
      "4           0.0        0.0        0.0        0.0        0.0        0.0   \n",
      "...         ...        ...        ...        ...        ...        ...   \n",
      "1245        0.0        0.0        0.0        0.0        0.0        0.0   \n",
      "1246        0.0        0.0        0.0        0.0        0.0        0.0   \n",
      "1247        0.0        0.0        0.0        0.0        0.0        0.0   \n",
      "1248        0.0        0.0        0.0        0.0        0.0        0.0   \n",
      "1249        0.0        0.0        0.0        0.0        0.0        0.0   \n",
      "\n",
      "      (z, z, y)  (z, z, z)  \n",
      "0           0.0        0.0  \n",
      "1           0.0        0.0  \n",
      "2           0.0        0.0  \n",
      "3           0.0        0.0  \n",
      "4           0.0        0.0  \n",
      "...         ...        ...  \n",
      "1245        0.0        0.0  \n",
      "1246        0.0        0.0  \n",
      "1247        0.0        0.0  \n",
      "1248        0.0        0.0  \n",
      "1249        0.0        0.0  \n",
      "\n",
      "[1250 rows x 8181 columns]\n"
     ]
    }
   ],
   "source": [
    "DataFrame_Amazon_Test = pd.DataFrame(Vectorizer_Amazon_Test, columns = Vocabulary_Amazon_Train)\n",
    "DataFrame_Amazon_Test = DataFrame_Amazon_Test.reindex(sorted(DataFrame_Amazon_Test.columns), axis=1)\n",
    "print (DataFrame_Amazon_Test)"
   ]
  },
  {
   "cell_type": "code",
   "execution_count": 38,
   "metadata": {},
   "outputs": [
    {
     "name": "stdout",
     "output_type": "stream",
     "text": [
      "       ( , a)  ( , a,  )  ( , a, a)  ( , a, b)  ( , a, c)  ( , a, d)  \\\n",
      "0    0.173071   0.047635        0.0   0.034701   0.000000   0.016635   \n",
      "1    0.141828   0.043642        0.0   0.012364   0.000000   0.035563   \n",
      "2    0.161588   0.054458        0.0   0.011571   0.045962   0.016641   \n",
      "3    0.192464   0.025225        0.0   0.021439   0.000000   0.000000   \n",
      "4    0.060398   0.035621        0.0   0.000000   0.000000   0.000000   \n",
      "..        ...        ...        ...        ...        ...        ...   \n",
      "995  0.075855   0.044738        0.0   0.000000   0.000000   0.000000   \n",
      "996  0.042176   0.016583        0.0   0.000000   0.000000   0.000000   \n",
      "997  0.038129   0.000000        0.0   0.076450   0.000000   0.000000   \n",
      "998  0.000000   0.000000        0.0   0.000000   0.000000   0.000000   \n",
      "999  0.079202   0.046712        0.0   0.000000   0.035043   0.000000   \n",
      "\n",
      "     ( , a, e)  ( , a, f)  ( , a, g)  ( , a, h)  ...  (z, y)  (z, y,  )  \\\n",
      "0          0.0   0.013819        0.0        0.0  ...     0.0        0.0   \n",
      "1          0.0   0.000000        0.0        0.0  ...     0.0        0.0   \n",
      "2          0.0   0.000000        0.0        0.0  ...     0.0        0.0   \n",
      "3          0.0   0.025612        0.0        0.0  ...     0.0        0.0   \n",
      "4          0.0   0.000000        0.0        0.0  ...     0.0        0.0   \n",
      "..         ...        ...        ...        ...  ...     ...        ...   \n",
      "995        0.0   0.000000        0.0        0.0  ...     0.0        0.0   \n",
      "996        0.0   0.000000        0.0        0.0  ...     0.0        0.0   \n",
      "997        0.0   0.000000        0.0        0.0  ...     0.0        0.0   \n",
      "998        0.0   0.000000        0.0        0.0  ...     0.0        0.0   \n",
      "999        0.0   0.000000        0.0        0.0  ...     0.0        0.0   \n",
      "\n",
      "     (z, y, n)  (z, z)  (z, z, a)  (z, z, e)  (z, z, i)  (z, z, l)  (z, z, o)  \\\n",
      "0          0.0     0.0        0.0        0.0        0.0        0.0        0.0   \n",
      "1          0.0     0.0        0.0        0.0        0.0        0.0        0.0   \n",
      "2          0.0     0.0        0.0        0.0        0.0        0.0        0.0   \n",
      "3          0.0     0.0        0.0        0.0        0.0        0.0        0.0   \n",
      "4          0.0     0.0        0.0        0.0        0.0        0.0        0.0   \n",
      "..         ...     ...        ...        ...        ...        ...        ...   \n",
      "995        0.0     0.0        0.0        0.0        0.0        0.0        0.0   \n",
      "996        0.0     0.0        0.0        0.0        0.0        0.0        0.0   \n",
      "997        0.0     0.0        0.0        0.0        0.0        0.0        0.0   \n",
      "998        0.0     0.0        0.0        0.0        0.0        0.0        0.0   \n",
      "999        0.0     0.0        0.0        0.0        0.0        0.0        0.0   \n",
      "\n",
      "     (z, z, y)  \n",
      "0          0.0  \n",
      "1          0.0  \n",
      "2          0.0  \n",
      "3          0.0  \n",
      "4          0.0  \n",
      "..         ...  \n",
      "995        0.0  \n",
      "996        0.0  \n",
      "997        0.0  \n",
      "998        0.0  \n",
      "999        0.0  \n",
      "\n",
      "[1000 rows x 6379 columns]\n"
     ]
    }
   ],
   "source": [
    "DataFrame_Yelp_Train = pd.DataFrame(Vectorizer_Yelp_Train, columns = Vocabulary_Yelp_Train)\n",
    "DataFrame_Yelp_Train = DataFrame_Yelp_Train.reindex(sorted(DataFrame_Yelp_Train.columns), axis=1)\n",
    "print (DataFrame_Yelp_Train)"
   ]
  },
  {
   "cell_type": "code",
   "execution_count": 39,
   "metadata": {},
   "outputs": [
    {
     "name": "stdout",
     "output_type": "stream",
     "text": [
      "        ( , a)  ( , a,  )  ( , a, a)  ( , a, b)  ( , a, c)  ( , a, d)  \\\n",
      "0     0.166176   0.026135        0.0   0.022213        0.0   0.000000   \n",
      "1     0.079664   0.000000        0.0   0.000000        0.0   0.000000   \n",
      "2     0.091571   0.046292        0.0   0.000000        0.0   0.000000   \n",
      "3     0.121306   0.009539        0.0   0.000000        0.0   0.000000   \n",
      "4     0.165918   0.023867        0.0   0.000000        0.0   0.000000   \n",
      "...        ...        ...        ...        ...        ...        ...   \n",
      "1245  0.142039   0.083772        0.0   0.000000        0.0   0.034131   \n",
      "1246  0.074450   0.058546        0.0   0.000000        0.0   0.000000   \n",
      "1247  0.151215   0.044592        0.0   0.025266        0.0   0.000000   \n",
      "1248  0.022193   0.026178        0.0   0.000000        0.0   0.000000   \n",
      "1249  0.145277   0.036721        0.0   0.000000        0.0   0.000000   \n",
      "\n",
      "      ( , a, e)  ( , a, f)  ( , a, g)  ( , a, h)  ...  (z, y)  (z, y,  )  \\\n",
      "0           0.0   0.013268   0.000000        0.0  ...     0.0        0.0   \n",
      "1           0.0   0.000000   0.000000        0.0  ...     0.0        0.0   \n",
      "2           0.0   0.000000   0.000000        0.0  ...     0.0        0.0   \n",
      "3           0.0   0.019371   0.000000        0.0  ...     0.0        0.0   \n",
      "4           0.0   0.009693   0.031084        0.0  ...     0.0        0.0   \n",
      "...         ...        ...        ...        ...  ...     ...        ...   \n",
      "1245        0.0   0.000000   0.030306        0.0  ...     0.0        0.0   \n",
      "1246        0.0   0.000000   0.000000        0.0  ...     0.0        0.0   \n",
      "1247        0.0   0.000000   0.000000        0.0  ...     0.0        0.0   \n",
      "1248        0.0   0.000000   0.000000        0.0  ...     0.0        0.0   \n",
      "1249        0.0   0.000000   0.026569        0.0  ...     0.0        0.0   \n",
      "\n",
      "      (z, y, n)  (z, z)  (z, z, a)  (z, z, e)  (z, z, i)  (z, z, l)  \\\n",
      "0           0.0     0.0        0.0        0.0        0.0        0.0   \n",
      "1           0.0     0.0        0.0        0.0        0.0        0.0   \n",
      "2           0.0     0.0        0.0        0.0        0.0        0.0   \n",
      "3           0.0     0.0        0.0        0.0        0.0        0.0   \n",
      "4           0.0     0.0        0.0        0.0        0.0        0.0   \n",
      "...         ...     ...        ...        ...        ...        ...   \n",
      "1245        0.0     0.0        0.0        0.0        0.0        0.0   \n",
      "1246        0.0     0.0        0.0        0.0        0.0        0.0   \n",
      "1247        0.0     0.0        0.0        0.0        0.0        0.0   \n",
      "1248        0.0     0.0        0.0        0.0        0.0        0.0   \n",
      "1249        0.0     0.0        0.0        0.0        0.0        0.0   \n",
      "\n",
      "      (z, z, o)  (z, z, y)  \n",
      "0           0.0        0.0  \n",
      "1           0.0        0.0  \n",
      "2           0.0        0.0  \n",
      "3           0.0        0.0  \n",
      "4           0.0        0.0  \n",
      "...         ...        ...  \n",
      "1245        0.0        0.0  \n",
      "1246        0.0        0.0  \n",
      "1247        0.0        0.0  \n",
      "1248        0.0        0.0  \n",
      "1249        0.0        0.0  \n",
      "\n",
      "[1250 rows x 6379 columns]\n"
     ]
    }
   ],
   "source": [
    "DataFrame_Yelp_Test = pd.DataFrame(Vectorizer_Yelp_Test, columns = Vocabulary_Yelp_Train)\n",
    "DataFrame_Yelp_Test = DataFrame_Yelp_Test.reindex(sorted(DataFrame_Yelp_Test.columns), axis=1)\n",
    "print (DataFrame_Yelp_Test)"
   ]
  },
  {
   "cell_type": "markdown",
   "metadata": {},
   "source": [
    "## Akurasi dan Waktu Train Test "
   ]
  },
  {
   "cell_type": "code",
   "execution_count": 40,
   "metadata": {},
   "outputs": [
    {
     "name": "stdout",
     "output_type": "stream",
     "text": [
      "\n",
      "Waktu Training Amazon: 24.916s\n"
     ]
    }
   ],
   "source": [
    "Waktu_Training = time()\n",
    "RF_Classifier_Amazon = RandomForestClassifier(\n",
    "        max_depth= 5, n_estimators = 800, random_state=42,\n",
    "        bootstrap = False, min_samples_split = 5, min_samples_leaf = 1, max_features = 'auto')\n",
    "RF_Classifier_Amazon.fit(Vectorizer_Amazon_Train, Label_Amazon_Train)\n",
    "print(f\"\\nWaktu Training Amazon: {round(time()-Waktu_Training, 3)}s\")"
   ]
  },
  {
   "cell_type": "code",
   "execution_count": 41,
   "metadata": {},
   "outputs": [
    {
     "name": "stdout",
     "output_type": "stream",
     "text": [
      "waktu prediksi (train): 2.55s\n",
      "waktu prediksi (test): 0.864s\n",
      "\n",
      "Skor Random Forest Train Amazon : 0.8978666666666667\n",
      "Skor Random Forest Test Amazon : 0.8184\n"
     ]
    }
   ],
   "source": [
    "Waktu_Predict_Train = time()\n",
    "Skor_Train_Amazon = RF_Classifier_Amazon.score(Vectorizer_Amazon_Train, Label_Amazon_Train)\n",
    "print(f\"waktu prediksi (train): {round(time()-Waktu_Predict_Train, 3)}s\")\n",
    "\n",
    "Waktu_Predict_Test = time()\n",
    "Skor_Test_Amazon = RF_Classifier_Amazon.score(Vectorizer_Amazon_Test, Label_Amazon_Test)\n",
    "print(f\"waktu prediksi (test): {round(time()-Waktu_Predict_Test, 3)}s\")\n",
    "\n",
    "print(\"\\nSkor Random Forest Train Amazon : {}\".format(Skor_Train_Amazon))\n",
    "print(\"Skor Random Forest Test Amazon : {}\".format(Skor_Test_Amazon))\n",
    "\n"
   ]
  },
  {
   "cell_type": "code",
   "execution_count": 42,
   "metadata": {
    "scrolled": true
   },
   "outputs": [
    {
     "name": "stdout",
     "output_type": "stream",
     "text": [
      "\n",
      "Waktu Training Yelp: 6.061s\n"
     ]
    }
   ],
   "source": [
    "Waktu_Training = time()\n",
    "RF_Classifier_Yelp = RandomForestClassifier(max_depth= 5, n_estimators = 800, random_state=42,\n",
    "                                       bootstrap = False, min_samples_split = 5, min_samples_leaf = 1, max_features = 'auto')\n",
    "RF_Classifier_Yelp.fit(Vectorizer_Yelp_Train, Label_Yelp_Train)\n",
    "print(f\"\\nWaktu Training Yelp: {round(time()-Waktu_Training, 3)}s\")"
   ]
  },
  {
   "cell_type": "code",
   "execution_count": 43,
   "metadata": {},
   "outputs": [
    {
     "name": "stdout",
     "output_type": "stream",
     "text": [
      "waktu prediksi (train): 0.552s\n",
      "waktu prediksi (test): 0.686s\n",
      "\n",
      "Skor Random Forest Train Yelp : 0.958\n",
      "Skor Random Forest Test Yelp : 0.8544\n"
     ]
    }
   ],
   "source": [
    "Waktu_Predict_Train = time()\n",
    "Skor_Train_Yelp = RF_Classifier_Yelp.score(Vectorizer_Yelp_Train, Label_Yelp_Train)\n",
    "print(f\"waktu prediksi (train): {round(time()-Waktu_Predict_Train, 3)}s\")\n",
    "\n",
    "Waktu_Predict_Test = time()\n",
    "Skor_Test_Yelp = RF_Classifier_Yelp.score(Vectorizer_Yelp_Test, Label_Yelp_Test)\n",
    "print(f\"waktu prediksi (test): {round(time()-Waktu_Predict_Test, 3)}s\")\n",
    "\n",
    "print(\"\\nSkor Random Forest Train Yelp : {}\".format(Skor_Train_Yelp))\n",
    "print(\"Skor Random Forest Test Yelp : {}\".format(Skor_Test_Yelp))\n"
   ]
  },
  {
   "cell_type": "code",
   "execution_count": 44,
   "metadata": {},
   "outputs": [
    {
     "name": "stdout",
     "output_type": "stream",
     "text": [
      "waktu prediksi (train): 0.553s\n",
      "waktu prediksi (test): 0.681s\n",
      "\n",
      "Skor Random Forest Train : 0.958\n",
      "Skor Random Forest Test  : 0.8544\n",
      "----------------------------------------------------\n",
      "\n",
      "\n",
      "[[466  34]\n",
      " [  8 492]]\n",
      "              precision    recall  f1-score   support\n",
      "\n",
      "           0       0.98      0.93      0.96       500\n",
      "           1       0.94      0.98      0.96       500\n",
      "\n",
      "    accuracy                           0.96      1000\n",
      "   macro avg       0.96      0.96      0.96      1000\n",
      "weighted avg       0.96      0.96      0.96      1000\n",
      "\n",
      "----------------------------------------------------\n",
      "\n",
      "\n",
      "[[527  98]\n",
      " [ 84 541]]\n",
      "              precision    recall  f1-score   support\n",
      "\n",
      "           0       0.86      0.84      0.85       625\n",
      "           1       0.85      0.87      0.86       625\n",
      "\n",
      "    accuracy                           0.85      1250\n",
      "   macro avg       0.85      0.85      0.85      1250\n",
      "weighted avg       0.85      0.85      0.85      1250\n",
      "\n"
     ]
    }
   ],
   "source": [
    "Waktu_Predict_Train = time()\n",
    "Skor_Train_Yelp = RF_Classifier_Yelp.score(Vectorizer_Yelp_Train, Label_Yelp_Train)\n",
    "print(f\"waktu prediksi (train): {round(time()-Waktu_Predict_Train, 3)}s\")\n",
    "\n",
    "Waktu_Predict_Test = time()\n",
    "Skor_Test_Yelp = RF_Classifier_Yelp.score(Vectorizer_Yelp_Test, Label_Yelp_Test)\n",
    "print(f\"waktu prediksi (test): {round(time()-Waktu_Predict_Test, 3)}s\")\n",
    "\n",
    "print(\"\\nSkor Random Forest Train : {}\".format(Skor_Train_Yelp))\n",
    "print(\"Skor Random Forest Test  : {}\".format(Skor_Test_Yelp))\n",
    "print(\"----------------------------------------------------\\n\\n\")\n",
    "\n",
    "RFClassifier_predict = RF_Classifier_Yelp.predict(Vectorizer_Yelp_Train)\n",
    "Confusion_matrix = confusion_matrix(Label_Yelp_Train, RFClassifier_predict)\n",
    "print(Confusion_matrix)\n",
    "print(metrics.classification_report(Label_Yelp_Train, RFClassifier_predict))\n",
    "\n",
    "print(\"----------------------------------------------------\\n\\n\")\n",
    "RFClassifier_predict = RF_Classifier_Yelp.predict(Vectorizer_Yelp_Test)\n",
    "Confusion_matrix = confusion_matrix(Label_Yelp_Test, RFClassifier_predict)\n",
    "print(Confusion_matrix)\n",
    "print(metrics.classification_report(Label_Yelp_Test, RFClassifier_predict))"
   ]
  },
  {
   "cell_type": "markdown",
   "metadata": {},
   "source": [
    "## Mencari Term-Term yang interseksi antara Amazon dan Yelp"
   ]
  },
  {
   "cell_type": "code",
   "execution_count": 45,
   "metadata": {},
   "outputs": [],
   "source": [
    "Vocabulary_Intersection = list(set(\n",
    "                            Vocabulary_Yelp_Train) & set (\n",
    "                            Vocabulary_Amazon_Train))"
   ]
  },
  {
   "cell_type": "code",
   "execution_count": 46,
   "metadata": {},
   "outputs": [
    {
     "name": "stdout",
     "output_type": "stream",
     "text": [
      "5834\n"
     ]
    }
   ],
   "source": [
    "print(len(Vocabulary_Intersection))"
   ]
  },
  {
   "cell_type": "code",
   "execution_count": 47,
   "metadata": {},
   "outputs": [],
   "source": [
    "def RecomputeIDF(WordDictAmazon, WordDictYelp, additional_term_value, Vocabulary_Intersection):\n",
    "    idfDict = {}\n",
    "    number_of_document_with_term_t_in_it = {}\n",
    "    N = len(WordDictYelp) + len(WordDictAmazon)\n",
    "    idfDict = dict.fromkeys(WordDictYelp[0].keys(), 0)\n",
    "    for doc in WordDictYelp:\n",
    "        for word, val in doc.items():\n",
    "            if val > 0:\n",
    "                idfDict[word] += 1\n",
    "    \n",
    "    for word, val in idfDict.items():\n",
    "        if word in Vocabulary_Intersection :\n",
    "            val = val + additional_term_value[word]\n",
    "        idfDict[word] = np.log((1+N) / (1+val)) + 1\n",
    "        \n",
    "    return idfDict"
   ]
  },
  {
   "cell_type": "code",
   "execution_count": 48,
   "metadata": {},
   "outputs": [],
   "source": [
    "New_IDF_Yelp = RecomputeIDF(WordDictionaryCount_Amazon_Train, \n",
    "                            WordDictionaryCount_Yelp_Train, \n",
    "                            number_of_document_with_term_t_Amazon_Train, \n",
    "                            Vocabulary_Intersection)"
   ]
  },
  {
   "cell_type": "code",
   "execution_count": 49,
   "metadata": {},
   "outputs": [],
   "source": [
    "New_TFIDF_Train = getTFIDF(WordDictionaryCount_Yelp_Train, CountFrequency_Sentimen_Yelp_Train, New_IDF_Yelp)\n",
    "New_TFIDF_Test = getTFIDF(WordDictionaryCount_Yelp_Test, CountFrequency_Sentimen_Yelp_Test, New_IDF_Yelp)"
   ]
  },
  {
   "cell_type": "code",
   "execution_count": 50,
   "metadata": {},
   "outputs": [],
   "source": [
    "Vectorizer_TF_Train = toVectorizeList(New_TFIDF_Train)\n",
    "Vectorizer_TF_Test = toVectorizeList(New_TFIDF_Test)"
   ]
  },
  {
   "cell_type": "code",
   "execution_count": 51,
   "metadata": {},
   "outputs": [],
   "source": [
    "New_TFIDF_Train = Vectorizer_TF_Train\n",
    "New_TFIDF_Test = Vectorizer_TF_Test"
   ]
  },
  {
   "cell_type": "code",
   "execution_count": 52,
   "metadata": {},
   "outputs": [
    {
     "name": "stdout",
     "output_type": "stream",
     "text": [
      "\n",
      "Waktu Training: 6.086s\n"
     ]
    }
   ],
   "source": [
    "Waktu_Training = time()\n",
    "New_RF_Classifier_Yelp = RandomForestClassifier(max_depth= 5, n_estimators = 800, random_state=42,\n",
    "                                       bootstrap = False, min_samples_split = 5, min_samples_leaf = 1, \n",
    "                                        max_features = 'auto')\n",
    "New_RF_Classifier_Yelp.fit(New_TFIDF_Train, Label_Yelp_Train)\n",
    "print(f\"\\nWaktu Training: {round(time()-Waktu_Training, 3)}s\")"
   ]
  },
  {
   "cell_type": "code",
   "execution_count": 53,
   "metadata": {},
   "outputs": [
    {
     "name": "stdout",
     "output_type": "stream",
     "text": [
      "waktu prediksi (test): 19.322s\n",
      "Skor Random Forest Test Yelp : 0.959\n",
      "waktu prediksi (test): 0.708s\n",
      "Skor Random Forest Test Yelp : 0.8512\n"
     ]
    }
   ],
   "source": [
    "Waktu_Predict_Train = time()\n",
    "New_Skor_Train_Yelp = New_RF_Classifier_Yelp.score(New_TFIDF_Train, Label_Yelp_Train)\n",
    "print(f\"waktu prediksi (test): {round(time()-Waktu_Predict_Test, 3)}s\")\n",
    "print(\"Skor Random Forest Test Yelp : {}\".format(New_Skor_Train_Yelp))\n",
    "\n",
    "Waktu_Predict_Test = time()\n",
    "New_Skor_Test_Yelp = New_RF_Classifier_Yelp.score(New_TFIDF_Test, Label_Yelp_Test)\n",
    "print(f\"waktu prediksi (test): {round(time()-Waktu_Predict_Test, 3)}s\")\n",
    "print(\"Skor Random Forest Test Yelp : {}\".format(New_Skor_Test_Yelp))"
   ]
  },
  {
   "cell_type": "code",
   "execution_count": 54,
   "metadata": {},
   "outputs": [
    {
     "name": "stdout",
     "output_type": "stream",
     "text": [
      "waktu prediksi (train): 0.584s\n",
      "waktu prediksi (test): 0.708s\n",
      "\n",
      "Skor Random Forest Train : 0.959\n",
      "Skor Random Forest Test  : 0.8512\n",
      "----------------------------------------------------\n",
      "\n",
      "\n",
      "[[467  33]\n",
      " [  8 492]]\n",
      "              precision    recall  f1-score   support\n",
      "\n",
      "           0       0.98      0.93      0.96       500\n",
      "           1       0.94      0.98      0.96       500\n",
      "\n",
      "    accuracy                           0.96      1000\n",
      "   macro avg       0.96      0.96      0.96      1000\n",
      "weighted avg       0.96      0.96      0.96      1000\n",
      "\n",
      "----------------------------------------------------\n",
      "\n",
      "\n",
      "[[527  98]\n",
      " [ 88 537]]\n",
      "              precision    recall  f1-score   support\n",
      "\n",
      "           0       0.86      0.84      0.85       625\n",
      "           1       0.85      0.86      0.85       625\n",
      "\n",
      "    accuracy                           0.85      1250\n",
      "   macro avg       0.85      0.85      0.85      1250\n",
      "weighted avg       0.85      0.85      0.85      1250\n",
      "\n"
     ]
    }
   ],
   "source": [
    "Waktu_Predict_Train = time()\n",
    "Skor_Train_Yelp = New_RF_Classifier_Yelp.score(New_TFIDF_Train, Label_Yelp_Train)\n",
    "print(f\"waktu prediksi (train): {round(time()-Waktu_Predict_Train, 3)}s\")\n",
    "\n",
    "Waktu_Predict_Test = time()\n",
    "Skor_Test_Yelp = New_RF_Classifier_Yelp.score(New_TFIDF_Test, Label_Yelp_Test)\n",
    "print(f\"waktu prediksi (test): {round(time()-Waktu_Predict_Test, 3)}s\")\n",
    "\n",
    "print(\"\\nSkor Random Forest Train : {}\".format(Skor_Train_Yelp))\n",
    "print(\"Skor Random Forest Test  : {}\".format(Skor_Test_Yelp))\n",
    "print(\"----------------------------------------------------\\n\\n\")\n",
    "\n",
    "RFClassifier_predict = New_RF_Classifier_Yelp.predict(New_TFIDF_Train)\n",
    "Confusion_matrix = confusion_matrix(Label_Yelp_Train, RFClassifier_predict)\n",
    "print(Confusion_matrix)\n",
    "print(metrics.classification_report(Label_Yelp_Train, RFClassifier_predict))\n",
    "\n",
    "print(\"----------------------------------------------------\\n\\n\")\n",
    "RFClassifier_predict = New_RF_Classifier_Yelp.predict(New_TFIDF_Test)\n",
    "Confusion_matrix = confusion_matrix(Label_Yelp_Test, RFClassifier_predict)\n",
    "print(Confusion_matrix)\n",
    "print(metrics.classification_report(Label_Yelp_Test, RFClassifier_predict))"
   ]
  },
  {
   "cell_type": "code",
   "execution_count": null,
   "metadata": {},
   "outputs": [],
   "source": []
  },
  {
   "cell_type": "code",
   "execution_count": null,
   "metadata": {},
   "outputs": [],
   "source": []
  }
 ],
 "metadata": {
  "kernelspec": {
   "display_name": "Python 3",
   "language": "python",
   "name": "python3"
  },
  "language_info": {
   "codemirror_mode": {
    "name": "ipython",
    "version": 3
   },
   "file_extension": ".py",
   "mimetype": "text/x-python",
   "name": "python",
   "nbconvert_exporter": "python",
   "pygments_lexer": "ipython3",
   "version": "3.7.4"
  }
 },
 "nbformat": 4,
 "nbformat_minor": 2
}
