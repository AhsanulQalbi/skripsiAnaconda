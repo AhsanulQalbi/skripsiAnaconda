{
 "cells": [
  {
   "cell_type": "markdown",
   "metadata": {},
   "source": [
    "SKRIPSI"
   ]
  },
  {
   "cell_type": "markdown",
   "metadata": {},
   "source": [
    "# Import library"
   ]
  },
  {
   "cell_type": "code",
   "execution_count": 1,
   "metadata": {},
   "outputs": [],
   "source": [
    "import sys\n",
    "import pandas as pd\n",
    "import numpy as np\n",
    "import matplotlib.pyplot as plt\n",
    "import string\n",
    "import re\n",
    "import nltk\n",
    "import os\n",
    "\n",
    "from nltk import ngrams\n",
    "from sklearn.ensemble import RandomForestClassifier\n",
    "from sklearn.model_selection import train_test_split, validation_curve,RandomizedSearchCV\n",
    "from sklearn.feature_extraction.text import CountVectorizer, TfidfVectorizer\n",
    "from matplotlib_venn import venn2\n",
    "from time import time\n",
    "\n",
    "np.random.seed(0)\n",
    "stopwords = nltk.corpus.stopwords.words('english')\n",
    "poster_Stemmer = nltk.PorterStemmer()\n"
   ]
  },
  {
   "cell_type": "markdown",
   "metadata": {},
   "source": [
    "# Baca file csv"
   ]
  },
  {
   "cell_type": "code",
   "execution_count": 2,
   "metadata": {},
   "outputs": [],
   "source": [
    "#baca csv\n",
    "data_train_amazon = pd.read_csv('Amazon_Train.csv')\n",
    "data_train_yelp = pd.read_csv('Yelp_Train.csv')\n",
    "data_test_amazon = pd.read_csv('Amazon_Test.csv')\n",
    "data_test_yelp = pd.read_csv('Yelp_Test.csv')\n",
    "data_train_imdb = pd.read_csv('IMDB_Train.csv')\n",
    "data_test_imdb = pd.read_csv('IMDB_Test.csv')"
   ]
  },
  {
   "cell_type": "code",
   "execution_count": 3,
   "metadata": {},
   "outputs": [
    {
     "name": "stdout",
     "output_type": "stream",
     "text": [
      "   Label                                           Sentimen\n",
      "0      0  Buyer beware This is a self-published book, an...\n",
      "1      0  The Worst! A complete waste of time. Typograph...\n",
      "2      0  Oh please I guess you have to be a romance nov...\n",
      "3      0  Awful beyond belief! I feel I have to write to...\n",
      "4      0  Another Abysmal Digital Copy Rather than scrat...\n",
      "\n",
      "\n",
      "   Label                                           Sentimen\n",
      "0      0  I don't know what Dr. Goldberg was like before...\n",
      "1      0  I'm writing this review to give you a heads up...\n",
      "2      0  Owning a driving range inside the city limits ...\n",
      "3      0  This place is absolute garbage...  Half of the...\n",
      "4      0  Used to go there for tires, brakes, etc.  Thei...\n",
      "\n",
      "\n",
      "   Label                                           Sentimen\n",
      "0      0  Story of a man who has unnatural feelings for ...\n",
      "1      0  Airport '77 starts as a brand new luxury 747 p...\n",
      "2      0  This film lacked something I couldn't put my f...\n",
      "3      0  Sorry everyone,,, I know this is supposed to b...\n",
      "4      0  When I was little my parents took me along to ...\n"
     ]
    }
   ],
   "source": [
    "print(data_train_amazon.head())\n",
    "print(\"\\n\")\n",
    "print(data_train_yelp.head())\n",
    "print(\"\\n\")\n",
    "print(data_train_imdb.head())"
   ]
  },
  {
   "cell_type": "code",
   "execution_count": 4,
   "metadata": {},
   "outputs": [
    {
     "name": "stdout",
     "output_type": "stream",
     "text": [
      "   Label                                           Sentimen\n",
      "0      0  Overly complicated Being both a U.S. history b...\n",
      "1      0  Terrible Disappointment -- parts don't fit My ...\n",
      "2      0  Didn't hold up.....very disappointed I bought ...\n",
      "3      0  gene hates jezebel i love JLJ but this compila...\n",
      "4      0  Nice toy but ... My six-year-old loves space a...\n",
      "\n",
      "\n",
      "   Label                                           Sentimen\n",
      "0      0  My wife and I used to love Arriba's, til recen...\n",
      "1      0  You get what you pay for.  The food is inexpen...\n",
      "2      0  Unfortunately, yesterday's visit was one of th...\n",
      "3      0  I went into the Scottsdale location yesterday....\n",
      "4      0  It takes a lot for me to write a review and bl...\n"
     ]
    }
   ],
   "source": [
    "print(data_test_amazon.head())\n",
    "print(\"\\n\")\n",
    "print(data_test_yelp.head())"
   ]
  },
  {
   "cell_type": "code",
   "execution_count": 5,
   "metadata": {},
   "outputs": [
    {
     "name": "stdout",
     "output_type": "stream",
     "text": [
      "   Label                                           Sentimen\n",
      "0      0  Story of a man who has unnatural feelings for ...\n",
      "1      0  Airport '77 starts as a brand new luxury 747 p...\n",
      "2      0  This film lacked something I couldn't put my f...\n",
      "3      0  Sorry everyone,,, I know this is supposed to b...\n",
      "4      0  When I was little my parents took me along to ...\n",
      "\n",
      "\n",
      "   Label                                           Sentimen\n",
      "0      0  Once again Mr. Costner has dragged out a movie...\n",
      "1      0  First of all, I would like to say that I am a ...\n",
      "2      0  I'm a huge fan of both Emily Watson (Breaking ...\n",
      "3      0  I was pulled into this movie early on, much to...\n",
      "4      0  This tale of the upper-classes getting their c...\n"
     ]
    }
   ],
   "source": [
    "print(data_train_imdb.head())\n",
    "print(\"\\n\")\n",
    "print(data_test_imdb.head())"
   ]
  },
  {
   "cell_type": "markdown",
   "metadata": {},
   "source": [
    "# Preprocessing "
   ]
  },
  {
   "cell_type": "code",
   "execution_count": 6,
   "metadata": {},
   "outputs": [],
   "source": [
    "data_Preprocessing_Amazon_Train = data_train_amazon.Sentimen.astype(str)\n",
    "data_Preprocessing_Amazon_Train = data_Preprocessing_Amazon_Train.apply(lambda x: x.lower())\n",
    "data_Preprocessing_Amazon_Train = data_Preprocessing_Amazon_Train.apply(lambda x: re.sub(r\"\\d\", \"\", x))   \n",
    "data_Preprocessing_Amazon_Train = data_Preprocessing_Amazon_Train.apply(\n",
    "                                    lambda x: x.translate(str.maketrans('','',string.punctuation)))  \n",
    "data_Preprocessing_Amazon_Train = data_Preprocessing_Amazon_Train.apply(\n",
    "                                    lambda x: \" \".join(re.findall(\"[a-zA-Z]+\", x)))\n",
    "\n",
    "data_Preprocessing_Yelp_Train = data_train_yelp.Sentimen.astype(str)\n",
    "data_Preprocessing_Yelp_Train = data_Preprocessing_Yelp_Train.apply(lambda x: x.lower())\n",
    "data_Preprocessing_Yelp_Train = data_Preprocessing_Yelp_Train.apply(lambda x: re.sub(r\"\\d\", \"\", x))   \n",
    "data_Preprocessing_Yelp_Train = data_Preprocessing_Yelp_Train.apply(\n",
    "                                    lambda x: x.translate(str.maketrans('','',string.punctuation)))  \n",
    "data_Preprocessing_Yelp_Train = data_Preprocessing_Yelp_Train.apply(\n",
    "                                    lambda x: \" \".join(re.findall(\"[a-zA-Z]+\", x)))\n",
    "\n",
    "data_Preprocessing_IMDB_Train = data_train_imdb.Sentimen.astype(str)\n",
    "data_Preprocessing_IMDB_Train = data_Preprocessing_IMDB_Train.apply(lambda x: x.lower())\n",
    "data_Preprocessing_IMDB_Train = data_Preprocessing_IMDB_Train.apply(lambda x: re.sub(r\"\\d\", \"\", x))   \n",
    "data_Preprocessing_IMDB_Train = data_Preprocessing_IMDB_Train.apply(\n",
    "                                    lambda x: x.translate(str.maketrans('','',string.punctuation)))  \n",
    "data_Preprocessing_IMDB_Train = data_Preprocessing_IMDB_Train.apply(\n",
    "                                    lambda x: \" \".join(re.findall(\"[a-zA-Z]+\", x)))"
   ]
  },
  {
   "cell_type": "code",
   "execution_count": null,
   "metadata": {},
   "outputs": [],
   "source": []
  },
  {
   "cell_type": "code",
   "execution_count": 7,
   "metadata": {},
   "outputs": [
    {
     "data": {
      "text/plain": [
       "0    buyer beware this is a selfpublished book and ...\n",
       "1    the worst a complete waste of time typographic...\n",
       "2    oh please i guess you have to be a romance nov...\n",
       "3    awful beyond belief i feel i have to write to ...\n",
       "4    another abysmal digital copy rather than scrat...\n",
       "Name: Sentimen, dtype: object"
      ]
     },
     "execution_count": 7,
     "metadata": {},
     "output_type": "execute_result"
    }
   ],
   "source": [
    "data_Preprocessing_Amazon_Train.head()"
   ]
  },
  {
   "cell_type": "code",
   "execution_count": 8,
   "metadata": {},
   "outputs": [
    {
     "data": {
      "text/plain": [
       "0    i dont know what dr goldberg was like before m...\n",
       "1    im writing this review to give you a heads up ...\n",
       "2    owning a driving range inside the city limits ...\n",
       "3    this place is absolute garbage half of the tee...\n",
       "4    used to go there for tires brakes etc their pr...\n",
       "Name: Sentimen, dtype: object"
      ]
     },
     "execution_count": 8,
     "metadata": {},
     "output_type": "execute_result"
    }
   ],
   "source": [
    "data_Preprocessing_Yelp_Train.head()"
   ]
  },
  {
   "cell_type": "code",
   "execution_count": 9,
   "metadata": {},
   "outputs": [
    {
     "data": {
      "text/plain": [
       "0    story of a man who has unnatural feelings for ...\n",
       "1    airport starts as a brand new luxury plane is ...\n",
       "2    this film lacked something i couldnt put my fi...\n",
       "3    sorry everyone i know this is supposed to be a...\n",
       "4    when i was little my parents took me along to ...\n",
       "Name: Sentimen, dtype: object"
      ]
     },
     "execution_count": 9,
     "metadata": {},
     "output_type": "execute_result"
    }
   ],
   "source": [
    "data_Preprocessing_IMDB_Train.head()"
   ]
  },
  {
   "cell_type": "code",
   "execution_count": 10,
   "metadata": {},
   "outputs": [],
   "source": [
    "data_Preprocessing_Amazon_Test = data_test_amazon.Sentimen.astype(str)\n",
    "data_Preprocessing_Amazon_Test = data_Preprocessing_Amazon_Test.apply(lambda x: x.lower())\n",
    "data_Preprocessing_Amazon_Test = data_Preprocessing_Amazon_Test.apply(lambda x: re.sub(r\"\\d\", \"\", x))   \n",
    "data_Preprocessing_Amazon_Test = data_Preprocessing_Amazon_Test.apply(lambda x: x.translate(\n",
    "                                str.maketrans('','',string.punctuation)))  \n",
    "data_Preprocessing_Amazon_Test = data_Preprocessing_Amazon_Test.apply(lambda x: \" \".join(\n",
    "                                re.findall(\"[a-zA-Z]+\", x)))\n",
    "\n",
    "data_Preprocessing_Yelp_Test = data_test_yelp.Sentimen.astype(str)\n",
    "data_Preprocessing_Yelp_Test = data_Preprocessing_Yelp_Test.apply(lambda x: x.lower())\n",
    "data_Preprocessing_Yelp_Test = data_Preprocessing_Yelp_Test.apply(lambda x: re.sub(r\"\\d\", \"\", x))   \n",
    "data_Preprocessing_Yelp_Test = data_Preprocessing_Yelp_Test.apply(lambda x: x.translate(\n",
    "                                str.maketrans('','',string.punctuation)))  \n",
    "data_Preprocessing_Yelp_Test = data_Preprocessing_Yelp_Test.apply(lambda x: \" \".join(\n",
    "                                re.findall(\"[a-zA-Z]+\", x)))\n",
    "\n",
    "data_Preprocessing_IMDB_Test = data_test_imdb.Sentimen.astype(str)\n",
    "data_Preprocessing_IMDB_Test = data_Preprocessing_IMDB_Test.apply(lambda x: x.lower())\n",
    "data_Preprocessing_IMDB_Test = data_Preprocessing_IMDB_Test.apply(lambda x: re.sub(r\"\\d\", \"\", x))   \n",
    "data_Preprocessing_IMDB_Test = data_Preprocessing_IMDB_Test.apply(lambda x: x.translate(\n",
    "                                str.maketrans('','',string.punctuation)))  \n",
    "data_Preprocessing_IMDB_Test = data_Preprocessing_IMDB_Test.apply(lambda x: \" \".join(\n",
    "                                re.findall(\"[a-zA-Z]+\", x)))"
   ]
  },
  {
   "cell_type": "code",
   "execution_count": 11,
   "metadata": {},
   "outputs": [
    {
     "data": {
      "text/plain": [
       "0    overly complicated being both a us history buf...\n",
       "1    terrible disappointment parts dont fit my son ...\n",
       "2    didnt hold upvery disappointed i bought this o...\n",
       "3    gene hates jezebel i love jlj but this compila...\n",
       "4    nice toy but my sixyearold loves space and to ...\n",
       "Name: Sentimen, dtype: object"
      ]
     },
     "execution_count": 11,
     "metadata": {},
     "output_type": "execute_result"
    }
   ],
   "source": [
    "data_Preprocessing_Amazon_Test.head()"
   ]
  },
  {
   "cell_type": "code",
   "execution_count": 12,
   "metadata": {},
   "outputs": [
    {
     "data": {
      "text/plain": [
       "0    my wife and i used to love arribas til recentl...\n",
       "1    you get what you pay for the food is inexpensi...\n",
       "2    unfortunately yesterdays visit was one of the ...\n",
       "3    i went into the scottsdale location yesterday ...\n",
       "4    it takes a lot for me to write a review and bl...\n",
       "Name: Sentimen, dtype: object"
      ]
     },
     "execution_count": 12,
     "metadata": {},
     "output_type": "execute_result"
    }
   ],
   "source": [
    "data_Preprocessing_Yelp_Test.head()"
   ]
  },
  {
   "cell_type": "code",
   "execution_count": 13,
   "metadata": {},
   "outputs": [
    {
     "data": {
      "text/plain": [
       "0    once again mr costner has dragged out a movie ...\n",
       "1    first of all i would like to say that i am a f...\n",
       "2    im a huge fan of both emily watson breaking th...\n",
       "3    i was pulled into this movie early on much to ...\n",
       "4    this tale of the upperclasses getting their co...\n",
       "Name: Sentimen, dtype: object"
      ]
     },
     "execution_count": 13,
     "metadata": {},
     "output_type": "execute_result"
    }
   ],
   "source": [
    "data_Preprocessing_IMDB_Test.head()"
   ]
  },
  {
   "cell_type": "code",
   "execution_count": 14,
   "metadata": {},
   "outputs": [],
   "source": [
    "Clean_Amazon_Sentiment_Train = data_Preprocessing_Amazon_Train\n",
    "Clean_Yelp_Sentiment_Train = data_Preprocessing_Yelp_Train\n",
    "Clean_IMDB_Sentiment_Train = data_Preprocessing_IMDB_Train\n",
    "Label_Amazon_Train = data_train_amazon['Label']\n",
    "Label_Yelp_Train = data_train_yelp['Label']\n",
    "Label_IMDB_Train = data_train_imdb['Label']\n",
    "\n",
    "Clean_Amazon_Sentiment_Test = data_Preprocessing_Amazon_Test\n",
    "Clean_Yelp_Sentiment_Test = data_Preprocessing_Yelp_Test\n",
    "Clean_IMDB_Sentiment_Test = data_Preprocessing_IMDB_Test\n",
    "Label_Amazon_Test = data_test_amazon['Label']\n",
    "Label_Yelp_Test = data_test_yelp['Label']\n",
    "Label_IMDB_Test = data_test_imdb['Label']"
   ]
  },
  {
   "cell_type": "markdown",
   "metadata": {},
   "source": [
    "# N-Gram (bigram dan trigram)"
   ]
  },
  {
   "cell_type": "code",
   "execution_count": 15,
   "metadata": {},
   "outputs": [],
   "source": [
    "def bigram_trigram(Clean_Sentiment) :\n",
    "    iterator = 0\n",
    "    Vocabulary = []\n",
    "    ngram_result = []\n",
    "    while iterator < len(Clean_Sentiment) :\n",
    "        ngram = 2\n",
    "        sentence = Clean_Sentiment[iterator]\n",
    "        vocab = list(ngrams(sentence, ngram))\n",
    "        temp = vocab\n",
    "\n",
    "        iterator2 = 0\n",
    "        while iterator2 < len (vocab):\n",
    "            if(vocab[iterator2] not in Vocabulary) :\n",
    "                Vocabulary.append(vocab[iterator2])\n",
    "            iterator2 = iterator2 + 1\n",
    "\n",
    "        ngram = 3\n",
    "        vocab = list(ngrams(sentence, ngram))\n",
    "        temp = temp + vocab\n",
    "        ngram_result.append(temp)\n",
    "        iterator2 = 0\n",
    "        while iterator2 < len (vocab):\n",
    "            if(vocab[iterator2] not in Vocabulary) :\n",
    "                Vocabulary.append(vocab[iterator2])\n",
    "            iterator2 = iterator2 + 1\n",
    "        iterator = iterator + 1\n",
    "    \n",
    "    return ngram_result,Vocabulary\n"
   ]
  },
  {
   "cell_type": "code",
   "execution_count": 16,
   "metadata": {},
   "outputs": [],
   "source": [
    "ngram_amazon_train, Vocabulary_Amazon_Train = bigram_trigram(Clean_Amazon_Sentiment_Train)"
   ]
  },
  {
   "cell_type": "code",
   "execution_count": 17,
   "metadata": {},
   "outputs": [],
   "source": [
    "ngram_yelp_train, Vocabulary_Yelp_Train = bigram_trigram(Clean_Yelp_Sentiment_Train)"
   ]
  },
  {
   "cell_type": "code",
   "execution_count": 18,
   "metadata": {},
   "outputs": [],
   "source": [
    "ngram_amazon_test, Vocabulary_Amazon_Test = bigram_trigram(Clean_Amazon_Sentiment_Test)"
   ]
  },
  {
   "cell_type": "code",
   "execution_count": 19,
   "metadata": {},
   "outputs": [],
   "source": [
    "ngram_yelp_test, Vocabulary_Yelp_Test = bigram_trigram(Clean_Yelp_Sentiment_Test)"
   ]
  },
  {
   "cell_type": "code",
   "execution_count": 20,
   "metadata": {},
   "outputs": [],
   "source": [
    "ngram_imdb_train, Vocabulary_IMDB_Train = bigram_trigram(Clean_IMDB_Sentiment_Train)"
   ]
  },
  {
   "cell_type": "code",
   "execution_count": 21,
   "metadata": {},
   "outputs": [],
   "source": [
    "ngram_imdb_test, Vocabulary_IMDB_Test = bigram_trigram(Clean_IMDB_Sentiment_Test)"
   ]
  },
  {
   "cell_type": "markdown",
   "metadata": {},
   "source": [
    "# Me inisialisasi jumlah frekuensi Gram di Vocabulary"
   ]
  },
  {
   "cell_type": "code",
   "execution_count": 22,
   "metadata": {},
   "outputs": [],
   "source": [
    "def dictionaryInitialize(Clean_Sentiment, Vocabulary, ngram, jenisdata) :\n",
    "    wordDictionaryCount = []\n",
    "    iterator = 0\n",
    "    while iterator < len(Clean_Sentiment):\n",
    "        wordDictionaryCount.append(dict.fromkeys(Vocabulary , 0))\n",
    "        iterator = iterator + 1\n",
    "    \n",
    "    iterator = 0\n",
    "    \n",
    "    while iterator < len(Clean_Sentiment) :\n",
    "        for gram in ngram[iterator] :\n",
    "            if (jenisdata == 'test'or jenisdata == 'transfer_learning')and gram not in Vocabulary :\n",
    "                continue\n",
    "            wordDictionaryCount[iterator][gram] += 1\n",
    "        iterator = iterator + 1\n",
    "    \n",
    "    return wordDictionaryCount"
   ]
  },
  {
   "cell_type": "code",
   "execution_count": 23,
   "metadata": {},
   "outputs": [],
   "source": [
    "WordDictionaryCount_Amazon_Train = dictionaryInitialize(Clean_Amazon_Sentiment_Train, Vocabulary_Amazon_Train, ngram_amazon_train,'train')"
   ]
  },
  {
   "cell_type": "code",
   "execution_count": 24,
   "metadata": {},
   "outputs": [],
   "source": [
    "WordDictionaryCount_Yelp_Train = dictionaryInitialize(Clean_Yelp_Sentiment_Train, Vocabulary_Yelp_Train, ngram_yelp_train,'train')"
   ]
  },
  {
   "cell_type": "code",
   "execution_count": 25,
   "metadata": {},
   "outputs": [],
   "source": [
    "WordDictionaryCount_IMDB_Train = dictionaryInitialize(Clean_IMDB_Sentiment_Train, Vocabulary_IMDB_Train, ngram_imdb_train,'train')"
   ]
  },
  {
   "cell_type": "code",
   "execution_count": 26,
   "metadata": {},
   "outputs": [],
   "source": [
    "WordDictionaryCount_Amazon_Test = dictionaryInitialize(Clean_Amazon_Sentiment_Test, Vocabulary_Amazon_Train, ngram_amazon_test,'test')"
   ]
  },
  {
   "cell_type": "code",
   "execution_count": 27,
   "metadata": {},
   "outputs": [],
   "source": [
    "WordDictionaryCount_Yelp_Test = dictionaryInitialize(Clean_Yelp_Sentiment_Test, Vocabulary_Yelp_Train, ngram_yelp_test,'test')"
   ]
  },
  {
   "cell_type": "code",
   "execution_count": 28,
   "metadata": {},
   "outputs": [],
   "source": [
    "WordDictionaryCount_IMDB_Test = dictionaryInitialize(Clean_IMDB_Sentiment_Test, Vocabulary_IMDB_Train, ngram_imdb_test,'test')"
   ]
  },
  {
   "cell_type": "code",
   "execution_count": 29,
   "metadata": {},
   "outputs": [
    {
     "data": {
      "text/html": [
       "<div>\n",
       "<style scoped>\n",
       "    .dataframe tbody tr th:only-of-type {\n",
       "        vertical-align: middle;\n",
       "    }\n",
       "\n",
       "    .dataframe tbody tr th {\n",
       "        vertical-align: top;\n",
       "    }\n",
       "\n",
       "    .dataframe thead th {\n",
       "        text-align: right;\n",
       "    }\n",
       "</style>\n",
       "<table border=\"1\" class=\"dataframe\">\n",
       "  <thead>\n",
       "    <tr style=\"text-align: right;\">\n",
       "      <th></th>\n",
       "      <th>(b, u)</th>\n",
       "      <th>(u, y)</th>\n",
       "      <th>(y, e)</th>\n",
       "      <th>(e, r)</th>\n",
       "      <th>(r,  )</th>\n",
       "      <th>( , b)</th>\n",
       "      <th>(b, e)</th>\n",
       "      <th>(e, w)</th>\n",
       "      <th>(w, a)</th>\n",
       "      <th>(a, r)</th>\n",
       "      <th>...</th>\n",
       "      <th>(k, o, y)</th>\n",
       "      <th>(t, y, n)</th>\n",
       "      <th>(w, s, y)</th>\n",
       "      <th>(i, u, n)</th>\n",
       "      <th>(b, y, p)</th>\n",
       "      <th>(b, u, o)</th>\n",
       "      <th>( , u, e)</th>\n",
       "      <th>(u, e, m)</th>\n",
       "      <th>(a, b, w)</th>\n",
       "      <th>(m, u,  )</th>\n",
       "    </tr>\n",
       "  </thead>\n",
       "  <tbody>\n",
       "    <tr>\n",
       "      <td>0</td>\n",
       "      <td>1</td>\n",
       "      <td>1</td>\n",
       "      <td>1</td>\n",
       "      <td>11</td>\n",
       "      <td>9</td>\n",
       "      <td>13</td>\n",
       "      <td>5</td>\n",
       "      <td>3</td>\n",
       "      <td>4</td>\n",
       "      <td>7</td>\n",
       "      <td>...</td>\n",
       "      <td>0</td>\n",
       "      <td>0</td>\n",
       "      <td>0</td>\n",
       "      <td>0</td>\n",
       "      <td>0</td>\n",
       "      <td>0</td>\n",
       "      <td>0</td>\n",
       "      <td>0</td>\n",
       "      <td>0</td>\n",
       "      <td>0</td>\n",
       "    </tr>\n",
       "    <tr>\n",
       "      <td>1</td>\n",
       "      <td>0</td>\n",
       "      <td>0</td>\n",
       "      <td>0</td>\n",
       "      <td>2</td>\n",
       "      <td>5</td>\n",
       "      <td>1</td>\n",
       "      <td>0</td>\n",
       "      <td>0</td>\n",
       "      <td>1</td>\n",
       "      <td>2</td>\n",
       "      <td>...</td>\n",
       "      <td>0</td>\n",
       "      <td>0</td>\n",
       "      <td>0</td>\n",
       "      <td>0</td>\n",
       "      <td>0</td>\n",
       "      <td>0</td>\n",
       "      <td>0</td>\n",
       "      <td>0</td>\n",
       "      <td>0</td>\n",
       "      <td>0</td>\n",
       "    </tr>\n",
       "  </tbody>\n",
       "</table>\n",
       "<p>2 rows × 8181 columns</p>\n",
       "</div>"
      ],
      "text/plain": [
       "   (b, u)  (u, y)  (y, e)  (e, r)  (r,  )  ( , b)  (b, e)  (e, w)  (w, a)  \\\n",
       "0       1       1       1      11       9      13       5       3       4   \n",
       "1       0       0       0       2       5       1       0       0       1   \n",
       "\n",
       "   (a, r)  ...  (k, o, y)  (t, y, n)  (w, s, y)  (i, u, n)  (b, y, p)  \\\n",
       "0       7  ...          0          0          0          0          0   \n",
       "1       2  ...          0          0          0          0          0   \n",
       "\n",
       "   (b, u, o)  ( , u, e)  (u, e, m)  (a, b, w)  (m, u,  )  \n",
       "0          0          0          0          0          0  \n",
       "1          0          0          0          0          0  \n",
       "\n",
       "[2 rows x 8181 columns]"
      ]
     },
     "execution_count": 29,
     "metadata": {},
     "output_type": "execute_result"
    }
   ],
   "source": [
    "pd.DataFrame([WordDictionaryCount_Amazon_Train[0],WordDictionaryCount_Amazon_Train[1]])"
   ]
  },
  {
   "cell_type": "code",
   "execution_count": 30,
   "metadata": {},
   "outputs": [
    {
     "data": {
      "text/html": [
       "<div>\n",
       "<style scoped>\n",
       "    .dataframe tbody tr th:only-of-type {\n",
       "        vertical-align: middle;\n",
       "    }\n",
       "\n",
       "    .dataframe tbody tr th {\n",
       "        vertical-align: top;\n",
       "    }\n",
       "\n",
       "    .dataframe thead th {\n",
       "        text-align: right;\n",
       "    }\n",
       "</style>\n",
       "<table border=\"1\" class=\"dataframe\">\n",
       "  <thead>\n",
       "    <tr style=\"text-align: right;\">\n",
       "      <th></th>\n",
       "      <th>(i,  )</th>\n",
       "      <th>( , d)</th>\n",
       "      <th>(d, o)</th>\n",
       "      <th>(o, n)</th>\n",
       "      <th>(n, t)</th>\n",
       "      <th>(t,  )</th>\n",
       "      <th>( , k)</th>\n",
       "      <th>(k, n)</th>\n",
       "      <th>(n, o)</th>\n",
       "      <th>(o, w)</th>\n",
       "      <th>...</th>\n",
       "      <th>(w, m, o)</th>\n",
       "      <th>(i, n, x)</th>\n",
       "      <th>(d, s, z)</th>\n",
       "      <th>(s, z, i)</th>\n",
       "      <th>(r, f, f)</th>\n",
       "      <th>(n, w,  )</th>\n",
       "      <th>(s, n, q)</th>\n",
       "      <th>(u, b, g)</th>\n",
       "      <th>(b, g, u)</th>\n",
       "      <th>(y, c, r)</th>\n",
       "    </tr>\n",
       "  </thead>\n",
       "  <tbody>\n",
       "    <tr>\n",
       "      <td>0</td>\n",
       "      <td>4</td>\n",
       "      <td>11</td>\n",
       "      <td>6</td>\n",
       "      <td>13</td>\n",
       "      <td>7</td>\n",
       "      <td>19</td>\n",
       "      <td>1</td>\n",
       "      <td>1</td>\n",
       "      <td>5</td>\n",
       "      <td>1</td>\n",
       "      <td>...</td>\n",
       "      <td>0</td>\n",
       "      <td>0</td>\n",
       "      <td>0</td>\n",
       "      <td>0</td>\n",
       "      <td>0</td>\n",
       "      <td>0</td>\n",
       "      <td>0</td>\n",
       "      <td>0</td>\n",
       "      <td>0</td>\n",
       "      <td>0</td>\n",
       "    </tr>\n",
       "    <tr>\n",
       "      <td>1</td>\n",
       "      <td>10</td>\n",
       "      <td>7</td>\n",
       "      <td>6</td>\n",
       "      <td>10</td>\n",
       "      <td>13</td>\n",
       "      <td>21</td>\n",
       "      <td>1</td>\n",
       "      <td>1</td>\n",
       "      <td>1</td>\n",
       "      <td>1</td>\n",
       "      <td>...</td>\n",
       "      <td>0</td>\n",
       "      <td>0</td>\n",
       "      <td>0</td>\n",
       "      <td>0</td>\n",
       "      <td>0</td>\n",
       "      <td>0</td>\n",
       "      <td>0</td>\n",
       "      <td>0</td>\n",
       "      <td>0</td>\n",
       "      <td>0</td>\n",
       "    </tr>\n",
       "  </tbody>\n",
       "</table>\n",
       "<p>2 rows × 8197 columns</p>\n",
       "</div>"
      ],
      "text/plain": [
       "   (i,  )  ( , d)  (d, o)  (o, n)  (n, t)  (t,  )  ( , k)  (k, n)  (n, o)  \\\n",
       "0       4      11       6      13       7      19       1       1       5   \n",
       "1      10       7       6      10      13      21       1       1       1   \n",
       "\n",
       "   (o, w)  ...  (w, m, o)  (i, n, x)  (d, s, z)  (s, z, i)  (r, f, f)  \\\n",
       "0       1  ...          0          0          0          0          0   \n",
       "1       1  ...          0          0          0          0          0   \n",
       "\n",
       "   (n, w,  )  (s, n, q)  (u, b, g)  (b, g, u)  (y, c, r)  \n",
       "0          0          0          0          0          0  \n",
       "1          0          0          0          0          0  \n",
       "\n",
       "[2 rows x 8197 columns]"
      ]
     },
     "execution_count": 30,
     "metadata": {},
     "output_type": "execute_result"
    }
   ],
   "source": [
    "pd.DataFrame([WordDictionaryCount_Yelp_Train[0],WordDictionaryCount_Yelp_Train[1]])"
   ]
  },
  {
   "cell_type": "code",
   "execution_count": 31,
   "metadata": {},
   "outputs": [
    {
     "data": {
      "text/html": [
       "<div>\n",
       "<style scoped>\n",
       "    .dataframe tbody tr th:only-of-type {\n",
       "        vertical-align: middle;\n",
       "    }\n",
       "\n",
       "    .dataframe tbody tr th {\n",
       "        vertical-align: top;\n",
       "    }\n",
       "\n",
       "    .dataframe thead th {\n",
       "        text-align: right;\n",
       "    }\n",
       "</style>\n",
       "<table border=\"1\" class=\"dataframe\">\n",
       "  <thead>\n",
       "    <tr style=\"text-align: right;\">\n",
       "      <th></th>\n",
       "      <th>(s, t)</th>\n",
       "      <th>(t, o)</th>\n",
       "      <th>(o, r)</th>\n",
       "      <th>(r, y)</th>\n",
       "      <th>(y,  )</th>\n",
       "      <th>( , o)</th>\n",
       "      <th>(o, f)</th>\n",
       "      <th>(f,  )</th>\n",
       "      <th>( , a)</th>\n",
       "      <th>(a,  )</th>\n",
       "      <th>...</th>\n",
       "      <th>(k, b, l)</th>\n",
       "      <th>(d, m, y)</th>\n",
       "      <th>(p, s, n)</th>\n",
       "      <th>(g, p, i)</th>\n",
       "      <th>( , l, w)</th>\n",
       "      <th>(w, r,  )</th>\n",
       "      <th>(t, t, t)</th>\n",
       "      <th>(u, a, x)</th>\n",
       "      <th>(h, b, y)</th>\n",
       "      <th>(w, o, f)</th>\n",
       "    </tr>\n",
       "  </thead>\n",
       "  <tbody>\n",
       "    <tr>\n",
       "      <td>0</td>\n",
       "      <td>7</td>\n",
       "      <td>5</td>\n",
       "      <td>6</td>\n",
       "      <td>2</td>\n",
       "      <td>10</td>\n",
       "      <td>9</td>\n",
       "      <td>5</td>\n",
       "      <td>5</td>\n",
       "      <td>12</td>\n",
       "      <td>9</td>\n",
       "      <td>...</td>\n",
       "      <td>0</td>\n",
       "      <td>0</td>\n",
       "      <td>0</td>\n",
       "      <td>0</td>\n",
       "      <td>0</td>\n",
       "      <td>0</td>\n",
       "      <td>0</td>\n",
       "      <td>0</td>\n",
       "      <td>0</td>\n",
       "      <td>0</td>\n",
       "    </tr>\n",
       "    <tr>\n",
       "      <td>1</td>\n",
       "      <td>25</td>\n",
       "      <td>19</td>\n",
       "      <td>47</td>\n",
       "      <td>5</td>\n",
       "      <td>33</td>\n",
       "      <td>65</td>\n",
       "      <td>25</td>\n",
       "      <td>29</td>\n",
       "      <td>81</td>\n",
       "      <td>28</td>\n",
       "      <td>...</td>\n",
       "      <td>0</td>\n",
       "      <td>0</td>\n",
       "      <td>0</td>\n",
       "      <td>0</td>\n",
       "      <td>0</td>\n",
       "      <td>0</td>\n",
       "      <td>0</td>\n",
       "      <td>0</td>\n",
       "      <td>0</td>\n",
       "      <td>0</td>\n",
       "    </tr>\n",
       "  </tbody>\n",
       "</table>\n",
       "<p>2 rows × 9284 columns</p>\n",
       "</div>"
      ],
      "text/plain": [
       "   (s, t)  (t, o)  (o, r)  (r, y)  (y,  )  ( , o)  (o, f)  (f,  )  ( , a)  \\\n",
       "0       7       5       6       2      10       9       5       5      12   \n",
       "1      25      19      47       5      33      65      25      29      81   \n",
       "\n",
       "   (a,  )  ...  (k, b, l)  (d, m, y)  (p, s, n)  (g, p, i)  ( , l, w)  \\\n",
       "0       9  ...          0          0          0          0          0   \n",
       "1      28  ...          0          0          0          0          0   \n",
       "\n",
       "   (w, r,  )  (t, t, t)  (u, a, x)  (h, b, y)  (w, o, f)  \n",
       "0          0          0          0          0          0  \n",
       "1          0          0          0          0          0  \n",
       "\n",
       "[2 rows x 9284 columns]"
      ]
     },
     "execution_count": 31,
     "metadata": {},
     "output_type": "execute_result"
    }
   ],
   "source": [
    "pd.DataFrame([WordDictionaryCount_IMDB_Train[0],WordDictionaryCount_IMDB_Train[1]])"
   ]
  },
  {
   "cell_type": "markdown",
   "metadata": {},
   "source": [
    "## Menghitung nilai TF pada setiap data "
   ]
  },
  {
   "cell_type": "code",
   "execution_count": 32,
   "metadata": {},
   "outputs": [],
   "source": [
    "def computeFrequency(wordDict, ngram):\n",
    "    freqword = {}\n",
    "    ngramLength = len(ngram)\n",
    "    for word, count in wordDict.items():\n",
    "        freqword[word] = count\n",
    "    return freqword"
   ]
  },
  {
   "cell_type": "code",
   "execution_count": 33,
   "metadata": {},
   "outputs": [],
   "source": [
    "def getFrequencyTermPerData(wordDictionary, ngram) :\n",
    "    CountFrequency = []\n",
    "    iterator = 0\n",
    "    while iterator < len(ngram):\n",
    "        CountFrequency.append(computeFrequency(wordDictionary[iterator], ngram[iterator]))\n",
    "        iterator = iterator + 1\n",
    "    \n",
    "    return CountFrequency"
   ]
  },
  {
   "cell_type": "code",
   "execution_count": 34,
   "metadata": {},
   "outputs": [],
   "source": [
    "CountFrequency_Sentimen_Amazon_Train = getFrequencyTermPerData(WordDictionaryCount_Amazon_Train, ngram_amazon_train)\n",
    "CountFrequency_Sentimen_Yelp_Train = getFrequencyTermPerData(WordDictionaryCount_Yelp_Train, ngram_yelp_train)\n",
    "CountFrequency_Sentimen_IMDB_Train = getFrequencyTermPerData(WordDictionaryCount_IMDB_Train, ngram_imdb_train)\n",
    "CountFrequency_Sentimen_Amazon_Test = getFrequencyTermPerData(WordDictionaryCount_Amazon_Test, ngram_amazon_test)\n",
    "CountFrequency_Sentimen_Yelp_Test = getFrequencyTermPerData(WordDictionaryCount_Yelp_Test, ngram_yelp_test)\n",
    "CountFrequency_Sentimen_IMDB_Test = getFrequencyTermPerData(WordDictionaryCount_IMDB_Test, ngram_imdb_test)"
   ]
  },
  {
   "cell_type": "code",
   "execution_count": 35,
   "metadata": {},
   "outputs": [
    {
     "name": "stdout",
     "output_type": "stream",
     "text": [
      "{('b', 'u'): 1, ('u', 'y'): 1, ('y', 'e'): 1, ('e', 'r'): 11, ('r', ' '): 9, (' ', 'b'): 13, ('b', 'e'): 5, ('e', 'w'): 3, ('w', 'a'): 4, ('a', 'r'): 7, ('r', 'e'): 9, ('e', ' '): 20, (' ', 't'): 17, ('t', 'h'): 12, ('h', 'i'): 5, ('i', 's'): 6, ('s', ' '): 17, (' ', 'i'): 13, (' ', 'a'): 22, ('a', ' '): 9, (' ', 's'): 8, ('s', 'e'): 5, ('e', 'l'): 5, ('l', 'f'): 2, ('f', 'p'): 1, ('p', 'u'): 1, ('u', 'b'): 1, ('b', 'l'): 1, ('l', 'i'): 2, ('s', 'h'): 1, ('h', 'e'): 7, ('e', 'd'): 2, ('d', ' '): 15, ('b', 'o'): 5, ('o', 'o'): 6, ('o', 'k'): 6, ('k', ' '): 5, ('a', 'n'): 13, ('n', 'd'): 10, ('i', 'f'): 1, ('f', ' '): 6, (' ', 'y'): 2, ('y', 'o'): 3, ('o', 'u'): 3, ('u', ' '): 2, (' ', 'w'): 8, ('n', 't'): 7, ('t', ' '): 10, ('t', 'o'): 7, ('o', ' '): 7, (' ', 'k'): 4, ('k', 'n'): 1, ('n', 'o'): 3, ('o', 'w'): 1, ('w', ' '): 2, ('w', 'h'): 2, ('h', 'y'): 2, ('y', 'r'): 1, ('e', 'a'): 4, ('a', 'd'): 7, (' ', 'f'): 7, ('f', 'e'): 2, (' ', 'p'): 4, ('p', 'a'): 2, ('r', 'a'): 3, ('a', 'g'): 2, ('g', 'r'): 2, ('a', 'p'): 3, ('p', 'h'): 1, ('h', 's'): 1, ('h', 'o'): 2, ('o', 's'): 2, ('s', 't'): 7, ('t', 'a'): 2, (' ', 'r'): 3, ('e', 'v'): 5, ('v', 'i'): 1, ('i', 'e'): 5, ('w', 's'): 1, (' ', 'm'): 8, ('m', 'u'): 1, ('u', 's'): 1, (' ', 'h'): 6, ('h', 'a'): 4, ('a', 'v'): 1, ('v', 'e'): 5, ('e', 'e'): 1, ('e', 'n'): 10, ('n', ' '): 10, ('w', 'r'): 1, ('r', 'i'): 4, ('i', 't'): 7, ('t', 't'): 1, ('t', 'e'): 7, ('b', 'y'): 2, ('y', ' '): 8, ('m', 's'): 2, ('d', 'd'): 2, ('d', 'o'): 2, ('o', 'n'): 9, ('n', 's'): 1, ('f', 'a'): 3, ('a', 'm'): 3, ('m', 'i'): 1, ('i', 'l'): 2, ('l', 'y'): 2, ('f', 'r'): 3, ('d', 's'): 1, ('s', 'o'): 3, ('o', 'r'): 2, ('p', 'e'): 3, ('r', 'h'): 1, ('p', 's'): 1, ('r', 's'): 2, ('i', ' '): 5, (' ', 'c'): 4, ('c', 'a'): 3, ('i', 'm'): 1, ('m', 'a'): 3, ('g', 'i'): 2, ('i', 'n'): 13, ('n', 'e'): 6, ('n', 'y'): 2, ('d', 'i'): 2, ('n', 'g'): 6, ('g', ' '): 4, ('o', 'l'): 1, ('l', 'e'): 2, ('s', 'p'): 1, (' ', 'e'): 4, ('n', 'i'): 2, ('w', 'i'): 1, ('h', ' '): 3, ('w', 'e'): 2, ('y', 's'): 1, ('i', 'c'): 1, ('c', 's'): 1, ('b', 'i'): 2, ('t', 's'): 1, ('p', 'i'): 1, ('e', 'c'): 1, ('c', 'e'): 1, ('e', 's'): 4, (' ', 'o'): 8, ('o', 'f'): 5, ('o', 't'): 1, ('m', 'o'): 3, (' ', 'd'): 1, ('d', 'e'): 2, ('e', 'f'): 1, ('f', 'i'): 1, ('b', 'a'): 1, ('u', 'g'): 1, ('g', 'h'): 1, ('o', 'm'): 3, ('m', 'e'): 2, ('k', 'i'): 4, ('w', 'o'): 1, ('c', 'o'): 1, ('a', 'z'): 1, ('z', 'o'): 1, ('l', 'l'): 2, ('l', 's'): 1, ('a', 'y'): 4, ('y', 'b'): 1, ('f', 'f'): 1, ('e', 'm'): 1, ('m', ' '): 4, ('m', 'y'): 1, (' ', 'g'): 1, ('r', 'm'): 1, ('l', ' '): 1, ('o', 'c'): 1, ('c', 'k'): 1, ('g', 'b'): 1, ('i', 'r'): 1, ('r', 'd'): 2, ('d', 'a'): 1, (' ', 'q'): 1, ('q', 'u'): 1, ('u', 'i'): 1, ('s', 'u'): 1, ('u', 'r'): 1, (' ', 'n'): 1, ('y', 'w'): 1, (' ', 'u'): 1, ('u', 'n'): 1, ('n', 'l'): 1, ('s', 's'): 1, ('o', 'd'): 1, ('e', 'o'): 1, ('a', 's'): 1, (' ', 'j'): 1, ('j', 'o'): 1, ('k', 'e'): 1, ('a', 'w'): 1, ('r', 'o'): 1, ('b', 'u', 'y'): 1, ('u', 'y', 'e'): 1, ('y', 'e', 'r'): 1, ('e', 'r', ' '): 5, ('r', ' ', 'b'): 1, (' ', 'b', 'e'): 4, ('b', 'e', 'w'): 1, ('e', 'w', 'a'): 1, ('w', 'a', 'r'): 1, ('a', 'r', 'e'): 2, ('r', 'e', ' '): 4, ('e', ' ', 't'): 3, (' ', 't', 'h'): 10, ('t', 'h', 'i'): 5, ('h', 'i', 's'): 3, ('i', 's', ' '): 5, ('s', ' ', 'i'): 1, (' ', 'i', 's'): 2, ('s', ' ', 'a'): 3, (' ', 'a', ' '): 8, ('a', ' ', 's'): 1, (' ', 's', 'e'): 3, ('s', 'e', 'l'): 3, ('e', 'l', 'f'): 2, ('l', 'f', 'p'): 1, ('f', 'p', 'u'): 1, ('p', 'u', 'b'): 1, ('u', 'b', 'l'): 1, ('b', 'l', 'i'): 1, ('l', 'i', 's'): 1, ('i', 's', 'h'): 1, ('s', 'h', 'e'): 1, ('h', 'e', 'd'): 1, ('e', 'd', ' '): 2, ('d', ' ', 'b'): 1, (' ', 'b', 'o'): 5, ('b', 'o', 'o'): 5, ('o', 'o', 'k'): 5, ('o', 'k', ' '): 5, ('k', ' ', 'a'): 2, (' ', 'a', 'n'): 9, ('a', 'n', 'd'): 5, ('n', 'd', ' '): 9, ('d', ' ', 'i'): 2, (' ', 'i', 'f'): 1, ('i', 'f', ' '): 1, ('f', ' ', 'y'): 1, (' ', 'y', 'o'): 2, ('y', 'o', 'u'): 2, ('o', 'u', ' '): 2, ('u', ' ', 'w'): 1, (' ', 'w', 'a'): 1, ('w', 'a', 'n'): 1, ('a', 'n', 't'): 3, ('n', 't', ' '): 4, ('t', ' ', 't'): 2, (' ', 't', 'o'): 6, ('t', 'o', ' '): 7, ('o', ' ', 'k'): 2, (' ', 'k', 'n'): 1, ('k', 'n', 'o'): 1, ('n', 'o', 'w'): 1, ('o', 'w', ' '): 1, ('w', ' ', 'w'): 1, (' ', 'w', 'h'): 2, ('w', 'h', 'y'): 1, ('h', 'y', 'r'): 1, ('y', 'r', 'e'): 1, ('r', 'e', 'a'): 3, ('e', 'a', 'd'): 3, ('a', 'd', ' '): 2, ('d', ' ', 'a'): 4, ('a', ' ', 'f'): 2, (' ', 'f', 'e'): 1, ('f', 'e', 'w'): 1, ('e', 'w', ' '): 1, ('w', ' ', 'p'): 1, (' ', 'p', 'a'): 2, ('p', 'a', 'r'): 1, ('a', 'r', 'a'): 1, ('r', 'a', 'g'): 1, ('a', 'g', 'r'): 1, ('g', 'r', 'a'): 2, ('r', 'a', 'p'): 1, ('a', 'p', 'h'): 1, ('p', 'h', 's'): 1, ('h', 's', ' '): 1, ('s', ' ', 't'): 2, ('t', 'h', 'o'): 1, ('h', 'o', 's'): 1, ('o', 's', 'e'): 1, ('s', 'e', ' '): 1, ('e', ' ', 's'): 2, (' ', 's', 't'): 1, ('s', 't', 'a'): 2, ('t', 'a', 'r'): 1, ('a', 'r', ' '): 3, ('r', ' ', 'r'): 1, (' ', 'r', 'e'): 3, ('r', 'e', 'v'): 1, ('e', 'v', 'i'): 1, ('v', 'i', 'e'): 1, ('i', 'e', 'w'): 1, ('e', 'w', 's'): 1, ('w', 's', ' '): 1, ('s', ' ', 'm'): 2, (' ', 'm', 'u'): 1, ('m', 'u', 's'): 1, ('u', 's', 't'): 1, ('s', 't', ' '): 4, ('t', ' ', 'h'): 1, (' ', 'h', 'a'): 3, ('h', 'a', 'v'): 1, ('a', 'v', 'e'): 1, ('v', 'e', ' '): 2, ('e', ' ', 'b'): 2, ('b', 'e', 'e'): 1, ('e', 'e', 'n'): 1, ('e', 'n', ' '): 3, ('n', ' ', 'w'): 1, (' ', 'w', 'r'): 1, ('w', 'r', 'i'): 1, ('r', 'i', 't'): 1, ('i', 't', 't'): 1, ('t', 't', 'e'): 1, ('t', 'e', 'n'): 1, ('n', ' ', 'b'): 1, (' ', 'b', 'y'): 2, ('b', 'y', ' '): 2, ('y', ' ', 'm'): 1, (' ', 'm', 's'): 2, ('m', 's', ' '): 2, ('s', ' ', 'h'): 2, ('h', 'a', 'd'): 2, ('a', 'd', 'd'): 2, ('d', 'd', 'o'): 2, ('d', 'o', 'n'): 2, ('o', 'n', 's'): 1, ('n', 's', ' '): 1, ('s', ' ', 'f'): 1, (' ', 'f', 'a'): 3, ('f', 'a', 'm'): 1, ('a', 'm', 'i'): 1, ('m', 'i', 'l'): 1, ('i', 'l', 'y'): 1, ('l', 'y', ' '): 2, ('y', ' ', 'a'): 1, ('d', ' ', 'f'): 1, (' ', 'f', 'r'): 3, ('f', 'r', 'i'): 2, ('r', 'i', 'e'): 2, ('i', 'e', 'n'): 2, ('e', 'n', 'd'): 3, ('n', 'd', 's'): 1, ('d', 's', 'o'): 1, ('s', 'o', 'r'): 1, ('o', 'r', ' '): 1, ('r', ' ', 'p'): 1, (' ', 'p', 'e'): 1, ('p', 'e', 'r'): 2, ('e', 'r', 'h'): 1, ('r', 'h', 'a'): 1, ('h', 'a', 'p'): 1, ('a', 'p', 's'): 1, ('p', 's', ' '): 1, ('s', ' ', 'b'): 1, ('y', ' ', 'h'): 1, (' ', 'h', 'e'): 2, ('h', 'e', 'r'): 2, ('e', 'r', 's'): 1, ('r', 's', 'e'): 1, ('l', 'f', ' '): 1, ('f', ' ', 'i'): 2, (' ', 'i', ' '): 4, ('i', ' ', 'c'): 3, (' ', 'c', 'a'): 3, ('c', 'a', 'n'): 3, ('t', ' ', 'i'): 3, (' ', 'i', 'm'): 1, ('i', 'm', 'a'): 1, ('m', 'a', 'g'): 1, ('a', 'g', 'i'): 1, ('g', 'i', 'n'): 1, ('i', 'n', 'e'): 1, ('n', 'e', ' '): 4, ('e', ' ', 'a'): 4, ('a', 'n', 'y'): 2, ('n', 'y', 'o'): 1, ('y', 'o', 'n'): 1, ('o', 'n', 'e'): 4, ('e', ' ', 'r'): 1, ('a', 'd', 'i'): 2, ('d', 'i', 'n'): 2, ('i', 'n', 'g'): 6, ('n', 'g', ' '): 4, ('g', ' ', 't'): 1, ('t', 'h', 'e'): 4, ('h', 'e', ' '): 2, ('e', ' ', 'w'): 2, ('w', 'h', 'o'): 1, ('h', 'o', 'l'): 1, ('o', 'l', 'e'): 1, ('l', 'e', ' '): 1, ('h', 'i', 'n'): 2, ('n', 'g', 'i'): 1, ('g', 'i', ' '): 1, ('i', ' ', 's'): 1, (' ', 's', 'p'): 1, ('s', 'p', 'e'): 1, ('p', 'e', 'n'): 1, ('e', 'n', 't'): 2, ('t', ' ', 'a'): 1, ('a', 'n', ' '): 2, ('n', ' ', 'e'): 2, (' ', 'e', 'v'): 2, ('e', 'v', 'e'): 4, ('v', 'e', 'n'): 2, ('e', 'n', 'i'): 1, ('n', 'i', 'n'): 1, ('g', ' ', 'w'): 1, (' ', 'w', 'i'): 1, ('w', 'i', 't'): 1, ('i', 't', 'h'): 1, ('t', 'h', ' '): 2, ('h', ' ', 't'): 2, ('d', ' ', 'w'): 1, (' ', 'w', 'e'): 2, ('w', 'e', ' '): 1, ('w', 'e', 'r'): 1, ('e', 'r', 'e'): 2, ('e', ' ', 'i'): 3, (' ', 'i', 'n'): 3, ('i', 'n', ' '): 2, ('n', ' ', 'h'): 1, (' ', 'h', 'y'): 1, ('h', 'y', 's'): 1, ('y', 's', 't'): 1, ('s', 't', 'e'): 1, ('t', 'e', 'r'): 3, ('e', 'r', 'i'): 1, ('r', 'i', 'c'): 1, ('i', 'c', 's'): 1, ('c', 's', ' '): 1, ('s', ' ', 'r'): 1, ('g', ' ', 'b'): 1, (' ', 'b', 'i'): 1, ('b', 'i', 't'): 1, ('i', 't', 's'): 1, ('t', 's', ' '): 1, ('d', ' ', 'p'): 1, (' ', 'p', 'i'): 1, ('p', 'i', 'e'): 1, ('i', 'e', 'c'): 1, ('e', 'c', 'e'): 1, ('c', 'e', 's'): 1, ('e', 's', ' '): 1, ('s', ' ', 'o'): 2, (' ', 'o', 'f'): 5, ('o', 'f', ' '): 4, (' ', 'i', 't'): 2, ('i', 't', ' '): 2, ('o', ' ', 'o'): 1, (' ', 'o', 'n'): 3, ('a', 'n', 'o'): 1, ('n', 'o', 't'): 1, ('o', 't', 'h'): 1, ('r', ' ', 'i'): 1, (' ', 'm', 'o'): 3, ('m', 'o', 's'): 1, ('o', 's', 't'): 1, ('t', ' ', 'd'): 1, (' ', 'd', 'e'): 1, ('d', 'e', 'f'): 1, ('e', 'f', 'i'): 1, ('f', 'i', 'n'): 1, ('i', 'n', 'i'): 1, ('n', 'i', 't'): 1, ('i', 't', 'e'): 2, ('t', 'e', 'l'): 1, ('e', 'l', 'y'): 1, ('y', ' ', 'b'): 1, (' ', 'b', 'a'): 1, ('b', 'a', 'd'): 1, ('d', ' ', 'e'): 1, (' ', 'e', 'n'): 2, ('e', 'n', 'o'): 1, ('n', 'o', 'u'): 1, ('o', 'u', 'g'): 1, ('u', 'g', 'h'): 1, ('g', 'h', ' '): 1, ('o', ' ', 'b'): 1, ('b', 'e', ' '): 2, ('e', ' ', 'e'): 1, ('n', 't', 'e'): 2, ('r', 'e', 'd'): 1, ('i', 'n', 't'): 1, ('n', 't', 'o'): 1, ('o', ' ', 's'): 3, (' ', 's', 'o'): 2, ('s', 'o', 'm'): 2, ('o', 'm', 'e'): 2, ('m', 'e', ' '): 1, ('e', ' ', 'k'): 1, (' ', 'k', 'i'): 3, ('k', 'i', 'n'): 3, ('i', 'n', 'd'): 2, ('d', ' ', 'o'): 3, ('f', ' ', 'a'): 2, ('a', ' ', 'w'): 1, (' ', 'w', 'o'): 1, ('w', 'o', 'r'): 1, ('o', 'r', 's'): 1, ('r', 's', 't'): 1, ('t', ' ', 'b'): 2, ('k', ' ', 'c'): 1, (' ', 'c', 'o'): 1, ('c', 'o', 'n'): 1, ('o', 'n', 't'): 1, ('t', 'e', 's'): 1, ('e', 's', 't'): 2, ('b', 'e', 'l'): 1, ('e', 'l', 'i'): 1, ('l', 'i', 'e'): 1, ('i', 'e', 'v'): 1, (' ', 'a', 'm'): 2, ('a', 'm', 'a'): 1, ('m', 'a', 'z'): 1, ('a', 'z', 'o'): 1, ('z', 'o', 'n'): 1, ('o', 'n', ' '): 3, ('n', ' ', 's'): 1, ('e', 'l', 'l'): 1, ('l', 'l', 's'): 1, ('l', 's', ' '): 1, ('s', ' ', 'k'): 1, ('f', ' ', 't'): 1, ('g', ' ', 'm'): 1, (' ', 'm', 'a'): 1, ('m', 'a', 'y'): 1, ('a', 'y', 'b'): 1, ('y', 'b', 'e'): 1, ('n', ' ', 'o'): 1, ('o', 'f', 'f'): 1, ('f', 'f', 'e'): 1, ('f', 'e', 'r'): 1, ('r', ' ', 't'): 1, ('h', 'e', 'm'): 1, ('e', 'm', ' '): 1, ('m', ' ', 'm'): 1, (' ', 'm', 'y'): 1, ('m', 'y', ' '): 1, ('y', ' ', 't'): 1, ('h', ' ', 'g'): 1, (' ', 'g', 'r'): 1, ('r', 'a', 'd'): 1, ('a', 'd', 'e'): 1, ('d', 'e', ' '): 1, (' ', 't', 'e'): 1, ('e', 'r', 'm'): 1, ('r', 'm', ' '): 1, ('m', ' ', 'p'): 1, ('p', 'a', 'p'): 1, ('a', 'p', 'e'): 1, ('r', ' ', 'o'): 1, ('n', ' ', 't'): 1, ('k', 'i', 'l'): 1, ('i', 'l', 'l'): 1, ('l', 'l', ' '): 1, ('l', ' ', 'a'): 1, ('a', ' ', 'm'): 2, ('m', 'o', 'c'): 1, ('o', 'c', 'k'): 1, ('c', 'k', 'i'): 1, ('n', 'g', 'b'): 1, ('g', 'b', 'i'): 1, ('b', 'i', 'r'): 1, ('i', 'r', 'd'): 1, ('r', 'd', 'a'): 1, ('d', 'a', ' '): 1, ('a', ' ', 'b'): 2, ('k', ' ', 'i'): 1, ('i', ' ', 'a'): 1, ('a', 'm', ' '): 1, ('m', ' ', 'q'): 1, (' ', 'q', 'u'): 1, ('q', 'u', 'i'): 1, ('u', 'i', 't'): 1, ('t', 'e', ' '): 1, (' ', 's', 'u'): 1, ('s', 'u', 'r'): 1, ('u', 'r', 'e'): 1, ('e', ' ', 'm'): 1, ('n', ' ', 'n'): 1, (' ', 'n', 'e'): 1, ('n', 'e', 'v'): 1, ('v', 'e', 'r'): 1, ('r', ' ', 'h'): 1, ('h', 'e', 'a'): 1, ('e', 'a', 'r'): 1, ('a', 'r', 'd'): 1, ('r', 'd', ' '): 1, ('n', 'y', 'w'): 1, ('y', 'w', 'a'): 1, ('w', 'a', 'y'): 2, ('a', 'y', ' '): 3, ('y', ' ', 'u'): 1, (' ', 'u', 'n'): 1, ('u', 'n', 'l'): 1, ('n', 'l', 'e'): 1, ('l', 'e', 's'): 1, ('e', 's', 's'): 1, ('s', 's', ' '): 1, ('s', ' ', 'y'): 1, ('u', ' ', 'a'): 1, (' ', 'a', 'r'): 1, ('n', ' ', 'a'): 1, ('m', 'o', 'o'): 1, ('o', 'o', 'd'): 1, ('o', 'd', ' '): 1, ('d', ' ', 't'): 1, ('s', 'e', 'n'): 1, ('k', ' ', 't'): 1, ('m', 'e', 'o'): 1, ('e', 'o', 'n'): 1, (' ', 'a', 's'): 1, ('a', 's', ' '): 1, ('a', ' ', 'j'): 1, (' ', 'j', 'o'): 1, ('j', 'o', 'k'): 1, ('o', 'k', 'e'): 1, ('k', 'e', 's'): 1, ('t', 'a', 'y'): 1, ('y', ' ', 'f'): 2, ('f', 'a', 'r'): 2, ('r', ' ', 'f'): 1, ('r', ' ', 'a'): 1, (' ', 'a', 'w'): 1, ('a', 'w', 'a'): 1, ('f', 'r', 'o'): 1, ('r', 'o', 'm'): 1, ('o', 'm', ' '): 1, ('m', ' ', 't'): 1, ('m', 'p'): 0, ('p', 'l'): 0, ('e', 't'): 0, ('t', 'i'): 0, ('t', 'y'): 0, ('y', 'p'): 0, ('p', 'o'): 0, ('o', 'g'): 0, ('a', 'l'): 0, ('r', 'r'): 0, ('m', 'm'): 0, ('a', 't'): 0, ('c', ' '): 0, ('l', 'o'): 0, ('u', 'p'): 0, ('p', ' '): 0, ('a', 'b'): 0, ('b', 's'): 0, ('l', 'u'): 0, ('u', 't'): 0, ('m', 'b'): 0, ('f', 'o'): 0, ('a', 'u'): 0, (' ', 'v'): 0, ('r', 'y'): 0, ('s', 'a'): 0, ('p', 'p'): 0, ('o', 'i'): 0, ('a', 'c'): 0, ('c', 't'): 0, ('t', 'u'): 0, ('u', 'a'): 0, ('a', 'i'): 0, ('i', 'd'): 0, ('a', ' ', 'c'): 0, ('c', 'o', 'm'): 0, ('o', 'm', 'p'): 0, ('m', 'p', 'l'): 0, ('p', 'l', 'e'): 0, ('l', 'e', 't'): 0, ('e', 't', 'e'): 0, ('w', 'a', 's'): 0, ('a', 's', 't'): 0, ('e', ' ', 'o'): 0, (' ', 't', 'i'): 0, ('t', 'i', 'm'): 0, ('i', 'm', 'e'): 0, (' ', 't', 'y'): 0, ('t', 'y', 'p'): 0, ('y', 'p', 'o'): 0, ('p', 'o', 'g'): 0, ('o', 'g', 'r'): 0, ('p', 'h', 'i'): 0, ('h', 'i', 'c'): 0, ('i', 'c', 'a'): 0, ('c', 'a', 'l'): 0, ('a', 'l', ' '): 0, ('l', ' ', 'e'): 0, (' ', 'e', 'r'): 0, ('e', 'r', 'r'): 0, ('r', 'r', 'o'): 0, ('r', 'o', 'r'): 0, ('r', 's', ' '): 0, ('s', ' ', 'p'): 0, (' ', 'p', 'o'): 0, ('p', 'o', 'o'): 0, ('o', 'o', 'r'): 0, ('r', ' ', 'g'): 0, ('r', 'a', 'm'): 0, ('a', 'm', 'm'): 0, ('m', 'm', 'a'): 0, ('m', 'a', 'r'): 0, ('a', ' ', 't'): 0, ('t', 'o', 't'): 0, ('o', 't', 'a'): 0, ('t', 'a', 'l'): 0, ('a', 'l', 'l'): 0, ('l', 'l', 'y'): 0, ('y', ' ', 'p'): 0, ('p', 'a', 't'): 0, ('a', 't', 'h'): 0, ('h', 'e', 't'): 0, ('e', 't', 'i'): 0, ('t', 'i', 'c'): 0, ('i', 'c', ' '): 0, ('c', ' ', 'p'): 0, (' ', 'p', 'l'): 0, ('p', 'l', 'o'): 0, ('l', 'o', 't'): 0, ('o', 't', ' '): 0, (' ', 'a', 'd'): 0, ('d', 'd', ' '): 0, ('d', ' ', 'u'): 0, (' ', 'u', 'p'): 0, ('u', 'p', ' '): 0, ('p', ' ', 't'): 0, ('o', ' ', 'a'): 0, (' ', 'a', 'b'): 0, ('a', 'b', 's'): 0, ('b', 's', 'o'): 0, ('s', 'o', 'l'): 0, ('o', 'l', 'u'): 0, ('l', 'u', 't'): 0, ('u', 't', 'e'): 0, ('y', ' ', 'n'): 0, (' ', 'n', 'o'): 0, ('g', ' ', 'i'): 0, ('i', 'm', ' '): 0, ('m', ' ', 'e'): 0, (' ', 'e', 'm'): 0, ('e', 'm', 'b'): 0, ('m', 'b', 'a'): 0, ('b', 'a', 'r'): 0, ('a', 'r', 'r'): 0, ('r', 'r', 'a'): 0, ('r', 'a', 's'): 0, ('a', 's', 's'): 0, ('s', 's', 'e'): 0, ('s', 'e', 'd'): 0, (' ', 'f', 'o'): 0, ('f', 'o', 'r'): 0, (' ', 'a', 'u'): 0, ('a', 'u', 't'): 0, ('u', 't', 'h'): 0, ('h', 'o', 'r'): 0, ('d', ' ', 'v'): 0, (' ', 'v', 'e'): 0, ('e', 'r', 'y'): 0, ('r', 'y', ' '): 0, ('y', ' ', 'd'): 0, (' ', 'd', 'i'): 0, ('d', 'i', 's'): 0, ('i', 's', 'a'): 0, ('s', 'a', 'p'): 0, ('a', 'p', 'p'): 0, ('p', 'p', 'o'): 0, ('p', 'o', 'i'): 0, ('o', 'i', 'n'): 0, ('t', 'e', 'd'): 0, (' ', 'a', 'c'): 0, ('a', 'c', 't'): 0, ('c', 't', 'u'): 0, ('t', 'u', 'a'): 0, ('u', 'a', 'l'): 0, ('p', 'a', 'i'): 0, ('a', 'i', 'd'): 0, ('i', 'd', ' '): 0, ('o', 'h'): 0, ('g', 'u'): 0, ('u', 'e'): 0, ('n', 'c'): 0, ('o', 'v'): 0, (' ', 'l'): 0, ('s', 'c'): 0, ('r', 'n'): 0, ('d', 'r'): 0, ('i', 'v'): 0, ('i', 'g'): 0, ('t', 'r'): 0, ('p', 'r'): 0, ('t', 'l'): 0, ('g', 'e'): 0, ('b', 't'): 0, ('s', 'i'): 0, ('e', 'g'): 0, ('n', 'n'): 0, ('a', 'k'): 0, ('c', 'l'): 0, ('i', 'o'): 0, ('n', 'a'): 0, ('c', 'h'): 0, ('h', 'u'): 0, ('r', 'p'): 0, ('g', 'l'): 0, ('l', 'a'): 0, ('d', 'n'): 0, ('a', 'f'): 0, ('f', 't'): 0, ('o', 'h', ' '): 0, ('h', ' ', 'p'): 0, ('l', 'e', 'a'): 0, ('e', 'a', 's'): 0, ('a', 's', 'e'): 0, ('i', ' ', 'g'): 0, (' ', 'g', 'u'): 0, ('g', 'u', 'e'): 0, ('u', 'e', 's'): 0, ('u', ' ', 'h'): 0, ('a', ' ', 'r'): 0, (' ', 'r', 'o'): 0, ('o', 'm', 'a'): 0, ('m', 'a', 'n'): 0, ('a', 'n', 'c'): 0, ('n', 'c', 'e'): 0, ('c', 'e', ' '): 0, ('e', ' ', 'n'): 0, ('n', 'o', 'v'): 0, ('o', 'v', 'e'): 0, ('v', 'e', 'l'): 0, ('e', 'l', ' '): 0, ('l', ' ', 'l'): 0, (' ', 'l', 'o'): 0, ('l', 'o', 'v'): 0, ('d', ' ', 'n'): 0, ('a', ' ', 'v'): 0, ('i', 's', 'c'): 0, ('s', 'c', 'e'): 0, ('c', 'e', 'r'): 0, ('e', 'r', 'n'): 0, ('r', 'n', 'i'): 0, ('g', ' ', 'o'): 0, (' ', 'a', 'l'): 0, ('l', ' ', 'o'): 0, (' ', 'o', 't'): 0, ('e', ' ', 'd'): 0, (' ', 'd', 'r'): 0, ('d', 'r', 'i'): 0, ('r', 'i', 'v'): 0, ('i', 'v', 'e'): 0, ('l', ' ', 'i'): 0, ('i', ' ', 'f'): 0, (' ', 'f', 'i'): 0, ('f', 'i', 'g'): 0, ('i', 'g', 'u'): 0, ('g', 'u', 'r'): 0, ('i', ' ', 'w'): 0, (' ', 't', 'r'): 0, ('t', 'r', 'o'): 0, ('r', 'o', 'u'): 0, ('o', 'u', 'b'): 0, ('b', 'l', 'e'): 0, ('w', 'h', 'e'): 0, ('h', 'e', 'n'): 0, ('p', 'o', ' '): 0, ('o', ' ', 'i'): 0, (' ', 'p', 'r'): 0, ('p', 'r', 'o'): 0, ('o', 'm', 'i'): 0, ('m', 'i', 'n'): 0, ('n', 'e', 'n'): 0, ('n', 't', 'l'): 0, ('t', 'l', 'y'): 0, ('f', 'e', 'a'): 0, ('e', 'a', 't'): 0, ('a', 't', 'u'): 0, ('t', 'u', 'r'): 0, ('b', 'a', 'c'): 0, ('a', 'c', 'k'): 0, ('c', 'k', ' '): 0, ('c', 'o', 'v'): 0, (' ', 'b', 'u'): 0, ('b', 'u', 't'): 0, ('u', 't', ' '): 0, ('e', ' ', 'f'): 0, ('f', 'i', 'r'): 0, ('i', 'r', 's'): 0, ('t', ' ', 'p'): 0, ('p', 'a', 'g'): 0, ('a', 'g', 'e'): 0, ('g', 'e', ' '): 0, ('k', ' ', 'r'): 0, ('r', 'e', 'm'): 0, ('e', 'm', 'o'): 0, ('m', 'o', 'v'): 0, ('v', 'e', 'd'): 0, ('l', ' ', 'd'): 0, (' ', 'd', 'o'): 0, ('d', 'o', 'u'): 0, ('u', 'b', 't'): 0, ('b', 't', ' '): 0, ('t', ' ', 'w'): 0, ('w', 'a', 'i'): 0, ('a', 'i', 't'): 0, ('t', ' ', 'm'): 0, (' ', 'm', 'i'): 0, ('m', 'i', 's'): 0, ('i', 's', 's'): 0, ('s', 's', 'i'): 0, ('s', 'i', 'n'): 0, ('e', ' ', 'p'): 0, ('a', ' ', 'q'): 0, ('u', 'i', 'c'): 0, ('i', 'c', 'k'): 0, ('r', 'e', 'r'): 0, ('b', 'e', 'g'): 0, ('e', 'g', 'i'): 0, ('i', 'n', 'n'): 0, ('n', 'n', 'i'): 0, ('g', ' ', 'n'): 0, ('w', ' ', 'm'): 0, ('m', 'a', 'k'): 0, ('a', 'k', 'e'): 0, ('t', ' ', 'c'): 0, (' ', 'c', 'l'): 0, ('c', 'l', 'e'): 0, ('h', 'a', 's'): 0, ('n', ' ', 'i'): 0, ('n', 't', 'i'): 0, ('t', 'i', 'o'): 0, ('i', 'o', 'n'): 0, ('o', 'n', 'a'): 0, ('n', 'a', 'l'): 0, ('l', ' ', 'c'): 0, (' ', 'c', 'h'): 0, ('c', 'h', 'u'): 0, ('h', 'u', 'r'): 0, ('u', 'r', 'n'): 0, ('f', ' ', 'o'): 0, (' ', 'o', 'v'): 0, ('r', 'h', 'e'): 0, ('a', 't', 'e'): 0, ('r', 'o', 's'): 0, ('r', ' ', 's'): 0, (' ', 's', 'a'): 0, ('s', 'a', 't'): 0, ('a', 't', 'i'): 0, ('t', 'i', 'r'): 0, ('i', 'r', 'i'): 0, (' ', 'p', 'u'): 0, ('p', 'u', 'r'): 0, ('u', 'r', 'p'): 0, ('r', 'p', 'o'): 0, ('p', 'o', 's'): 0, ('s', 'e', 's'): 0, (' ', 'p', 'h'): 0, ('p', 'h', 'e'): 0, ('h', 'e', 'w'): 0, ('w', ' ', 's'): 0, ('s', 'o', ' '): 0, ('o', ' ', 'g'): 0, (' ', 'g', 'l'): 0, ('g', 'l', 'a'): 0, ('l', 'a', 'd'): 0, ('i', ' ', 'd'): 0, ('d', 'i', 'd'): 0, ('i', 'd', 'n'): 0, ('d', 'n', 't'): 0, (' ', 'a', 'f'): 0, ('a', 'f', 't'): 0, ('f', 't', 'e'): 0, ('w', 'f'): 0, ('f', 'u'): 0, ('u', 'l'): 0, ('e', 'y'): 0, ('e', 'p'): 0, ('e', 'i'): 0, ('s', 'k'): 0, ('p', 't'): 0, ('e', 'x'): 0, ('x', 'a'): 0, ('t', 'w'): 0, ('c', 'i'): 0, ('r', 'k'): 0, ('i', 'b'): 0, ('g', 'o'): 0, ('u', 'c'): 0, ('a', 'w', 'f'): 0, ('w', 'f', 'u'): 0, ('f', 'u', 'l'): 0, ('u', 'l', ' '): 0, ('l', ' ', 'b'): 0, ('b', 'e', 'y'): 0, ('e', 'y', 'o'): 0, ('o', 'n', 'd'): 0, ('i', 'e', 'f'): 0, ('e', 'f', ' '): 0, ('f', 'e', 'e'): 0, ('e', 'e', 'l'): 0, ('i', ' ', 'h'): 0, ('o', ' ', 'w'): 0, (' ', 'k', 'e'): 0, ('k', 'e', 'e'): 0, ('e', 'e', 'p'): 0, ('e', 'p', ' '): 0, ('p', ' ', 'o'): 0, ('m', ' ', 'w'): 0, ('s', 't', 'i'): 0, ('t', 'i', 'n'): 0, ('h', 'e', 'i'): 0, ('e', 'i', 'r'): 0, ('i', 'r', ' '): 0, ('r', ' ', 'm'): 0, ('m', 'o', 'n'): 0, ('n', 'e', 'y'): 0, ('e', 'y', ' '): 0, ('k', ' ', 's'): 0, ('s', 'e', 'e'): 0, ('e', 'e', 'm'): 0, ('e', 'm', 's'): 0, ('o', ' ', 'h'): 0, ('d', 'e', 'r'): 0, ('r', ' ', 'w'): 0, ('m', 'a', 't'): 0, ('l', ' ', 's'): 0, (' ', 's', 'k'): 0, ('s', 'k', 'i'): 0, (' ', 'a', 'g'): 0, ('e', 'w', 'e'): 0, ('n', 't', 's'): 0, (' ', 'o', 'u'): 0, ('o', 'u', 't'): 0, ('s', 's', 'p'): 0, ('p', 'e', 'l'): 0, ('l', 'l', 'i'): 0, ('l', 'i', 'n'): 0, ('e', ' ', 'c'): 0, ('i', ' ', 'b'): 0, (' ', 'a', 't'): 0, ('a', 't', ' '): 0, ('t', ' ', 'l'): 0, (' ', 'l', 'e'): 0, ('t', ' ', 'o'): 0, ('r', ' ', 'c'): 0, ('c', 'h', 'a'): 0, ('a', 'p', 't'): 0, ('p', 't', 'e'): 0, ('r', ' ', 'e'): 0, (' ', 'e', 'x'): 0, ('e', 'x', 'a'): 0, ('x', 'a', 'm'): 0, ('a', 'm', 'p'): 0, (' ', 'm', 'e'): 0, ('m', 'e', 'n'): 0, ('n', 'e', 'd'): 0, (' ', 't', 'w'): 0, ('t', 'w', 'i'): 0, ('w', 'i', 'c'): 0, ('i', 'c', 'e'): 0, ('t', 'h', 'a'): 0, ('h', 'a', 't'): 0, ('t', ' ', 's'): 0, (' ', 's', 'h'): 0, ('e', ' ', 'h'): 0, ('a', ' ', 'l'): 0, ('e', 'a', 'n'): 0, (' ', 'h', 'o'): 0, ('h', 'o', 'u'): 0, ('o', 'u', 's'): 0, ('u', 's', 'e'): 0, ('s', ' ', 's'): 0, ('o', ' ', 'd'): 0, ('i', 's', 't'): 0, ('s', 't', 'r'): 0, ('t', 'r', 'a'): 0, ('r', 'a', 'c'): 0, ('c', 't', 'e'): 0, ('i', 't', 'i'): 0, ('g', ' ', 'a'): 0, ('w', 'e', 'a'): 0, ('e', 'a', 'k'): 0, ('a', 'k', ' '): 0, ('k', ' ', 'p'): 0, ('d', 'e', 'c'): 0, ('e', 'c', 'i'): 0, ('c', 'i', 'd'): 0, ('i', 'd', 'e'): 0, ('d', 'e', 'd'): 0, ('o', ' ', 'r'): 0, ('h', ' ', 'a'): 0, ('a', ' ', 'p'): 0, ('e', 'n', 'c'): 0, ('n', 'c', 'i'): 0, ('c', 'i', 'l'): 0, ('i', 'l', ' '): 0, ('h', 'a', 'n'): 0, ('o', ' ', 'm'): 0, ('a', 'r', 'k'): 0, ('r', 'k', ' '): 0, ('o', 'r', 'r'): 0, ('r', 'r', 'i'): 0, ('r', 'i', 'b'): 0, ('i', 'b', 'l'): 0, ('e', ' ', 'g'): 0, ('d', ' ', 's'): 0, ('g', ' ', 'p'): 0, ('e', ' ', 'y'): 0, ('o', 'u', 'r'): 0, ('u', 'r', ' '): 0, ('y', ' ', 'i'): 0, ('i', ' ', 't'): 0, ('t', 'o', 'o'): 0, ('o', 'o', ' '): 0, (' ', 'g', 'o'): 0, ('g', 'o', 'o'): 0, ('d', ' ', 'r'): 0, ('r', 'e', 'l'): 0, ('e', 'l', 'a'): 0, ('l', 'a', 't'): 0, ('t', 'i', 'v'): 0, ('v', 'e', 's'): 0, ('w', 'i', 'l'): 0, ('l', ' ', 'n'): 0, ('p', 'u', 't'): 0, ('m', 'u', 'c'): 0, ('u', 'c', 'h'): 0, ('c', 'h', ' '): 0, ('h', ' ', 'f'): 0, ('f', 'a', 'i'): 0, ('h', ' ', 'i'): 0, ('m', ' ', 'n'): 0, ('w', ' ', 'o'): 0, ('s', 'm'): 0, ('o', 'p'): 0, ('p', 'y'): 0, ('c', 'r'): 0, ('t', 'c'): 0, ('g', 's'): 0, ('i', 'x'): 0, ('x', 'e'): 0, ('u', 'd'): 0, ('d', 'y'): 0, ('h', 't'): 0, ('v', 'a'): 0, ('o', 'b'): 0, ('c', 'u'): 0, ('l', 'd'): 0, ('k', 'a'): 0, ('u', 'v'): 0, ('l', 'm'): 0, ('r', 'l'): 0, ('z', 'e'): 0, ('b', 'r'): 0, ('d', 'g'): 0, ('i', 'a'): 0, ('e', 'h'): 0, ('y', 't'): 0, ('d', 'u'): 0, ('n', 'u'): 0, ('c', 'c'): 0, ('d', 'v'): 0, ('v', 'd'): 0, ('l', 'j'): 0, ('j', 'u'): 0, ('a', 'b', 'y'): 0, ('b', 'y', 's'): 0, ('y', 's', 'm'): 0, ('s', 'm', 'a'): 0, ('m', 'a', 'l'): 0, ('d', 'i', 'g'): 0, ('i', 'g', 'i'): 0, ('g', 'i', 't'): 0, ('i', 't', 'a'): 0, ('c', 'o', 'p'): 0, ('o', 'p', 'y'): 0, ('p', 'y', ' '): 0, ('y', ' ', 'r'): 0, (' ', 'r', 'a'): 0, ('r', 'a', 't'): 0, (' ', 's', 'c'): 0, ('s', 'c', 'r'): 0, ('c', 'r', 'a'): 0, ('a', 't', 'c'): 0, ('t', 'c', 'h'): 0, ('c', 'h', 'e'): 0, ('h', 'e', 's'): 0, ('i', 'n', 's'): 0, ('n', 's', 'e'): 0, ('s', 'e', 'c'): 0, ('e', 'c', 't'): 0, ('c', 't', ' '): 0, ('d', 'r', 'o'): 0, ('r', 'o', 'p'): 0, ('o', 'p', 'p'): 0, ('p', 'p', 'i'): 0, ('p', 'i', 'n'): 0, ('n', 'g', 's'): 0, ('g', 's', ' '): 0, ('r', 'a', 'n'): 0, ('n', 'd', 'o'): 0, ('d', 'o', 'm'): 0, ('p', 'i', 'x'): 0, ('i', 'x', 'e'): 0, ('x', 'e', 'l'): 0, ('s', ' ', 'c'): 0, ('o', 'm', 'b'): 0, ('m', 'b', 'i'): 0, ('b', 'i', 'n'): 0, ('h', ' ', 'm'): 0, ('m', 'u', 'd'): 0, ('u', 'd', 'd'): 0, ('d', 'd', 'y'): 0, ('d', 'y', ' '): 0, ('y', ' ', 'l'): 0, (' ', 'l', 'i'): 0, ('l', 'i', 'g'): 0, ('i', 'g', 'h'): 0, ('g', 'h', 't'): 0, ('h', 't', ' '): 0, (' ', 'v', 'a'): 0, ('v', 'a', 'g'): 0, ('a', 'g', 'u'): 0, ('u', 'e', ' '): 0, ('r', 'e', 's'): 0, ('e', 's', 'o'): 0, ('u', 't', 'i'): 0, ('n', ' ', 'p'): 0, ('r', 'o', 'b'): 0, ('o', 'b', 'a'): 0, ('b', 'a', 'b'): 0, ('a', 'b', 'l'): 0, ('b', 'l', 'y'): 0, (' ', 'c', 'u'): 0, ('c', 'u', 'e'): 0, ('s', 'h', 'o'): 0, ('o', 'u', 'l'): 0, ('u', 'l', 'd'): 0, ('l', 'd', ' '): 0, ('d', ' ', 'h'): 0, ('p', 'a', 'c'): 0, ('c', 'k', 'a'): 0, ('k', 'a', 'g'): 0, ('r', 'a', 'i'): 0, ('a', 'i', 'g'): 0, ('t', 'r', 'e'): 0, ('r', 'e', 'e'): 0, ('e', 'e', 't'): 0, ('e', 't', ' '): 0, ('c', 'o', 'r'): 0, ('o', 'r', 'n'): 0, ('r', 'n', 'e'): 0, ('n', 'e', 'r'): 0, ('o', 'o', 't'): 0, ('o', 't', 'l'): 0, ('t', 'l', 'e'): 0, ('l', 'e', 'g'): 0, ('e', 'g', ' '): 0, ('g', ' ', 'd'): 0, ('d', 'e', 'a'): 0, ('e', 'a', 'l'): 0, ('a', 'l', 'e'): 0, ('l', 'e', 'r'): 0, ('r', 'i', 'f'): 0, ('o', 'u', 'v'): 0, ('u', 'v', 'e'): 0, ('a', 's', 'o'): 0, ('s', 'o', 'n'): 0, ('n', 'a', 'b'): 0, ('y', ' ', 'g'): 0, ('d', ' ', 'c'): 0, ('n', 'd', 'i'): 0, ('d', 'i', 't'): 0, ('n', ' ', 'f'): 0, ('f', 'i', 'l'): 0, ('i', 'l', 'm'): 0, ('l', 'm', ' '): 0, ('m', ' ', 'c'): 0, ('y', ' ', 'y'): 0, ('u', ' ', 'k'): 0, ('w', ' ', 't'): 0, ('g', ' ', 'v'): 0, (' ', 'v', 'i'): 0, ('v', 'i', 's'): 0, ('i', 's', 'u'): 0, ('s', 'u', 'a'): 0, ('a', 'l', 's'): 0, ('f', ' ', 'h'): 0, (' ', 'h', 'i'): 0, ('m', ' ', 'a'): 0, (' ', 'c', 'r'): 0, ('c', 'r', 'y'): 0, ('r', 'y', 's'): 0, ('r', ' ', 'l'): 0, ('h', 't', 'i'): 0, ('g', ' ', 'c'): 0, ('n', 't', 'r'): 0, ('s', 't', 's'): 0, (' ', 'b', 'l'): 0, ('b', 'l', 'a'): 0, ('l', 'a', 'c'): 0, ('w', 'h', 'i'): 0, ('h', 'i', 't'): 0, ('u', 'r', 'r'): 0, ('o', 'u', 'n'): 0, ('u', 'n', 'd'): 0, ('c', 'o', 'u'): 0, ('u', 'n', 't'): 0, ('t', 'r', 'y'): 0, ('y', 's', 'i'): 0, ('s', 'i', 'd'): 0, (' ', 'o', 'l'): 0, ('o', 'l', 'd'): 0, ('h', 'o', 'm'): 0, ('c', 'e', 'n'): 0, ('e', 'n', 'e'): 0, ('n', 'e', 's'): 0, ('s', 'e', 't'): 0, ('h', ' ', 'e'): 0, (' ', 'e', 'a'): 0, ('a', 'r', 'l'): 0, ('r', 'l', 'y'): 0, ('m', 'o', 'r'): 0, ('g', ' ', 'g'): 0, ('g', 'r', 'o'): 0, ('d', ' ', 'm'): 0, (' ', 'o', 'r'): 0, ('h', 'a', 'z'): 0, ('a', 'z', 'e'): 0, ('z', 'e', ' '): 0, ('f', ' ', 'm'): 0, ('m', 'e', 'm'): 0, ('o', 'r', 'y'): 0, ('y', ' ', 'w'): 0, ('h', 'i', 'l'): 0, ('i', 'l', 'e'): 0, (' ', 'b', 'r'): 0, ('b', 'r', 'i'): 0, ('r', 'i', 'd'): 0, ('i', 'd', 'g'): 0, ('d', 'g', 'e'): 0, ('w', 'a', 't'): 0, ('r', 'i', 'g'): 0, ('i', 'm', 'm'): 0, ('m', 'm', 'e'): 0, ('m', 'e', 'd'): 0, ('e', 'd', 'i'): 0, ('d', 'i', 'a'): 0, ('i', 'a', 't'): 0, ('t', 'e', 'h'): 0, ('e', 'h', 'e'): 0, ('r', 'y', 't'): 0, ('y', 't', 'h'): 0, ('s', ' ', 'd'): 0, (' ', 'd', 'u'): 0, ('d', 'u', 'l'): 0, ('u', 'l', 'l'): 0, (' ', 'd', 'a'): 0, ('d', 'a', 'r'): 0, ('c', 'l', 'o'): 0, ('l', 'o', 'u'): 0, ('o', 'u', 'd'): 0, ('u', 'd', 'e'): 0, ('u', ' ', 'r'): 0, ('e', 'm', 'e'): 0, ('m', 'b', 'e'): 0, ('b', 'e', 'r'): 0, ('i', 'm', 'b'): 0, ('m', 'b', 'r'): 0, ('b', 'r', 'e'): 0, ('e', 'n', 'u'): 0, ('n', 'u', 'n'): 0, ('u', 'n', 'c'): 0, ('c', 'i', 'a'): 0, ('f', ' ', 'c'): 0, ('c', 'a', 'p'): 0, ('p', 't', 'a'): 0, ('t', 'a', 'i'): 0, ('a', 'i', 'n'): 0, ('o', 'm', 'm'): 0, ('d', 's', ' '): 0, ('e', ' ', 'v'): 0, ('l', 's', 'a'): 0, ('s', 'a', 'f'): 0, ('h', 'a', 'r'): 0, ('w', 'i', 'n'): 0, ('c', 'r', 'i'): 0, ('a', 'c', 'c'): 0, ('c', 'c', 'l'): 0, ('c', 'l', 'a'): 0, ('l', 'a', 'i'): 0, ('a', 'i', 'm'): 0, ('l', 'm', 's'): 0, ('b', 'e', 's'): 0, ('p', 'r', 'e'): 0, ('e', 's', 'e'): 0, ('n', 't', 'a'): 0, ('t', 'a', 't'): 0, ('n', ' ', 'y'): 0, ('u', 't', 'u'): 0, ('t', 'u', 'b'): 0, ('u', 'b', 'e'): 0, ('m', 'e', 'w'): 0, ('e', 'w', 'h'): 0, ('a', ' ', 'd'): 0, (' ', 'd', 'v'): 0, ('d', 'v', 'd'): 0, ('v', 'd', ' '): 0, ('m', 'e', 's'): 0, ('s', ' ', 'u'): 0, ('o', ' ', 't'): 0, ('t', 'a', 'n'): 0, ('n', 'd', 'a'): 0, (' ', 'm', 'm'): 0, ('m', 'm', ' '): 0, ('l', 'i', 'c'): 0, ('c', ' ', 'l'): 0, ('l', 'i', 'b'): 0, ('i', 'b', 'r'): 0, ('b', 'r', 'a'): 0, ('r', 'a', 'r'): 0, ('a', 'r', 'y'): 0, ('e', 'l', 'j'): 0, ('l', 'j', 'u'): 0, ('j', 'u', 's'): 0, ('t', ' ', 'n'): 0, ('n', 'o', 'n'): 0, (' ', 'a', 'p'): 0, ('p', 'p', 'e'): 0, ('p', 'e', 'a'): 0, ('r', 'g'): 0, ('g', 'n'): 0, ('n', 'v'): 0, ('l', 'k'): 0, ('y', 'i'): 0, ('b', 'a', 't'): 0, ('a', 't', 't'): 0, ('i', 'e', 's'): 0, ('d', 'i', 'e'): 0, ('i', 'e', 'd'): 0, ('a', ' ', 'y'): 0, (' ', 'y', 'e'): 0, ('y', 'e', 'a'): 0, ('b', 'o', 'u'): 0, ('a', 'r', 'g'): 0, ('r', 'g', 'e'): 0, ('g', 'e', 'r'): 0, ('n', ' ', 'j'): 0, (' ', 'j', 'u'): 0, ('j', 'u', 'l'): 0, ('o', 'r', 'k'): 0, ('r', 'k', 'e'): 0, ('k', 'e', 'd'): 0, (' ', 'o', 'k'): 0, ('k', ' ', 'f'): 0, ('d', 'e', 's'): 0, ('e', 's', 'i'): 0, ('s', 'i', 'g'): 0, ('i', 'g', 'n'): 0, ('g', 'n', ' '): 0, ('s', ' ', 'n'): 0, (' ', 'n', 'i'): 0, ('n', 'i', 'c'): 0, ('o', 'n', 'v'): 0, ('n', 'v', 'e'): 0, ('n', 'i', 'e'): 0, ('h', 'o', 'w'): 0, ('o', 'w', 'e'): 0, ('w', 'e', 'v'): 0, ('a', 'b', 'o'): 0, ('s', ' ', 'w'): 0, ('w', 'o', 'u'): 0, ('m', 'i', 'g'): 0, ('w', 'e', 'l'): 0, ('l', ' ', 'j'): 0, ('t', ' ', 'g'): 0, (' ', 'g', 'e'): 0, ('g', 'e', 't'): 0, ('a', 'l', 'k'): 0, ('l', 'k', 'a'): 0, ('k', 'a', 'l'): 0, ('a', 'l', 'i'): 0, ('i', 's', 'p'): 0, ('s', 'p', 'o'): 0, ('o', 's', 'a'): 0, ('s', 'a', 'b'): 0, ('l', 'o', 'o'): 0, ('k', ' ', 'e'): 0, (' ', 'e', 'l'): 0, ('e', 'l', 's'): 0, ('l', 's', 'e'): 0, ('s', 'e', 'w'): 0, ('h', ' ', 'b'): 0, ('b', 'e', 't'): 0, ('e', 't', 't'): 0, ('a', 'y', 'i'): 0, ('y', 'i', 'n'): 0, ('p', 'o', 'w'): 0, ('e', 'b'): 0, ('i', 'p'): 0, ('k', 's'): 0, ('j', 'a'): 0, ('t', 'i', 't'): 0, ('i', 't', 'l'): 0, ('l', 'e', 'd'): 0, ('o', 'l', 'l'): 0, ('l', 'y', 'w'): 0, ('y', 'w', 'o'): 0, ('w', 'o', 'o'): 0, ('d', ' ', 'd'): 0, ('d', 'e', 'b'): 0, ('e', 'b', 'a'): 0, ('a', 'c', 'l'): 0, (' ', 'r', 'i'): 0, ('i', 'd', 'i'): 0, ('d', 'i', 'c'): 0, ('i', 'c', 'u'): 0, ('c', 'u', 'l'): 0, ('u', 'l', 'o'): 0, ('u', 's', ' '): 0, ('w', 'o', 'n'): 0, ('n', 'd', 'e'): 0, ('h', 'e', 'y'): 0, ('y', ' ', 'e'): 0, ('n', ' ', 'r'): 0, ('r', 'i', 'p'): 0, ('i', 'p', 't'): 0, ('p', 't', ' '): 0, ('b', 'e', 'f'): 0, ('e', 'f', 'o'): 0, ('o', 'r', 'e'): 0, ('a', 'k', 'i'): 0, ('m', 'o', 'u'): 0, ('n', ' ', 'l'): 0, ('l', 'i', 'o'): 0, ('a', 'k', 's'): 0, ('k', 's', ' '): 0, ('a', 'i', 'l'): 0, ('c', 'a', 'r'): 0, ('a', 'r', 's'): 0, ('b', 'e', 'h'): 0, ('e', 'h', 'i'): 0, ('o', 't', 'i'): 0, ('p', 't', 'u'): 0, (' ', 'j', 'a'): 0, ('j', 'a', 'i'): 0, (' ', 'c', 'e'): 0, ('c', 'e', 'l'): 0, ('l', ' ', 'g'): 0, ('t', ' ', 'r'): 0, ('l', ' ', 'u'): 0, (' ', 'u', 't'): 0, ('u', 't', 't'): 0, ('e', 'r', 'l'): 0, ('y', ' ', 'c'): 0, ('y', ' ', 's'): 0, ('s', 't', 'u'): 0, ('t', 'u', 'p'): 0, ('u', 'p', 'i'): 0, ('p', 'i', 'd'): 0, ('l', 'r'): 0, ('s', 'l'): 0, ('g', ' ', 'y'): 0, ('u', ' ', 'd'): 0, ('a', 'l', 'r'): 0, ('l', 'r', 'e'): 0, ('a', 'd', 'y'): 0, ('y', ' ', 'k'): 0, ('w', ' ', 'i'): 0, ('n', ' ', 'c'): 0, ('c', 'a', 's'): 0, ('a', 's', 'u'): 0, ('p', 'p', 'l'): 0, ('p', 'l', 'y'): 0, ('l', 'y', 'i'): 0, ('o', ' ', 'l'): 0, (' ', 'l', 'a'): 0, ('l', 'a', 'w'): 0, ('a', 'w', ' '): 0, ('s', 'c', 'h'): 0, ('c', 'h', 'o'): 0, ('h', 'o', 'o'): 0, ('o', 'o', 'l'): 0, ('o', 'l', ' '): 0, ('l', ' ', 'h'): 0, ('k', ' ', 'd'): 0, ('d', 'o', ' '): 0, ('o', ' ', 'n'): 0, ('s', 'e', 'r'): 0, ('r', 'i', 'o'): 0, ('i', 'o', 'u'): 0, ('u', 's', 'l'): 0, ('s', 'l', 'y'): 0, ('o', 'e'): 0, ('s', 'n'): 0, ('s', 'y'): 0, ('d', 'o', 'e'): 0, ('o', 'e', 's'): 0, ('e', 's', 'n'): 0, ('s', 'n', 't'): 0, ('k', ' ', 'o'): 0, ('m', 'a', 'c'): 0, ('a', 'c', ' '): 0, ('c', ' ', 'i'): 0, ('s', 'a', 'y'): 0, ('a', 'y', 's'): 0, ('y', 's', ' '): 0, ('l', ' ', 'w'): 0, ('c', ' ', 'o'): 0, (' ', 'o', 's'): 0, ('o', 's', ' '): 0, (' ', 's', 'y'): 0, ('s', 'y', 's'): 0, ('t', 'e', 'm'): 0, ('i', 's', 'k'): 0, ('s', 'k', ' '): 0, ('o', 'n', 'l'): 0, ('n', 'l', 'y'): 0, ('d', 'o', 'w'): 0, ('o', 'w', 's'): 0, ('o', 'r', 'd'): 0, ('r', 'd', 'e'): 0, ('r', 't'): 0, ('h', 'd'): 0, ('y', 'a'): 0, ('l', 'c'): 0, ('g', 'a'): 0, ('n', 'k'): 0, ('u', 'y', ' '): 0, ('w', 'i', 'f'): 0, ('i', 'f', 'e'): 0, ('f', 'e', ' '): 0, ('i', 'r', 't'): 0, ('r', 't', 'h'): 0, ('t', 'h', 'd'): 0, ('h', 'd', 'a'): 0, ('d', 'a', 'y'): 0, ('a', 'y', 'a'): 0, ('y', 'a', 'n'): 0, ('t', 'o', 'r'): 0, ('r', 'e', 't'): 0, ('e', 't', 'u'): 0, ('r', 'n', ' '): 0, ('b', 'e', 'c'): 0, ('e', 'c', 'a'): 0, ('c', 'a', 'u'): 0, ('a', 'u', 's'): 0, ('p', 'a', 'l'): 0, ('a', 'l', 'y'): 0, ('l', 'y', 'e'): 0, ('i', ' ', 'r'): 0, ('d', ' ', 'g'): 0, ('g', 'o', 't'): 0, ('r', 'e', 'p'): 0, ('e', 'p', 'a'): 0, ('a', 'l', 'c'): 0, ('l', 'c', 'e'): 0, ('c', 'e', 'm'): 0, ('i', 'c', 'h'): 0, ('h', ' ', 'o'): 0, ('o', 'n', 'c'): 0, ('a', 'g', 'a'): 0, ('g', 'a', 'i'): 0, ('p', 'l', 'a'): 0, ('l', 'a', 'y'): 0, ('a', 'y', 'e'): 0, ('f', ' ', 'j'): 0, ('j', 'u', 'n'): 0, ('u', 'n', 'k'): 0, ('u', 'k'): 0, ('k', 'v'): 0, ('r', 'c'): 0, ('o', ' ', 'e'): 0, ('d', 'u', 'k'): 0, ('u', 'k', 'e'): 0, ('k', 'e', ' '): 0, ('c', 'c', 'e'): 0, ('e', 'r', 't'): 0, ('h', 'i', 'm'): 0, ('m', ' ', 'i'): 0, ('a', ' ', 'g'): 0, (' ', 'g', 'i'): 0, ('g', 'i', 'm'): 0, ('m', 'm', 'i'): 0, ('m', 'i', 'c'): 0, ('c', 'k', 'v'): 0, ('k', 'v', 'e'): 0, ('o', 'r', 'c'): 0, ('r', 'c', 'h'): 0, ('d', 'b'): 0, ('o', 'a'): 0, ('o', 'x'): 0, ('x', ' '): 0, ('x', 'p'): 0, ('r', ' ', 'q'): 0, ('q', 'u', 'a'): 0, ('l', 'i', 't'): 0, ('i', 't', 'y'): 0, ('t', 'y', ' '): 0, ('c', 'r', 'e'): 0, ('r', 'd', 'b'): 0, ('d', 'b', 'o'): 0, ('b', 'o', 'a'): 0, ('o', 'a', 'r'): 0, ('b', 'o', 'x'): 0, ('o', 'x', ' '): 0, ('x', ' ', 't'): 0, ('t', 't', 'y'): 0, ('b', 'e', 'a'): 0, ('t', ' ', 'u'): 0, ('t', 's', 'e'): 0, ('s', ' ', 'v'): 0, ('h', 't', 'w'): 0, ('t', 'w', 'e'): 0, ('w', 'e', 'i'): 0, ('e', 'i', 'g'): 0, ('t', ' ', 'v'): 0, ('h', 'e', 'e'): 0, ('e', 'e', 's'): 0, ('e', 's', 'y'): 0, ('s', 'y', ' '): 0, ('o', 'k', 'i'): 0, ('n', 'i', 's'): 0, ('s', 'h', ' '): 0, ('h', ' ', 'w'): 0, ('a', 'c', 'r'): 0, ('c', 'r', 'o'): 0, ('o', 's', 's'): 0, ('i', 'r', 'e'): 0, ('t', 'o', 'p'): 0, ('o', 'p', ' '): 0, ('i', ' ', 'k'): 0, ('k', 'n', 'e'): 0, ('n', 'e', 'w'): 0, ('a', 's', 'n'): 0, ('o', 'l', 'i'): 0, ('l', 'i', 'd'): 0, ('i', ' ', 'e'): 0, ('e', 'x', 'p'): 0, ('x', 'p', 'e'): 0, ('p', 'e', 'c'): 0, ('m', 'e', 't'): 0, ('e', 't', 'h'): 0, ('t', ' ', 'f'): 0, ('p', 'r', 'i'): 0, ('i', ' ', 'p'): 0, ('c', 'd'): 0, ('i', ' ', 'o'): 0, ('r', 'e', 'c'): 0, ('c', 'e', 'i'): 0, ('e', 'i', 'v'): 0, ('s', 'u', 'b'): 0, ('u', 'b', 's'): 0, ('b', 's', 't'): 0, ('i', 't', 'u'): 0, ('t', 'u', 't'): 0, ('i', ' ', 'n'): 0, ('i', 'm', 'p'): 0, ('m', 'p', 'o'): 0, ('p', 'o', 'r'): 0, ('o', 'r', 't'): 0, ('r', 't', 'c'): 0, ('t', 'c', 'd'): 0, ('c', 'd', 's'): 0, ('d', 'o', 'r'): 0, ('t', 'a', 'c'): 0, ('c', 'i', 'e'): 0, ('n', 'y', ' '): 0, ('e', 'e', 'd'): 0, ('e', 'd', 'b'): 0, ('d', 'b', 'a'): 0, ('b', 'o', 't'): 0, ('k', ' ', 'b'): 0, ('c', 'o', 's'): 0, ('o', 'r', 'g'): 0, ('r', 'g', 'i'): 0, ('i', 'n', 'a'): 0, (' ', 'f', 'u'): 0, ('f', 'u', 't'): 0, (' ', 'n', 'a'): 0, ('n', 'a', 'm'): 0, ('a', 'm', 'e'): 0, ('r', 's', 'o'): 0, ('m', ' ', 'b'): 0, ('u', 'y', 'i'): 0, ('g', ' ', 'f'): 0, ('m', 'p', 'a'): 0, ('p', 'a', 'n'): 0, ('i', ' ', 'u'): 0, (' ', 's', 'i'): 0, ('s', 'i', 'm'): 0, ('t', 'a', 'k'): 0, ('e', 's', 'p'): 0, ('p', 'o', 'n'): 0, ('b', 'u', 's'): 0, ('u', 's', 'i'): 0, ('n', 'e', 'e'): 0, ('e', 'n', 's'): 0, (' ', 'h', 'u'): 0, ('h', 'u', 'n'): 0, ('n', 'd', 'r'): 0, ('d', 'r', 'e'): 0, ('e', 'd', 's'): 0, ('f', ' ', 'd'): 0, ('d', 'o', 'l'): 0, ('l', 'l', 'a'): 0, ('l', 'a', 'r'): 0, ('n', 't', 'h'): 0, ('n', 'c', 'o'): 0, ('b', 'u', 'i'): 0, ('u', 'i', 'l'): 0, ('i', 'l', 'd'): 0, ('l', 'd', 'i'): 0, ('c', 'o', 'l'): 0, ('l', 'l', 'e'): 0, ('l', 'e', 'c'): 0, ('c', 't', 'i'): 0, ('r', 'e', 'f'): 0, ('e', 'f', 'u'): 0, ('o', 'y'): 0, ('r', 'e', 'w'): 0, ('w', ' ', 'a'): 0, (' ', 'a', 'i'): 0, ('a', 'i', 'r'): 0, ('n', 'o', ' '): 0, (' ', 'i', 'd'): 0, ('e', 'a', ' '): 0, ('h', 'y', ' '): 0, ('b', 'o', 'y'): 0, ('o', 'y', ' '): 0, ('d', 'r', 'a'): 0, ('r', 'a', 'w'): 0, ('r', ' ', 'd'): 0, ('i', 'z'): 0, ('c', 'a', 'k'): 0, ('r', ' ', 'j'): 0, ('u', 'n', 'e'): 0, ('s', ' ', 'g'): 0, ('g', 'i', 'v'): 0, (' ', 'e', 's'): 0, ('s', 'h', 'i'): 0, ('h', 'i', 'p'): 0, ('i', 'p', 'p'): 0, ('d', 'a', 't'): 0, ('u', 'l', 'y'): 0, ('c', 'a', 'm'): 0, ('w', 'e', 'n'): 0, ('h', ' ', 'n'): 0, ('o', ' ', 'c'): 0, ('p', ' ', 'r'): 0, ('i', 'v', 'i'): 0, ('v', 'i', 'n'): 0, ('t', ' ', 'e'): 0, ('f', 'u', 'n'): 0, ('a', 'p', 'o'): 0, ('p', 'o', 'l'): 0, ('o', 'l', 'o'): 0, ('l', 'o', 'g'): 0, ('o', 'g', 'i'): 0, ('g', 'i', 'z'): 0, ('i', 'z', 'e'): 0, ('z', 'e', 'd'): 0, ('s', 'h', 'a'): 0, ('a', 'p', ' '): 0, ('p', ' ', 'i'): 0, ('n', 'y', 't'): 0, ('i', ' ', 'l'): 0, ('w', 'r', 'o'): 0, ('r', 'o', 'n'): 0, ('o', 'n', 'g'): 0, ('g', ' ', 's'): 0, ('r', 'f'): 0, ('s', 'f'): 0, ('o', 'n', 'i'): 0, ('r', 't', 'a'): 0, ('t', 'a', 'b'): 0, (' ', 'c', 'd'): 0, ('c', 'd', ' '): 0, ('m', ' ', 'd'): 0, ('e', 'r', 'f'): 0, ('r', 'f', 'o'): 0, ('o', 'r', 'm'): 0, ('r', 'm', 'a'): 0, ('e', 'r', 'p'): 0, ('n', 's', 't'): 0, ('r', 'y', 'i'): 0, ('h', 'a', 'l'): 0, ('a', 'l', 'f'): 0, ('e', ' ', 'u'): 0, ('u', 'n', 's'): 0, ('n', 's', 'u'): 0, ('s', 'u', 'c'): 0, ('u', 'c', 'c'): 0, ('s', 's', 'f'): 0, ('s', 'f', 'u'): 0, ('m', ' ', 'g'): 0, ('g', 'o', 'i'): 0, ('t', 'b'): 0, ('e', 'u'): 0, ('v', 'o'): 0, ('e', 'q'): 0, ('l', 't'): 0, ('n', 'h'): 0, ('n', 'j'): 0, ('k', 'y'): 0, ('n', 'b'): 0, ('f', 'o', 'o'): 0, ('t', ' ', 'k'): 0, ('a', 'u', 'd'): 0, ('u', 'd', 'i'): 0, ('d', 'i', 'o'): 0, ('i', 'o', ' '): 0, (' ', 'g', 'a'): 0, ('g', 'a', 'm'): 0, (' ', 'u', 's'): 0, ('n', ' ', 'm'): 0, ('g', 'u', 'y'): 0, ('u', 'y', 's'): 0, ('a', 's', 'y'): 0, ('m', 'e', 'a'): 0, ('i', 't', 'b'): 0, ('t', 'b', 'u'): 0, ('j', 'a', 'p'): 0, ('a', 'p', 'a'): 0, ('a', 'n', 'e'): 0, ('t', 'i', 'b'): 0, ('a', 'c', 'h'): 0, ('c', 'h', 'i'): 0, ('d', 'e', 'e'): 0, ('e', 'p', 'l'): 0, ('a', 'r', 'c'): 0, ('r', 'c', 'a'): 0, ('c', 'a', 'd'): 0, ('d', 'a', 'n'): 0, ('t', 'a', 'g'): 0, (' ', 'e', 'u'): 0, ('e', 'u', 'r'): 0, ('u', 'r', 'o'): 0, ('m', 'i', 'x'): 0, ('i', 'x', ' '): 0, ('x', ' ', 'd'): 0, ('e', 'v', 'o'): 0, ('v', 'o', 'l'): 0, (' ', 'e', 'q'): 0, ('e', 'q', 'u'): 0, ('u', 'i', 'v'): 0, ('i', 'v', 'a'): 0, ('v', 'a', 'l'): 0, ('l', 'e', 'n'): 0, ('s', ' ', 'l'): 0, ('n', ' ', 'd'): 0, ('c', 'k', 's'): 0, ('e', ' ', 'j'): 0, ('u', 'n', 'g'): 0, ('n', 'g', 'l'): 0, ('g', 'l', 'e'): 0, ('l', 'e', 'y'): 0, ('d', 'i', 'f'): 0, ('i', 'f', 'f'): 0, ('f', 'f', 'i'): 0, ('f', 'i', 'c'): 0, ('u', 'l', 't'): 0, ('l', 't', ' '): 0, ('l', 's', 'o'): 0, ('u', 'n', 'h'): 0, ('n', 'h', 'e'): 0, ('e', 'n', 'j'): 0, ('n', 'j', 'o'): 0, ('j', 'o', 'y'): 0, ('o', 'y', 'a'): 0, ('y', 'a', 'b'): 0, ('f', 'a', 'v'): 0, ('a', 'v', 'o'): 0, ('v', 'o', 'u'): 0, ('u', 'r', 'i'): 0, ('o', 'v', 'i'): 0, ('j', 'a', 'm'): 0, ('v', 'i', 'd'): 0, ('d', 'e', 'o'): 0, ('e', 'o', ' '): 0, ('e', 't', 's'): 0, ('p', 'e', 'd'): 0, ('e', 'd', 'a'): 0, ('p', ' ', 'p'): 0, ('s', 'a', 'm'): 0, ('s', 'i', 't'): 0, ('u', 'a', 't'): 0, ('m', ' ', 'o'): 0, ('h', 'o', ' '): 0, ('e', ' ', 'l'): 0, (' ', 'l', 'u'): 0, ('l', 'u', 'c'): 0, ('u', 'c', 'k'): 0, ('c', 'k', 'y'): 0, ('k', 'y', ' '): 0, ('y', ' ', 'o'): 0, ('w', 'e', 's'): 0, ('r', 's', 'i'): 0, ('s', 'i', 'o'): 0, ('u', ' ', 'p'): 0, ('d', 'e', 'p'): 0, ('e', 'p', 'r'): 0, ('v', 'a', 't'): 0, ('o', 'n', 'b'): 0, ('n', 'b', 'o'): 0, ('b', 'o', 'r'): 0, ('e', 'd', 'o'): 0, ('e', 'z'): 0, ('r', 'u'): 0, ('i', 'l', 's'): 0, ('f', 'r', 'a'): 0, ('k', ' ', 'v'): 0, ('u', 'e', 'l'): 0, ('e', 'e', 'z'): 0, ('e', 'z', 'e'): 0, ('s', 't', 'o'): 0, ('o', ' ', 'v'): 0, ('v', 'a', 'r'): 0, ('a', 'r', 'i'): 0, ('y', 'p', 'e'): 0, ('p', 'e', 's'): 0, ('t', 'r', 'u'): 0, ('r', 'u', 'c'): 0, ('u', 'c', 't'): 0, ('r', 't', 'i'): 0, ('t', 'i', 's'): 0, ('i', 's', 'e'): 0, ('j', 'o', 'i'): 0, (' ', 'i', 'l'): 0, ('l', 'l', 'u'): 0, ('l', 'u', 's'): 0, ('f', 'a', 's'): 0, ('a', 's', 'c'): 0, ('s', 'c', 'i'): 0, ('c', 'i', 'n'): 0, ('n', 'a', 't'): 0, ('p', 'r', 'a'): 0, ('l', ' ', 'f'): 0, ('a', ' ', 'h'): 0, ('l', 'd', 'e'): 0, ('i', 'k'): 0, ('l', 'i', 'k'): 0, ('i', 'k', 'e'): 0, ('r', 'o', 'd'): 0, ('o', 'd', 'u'): 0, ('d', 'u', 'c'): 0, (' ', 's', 'm'): 0, ('s', 'm', 'e'): 0, ('m', 'e', 'l'): 0, ('u', ' ', 'o'): 0, (' ', 'o', 'p'): 0, ('o', 'p', 'e'): 0, ('g', 'e', 'l'): 0, ('c', 'u', 's'): 0, ('u', 's', 'h'): 0, ('h', 'i', 'o'): 0, ('l', 'd', 'n'): 0, ('u', ' ', 'm'): 0, ('o', ' ', 'u'): 0, ('t', 'p'): 0, ('n', 'p'): 0, ('r', 'o', 'f'): 0, ('o', 'f', 'e'): 0, ('f', 'e', 's'): 0, ('l', ' ', 'q'): 0, ('t', 'r', 'i'): 0, (' ', 't', 'a'): 0, ('t', 'a', 'p'): 0, ('p', 'e', ' '): 0, ('k', 'e', 't'): 0, ('e', 't', 'p'): 0, ('t', 'p', 'l'): 0, ('a', 'c', 'e'): 0, ('e', ' ', 'q'): 0, ('g', ' ', 'l'): 0, ('u', 'n', 'p'): 0, ('n', 'p', 'r'): 0, ('i', 'n', 'c'): 0, ('e', 'o', 's'): 0, ('r', 'b'): 0, ('w', 'a', 'v'): 0, (' ', 's', ' '): 0, ('i', 'o', 'r'): 0, ('e', 'c', 'o'): 0, ('a', 'l', 't'): 0, ('l', 't', 'h'): 0, ('f', ' ', 'n'): 0, ('r', ' ', 'v'): 0, ('s', 'u', 'n'): 0, ('r', 'l', 'i'): 0, ('n', 'g', 'e'): 0, ('e', 's', 'c'): 0, ('p', 't', 'i'): 0, ('y', ' ', 'v'): 0, ('a', 'r', 't'): 0, ('o', 'r', 'i'): 0, ('r', 'u', 'e'): 0, ('g', 'a', 'r'): 0, ('a', 'r', 'b'): 0, ('r', 'b', 'a'): 0, ('b', 'a', 'g'): 0, ('p', 'o', 't'): 0, ('m', 'p', 't'): 0, ('k', 't'): 0, ('y', 'n'): 0, ('z', 'i'): 0, ('h', 'l'): 0, ('m', 'p', 'i'): 0, ('p', 'i', 'l'): 0, ('i', 'l', 'a'): 0, ('b', 'a', 'n'): 0, ('i', 'm', 'i'): 0, ('s', 'o', 'u'): 0, ('u', ' ', 'l'): 0, ('d', ' ', 'k'): 0, (' ', 'k', 't'): 0, ('k', 't', 'e'): 0, ('r', 'i', 'n'): 0, ('e', 'a', 'p'): 0, ('p', ' ', 's'): 0, ('s', 'y', 'n'): 0, ('y', 'n', 't'): 0, ('s', 'i', 'z'): 0, ('z', 'e', 'r'): 0, ('s', 'i', 'c'): 0, ('f', 'a', 'c'): 0, (' ', 'v', 'o'): 0, ('v', 'o', 'c'): 0, ('o', 'c', 'a'): 0, ('f', 'a', 'n'): 0, ('a', 'z', 'i'): 0, ('z', 'i', 'n'): 0, ('u', 'c', 'e'): 0, ('c', 'e', 'd'): 0, ('c', 'h', 'l'): 0, ('h', 'l', 'o'): 0, ('l', 'o', 'c'): 0, ('h', 'r'): 0, ('t', 'm'): 0, ('m', 'e', 'r'): 0, ('e', 'r', 'a'): 0, ('r', 'a', ' '): 0, ('c', 'h', 'r'): 0, ('h', 'r', 'i'): 0, ('r', 'i', 's'): 0, ('s', 't', 'm'): 0, ('t', 'm', 'a'): 0, ('m', 'a', 's'): 0, ('n', 'i', 'g'): 0, ('h', 't', 's'): 0, ('r', 't', 'y'): 0, ('n', 'c', 'l'): 0, ('c', 'l', 'u'): 0, ('l', 'u', 'd'): 0, ('u', 'r', 's'): 0, ('l', 'o', 's'): 0, ('e', 'l', 'e'): 0, ('t', 'i', 'l'): 0, ('l', ' ', 't'): 0, ('h', 'a', 'm'): 0, ('o', 'n', 'y'): 0, ('k', 'a', 'c'): 0, ('n', 'f'): 0, ('w', 'n'): 0, ('b', ' '): 0, ('l', 'p'): 0, ('x', 't'): 0, ('c', 'a', 'b'): 0, ('u', 'r', 'c'): 0, ('a', 't', 'a'): 0, ('t', 'a', ' '): 0, ('u', ' ', 'n'): 0, ('t', ' ', 'y'): 0, ('l', ' ', 'r'): 0, ('d', 'i', 'r'): 0, ('i', 'n', 'f'): 0, ('n', 'f', 'o'): 0, ('r', 'e', 'g'): 0, ('e', 'g', 'a'): 0, ('r', 'd', 'i'): 0, ('w', 'h', 'a'): 0, ('h', 'e', 'c'): 0, ('e', 'c', 'k'): 0, ('r', 'k', 's'): 0, ('o', 'w', 'n'): 0, ('w', 'n', 'l'): 0, ('n', 'l', 'o'): 0, ('l', 'o', 'a'): 0, ('o', 'a', 'd'): 0, (' ', 'm', 'b'): 0, ('m', 'b', ' '): 0, ('b', ' ', 'o'): 0, ('i', 'a', 'l'): 0, ('p', ' ', 'a'): 0, ('g', 'u', 'i'): 0, ('u', 'i', 'd'): 0, ('s', ' ', 'e'): 0, ('p', 'h', 'o'): 0, ('h', 'o', 'n'): 0, ('c', 'o', 'g'): 0, ('o', 'g', 'n'): 0, ('g', 'n', 'i'): 0, ('n', 'i', 'z'): 0, ('s', 'c', 'o'): 0, ('e', 's', 'h'): 0, ('f', 'o', ' '): 0, ('l', 'e', 'i'): 0, ('e', 'i', 'n'): 0, ('h', 'o', 'p'): 0, ('h', 'e', 'l'): 0, ('e', 'l', 'p'): 0, ('l', 'p', ' '): 0, ('p', ' ', 'm'): 0, ('o', 'b', 'l'): 0, ('l', 'e', 'm'): 0, ('f', ' ', 'b'): 0, ('w', 'a', 'l'): 0, ('t', 'h', 'r'): 0, ('h', 'r', 'e'): 0, ('a', 's', 'h'): 0, ('h', 'i', 'f'): 0, ('e', 'x', 't'): 0, ('x', 't', 'r'): 0, ('s', 'o', 'f'): 0, ('o', 'f', 't'): 0, ('f', 't', 'w'): 0, ('t', 'w', 'a'): 0, ('s', 'u', 'p'): 0, ('u', 'p', 'p'): 0, ('r', 't', ' '): 0, ('a', 'l', 'o'): 0, ('l', 'o', 'n'): 0, ('w', ' ', 'h'): 0, ('y', 'e', 'p'): 0, ('e', 'a', 'u'): 0, ('t', 'i', 'f'): 0, ('i', 'f', 'u'): 0, ('p', 'a', 'y'): 0, ('u', 'h'): 0, (' ', 'x'): 0, ('r', 'z'): 0, ('z', 'a'): 0, ('u', 'f'): 0, ('u', 'h', ' '): 0, (' ', 'o', 'h'): 0, ('h', ' ', 'h'): 0, ('n', ' ', 'u'): 0, ('d', ' ', 'x'): 0, (' ', 'x', ' '): 0, ('x', ' ', 'a'): 0, ('s', 's', 'm'): 0, ('t', 'e', 'e'): 0, ('e', 'e', 'r'): 0, ('f', 'o', 'l'): 0, ('o', 'l', 'k'): 0, ('l', 'k', 's'): 0, ('s', ' ', 'j'): 0, ('u', ' ', 't'): 0, ('l', 'a', 's'): 0, ('f', 'u', 's'): 0, ('u', 't', 's'): 0, ('t', 's', 'i'): 0, ('g', 'r', 'e'): 0, ('e', 'c', 'r'): 0, ('o', 'r', 'l'): 0, ('r', 'l', 'd'): 0, ('m', ' ', 'j'): 0, ('j', 'o', 'e'): 0, ('o', 'e', ' '): 0, ('a', 't', 'r'): 0, ('r', 'i', 'a'): 0, ('i', 'a', 'n'): 0, ('a', 'n', 'i'): 0, ('n', 'i', ' '): 0, ('d', ' ', 'l'): 0, ('d', 'i', 'm'): 0, ('e', 'o', 'l'): 0, ('o', 'l', 'a'): 0, ('l', 'a', ' '): 0, ('h', ' ', 'y'): 0, ('y', 'e', 's'): 0, ('a', 'r', 'z'): 0, ('r', 'z', 'a'): 0, ('z', 'a', 'n'): 0, ('b', 'r', 'u'): 0, ('r', 'u', 'f'): 0, ('u', 'f', 'o'): 0, ('g', 'b', 'o'): 0, ('b', 'o', 'n'): 0, ('o', 'n', 'u'): 0, ('n', 'u', 's'): 0, ('d', 'f'): 0, ('s', 'r'): 0, ('a', 'e'): 0, ('m', 'o', 'l'): 0, ('m', 'y', 'e'): 0, ('i', 'e', ' '): 0, ('i', 'b', 'e'): 0, ('i', 's', 'm'): 0, ('s', 'm', ' '): 0, ('r', 'g', 'a'): 0, ('g', 'a', 'n'): 0, ('i', 'z', 'a'): 0, ('z', 'a', 't'): 0, ('c', 'a', 't'): 0, ('n', 'v', 'i'): 0, ('v', 'i', 'o'): 0, ('i', 'o', 'l'): 0, ('l', 'e', 'f'): 0, ('e', 'f', 't'): 0, ('o', 'p', 'a'): 0, ('a', ' ', 'i'): 0, ('e', 'g', 'u'): 0, ('g', 'u', 'l'): 0, ('u', 'l', 'a'): 0, ('h', 'i', 'd'): 0, ('a', 'c', 'i'): 0, ('c', 'i', 'f'): 0, ('i', 'f', 'i'): 0, ('f', 'i', 's'): 0, ('h', 'r', 'o'): 0, ('r', 'o', 'w'): 0, ('w', ' ', 'r'): 0, ('r', 'o', 'c'): 0, ('i', 'd', 'f'): 0, ('d', 'f', ' '): 0, ('f', ' ', 's'): 0, ('i', 'e', 'r'): 0, ('e', 'y', 'r'): 0, ('r', 'f', 'e'): 0, ('f', 'e', 'c'): 0, ('c', 't', 'l'): 0, ('n', 'n', 'o'): 0, ('n', 'o', 'c'): 0, ('o', 'c', 'e'): 0, ('n', 'i', 'a'): 0, ('a', 'n', 's'): 0, ('m', 'u', 'r'): 0, ('u', 'r', 'd'): 0, ('i', 's', 'r'): 0, ('s', 'r', 'a'): 0, ('r', 'a', 'e'): 0, ('a', 'e', 'l'): 0, ('s', 's', 'o'): 0, ('o', ' ', 'p'): 0, ('s', 'r', 'e'): 0, ('l', 'y', 's'): 0, ('b', 'i', 'a'): 0, ('i', 'a', 's'): 0, ('h', 'm'): 0, ('k', 'l'): 0, ('u', 'm'): 0, ('c', 'y'): 0, ('l', 'v'): 0, ('n', 'd', 'f'): 0, ('d', 'f', 'u'): 0, ('g', 'h', 'm'): 0, ('h', 'm', 'i'): 0, ('o', 'r', 'a'): 0, ('r', 'a', 'b'): 0, ('s', 'e', 'a'): 0, ('d', 'o', 'o'): 0, ('o', 't', 't'): 0, ('t', 't', 'o'): 0, ('t', 'o', 'm'): 0, ('t', 't', 'l'): 0, ('c', 'e', 'p'): 0, ('e', 'p', 't'): 0, ('b', 'o', 's'): 0, ('s', 's', 'h'): 0, ('c', 'c', 'a'): 0, ('c', 'k', 'l'): 0, ('k', 'l', 'i'): 0, ('r', 'e', 'h'): 0, ('e', 'h', 'a'): 0, ('i', 's', 'i'): 0, ('s', 'i', ' '): 0, ('l', 'a', 'm'): 0, ('f', ' ', 'f'): 0, ('r', ' ', 'n'): 0, ('b', 'e', 'i'): 0, ('c', 'u', 'r'): 0, (' ', 'n', 'u'): 0, ('n', 'u', 'm'): 0, ('u', 'm', 'b'): 0, ('d', 's', 'i'): 0, ('m', ' ', 's'): 0, ('r', 'r', 'y'): 0, ('r', 'a', 'v'): 0, ('s', 't', 'y'): 0, ('l', 'a', 'v'): 0, ('v', 'o', 's'): 0, ('e', 'r', 'c'): 0, ('r', 'c', 'y'): 0, ('c', 'y', ' '): 0, ('u', 'l', 's'): 0, ('s', 'a', 'v'): 0, ('e', 'l', 'v'): 0, ('l', 'v', 'e'): 0, ('e', 's', 'a'): 0, ('s', 'a', 'n'): 0, ('d', ' ', 'y'): 0, ('u', ' ', 's'): 0, ('f', 'f', ' '): 0, ('d', 'r', 'y'): 0, ('u', ' ', 'g'): 0, ('l', 'l', 'o'): 0, ('l', 'o', 'w'): 0, ('t', 't', 'i'): 0, ('a', ' ', 'n'): 0, ('e', 'm', 'p'): 0, ('m', 'p', 'e'): 0, ('r', 'p', 'e'): 0, ('l', ' ', 'p'): 0, ('w', ' ', 'f'): 0, ('m', 'o', 't'): 0, ('r', ' ', 'y'): 0, ('a', 'g', 'o'): 0, ('g', 'o', ' '): 0, ('t', 'f'): 0, ('f', 'a', 'l'): 0, ('a', 'd', 'v'): 0, ('d', 'v', 'e'): 0, ('s', 'e', 'm'): 0, ('p', 'i', 'c'): 0, ('i', 'c', 't'): 0, ('p', 'p', 'r'): 0, ('r', 'o', 'x'): 0, ('x', ' ', 'h'): 0, ('c', 'k', 'n'): 0, ('p', 'p', 'y'): 0, ('o', 's', 'h'): 0, ('r', 'r', 'e'): 0, ('r', 'e', 'n'): 0, ('l', 'o', 'y'): 0, ('o', 'y', 'e'): 0, ('y', 'e', 'd'): 0, ('i', 'l', 'i'): 0, ('c', 't', 'f'): 0, ('t', 'f', 'u'): 0, ('u', 'r', 't'): 0, ('r', 't', 'e'): 0, ('h', ' ', 's'): 0, ('s', 's', 'u'): 0, ('s', 'u', 'e'): 0, ('w', ' ', 'y'): 0, ('i', 's', 'f'): 0, ('s', 'f', 'i'): 0, ('f', 'i', 'e'): 0, ('f', 'a', 'k'): 0, ('m', 'e', 'h'): 0, ('e', 'h', 'o'): 0, ('a', 'm', 'o'): 0, ('f', 's'): 0, ('g', 'g'): 0, ('n', 'r'): 0, ('a', 'n', 'g'): 0, ('r', 'o', 'o'): 0, ('o', 'o', 'm'): 0, ('n', 'e', 'o'): 0, ('e', 'o', 'f'): 0, ('o', 'f', 's'): 0, ('f', 's', 'i'): 0, ('d', 'e', 'v'): 0, ('v', 'i', 'c'): 0, ('m', 'p', ' '): 0, ('p', ' ', 'e'): 0, (' ', 'e', 't'): 0, ('e', 't', 'c'): 0, ('t', 'c', ' '): 0, ('p', 'l', 'u'): 0, ('l', 'u', 'g'): 0, ('u', 'g', 'g'): 0, ('g', 'g', 'e'): 0, ('g', 'e', 'd'): 0, ('r', 'o', 'l'): 0, ('k', ' ', 'm'): 0, ('b', 'a', 's'): 0, ('a', 's', 'i'): 0, ('c', ' ', 'h'): 0, ('s', 'e', 'p'): 0, ('u', 'n', 'i'): 0, ('u', 'n', 'r'): 0, ('n', 'r', 'e'): 0, ('l', 'i', 'a'): 0, ('i', 'a', 'b'): 0, ('e', 'i', 'd'): 0, ('t', 'o', 'u'): 0, ('o', 'u', 'c'): 0, ('h', 'i', 'g'): 0, ('g', 'h', 'e'): 0, ('u', 'o'): 0, ('z', 'm'): 0, ('s', 'w'): 0, ('y', 'd'): 0, (' ', 'e', 'f'): 0, ('r', 'c', 'i'): 0, ('c', 'i', 't'): 0, (' ', 's', 'l'): 0, ('s', 'l', 'o'): 0, ('w', ' ', 'd'): 0, ('g', 'e', 'n'): 0, ('n', 'u', 'o'): 0, ('u', 'o', 'u'): 0, ('e', 'w', 'i'): 0, ('g', ' ', 'h'): 0, ('i', 'z', 'm'): 0, ('z', 'm', 'o'): 0, ('m', 'o', ' '): 0, ('p', 'l', 'i'): 0, ('s', 'e', 'v'): 0, ('r', 'a', 'l'): 0, ('n', 'a', 's'): 0, ('t', 'y', 'r'): 0, ('y', 'r', ' '): 0, ('f', 'e', 'i'): 0, ('g', 'n', 'e'): 0, ('m', 'a', 'i'): 0, ('d', 'd', 'r'): 0, ('s', 's', 'w'): 0, ('s', 'w', 'h'): 0, ('o', 'p', 'o'): 0, ('p', 'o', 'u'): 0, ('t', 'i', ' '): 0, ('t', 'o', 'l'): 0, ('s', 'a', 'i'): 0, ('e', 'y', 'd'): 0, ('y', 'd', ' '): 0, ('y', 'e', 't'): 0, ('d', ' ', 'q'): 0, ('k', 'l', 'y'): 0, ('t', 'w', 'o'): 0, ('w', 'o', ' '): 0, ('o', ' ', 'f'): 0, ('u', 't', 'l'): 0, ('i', ' ', 'm'): 0, (' ', 'e', 'i'): 0, ('r', 'w'): 0, ('p', 'b'): 0, ('d', 'l'): 0, ('i', ' ', 'j'): 0, ('f', 'e', 'l'): 0, ('e', 'l', 't'): 0, ('s', 'a', 'w'): 0, ('k', 'i', 'd'): 0, ('i', 'd', 's'): 0, ('i', 'n', 'k'): 0, ('n', 'k', ' '): 0, ('o', 'r', 'w'): 0, ('r', 'w', 'a'): 0, ('b', 'u', 'n'): 0, ('n', 'c', 'h'): 0, ('a', 'm', 'b'): 0, ('m', 'b', 'l'): 0, ('e', 'e', ' '): 0, ('i', 'n', 'u'): 0, ('n', 'u', 't'): 0, (' ', 'p', 'b'): 0, ('p', 'b', 's'): 0, ('b', 's', ' '): 0, ('d', 'a', 'u'): 0, ('a', 'u', 'g'): 0, ('h', 't', 'e'): 0, ('n', 'e', 'x'): 0, ('x', 't', ' '): 0, ('n', ' ', 'v'): 0, ('i', 'n', 'v'): 0, ('n', 'v', 'o'): 0, ('o', 'l', 'v'): 0, ('n', 'd', 'l'): 0, ('d', 'l', 'e'): 0, ('p', 'e', 'o'): 0, ('e', 'o', 'p'): 0, ('o', 'p', 'l'): 0, ('o', 'm', 'o'): 0, (' ', 'e', 'p'): 0, ('e', 'p', 'i'): 0, ('p', 'i', 's'): 0, ('i', 's', 'o'): 0, ('s', 'o', 'd'): 0, ('o', 'd', 'e'): 0, (' ', 'o', 'd'): 0, ('l', 'l', 'c'): 0, ('l', 'c', 'r'): 0, ('f', 't', ' '): 0, ('r', 'v'): 0, ('a', 'n', 'n'): 0, ('n', 'o', 'y'): 0, ('o', 'y', 'i'): 0, ('h', 'u', 'g'): 0, ('u', 'g', 'e'): 0, ('e', 'a', 'c'): 0, ('h', ' ', 'c'): 0, ('l', 'd', 'r'): 0, ('a', 'd', 'u'): 0, ('l', 't', 's'): 0, ('e', 'r', 'v'): 0, ('r', 'v', 'i'): 0, ('w', 'e', 'd'): 0, ('b', 'i', 'g'): 0, ('i', 'g', ' '): 0, ('p', 'a', 's'): 0, ('p', ' ', 'f'): 0, ('f', 'r', 'u'): 0, ('r', 'u', 's'): 0, ('d', 'v', 'i'): 0, ('f', 'l'): 0, ('h', ' ', 'r'): 0, (' ', 'f', 'l'): 0, ('f', 'l', 'i'): 0, ('l', 'i', 'm'): 0, ('i', 'm', 's'): 0, ('m', 's', 'y'): 0, (' ', 'd', 'y'): 0, ('d', 'y', 'e'): 0, ('y', 'e', ' '): 0, ('f', 'a', 'b'): 0, ('a', 'b', 'r'): 0, ('c', ' ', 'e'): 0, ('c', ' ', 't'): 0, ('k', 'o'): 0, ('e', 'k'): 0, ('e', 'c', 'h'): 0, ('c', 'k', 'o'): 0, ('k', 'o', 'r'): 0, ('t', 'o', 'c'): 0, ('f', ' ', 'p'): 0, ('k', ' ', 'w'): 0, ('w', 'e', 'e'): 0, ('e', 'e', 'k'): 0, ('e', 'k', 's'): 0, ('e', 'r', 'w'): 0, ('r', 'w', 'i'): 0, ('j', 'e'): 0, ('k', 'm'): 0, ('p', 'm'): 0, ('e', 'l', 'o'): 0, ('u', 's', 'y'): 0, ('o', 'k', 's'): 0, ('d', 'i', ' '): 0, ('w', 'i', 's'): 0, ('u', 'p', 'e'): 0, ('r', 'l', 'a'): 0, ('c', 'e', 'a'): 0, ('e', 'a', 'b'): 0, ('c', ' ', 'w'): 0, (' ', 'j', 'e'): 0, ('j', 'e', 'r'): 0, ('e', 'r', 'k'): 0, ('f', 'e', 'm'): 0, ('e', 'm', 'a'): 0, ('r', 't', 'r'): 0, ('r', 'a', 'y'): 0, ('u', 'n', 'a'): 0, ('n', 'a', 'w'): 0, ('y', ' ', 'j'): 0, ('s', 'c', 'u'): 0, ('c', 'u', 'o'): 0, ('l', 'e', 'v'): 0, ('s', 'i', 'b'): 0, ('n', 'a', 'p'): 0, ('o', 'p', 'r'): 0, ('o', 'k', 'm'): 0, ('k', 'm', 'a'): 0, ('l', 'o', 'p'): 0, ('o', 'p', 'm'): 0, ('p', 'm', 'e'): 0, ('r', 'i', 'z'): 0, ('c', 'e', 't'): 0, ('f', ' ', 'l'): 0, ('k', ' ', 'y'): 0, ('l', 'b'): 0, ('b', 'f'): 0, ('c', 'm'): 0, ('m', 'r'): 0, ('a', 'l', 'b'): 0, ('l', 'b', 'u'): 0, ('b', 'u', 'm'): 0, ('u', 'm', ' '): 0, ('g', 'e', 's'): 0, (' ', 'b', 'f'): 0, ('b', 'f', 'i'): 0, ('f', 'i', ' '): 0, ('r', 'd', 's'): 0, ('p', ' ', 'w'): 0, ('l', 'i', 'l'): 0, ('l', 'a', 'n'): 0, ('a', 't', 's'): 0, ('l', 'r', 'i'): 0, ('o', 'o', 'g'): 0, ('o', 'g', ' '): 0, ('f', 'l', 'o'): 0, ('c', 'c', 'o'): 0, ('m', 'i', 'd'): 0, ('i', 'd', 'a'): 0, ('t', 's', 't'): 0, (' ', 'c', 'm'): 0, ('c', 'm', 'r'): 0, ('m', 'r', 'm'): 0, ('z', ' '): 0, ('g', 'y'): 0, ('y', 'l'): 0, ('a', ' ', 'o'): 0, ('o', ' ', 'j'): 0, ('j', 'u', 'v'): 0, ('n', 'i', 'l'): 0, ('l', 'e', 'z'): 0, ('e', 'z', ' '): 0, ('z', ' ', 'd'): 0, ('d', 'e', 'g'): 0, ('e', 'g', 'r'): 0, ('z', ' ', 'a'): 0, ('f', 'o', 'u'): 0, ('a', 'v', 'i'): 0, ('d', ' ', 'j'): 0, ('z', ' ', 't'): 0, ('t', 'o', 'd'): 0, ('o', 'd', 'a'): 0, ('o', 't', 'e'): 0, ('m', ' ', 'l'): 0, ('z', ' ', 'i'): 0, ('f', 'r', 'e'): 0, (' ', 's', 'n'): 0, ('s', 'n', 'o'): 0, ('n', 'o', 'o'): 0, ('o', 'o', 'p'): 0, ('o', 'p', 's'): 0, ('p', 's', 's'): 0, ('d', 'o', 'g'): 0, ('o', 'g', 'g'): 0, ('g', 'g', 'y'): 0, ('g', 'y', 's'): 0, ('t', 'y', 'l'): 0, ('y', 'l', 'e'): 0, ('c', ' ', 'b'): 0, ('z', ' ', 'g'): 0, ('t', 'e', 'a'): 0, ('n', 'a', 'r'): 0, ('w', 'a', 'c'): 0, ('l', 'i', 'v'): 0, ('h', 'o', 't'): 0, ('o', 'y', 's'): 0, ('f', 'a', 'd'): 0, ('l', 'l', 'b'): 0, ('l', 'b', 'o'): 0, ('o', 'm', 's'): 0, (' ', 'u', ' '): 0, ('u', ' ', 'j'): 0, ('t', 'u', 'f'): 0, ('u', 'f', 'f'): 0, ('a', 'l', 'm'): 0, ('l', 'm', 'o'): 0, ('c', 'w'): 0, ('y', 'h'): 0, ('k', ' ', 'j'): 0, ('n', 'o', 'l'): 0, ('m', 'i', 't'): 0, ('i', 'c', 'w'): 0, ('c', 'w', 'a'): 0, (' ', 'l', 'y'): 0, ('l', 'y', 'r'): 0, ('y', 'r', 'i'): 0, ('c', ' ', 'r'): 0, (' ', 'r', 'y'): 0, ('r', 'y', 'h'): 0, ('y', 'h', 'm'): 0, ('h', 'm', 'e'): 0, ('e', 's', 'w'): 0, ('a', 'b', ' '): 0, ('b', ' ', 'a'): 0, (' ', 'a', 'v'): 0, ('g', 'e', 'i'): 0, ('e', 'i', 't'): 0, ('r', 'o', 'a'): 0, ('o', 'a', 't'): 0, ('s', 'p', 'r'): 0, ('o', 'p', 'i'): 0, ('y', 'o', ' '): 0, ('t', 'a', 's'): 0, ('m', 'o', 'm'): 0, ('c', 'i', 's'): 0, ('l', ' ', 'k'): 0, ('e', 'd', 'u'): 0, ('d', 'u', 'p'): 0, ('p', ' ', 'k'): 0, ('e', 'l', 'b'): 0, ('b', 'o', 'w'): 0, ('a', 'h'): 0, ('n', 'w'): 0, ('l', 'a', 'h'): 0, ('a', 'h', ' '): 0, ('c', 'r', 'u'): 0, ('u', 'n', 'u'): 0, ('u', 's', 'u'): 0, ('i', 'p', ' '): 0, ('w', ' ', 'j'): 0, ('s', 'e', 'y'): 0, ('k', ' ', 'k'): 0, ('k', 'e', 'p'): 0, (' ', 'e', 'd'): 0, ('e', 'd', 'g'): 0, ('l', 'a', 'p'): 0, ('p', 's', 'e'): 0, ('t', 'u', 'c'): 0, ('t', 'a', 'u'): 0, ('r', 'i', 'l'): 0, ('a', 'g', ' '): 0, ('v', 'i', 'l'): 0, ('e', 'p', 'u'): 0, ('n', 'a', 'z'): 0, ('z', 'i', ' '): 0, ('r', 'i', 'm'): 0, ('d', 'u', 'm'): 0, ('u', 'm', 'p'): 0, ('l', 'd', 'u'): 0, ('h', 'o', 'd'): 0, ('d', 'u', 'n'): 0, ('u', 'n', 'n'): 0, ('p', ' ', 'b'): 0, ('n', 'o', 'b'): 0, ('o', 'b', 'o'): 0, ('b', 'o', 'd'): 0, ('o', 'd', 'y'): 0, ('f', 'a', 't'): 0, ('l', 'd', 'o'): 0, ('o', 'e', 'r'): 0, ('h', ' ', 'd'): 0, ('d', 'r', ' '): 0, ('s', 'c', 'a'): 0, ('a', 'r', 'p'): 0, ('p', 'e', 't'): 0, ('t', 't', 'a'): 0, ('r', 'n', 'w'): 0, ('n', 'w', 'a'): 0, ('n', 'i', 'm'): 0, ('b', 'a', 'f'): 0, ('a', 'f', 'f'): 0, ('f', 'f', 'l'): 0, ('f', 'l', 'e'): 0, ('i', 's', 'n'): 0, ('m', 'y', 's'): 0, ('t', 'i', 'e'): 0, ('o', 'o', 's'): 0, ('f', ' ', 'w'): 0, ('e', 's', 'u'): 0, ('s', 'u', 'l'): 0, ('v', 'a', 'c'): 0, ('a', 'c', 'u'): 0, ('n', 'a', 'u'): 0, ('c', ' ', 's'): 0, ('v', 'o', 'i'): 0, ('o', 'i', 'd'): 0, ('f', 'e', 'n'): 0, ('i', 'c', 'i'): 0, ('x', 'c'): 0, ('s', 'o', 'o'): 0, ('o', 'o', 'o'): 0, ('n', 'n', 'y'): 0, ('e', 'x', 'c'): 0, ('x', 'c', 'r'): 0, ('u', 'c', 'i'): 0, ('g', 'l', 'y'): 0, ('a', 'd', 'a'): 0, ('d', 'a', 'm'): 0, ('n', 'n', 'e'): 0, ('n', 'e', 'l'): 0, ('o', 'c', 'r'): 0, ('l', 's', 't'): 0, ('o', 'i', 'l'): 0, ('i', 'l', 't'): 0, ('o', 't', 's'): 0, ('r', 'u', 'd'): 0, ('d', 'e', 'n'): 0, ('l', 'k', ' '): 0, ('w', 'o', 'm'): 0, ('s', 'a', 'd'): 0, ('m', ' ', 'h'): 0, ('s', 'h', 'y'): 0, ('t', 'j'): 0, ('y', 'y'): 0, ('u', 'n', 'f'): 0, ('n', 'f', 'u'): 0, ('s', 't', 'j'): 0, ('t', 'j', 'e'): 0, ('j', 'e', 'e'): 0, ('z', ' ', 'h'): 0, ('n', 'y', 'a'): 0, ('y', 'a', 'l'): 0, (' ', 'e', 'g'): 0, ('e', 'g', 'o'): 0, ('a', 'l', 'd'): 0, ('s', 'o', 'g'): 0, ('o', 'g', 'y'): 0, ('g', 'y', 'n'): 0, ('y', 'n', 'i'): 0, ('n', 'a', ' '): 0, ('l', 'y', 'y'): 0, ('y', 'y', 'o'): 0, ('m', ' ', 'y'): 0, ('l', 'i', 'f'): 0, ('w', 'n', ' '): 0, ('n', ' ', 'g'): 0, ('g', ' ', 'j'): 0, ('j', 'u', 'd'): 0, ('a', 't', 'o'): 0, ('t', 'o', 'w'): 0, ('e', 'e', 'i'): 0, ('g', 'a', 'v'): 0, ('p', 'e', 'f'): 0, ('e', 'm', 'i'): 0, ('p', 't', 'h'): 0, ('g', 's', 't'): 0, (' ', 't', 'u'): 0, ('t', 'v'): 0, ('v', ' '): 0, ('v', 'i', 'r'): 0, ('c', 'k', 'e'): 0, ('h', 'u', 'm'): 0, ('u', 'm', 'o'): 0, ('c', 't', 'o'): 0, (' ', 't', 'v'): 0, ('t', 'v', ' '): 0, ('v', ' ', 'b'): 0, ('e', 'i', 'f'): 0, ('r', 't', 's'): 0, ('t', 's', 'y'): 0, ('t', 'l', 'i'): 0, (' ', 'i', 'e'): 0, ('g', 'i', 'l'): 0, ('u', ' ', 'c'): 0, ('e', 'd', 'y'): 0, ('m', 'a', ' '): 0, (' ', 'z'): 0, ('o', 'g', 'u'): 0, ('s', ' ', 'z'): 0, (' ', 'z', 'e'): 0, ('e', 'r', 'o'): 0, ('r', 'o', ' '): 0, ('r', 'l', 'e'): 0, ('a', 'j'): 0, (' ', 'l', ' '): 0, (' ', 'o', ' '): 0, (' ', 'n', ' '): 0, (' ', 'g', ' '): 0, ('g', ' ', 'e'): 0, (' ', 'e', ' '): 0, (' ', 't', ' '): 0, ('t', 'i', 'a'): 0, ('m', 'a', 'd'): 0, ('s', 't', 'l'): 0, ('g', 'o', 'n'): 0, ('a', 'w', 'n'): 0, ('t', 't', 'h'): 0, ('m', 'a', 'j'): 0, ('a', 'j', 'o'): 0, ('j', 'o', 'r'): 0, ('p', 'o', 'p'): 0, ('p', ' ', 'u'): 0, ('p', ' ', 'h'): 0, ('n', 'i', 'o'): 0, ('v', 'u'): 0, ('l', 'g'): 0, ('x', 'u'): 0, ('c', 'n'): 0, ('h', ' ', 'k'): 0, ('a', ' ', 'z'): 0, ('r', 'u', 'l'): 0, (' ', 'v', 'u'): 0, ('v', 'u', 'l'): 0, ('u', 'l', 'g'): 0, ('l', 'g', 'a'): 0, ('n', 's', 'i'): 0, ('s', 'i', 'v'): 0, ('s', 'i', 's'): 0, ('s', 'a', 'r'): 0, ('n', 'u', 'd'): 0, ('g', 'h', 'l'): 0, ('h', 'l', 'y'): 0, ('k', 'e', 'a'): 0, (' ', 's', 'w'): 0, ('s', 'w', 'e'): 0, ('m', 's', 'e'): 0, ('a', 'm', 's'): 0, ('s', 'e', 'x'): 0, ('e', 'x', 'u'): 0, ('x', 'u', 'a'): 0, ('l', ' ', 'm'): 0, ('d', 'o', 'i'): 0, ('x', 'c', 'i'): 0, ('s', 'u', 'g'): 0, ('k', 'i', 'p'): 0, ('l', 't', 'o'): 0, ('t', 'o', 'g'): 0, ('o', 'g', 'e'): 0, ('g', 'i', 'c'): 0, ('t', 's', 'c'): 0, ('c', 'o', 't'): 0, ('t', 't', ' '): 0, ('a', 'c', 'n'): 0, ('c', 'n', 'e'): 0, ('n', 'e', 'i'): 0, ('e', 'i', 'l'): 0, ('n', 'o', 'r'): 0, ('t', ' ', 'j'): 0, ('v', 'a', 'n'): 0, ('a', 'r', 'o'): 0, ('e', 'r', 'b'): 0, ('r', 'b', 'e'): 0, ('k', ' ', 'h'): 0, ('l', 'w'): 0, ('o', 'r', 'o'): 0, ('w', ' ', 'c'): 0, ('n', 'y', 'b'): 0, ('y', 'b', 'o'): 0, ('s', 'm', 'i'): 0, ('f', ' ', 'g'): 0, ('a', 'l', 'w'): 0, ('l', 'w', 'a'): 0, ('r', 'm', 's'): 0, ('m', 's', 't'): 0, ('s', 't', 'h'): 0, ('e', 't', 'a'): 0, ('r', 'd', 'd'): 0, ('r', 'o', 'g'): 0, ('j', 'o', 'n'): 0, ('n', 'a', 'h'): 0, ('x', ' ', 'o'): 0, ('p', 'f'): 0, ('k', 'f'): 0, (' ', 'p', 'f'): 0, ('p', 'f', ' '): 0, ('i', 'f', 't'): 0, ('a', 'n', 'k'): 0, ('n', 'k', 'f'): 0, ('k', 'f', 'u'): 0, ('m', 'e', 'p'): 0, ('n', 's', 'c'): 0, ('x', 'c', 'e'): 0, ('n', 'g', 'u'): 0, ('g', 'u', 'a'): 0, ('u', 'a', 'g'): 0, ('l', 't', 'r'): 0, ('x', 'h'): 0, ('b', 'b'): 0, ('h', 'b'): 0, ('s', 'd'): 0, ('s', 'b'): 0, ('n', 'p', 'l'): 0, ('a', 's', 'a'): 0, ('n', 's', 'p'): 0, ('s', 'p', 'i'): 0, ('p', 'i', 'r'): 0, ('e', 'x', 'h'): 0, ('x', 'h', 'i'): 0, ('h', 'i', 'b'): 0, ('i', 'b', 'i'): 0, ('r', 'a', 'h'): 0, ('h', ' ', 'v'): 0, ('a', 'l', 'u'): 0, ('l', 'u', 'e'): 0, ('s', 'u', 'm'): 0, ('u', 'm', 'e'): 0, ('e', 'g', 'e'): 0, ('g', 'e', 'a'): 0, ('e', 'a', 'g'): 0, ('w', 'n', 'i'): 0, ('g', ' ', 'r'): 0, ('a', 'b', 'b'): 0, ('b', 'b', 'i'): 0, ('b', 'i', 's'): 0, ('v', 'e', 'a'): 0, ('g', 'a', 'l'): 0, ('g', ' ', 'u'): 0, ('s', 'p', 'u'): 0, ('p', 'u', 'n'): 0, ('u', 'n', ' '): 0, ('a', 'h', 'b'): 0, ('h', 'b', 'a'): 0, ('i', 's', 'd'): 0, ('s', 'd', 'o'): 0, (' ', 'o', 'b'): 0, ('o', 'b', 's'): 0, ('b', 's', 'e'): 0, ('u', 'r', 'b'): 0, (' ', 'o', 'c'): 0, ('o', 'c', 'c'): 0, ('b', ' ', 't'): 0, ('n', 'e', 'a'): 0, ('r', 't', 'u'): 0, ('t', 'u', 'n'): 0, ('r', 'n', 'o'): 0, ('n', 'o', 'g'): 0, ('p', 'h', 'y'): 0, ('o', 'v', 'a'): 0, ('v', 'a', 'b'): 0, ('b', 'i', ' '): 0, ('p', ' ', 'd'): 0, ('h', 'a', 'b'): 0, ('b', 'b', 'o'): 0, ('b', 'b', 'a'): 0, ('e', 'f', 'e'): 0, ('o', 'n', 'k'): 0, ('n', 'k', 'o'): 0, ('k', 'o', 's'): 0, ('b', 'r', 'o'): 0, ('h', 'u', 's'): 0, ('u', 's', 'b'): 0, ('s', 'b', 'a'): 0, ('r', 'v', 'a'): 0, ('a', 'r', 'n'): 0, ('s', 'u', 'i'): 0, ('l', 'f', 's'): 0, ('f', 's', 'e'): 0, ('s', 's', 'a'): 0, ('s', 'a', 'g'): 0, ('a', ' ', 'k'): 0, ('d', 'l', 'y'): 0, ('d', 'e', 'l'): 0, ('g', 'o', 'd'): 0, ('a', 'w', 's'): 0, ('g', 'l', 'o'): 0, ('l', 'o', 'r'): 0, ('n', 'g', 'o'): 0, ('o', 'd', 'l'): 0, ('a', 'b', 'i'): 0, ('u', 'd', 'g'): 0, ('d', 'g', 'i'): 0, ('m', ' ', 'f'): 0, ('h', 'y', 'p'): 0, ('p', 'o', 'c'): 0, ('e', 'p', 'e'): 0, ('u', 'm', 'a'): 0, ('i', 'r', 'a'): 0, ('o', 's', 'i'): 0, ('t', 'h', 'u'): 0, ('e', 'c', 'u'): 0, ('e', 'i', 's'): 0, ('u', ' ', 'f'): 0, ('p', 'i', 't'): 0, ('r', 't', 'w'): 0, ('l', 't', 'u'): 0, (' ', 'f', ' '): 0, ('i', 'g', 'r'): 0, ('g', 'i', 'o'): 0, ('o', 'w', 'i'): 0, ('r', 'e', 'o'): 0, ('e', 'o', 't'): 0, ('o', 't', 'y'): 0, ('y', 'p', 'i'): 0, ('i', 'q'): 0, ('j', 'f'): 0, ('f', 'k'): 0, ('j', 'e', 'a'): 0, ('w', ' ', 'n'): 0, ('d', 'u', 'r'): 0, ('s', 'a', 's'): 0, ('r', ' ', 'u'): 0, ('n', 'i', 'q'): 0, ('i', 'q', 'u'): 0, ('q', 'u', 'e'): 0, ('a', 'c', 'y'): 0, ('h', 'y', 'i'): 0, ('o', 'w', 'a'): 0, ('l', 'a', 'u'): 0, ('g', 'h', 'a'): 0, ('e', 'd', 'e'): 0, ('a', 's', 'k'): 0, ('h', ' ', 'j'): 0, (' ', 'j', 'f'): 0, ('j', 'f', 'k'): 0, ('f', 'k', ' '): 0, ('j', 'a', 'c'): 0, ('k', 'i', 'e'): 0, (' ', 'b', 's'): 0, ('i', 'r', 'y'): 0, ('r', 'a', 'u'): 0, ('u', 'd', 'n'): 0, ('d', 'n', 'o'): 0, ('c', 'l', 'i'): 0, ('i', 'b', 'u'): 0, ('b', 'u', 'r'): 0, ('u', 'd', ' '): 0, ('c', 'q'): 0, ('d', 'j'): 0, ('i', 'c', 'y'): 0, ('s', 'p', 'l'): 0, ('a', 'c', 'q'): 0, ('c', 'q', 'u'): 0, ('u', 'a', 'i'): 0, (' ', 'i', 'v'): 0, ('h', ' ', 'u'): 0, ('n', 'e', 'c'): 0, ('a', 'd', 'j'): 0, ('d', 'j', 'e'): 0, ('j', 'e', 'c'): 0, ('p', 'p', 'a'): 0, ('s', 'u', 'f'): 0, ('r', 'o', 't'): 0, ('o', 't', 'r'): 0, ('i', 'p', 'e'): 0, ('u', 't', 'c'): 0, ('t', 'c', 'o'): 0, ('i', 'd', 'd'): 0, ('d', 'd', 'i'): 0, ('i', 'a', ' '): 0, ('n', 'w', 'e'): 0, ('r', ' ', 'k'): 0, (' ', 'k', 'a'): 0, ('k', 'a', 'y'): 0, ('o', 'b', ' '): 0, ('b', ' ', 'i'): 0, ('j', 'o', 'b'): 0, ('b', ' ', 'p'): 0, ('d', 'a', 'b'): 0, ('c', 't', 'a'): 0, ('t', 'o', 'n'): 0, ('l', 'd', 'l'): 0, ('g', 'a', 'u'): 0, ('a', 'u', 'l'): 0, ('n', 'c', 'a'): 0, ('r', 'n', 'a'): 0, ('n', 'i', 'b'): 0, ('i', 'b', 'a'): 0, ('b', 'a', 'l'): 0, ('s', 'i', 'l'): 0, ('m', 'p', 'u'): 0, ('l', 't', 'i'): 0, ('i', 'g', 'e'): 0, ('d', 'l', 'i'): 0, ('d', 'w'): 0, ('p', ' ', 'n'): 0, ('n', 'o', 'i'): 0, ('o', 'i', 's'): 0, ('i', 's', 'y'): 0, ('f', 'i', 'v'): 0, ('v', 'i', 'b'): 0, ('p', 'a', 'd'): 0, ('a', 'd', 'n'): 0, ('a', 'd', 'w'): 0, ('d', 'w', 'e'): 0, ('e', 'w', 'o'): 0, ('t', 'h', 'l'): 0, ('h', 'l', 'e'): 0, ('b', 'j'): 0, ('h', 'e', 'o'): 0, ('e', 'o', 'r'): 0, ('m', ' ', 'u'): 0, ('o', 'b', 'j'): 0, ('b', 'j', 'e'): 0, ('c', 't', 's'): 0, ('o', 'g', 'a'): 0, (' ', 'i', 'g'): 0, ('g', 'n', 'o'): 0, ('a', 's', 'p'): 0, ('s', 'p', ' '): 0, ('d', 'v', 'a'): 0, ('x', 'p', 'o'): 0, ('c', 'i', 'p'): 0, ('i', 'p', 'l'): 0, ('s', 'n', ' '): 0, ('t', 'd'): 0, ('f', 'y'): 0, ('w', 'w'): 0, ('i', 'i'): 0, ('n', 's', 'a'): 0, ('s', 'f', 'a'): 0, ('u', 't', 'd'): 0, ('t', 'd', 'a'): 0, ('r', 'c', 'e'): 0, ('g', 'a', 'p'): 0, ('u', 'c', 'a'): 0, (' ', 'e', 'c'): 0, ('o', 'n', 'o'): 0, ('n', 'o', 'm'): 0, ('i', 'l', 'b'): 0, ('l', 'b', 'r'): 0, ('i', 'l', 'o'): 0, ('o', 's', 'o'): 0, ('s', 'o', 'p'): 0, ('o', 'p', 'h'): 0, ('s', 'f', 'y'): 0, ('f', 'y', 'i'): 0, ('d', 'i', 'b'): 0, ('b', 's', 'c'): 0, ('f', ' ', 'e'): 0, (' ', 'w', 'w'): 0, ('w', 'w', 'i'): 0, ('w', 'i', 'i'): 0, ('i', 'i', ' '): 0, ('g', 'i', 'd'): 0, ('m', 'p', 'r'): 0, ('n', 't', 'm'): 0, ('t', 'm', 'e'): 0, ('a', 'x'): 0, ('n', 'm'): 0, ('a', 'o'): 0, ('a', 'p', 'i'): 0, ('n', 'p', 'a'): 0, ('a', 'l', 'a'): 0, ('d', 'o', 's'): 0, ('t', 'a', 'x'): 0, ('a', 'x', 'a'): 0, ('x', 'a', 't'): 0, ('r', 'e', 'i'): 0, ('h', 't', 'f'): 0, ('t', 'f', 'o'): 0, ('n', 'k', 'e'): 0, ('k', 'e', 'r'): 0, ('g', 'o', 'v'): 0, ('r', 'n', 'm'): 0, ('n', 'm', 'e'): 0, ('t', 'e', 'u'): 0, ('i', 'g', 'g'): 0, ('n', 'f', 'l'): 0, ('f', 'l', 'u'): 0, ('u', 'e', 'n'): 0, ('v', ' ', 'p'): 0, ('a', 'x', ' '): 0, ('x', ' ', 'm'): 0, ('r', 'm', 'i'): 0, ('n', 'a', 'o'): 0, ('a', 'o', 'm'): 0, ('m', 'i', ' '): 0, (' ', 'k', 'l'): 0, ('k', 'l', 'e'): 0, ('w', ' ', 'u'): 0, ('n', 'f', 'e'): 0, ('f', 'e', 't'): 0, ('d', 't'): 0, ('w', 'o', 'w'): 0, ('p', 'a', 'u'): 0, ('p', 'h', 'r'): 0, ('h', 'r', 'a'): 0, ('s', 'e', 'q'): 0, ('o', 'u', 'p'): 0, ('u', 'p', 's'): 0, ('p', 's', 't'): 0, ('e', 't', 'w'): 0, ('d', 'e', 'm'): 0, ('n', 'd', 't'): 0, ('d', 't', 'h'): 0, ('v', 'a', 's'): 0, ('a', 'm', 'u'): 0, ('l', ' ', 'v'): 0, ('m', 'e', 'i'): 0, ('f', ' ', 'r'): 0, ('n', 'l', 'i'): 0, ('b', 'v'): 0, ('k', 'u'): 0, ('g', 'e', 'm'): 0, ('g', 'h', 'i'): 0, ('l', 'i', 'z'): 0, ('o', 'b', 'v'): 0, ('b', 'v', 'i'): 0, ('m', 'i', 'r'): 0, ('u', 'r', 'v'): 0, ('v', 'i', 'v'): 0, ('n', 's', 'o'): 0, ('n', 'c', 'y'): 0, ('u', 'd', 'l'): 0, ('q', 'u', 'o'): 0, ('u', 'o', 't'): 0, ('m', 'o', 'd'): 0, ('u', 's', 'k'): 0, ('s', 'k', 'u'): 0, ('k', 'u', 'd'): 0, ('u', 'd', 'o'): 0, ('h', 'o', 'e'): 0, ('o', 'e', 'v'): 0, (' ', 'o', 'w'): 0, ('w', 'n', 's'): 0, ('p', 'y', 'r'): 0, ('n', 'c', 's'): 0, ('p', 'u', 's'): 0, ('f', ' ', 'v'): 0, ('r', 'o', 'v'): 0, ('k', 'i', 'm'): 0, ('i', 's', 'l'): 0, ('s', 'l', 'e'): 0, ('f', 'a', 'u'): 0, ('l', 't', 'y'): 0, ('c', ' ', 'a'): 0, ('p', 'e', 'w'): 0, ('y', 'c'): 0, ('e', 'c', 'y'): 0, ('c', 'y', 'c'): 0, ('y', 'c', 'l'): 0, ('p', 'e', 'p'): 0, ('e', 'p', 'p'): 0, ('i', 't', 'c'): 0, ('h', 't', 'm'): 0, ('f', 'u', 'd'): 0, ('m', 'a', 'p'): 0, ('a', 'p', 'l'): 0, ('i', 'u'): 0, ('x', 'l'): 0, ('a', 'a'): 0, ('f', 'i', 't'): 0, ('z', 'e', 's'): 0, ('d', 'i', 'u'): 0, ('i', 'u', 'm'): 0, ('o', ' ', 'x'): 0, (' ', 'x', 'l'): 0, ('x', 'l', 'a'): 0, ('w', 'a', 'a'): 0, ('a', 'a', 'a'): 0, ('a', 'a', 'y'): 0, ('o', 'p', 't'): 0, ('e', 'd', 't'): 0, (' ', 'z', 'i'): 0, ('z', 'i', 'p'): 0, ('a', 'i', 's'): 0, ('o', ' ', 'y'): 0, ('g', 'i', 'r'): 0, ('i', 'r', 'l'): 0, ('s', 'q'): 0, ('m', 'f'): 0, ('s', 'q', 'u'): 0, ('u', 'e', 'e'): 0, ('o', 'm', 'f'): 0, ('m', 'f', 'o'): 0, ('e', 'i', ' '): 0, (' ', 'r', 'u'): 0, ('r', 'u', 'n'): 0, ('l', 'i', 'p'): 0, ('i', 'p', 's'): 0, ('m', ' ', 'v'): 0, ('r', 'o', 'k'): 0, (' ', 'n', 'd'): 0, ('w', ' ', 'b'): 0, ('y', 's', 'e'): 0, ('m', 'a', 'x'): 0, ('x', ' ', 'i'): 0, ('t', ' ', 'q'): 0, ('i', 'o', 'd'): 0, ('s', 'n', 'u'): 0, ('n', 'u', 'g'): 0, ('u', 'g', ' '): 0, (' ', 's', 'q'): 0, ('t', 'i', 'g'): 0, ('i', 'p', 'm'): 0, ('p', 'm', 'i'): 0, ('a', ' ', 'a'): 0, ('r', 'y', 'b'): 0, ('o', 'o', 'b'): 0, ('c', 'h', 'y'): 0, ('r', 'u', 'i'): 0, ('u', 'i', 's'): 0, ('s', 'l', 'i'): 0, ('n', 'k', 'i'): 0, ('c', 'o', 'w'): 0, ('o', 'w', 'o'): 0, ('n', 'k', 's'): 0, ('w', ' ', 'l'): 0, ('k', 'o', 'n'): 0, ('m', 'c'): 0, ('y', 'v'): 0, ('w', 'n', 'e'): 0, ('e', 'a', 'm'): 0, ('a', 'd', 's'): 0, ('a', 'm', 'c'): 0, ('m', 'c', 'o'): 0, ('e', 'x', 'e'): 0, ('x', 'e', 'r'): 0, ('e', 'y', 'v'): 0, ('y', 'v', 'e'): 0, ('s', 'k', 'e'): 0, ('f', 'u', 'r'): 0, ('p', 't', 's'): 0, ('e', 'm', 'f'): 0, ('x', ' ', 's'): 0, ('s', 'p', 'm'): 0, ('p', 'm', 'a'): 0, ('x', 's'): 0, ('e', ' ', 'x'): 0, (' ', 'x', 's'): 0, ('x', 's', ' '): 0, ('r', 'd', 'l'): 0, ('a', 'w', 'e'): 0, ('r', 'u', 'b'): 0, ('u', 'b', 'b'): 0, ('b', 'b', 'e'): 0, ('r', 'f', 'u'): 0, ('j', 'a', 'n'): 0, ('j', 'i'): 0, ('n', 'e', 'g'): 0, ('g', 'a', 't'): 0, (' ', 'j', 'i'): 0, ('j', 'i', 'g'): 0, ('h', 'a', 'k'): 0, ('k', 'e', 'i'): 0, ('g', 's', 'p'): 0, ('e', 'f', 'f'): 0, ('f', 't', 'o'): 0, ('t', 'o', 'v'): 0, ('r', 's', 'a'): 0, ('s', 'a', 'c'): 0, ('a', 'n', 'a'): 0, ('n', 'a', 'g'): 0, ('k', 's', 'c'): 0, ('l', 'd', 's'): 0, ('u', 'n', 'w'): 0, ('g', 'g', 'i'): 0, ('o', 'n', 'p'): 0, ('v', 'e', 'y'): 0, ('e', 'y', 'e'): 0, ('s', 'p', 'a'): 0, (' ', 'g', 'h'): 0, ('g', 'h', 'o'): 0, ('a', 'u', 'r'): 0, ('z', 'y'): 0, ('f', 'f', 'o'): 0, ('l', 'a', 'z'): 0, ('a', 'z', 'y'): 0, ('z', 'y', ' '): 0, ('k', 'i', ' '): 0, ('u', 'n', 'b'): 0, ('n', 'b', 'e'): 0, ('e', 'v', 'a'): 0, ('s', 't', 'd'): 0, ('t', 'd', 'o'): 0, ('e', 'a', 'v'): 0, ('t', 'n'): 0, ('s', 't', 'n'): 0, ('t', 'n', 'o'): 0, ('p', 'u', 'l'): 0, ('d', 'i', 'l'): 0, ('n', 'b', 'u'): 0, ('u', 'a', 'r'): 0, ('h', 'a', 'c'): 0, ('n', 's', 's'): 0, ('v', 'o', 'r'): 0, ('s', 'p', 'y'): 0, ('u', 'l', 'f'): 0, ('l', 'f', 'i'): 0, ('i', 'g', 'a'): 0, (' ', 'm', 'r'): 0, ('m', 'r', ' '): 0, ('r', 't', 'o'): 0, ('o', 'o', 'n'): 0, ('u', 'p', 'l'): 0, ('e', 'd', 'l'): 0, ('u', ' ', 'e'): 0, ('d', 'd', 'l'): 0, ('b', 'o', 'm'): 0, ('v', 'i', 'a'): 0, ('d', 'u', 's'): 0, ('t', 's', 'o'): 0, ('s', 'o', 'e'): 0, ('s', 's', 't'): 0, ('r', 'y', 'y'): 0, ('l', 'e', 'e'): 0, ('e', 'n', 'p'): 0, ('s', 'y', 'l'): 0, ('y', 'l', 'l'): 0, ('l', 'a', 'b'): 0, ('l', 'e', 'x'): 0, ('e', 'x', ' '): 0, ('s', 'u', 's'): 0, ('u', 's', 'p'): 0, ('r', 'm', 'u'): 0, ('m', 'u', 'l'): 0, ('a', 'i', 'c'): 0, ('w', 'a', 'd'): 0, ('s', 'h', 'r'): 0, ('a', 't', 'm'): 0, ('t', 'm', 'o'): 0, ('o', 's', 'p'): 0, ('s', 'p', 'h'): 0, ('h', 'o', 'c'): 0, ('p', 'u', 'e'): 0, ('u', 'e', 'r'): 0, ('m', 'e', 'e'): 0, ('i', 't', 'o'): 0, ('a', 'd', 'l'): 0, ('r', 'n', 's'): 0, ('b', 'l', 'o'): 0, ('k', 'e', 'l'): 0, ('r', 'v', 'e'): 0, ('s', 'h', 'l'): 0, (' ', 'i', 'r'): 0, ('h', 'w'): 0, ('t', 'z'): 0, ('a', 'n', 'p'): 0, ('e', 'r', 'd'): 0, ('r', 'd', 'o'): 0, ('n', ' ', 'q'): 0, ('u', 'a', 'f'): 0, ('r', 'm', 'o'): 0, ('s', 'h', 'm'): 0, ('s', 'k', 'y'): 0, ('a', 'y', 'n'): 0, ('y', 'n', 'e'): 0, ('c', 'h', 'w'): 0, ('h', 'w', 'a'): 0, ('r', 't', 'z'): 0, ('t', 'z', ' '): 0, ('z', ' ', 'l'): 0, ('u', 'z'): 0, ('m', 'u', 'z'): 0, ('u', 'z', 'i'): 0, ('z', 'i', 'k'): 0, ('i', 'k', ' '): 0, ('k', ' ', 'l'): 0, ('l', 'l', 'r'): 0, ('l', 'r', 'o'): 0, ('v', 'e', 'g'): 0, ('g', 'a', 's'): 0, ('w', 't'): 0, ('y', 'm'): 0, ('u', 'x'): 0, ('h', 'a', 'w'): 0, ('a', 'w', 't'): 0, ('w', 't', 'h'): 0, ('s', 'y', 'm'): 0, ('y', 'm', 'b'): 0, ('m', 'b', 'o'): 0, ('b', 'o', 'l'): 0, ('l', 'c', 'o'): 0, ('c', 'o', 'h'): 0, ('o', 'h', 'o'): 0, ('a', 'x', 'e'): 0, ('x', 'e', 's'): 0, ('a', 't', 'l'): 0, ('t', 'l', 'a'): 0, ('h', 'r', 'u'): 0, ('r', 'u', 'g'): 0, ('h', 'u', 'x'): 0, ('u', 'x', 'l'): 0, ('x', 'l', 'e'): 0, ('i', 'n', 'm'): 0, ('h', 'n'): 0, ('t', 'e', 'c'): 0, ('c', 'h', 'n'): 0, ('h', 'n', 'i'): 0, ('r', 'e', 'q'): 0, ('u', 'i', 'r'): 0, ('u', 't', 'o'): 0, ('p', 'a', 'b'): 0, ('b', 'i', 'l'): 0, ('o', 'l', 'b'): 0, ('l', 'b', 'y'): 0, ('w', 'e', 'b'): 0, ('e', 'b', 's'): 0, ('b', 's', 'i'): 0, ('m', 'h'): 0, ('k', 'e', 'n'): 0, ('o', 'm', 'h'): 0, ('m', 'h', 'a'): 0, ('a', 'g', 'g'): 0, ('r', 'l', ' '): 0, ('r', 'h', 'u'): 0, ('c', 'i', 'z'): 0, ('s', 'o', 'c'): 0, ('o', 'c', 'i'): 0, ('i', 'e', 't'): 0, ('e', 't', 'y'): 0, ('m', 't'): 0, ('e', 'n', 'g'): 0, ('g', 'l', 'i'): 0, ('t', 'u', 'd'): 0, ('e', 'm', 't'): 0, ('m', 't', 'o'): 0, ('n', 'o', 's'): 0, ('o', 's', 'u'): 0, ('y', 'm', 'p'): 0, ('h', 'i', 'z'): 0, ('e', 'n', 'l'): 0, ('a', 'b', 'e'): 0, ('k', ' ', 'g'): 0, ('d', 'd', 's'): 0, ('t', 'e', 'x'): 0, ('u', 'j'): 0, ('g', 'w'): 0, ('l', 'e', 'l'): 0, ('e', 'l', 'u'): 0, ('l', 'u', 'j'): 0, ('u', 'j', 'a'): 0, ('j', 'a', 'h'): 0, ('n', 'g', 'w'): 0, ('g', 'w', 'i'): 0, ('d', 'a', 'l'): 0, ('k', ' ', 'u'): 0, ('m', 'n'): 0, ('d', 's', 'c'): 0, ('s', 'i', 'e'): 0, ('b', 'e', 'd'): 0, ('c', 'o', 'o'): 0, ('k', 'i', 'f'): 0, ('u', ' ', 'b'): 0, ('l', 'u', 'm'): 0, ('u', 'm', 'n'): 0, ('m', 'n', 's'): 0, ('i', 'r', 'r'): 0, ('b', 'l', 'u'): 0, ('u', 'e', 'b'): 0, ('e', 'b', 'o'): 0, ('g', 'n', 'm'): 0, (' ', 'u', 'g'): 0, ('u', 'm', 'm'): 0, ('n', 't', 'u'): 0, ('u', 'r', 'y'): 0, ('u', ' ', 'i'): 0, ('n', 'h', 'o'): 0, ('a', 'r', 'm'): 0, ('s', 'l', ' '): 0, ('e', 'c', 'l'): 0, ('s', 'i', 'f'): 0, ('v', 'g'): 0, ('a', 'v', 'g'): 0, ('v', 'g', ' '): 0, ('y', ' ', 'q'): 0, ('l', 'v', 'i'): 0, ('r', 'l', 's'): 0, ('r', 'e', 'b'): 0, ('e', 'b', 'e'): 0, ('e', 'n', 'a'): 0, ('n', 'a', 'c'): 0, ('b', 'n'): 0, ('i', 's', 'b'): 0, ('s', 'b', 'n'): 0, ('b', 'n', ' '): 0, ('i', 'n', 'y'): 0, ('d', 'u', 't'): 0, ('u', 't', 'y'): 0, ('t', ' ', 'z'): 0, ('i', 'l', 'u'): 0, ('l', 'u', 'r'): 0, ('n', 'i', 'f'): 0, ('f', 'l', 'a'): 0, ('l', 'l', 't'): 0, ('d', 'a', 'd'): 0, ('d', 'a', 'i'): 0, ('m', 'a', 'u'): 0, ('i', 'e', 'l'): 0, ('g', 'g', 'o'): 0, ('d', 'u', 'e'): 0, ('l', ' ', 'y'): 0, ('u', 'r', 'g'): 0, ('d', 'u', 'a'): 0, ('a', 'c', 'a'): 0, ('r', 'y', 'o'): 0, ('w', 'i', 'd'): 0, ('i', 'd', 'o'): 0, ('g', 'r', 'i'): 0, ('s', 'g'): 0, ('b', 'o', 'g'): 0, ('d', 'e', 't'): 0, ('u', 'r', 'l'): 0, ('i', 's', 'g'): 0, ('s', 'g', 'u'): 0, ('g', 'u', 's'): 0, (' ', 'h', 's'): 0, ('f', 'o', 'n'): 0, ('w', 'r', 'a'): 0, ('p', ' ', 'c'): 0, ('d', 'm'): 0, ('v', 'l'): 0, ('a', 'd', 'm'): 0, ('d', 'm', 'i'): 0, ('o', 'n', 'f'): 0, ('i', 'z', 'i'): 0, ('g', 'w', 'o'): 0, ('e', 's', 'd'): 0, ('s', 'd', 'a'): 0, ('s', 's', 'c'): 0, ('u', 's', 's'): 0, ('s', 'm', 'o'): 0, ('m', 'o', 'k'): 0, ('o', 'l', 's'): 0, ('t', 'a', 'm'): 0, ('a', 't', 'y'): 0, ('t', 'e', 'v'): 0, ('a', 's', 'l'): 0, ('y', 't', 'i'): 0, ('p', 'e', 'e'): 0, ('e', 'd', 'r'): 0, ('g', 'h', 's'): 0, ('h', 's', 'c'): 0, ('l', 'o', 'd'): 0, ('r', 'u', ' '): 0, ('n', 'r', 'a'): 0, ('a', 'v', 'l'): 0, ('v', 'l', 'e'): 0, ('r', 'c', 'o'): 0, ('u', 'r', 'a'): 0, ('s', 'u', 'x'): 0, ('u', 'x', ' '): 0, ('x', ' ', 'w'): 0, ('w', 'l'): 0, ('o', 'w', 'l'): 0, ('w', 'l', 'y'): 0, ('x', 'p', 'l'): 0, ('a', ' ', 'e'): 0, ('i', ' ', 'q'): 0, ('h', 't', 'l'): 0, ('i', 'n', 'l'): 0, ('t', 'h', 'y'): 0, ('w', ' ', 'e'): 0, ('o', 'd', 'n'): 0, ('d', 'n', 'e'): 0, ('o', 'b', 'e'): 0, ('y', 'z'): 0, ('f', 'n'): 0, ('l', 'y', 'z'): 0, ('y', 'z', 'i'): 0, ('h', 'a', 'i'): 0, ('i', 'c', 'l'): 0, ('c', 'l', 'y'): 0, ('r', 'b', 'o'): 0, ('p', 'e', 'i'): 0, ('e', 'i', 'c'): 0, ('g', 'o', 'u'): 0, (' ', 'e', 'y'): 0, ('f', 'f', 'n'): 0, ('f', 'n', 'o'): 0, ('a', 'p', 'y'): 0, ('r', 'm', 'e'): 0, ('w', 'a', 'k'): 0, ('l', 'p', 's'): 0, ('o', 'm', 'n'): 0, ('m', 'n', 'i'): 0, (' ', 'c', 'i'): 0, ('n', 'c', 'r'): 0, ('e', 'p', 'o'): 0, ('e', 'c', 'c'): 0, (' ', 'd', ' '): 0, ('g', 't'): 0, ('h', 'i', 'r'): 0, ('n', 'g', 't'): 0, ('g', 't', 'h'): 0, ('l', 't', 'e'): 0, ('n', 'e', 't'): 0, ('n', 'g', 'a'): 0, ('g', 'a', 'g'): 0, ('h', 'k'): 0, ('m', 'u', 'n'): 0, ('c', 'h', 'k'): 0, ('h', 'k', 'i'): 0, ('p', 'd'): 0, ('k', 'h'): 0, ('s', 'i', 'a'): 0, ('l', 'a', 'o'): 0, ('a', 'o', 's'): 0, ('n', 'k', 'l'): 0, ('t', 'h', 'n'): 0, ('h', 'n', 'o'): 0, ('u', 'g', 'u'): 0, ('u', 'p', 'd'): 0, ('p', 'd', 'a'): 0, ('g', ' ', 'k'): 0, (' ', 'k', 'h'): 0, ('k', 'h', 'a'): 0, ('a', 'v', 'a'): 0, ('v', 'a', 'i'): 0, ('a', 'f', 'e'): 0, ('u', 's', 'r'): 0, ('s', 'r', 'o'): 0, ('x', 'e', 'd'): 0, ('n', 'c', 't'): 0, ('l', 'd', 'v'): 0, ('i', 's', 'w'): 0, ('s', 'w', 'i'): 0, ('w', 'i', 'r'): 0, ('a', 'g', 'l'): 0, ('o', 'l', 't'): 0, ('l', 't', 'a'): 0, ('x', 't', 'e'): 0, ('n', 't', 'w'): 0, ('o', 'd', 'o'): 0, ('d', 'h'): 0, ('l', 'd', 'h'): 0, ('d', 'h', 'o'): 0, ('c', ' ', 'd'): 0, ('m', 'e', 'b'): 0, ('t', 't', 'r'): 0, ('r', 'u', 't'): 0, ('n', 'n', 'u'): 0, ('n', 'u', 'e'): 0, ('k', 'k'): 0, ('a', 'n', 'u'): 0, ('n', 'u', 'k'): 0, ('u', 'k', 'k'): 0, ('k', 'k', 'a'): 0, ('k', 'a', 'h'): 0, ('l', 'e', 'w'): 0, ('d', 'a', 'v'): 0, ('d', 'r', 'u'): 0, ('m', 'm', 'u'): 0, ('g', 'i', 'e'): 0, ('i', 't', 'n'): 0, ('t', 'n', 'e'): 0, ('a', 'o', 'r'): 0, ('r', 'w', 'e'): 0, ('u', 'l', 'e'): 0, ('g', 'o', 'e'): 0, ('s', 'u', 'd'): 0, ('d', 'd', 'e'): 0, ('o', 'd', 's'): 0, ('o', 'i', 'c'): 0, ('i', 'k', 'a'): 0, ('k', 'a', 'b'): 0, ('p', ' ', 'y'): 0, ('k', ' ', 'n'): 0, ('u', 'k', 'a'): 0, ('r', 'a', 'z'): 0, ('w', 'n', 'r'): 0, ('n', 'r', 'i'): 0, ('c', 'i', 'o'): 0, ('m', 'b', 'u'): 0, ('b', 'u', 'g'): 0, ('s', 'h', 't'): 0, ('h', 't', 'a'): 0, ('o', 'k', 'a'): 0, ('n', 't', 'y'): 0, ('a', 'd', 'f'): 0, ('c', 'h', 'm'): 0, ('h', 'm', 'a'): 0, ('l', 't', 'z'): 0, ('z', ' ', 'o'): 0, ('i', 'r', 'g'): 0, ('t', 'h', 's'): 0, ('k', 's', 'd'): 0, ('g', 'n', 'a'): 0, ('c', 'r', 'p'): 0, ('r', 'p', ' '): 0, ('p', ' ', 'l'): 0, ('t', 'u', 'l'): 0, ('o', 'd', 'i'): 0, ('e', 'a', 'h'): 0, ('c', ' ', 'c'): 0, ('w', ' ', 'g'): 0, ('o', 'g', 'o'): 0, ('g', 'o', 's'): 0, ('j', 'e', 'w'): 0, ('p', ' ', 'g'): 0, ('s', 'c', ' '): 0, ('g', 'i', 'b'): 0, ('o', 't', 'o'): 0, ('o', 'c', 'o'): 0, ('f', 'a', 'x'): 0, ('v', ' ', 's'): 0, ('d', 't', 'r'): 0, ('r', 'p', 'r'): 0, ('v', 'e', 'h'): 0, ('e', 'y', 's'): 0, ('r', 'u', 'm'): 0, ('d', 'e', 'u'): 0, ('e', 'u', 's'): 0, ('e', 'n', 'b'): 0, ('e', 'r', 'g'): 0, ('r', 'g', ' '): 0, ('l', 'k', 'i'): 0, ('g', 'n', 's'): 0, ('c', ' ', 'm'): 0, ('h', ' ', 'l'): 0, ('h', 'o', 'v'): 0, ('h', 'i', 'k'): 0, ('k', 'a', 'd'): 0, ('i', 'n', 'o'): 0, ('d', 'p'): 0, ('f', 't', 'y'): 0, ('t', 'u', 's'): 0, ('d', 's', 'p'): 0, ('y', 'l', 'u'): 0, ('a', 'd', 'p'): 0, ('d', 'p', 'i'): 0, ('g', 'o', 'r'): 0, (' ', 'p', 't'): 0, ('o', ' ', 'q'): 0, ('o', 'k', 'l'): 0, ('k', 'l', 'o'): 0, ('m', 'b', 's'): 0, ('e', 'm', 'y'): 0, ('d', 's', 'b'): 0, ('s', 'b', 'l'): 0, ('a', 'h', 'a'): 0, ('b', 'b', 'l'): 0, ('t', 'e', 'f'): 0, ('g', 'd'): 0, ('e', 'g', 'd'): 0, ('g', 'd', 'o'): 0, ('i', 'e', 'h'): 0, ('c', 'a', ' '): 0, ('l', 'u', 'b'): 0, ('u', 'b', ' '): 0, ('b', ' ', 'w'): 0, ('n', 'c', ' '): 0, ('n', 'u', 'f'): 0, ('u', 'f', 'a'): 0, ('o', 'd', 'd'): 0, ('l', 'd', 'f'): 0, ('d', 'f', 'a'): 0, ('l', 'u', 'n'): 0, ('c', 'h', 'b'): 0, ('h', 'b', 'o'): 0, ('x', ' ', 'f'): 0, ('l', 'n'): 0, ('u', 'l', 'n'): 0, ('l', 'n', 't'): 0, ('l', 'l', 'w'): 0, ('l', 'w', 'e'): 0, ('s', ' ', 'q'): 0, ('d', 'i', 'v'): 0, ('i', 'v', 'u'): 0, ('v', 'u', 'a'): 0, ('m', 'o', 'y'): 0, ('j', 'o', 'h'): 0, ('o', 'h', 'n'): 0, ('h', 'n', 's'): 0, ('c', ' ', 'j'): 0, ('e', 'k', ' '): 0, ('d', 'u', 'b'): 0, ('b', 'b', 'y'): 0, ('g', 's', 'o'): 0, ('e', 'j'): 0, (' ', 'y', 'a'): 0, ('r', 'e', 'j'): 0, ('e', 'j', 'e'): 0, ('s', 't', 'p'): 0, ('t', 'p', 's'): 0, (' ', 'm', 'c'): 0, ('m', 'c', 'a'): 0, ('a', 'n', 'l'): 0, ('a', 'n', 'f'): 0, ('n', 'f', ' '): 0, ('u', 'e', 'd'): 0, ('s', 'i', 'x'): 0, ('c', 'g'): 0, (' ', 'l', 'l'): 0, ('l', 'c', ' '): 0, ('e', 'l', 'c'): 0, ('e', 'w', 'n'): 0, ('m', 'c', 'g'): 0, ('c', 'g', 'u'): 0, ('p', 'c'): 0, (' ', 'i', 'p'): 0, ('i', 'p', 'o'): 0, ('p', 'o', 'd'): 0, ('a', 'c', 's'): 0, ('i', 'p', 'c'): 0, ('p', 'c', 'o'): 0, ('i', 'a', 'c'): 0, ('a', 'c', 'o'): 0, ('s', 'c', 'l'): 0, ('r', 't', 'l'): 0, ('m', 'm', 's'): 0, ('t', 'e', 'i'): 0, ('f', 'f', 'y'): 0, ('f', 'y', ' '): 0, ('r', 'i', ' '): 0, ('a', 's', 'm'): 0, (' ', 'p', 's'): 0, ('p', 's', 'a'): 0, ('d', 'a', 'p'): 0, (' ', 'g', 't'): 0, ('u', 's', 'o'): 0, ('r', 'k', 'i'): 0, (' ', 'c', 'y'): 0, ('s', 'h', 'u'): 0, ('h', 'u', 't'): 0, ('u', 'i', 'n'): 0, (' ', 'i', 'b'): 0, ('i', 'b', 'o'): 0, ('g', 'g', 'l'): 0, ('c', 'b'): 0, ('z', 'z'): 0, ('t', 'c', 'b'): 0, ('c', 'b', 'u'): 0, ('b', 'u', 'z'): 0, ('u', 'z', 'z'): 0, ('z', 'z', 'i'): 0, ('p', 't', 'o'): 0, ('s', 'b', ' '): 0, ('o', 'w', 'h'): 0, (' ', 'g', 's'): 0, ('m', ' ', 'r'): 0, ('e', 'k', 'e'): 0, ('u', 'i', 'p'): 0, ('u', 'e', 'a'): 0, ('a', 'k', 'y'): 0, ('c', 'u', 't'): 0, (' ', 'r', 'm'): 0, ('g', 'w', 'h'): 0, ('o', 'd', 'g'): 0, ('n', 'u', 'a'): 0, ('b', 'o', ' '): 0, ('d', 'c'): 0, ('r', 'n', 't'): 0, (' ', 'm', ' '): 0, ('n', 's', 'f'): 0, ('s', 'f', 'o'): 0, ('i', 'n', 'p'): 0, ('n', 'p', 'u'): 0, (' ', 'u', 'l'): 0, (' ', 'd', 'c'): 0, ('d', 'c', ' '): 0, ('o', 'n', 'n'): 0, ('r', 'd', 't'): 0, ('k', 'n', 'c'): 0, ('n', 'c', 'k'): 0, ('i', 'o', 't'): 0, ('d', 'f', 'o'): 0, ('e', 'b', ' '): 0, ('b', ' ', 's'): 0, ('e', 'd', 'c'): 0, ('d', 'c', 'l'): 0, ('s', 's', 'l'): 0, ('o', 'b', 't'): 0, ('b', 't', 'a'): 0, ('i', 'f', 'y'): 0, ('x', 'e', 'm'): 0, ('y', 'i', ' '): 0, ('t', 'h', 't'): 0, ('h', 't', 'h'): 0, ('c', 't', 'r'): 0, ('a', 'c', 'm'): 0, ('c', 'm', 'a'): 0, ('v', 'i', 't'): 0, ('g', 't', 'e'): 0, ('k', 'c'): 0, ('r', 'k', 'c'): 0, ('k', 'c', 'o'): 0, ('y', 'e', 'l'): 0, ('d', 'b', 'u'): 0, ('u', 'm', 'i'): 0, ('r', 'o', 'y'): 0, ('v', 'y'): 0, ('x', 'a', 'c'): 0, ('v', 'e', 'i'): 0, ('a', 'v', 'y'): 0, ('v', 'y', ' '): 0, ('c', ' ', 'u'): 0, ('b', 'u', 'l'): 0, ('u', 'l', 'k'): 0, ('l', 'k', 'y'): 0, ('c', 'u', 'm'): 0, ('v', 'e', 'm'): 0, ('a', 'z', 'a'): 0, ('z', 'a', 'r'): 0, ('u', 'g', 'i'): 0, ('f', 'w'): 0, ('n', 's', 'r'): 0, ('s', 'r', 'y'): 0, ('r', 'y', 'c'): 0, ('y', 'c', 'h'): 0, ('g', 'e', 'e'): 0, ('a', 's', 'b'): 0, ('s', 'b', 'e'): 0, ('l', 'f', 'w'): 0, ('f', 'w', 'a'): 0, ('h', 'a', 'u'): 0, ('u', 'l', 'i'): 0, (' ', 's', 's'): 0, ('x', 'h', 'a'): 0, ('p', 'i', 'g'): 0, ('a', 'f', 'r'): 0, ('v', 'd', 's'): 0, ('n', 'g', 'n'): 0, ('j', 'p'): 0, ('g', 'f'): 0, ('n', 'o', 'x'): 0, ('i', 'c', 'o'): 0, ('g', 'a', ' '): 0, ('d', 'o', 'c'): 0, ('x', ' ', 'y'): 0, (' ', 'j', 'p'): 0, ('j', 'p', ' '): 0, ('a', 'g', 's'): 0, (' ', 'i', 'c'): 0, ('n', 'g', 'f'): 0, ('g', 'f', 'r'): 0, ('n', 'f', 'r'): 0, ('e', 'l', 'd'): 0, ('l', 'p', 'f'): 0, ('p', 'f', 'u'): 0, ('m', ' ', 'k'): 0, ('j', 'u', 'm'): 0, ('k', 'e', 'y'): 0, ('p', 'a', 'w'): 0, ('e', 'p', 's'): 0, ('s', 'd', ' '): 0, ('r', 'y', 'e'): 0, ('y', 'a', 'w'): 0, ('t', 'a', 'v'): 0, ('n', 's', 'l'): 0, ('s', 'l', 'a'): 0, ('f', 'c'): 0, ('l', 'f', 'c'): 0, ('f', 'c', 'e'): 0, ('j', 'o', 'u'): 0, ('k', 'w'): 0, ('e', 'y', 't'): 0, ('c', 'k', 'w'): 0, ('k', 'w', 'a'): 0, ('e', 'd', 'w'): 0, ('d', 'w', 'h'): 0, ('w', 'i', 'v'): 0, ('l', 'k', 'e'): 0, ('a', 'r', 'v'): 0, ('i', 'p', 'a'): 0, ('m', 'e', 'c'): 0, ('s', 'i', 'r'): 0, ('s', 'a', 'l'): 0, ('w', 's', 'i'): 0, ('a', 'g', 'n'): 0, ('r', 'y', 'w'): 0, ('y', 'w', 'h'): 0, ('d', 'j', 'u'): 0, ('c', 'o', 'a'): 0, ('l', 't', 'p'): 0, ('t', 'p', 'e'): 0, ('k', 'i', 't'): 0, ('s', 'n', 'a'): 0, ('f', ' ', 'u'): 0, (' ', 'm', 'n'): 0, (' ', 'p', ' '): 0, ('e', 'z', 'i'): 0, ('d', 'e', 'q'): 0, ('q', 'a'): 0, ('l', 'm', 'e'): 0, ('g', 'f', 'u'): 0, ('e', 'q', 'a'): 0, ('q', 'a', 's'): 0, (' ', 'p', 'c'): 0, ('p', 'c', ' '): 0, ('s', 'e', 'f'): 0, ('u', 'l', 'b'): 0, ('u', 'p', 'o'): 0, ('f', 'i', 'o'): 0, ('e', 'i', 'i'): 0, ('m', 'g'): 0, ('i', 'r', 'o'): 0, (' ', 'o', 'm'): 0, ('o', 'm', 'g'): 0, ('m', 'g', 'i'): 0, ('g', 'i', 'f'): 0, ('h', 'i', 'e'): 0, ('c', ' ', 'f'): 0, (' ', 'l', 'p'): 0, ('g', 'm'): 0, ('h', 'v'): 0, ('u', 'e', 'g'): 0, ('e', 'p', 'y'): 0, ('u', 'p', 'b'): 0, ('p', 'b', 'e'): 0, ('n', 'g', 'm'): 0, ('g', 'm', 'u'): 0, ('n', 's', 'h'): 0, ('s', 'h', 'v'): 0, ('h', 'v', 'i'): 0, ('m', 'c', 'c'): 0, ('c', 'c', 'r'): 0, ('s', 'k', 'a'): 0, ('g', 'g', 's'): 0, ('g', 's', 'k'): 0, ('o', 'a', 'c'): 0, ('a', ' ', 'u'): 0, ('y', 'a', ' '): 0, ('x', 'i'): 0, ('x', 'y'): 0, ('l', 'h'): 0, ('m', 'e', 'x'): 0, ('e', 'x', 'i'): 0, ('x', 'i', 'c'): 0, ('m', 'o', 'a'): 0, ('o', 'a', 'n'): 0, ('e', 'x', 'y'): 0, ('x', 'y', ' '): 0, ('r', 'n', 'f'): 0, ('a', 't', 'n'): 0, (' ', 'l', 'h'): 0, ('l', 'h', 'a'): 0, ('s', 'a', ' '): 0, ('e', 't', 'r'): 0, ('y', 'o', 'd'): 0, ('t', 'e', 'g'): 0, ('b', 'o', 'v'): 0, ('t', 'a', 'd'): 0, ('a', 'd', 't'): 0, ('d', 't', ' '): 0, ('r', 'g', 'o'): 0, ('e', 'e', 'v'): 0, ('i', 'a', 'm'): 0, ('e', 'n', 'n'): 0, ('n', 'n', 's'): 0, ('n', 's', 'y'): 0, ('y', 'l', 'v'): 0, ('l', 'v', 'a'): 0, ('t', 'o', 'y'): 0, ('k', 'n', 'i'): 0, ('v', 'h'): 0, (' ', 'v', 'h'): 0, ('v', 'h', 's'): 0, ('h', ' ', 'q'): 0, ('d', 'p', 'h'): 0, ('s', 's', 'y'): 0, ('f', 'i', 'd'): 0, ('w', 'a', 'w'): 0, ('c', 'i', 'r'): 0, ('i', 'r', 'c'): 0, ('r', 'c', 'l'): 0, ('l', 'p', 'u'): 0, ('r', 'g', 'y'): 0, ('g', 'y', ' '): 0, ('f', 'i', 'x'): 0, ('i', 'x', 'i'): 0, ('x', 'i', 'n'): 0, ('h', 'z'): 0, ('b', 'o', 'c'): 0, ('b', ' ', 'r'): 0, ('r', 'k', 'n'): 0, ('b', ' ', 'b'): 0, (' ', 'u', 'm'): 0, (' ', 'm', 'h'): 0, ('m', 'h', 'z'): 0, ('h', 'z', ' '): 0, ('z', ' ', 'p'): 0, ('m', 'e', 'g'): 0, ('g', 'e', 'f'): 0, (' ', 'c', 't'): 0, ('t', 'r', 'l'): 0, ('l', 'a', 'l'): 0, ('l', 't', 'd'): 0, ('t', 'd', 'e'): 0, ('y', 'i', 't'): 0, ('i', 'r', 'w'): 0, ('c', ' ', 'v'): 0, ('o', 's', 'c'): 0, ('n', 'e', 'm'): 0, ('s', 'e', 'o'): 0, ('h', 'o', 'a'): 0, ('o', 'a', ' '): 0, ('m', 'p', 's'): 0, ('o', 'l', 'y'): 0, ('o', 'x', 'e'): 0, ('n', 'u', ' '): 0, (' ', 'e', 'b'): 0, ('b', 'a', 'y'): 0, ('t', 'r', ' '): 0, ('u', 's', 'a'): 0, ('b', 'u', 'd'): 0, (' ', 'w', ' '): 0, (' ', 'r', ' '): 0, ('t', 'u', 'g'): 0, ('g', 'm', 'o'): 0, ('k', 'b'): 0, ('o', 'k', 'b'): 0, ('k', 'b', 'i'): 0, ('p', 'n'): 0, ('d', 'a', 'w'): 0, (' ', 'p', 'n'): 0, ('p', 'n', 'e'): 0, ('n', 'e', 'u'): 0, ('e', 'u', 'm'): 0, ('y', 'a', 'r'): 0, ('n', 'd', 'd'): 0, ('p', 't', 'y'): 0, ('w', 'n', 'm'): 0, ('n', 'm', 'o'): 0, ('m', 'o', 'w'): 0, ('f', 'u', 'c'): 0, ('u', 'c', 'u'): 0, ('e', 'a', 'f'): 0, ('a', 'f', ' '): 0, ('r', 't', 'm'): 0, ('e', 'y', 'i'): 0, ('r', 'd', 'w'): 0, ('d', 'w', 'a'): 0, ('n', 'e', 'q'): 0, ('i', 'v', 'o'): 0, ('i', 'o', 'p'): 0, ('d', 'o', 't'): 0, ('r', 'f', 'a'): 0, ('l', 'o', 'l'): 0, ('l', 'o', 'b'): 0, ('o', 'b', 'r'): 0, ('l', 'u', 'i'): 0, ('u', 'i', 'g'): 0, ('u', 'd', 'u'): 0, ('d', 'u', ' '): 0, ('o', 'i', 'r'): 0, ('e', 'g', 'y'): 0, ('n', 'n', 'a'): 0, ('a', 'p', 'r'): 0, ('e', 'y', 'l'): 0, ('r', 't', 'n'): 0, ('m', 'p', 'h'): 0, ('p', 'h', 'a'): 0, ('a', 'k', 't'): 0, ('k', 't', 'h'): 0, ('s', 'j'): 0, (' ', 'w', 't'): 0, ('m', 'u', 'f'): 0, ('f', 'f', 's'): 0, ('f', 's', 'j'): 0, ('s', 'j', 'u'): 0, ('c', 'a', 'w'): 0, ('t', 'y', 'i'): 0, ('y', 'i', 'f'): 0, ('z', 'c'): 0, ('e', 'n', 'r'): 0, ('i', 'r', 'k'): 0, ('r', 'k', 'y'): 0, ('e', 'c', 'd'): 0, ('c', 'd', 'o'): 0, ('m', 's', 'k'): 0, ('i', 't', 'z'): 0, ('t', 'z', 'c'): 0, ('z', 'c', 'h'): 0, ('m', 'c', 'w'): 0, ('c', 'w', 'i'): 0, ('t', 'x'): 0, ('h', 'a', ' '): 0, ('r', 's', 'h'): 0, ('m', 'm', 'y'): 0, (' ', 't', 'x'): 0, ('w', 'b'): 0, ('k', 'o', 'f'): 0, ('f', 's', ' '): 0, ('o', 'w', 'b'): 0, ('w', 'b', 'o'): 0, ('t', ' ', 'x'): 0, ('f', 'l', 'y'): 0, ('u', 'g', 'l'): 0, ('c', 'o', ' '): 0, ('a', 'd', 'g'): 0, ('g', 'o', 'l'): 0, (' ', 'l', 'b'): 0, ('l', 'b', 's'): 0, ('p', 'i', ' '): 0, ('v', 'a', ' '): 0, ('i', 'a', 'g'): 0, ('r', 'k', 'm'): 0, ('p', 'o', 'k'): 0, ('o', 'g', 's'): 0, ('w', 'c'): 0, ('n', 'a', 'd'): 0, ('e', 'w', 'c'): 0, ('w', 'c', 'o'): 0, ('f', 'g'): 0, ('y', 'f'): 0, (' ', 'm', 'f'): 0, ('m', 'f', 'g'): 0, ('f', 'g', 'r'): 0, ('m', 'a', 'e'): 0, ('a', 'e', 'd'): 0, ('o', 'l', 'f'): 0, ('e', 'c', 's'): 0, ('c', 's', 'i'): 0, (' ', 'u', 'k'): 0, ('u', 'k', ' '): 0, ('e', 'm', 'm'): 0, ('g', 'a', 'd'): 0, ('r', 'y', 'f'): 0, ('y', 'f', 'o'): 0, ('r', 'g', 'u'): 0, ('r', 's', 'u'): 0, ('f', ' ', 'k'): 0, (' ', 'k', ' '): 0, ('b', 'u', 'c'): 0, ('w', 'i', 'p'): 0, ('d', 'l', 'o'): 0, ('t', 'y', 'm'): 0, ('y', 'm', 'y'): 0, ('r', 'c', 'u'): 0, ('i', ' ', 'i'): 0, ('i', 'c', 'r'): 0, ('m', 'm', 'o'): 0, ('h', 'o', 'i'): 0, ('c', 'o', 'd'): 0, ('a', 'w', 'l'): 0, ('w', 'l', 'e'): 0, ('e', 's', 'k'): 0, ('z', 'e', 'n'): 0, ('c', 'p'): 0, (' ', 'c', 'p'): 0, ('c', 'p', ' '): 0, ('r', 'b', 'l'): 0, ('c', 'a', 'i'): 0, ('o', 'c', 'u'): 0, ('l', 'd', 'w'): 0, ('i', 'm', 'f'): 0, ('m', 'f', 'l'): 0, ('w', 'i', 'g'): 0, ('c', 'h', 't'): 0, ('f', 'o', 'c'): 0, ('c', 'a', 'v'): 0, ('l', 'r', 'y'): 0, ('a', 'w', 'i'): 0, ('e', 'f', 's'): 0, ('t', 'o', 'i'): 0, ('o', 'i', 't'): 0, ('f', 'o', 'm'): 0, ('o', 'n', 'm'): 0, ('n', 'm', 'y'): 0, ('p', 'u', 'g'): 0, ('l', 'y', 'n'): 0, ('y', 'n', 'n'): 0, ('n', 'n', ' '): 0, ('i', 'n', 'w'): 0, ('n', 'w', 'h'): 0, (' ', 'n', 'y'): 0, ('n', 'y', 'l'): 0, ('y', 'l', 'o'): 0, ('w', ' ', 'q'): 0, ('x', ' ', 'c'): 0, ('s', 'o', 'y'): 0, ('o', 'y', 'o'): 0, ('w', 's', 'o'): 0, (' ', 'l', 'c'): 0, ('l', 'c', 'd'): 0, ('u', 'u'): 0, ('j', ' '): 0, ('c', 'u', 'u'): 0, ('u', 'u', 'm'): 0, ('i', 'e', 'o'): 0, (' ', 'n', 'j'): 0, ('n', 'j', ' '): 0, ('j', ' ', 't'): 0, ('n', 'o', 'f'): 0, ('w', 'o', 'l'): 0, ('t', 'i', 'z'): 0, ('n', 'b', 'a'): 0, ('l', ' ', 'z'): 0, (' ', 'z', ' '): 0, ('n', ' ', 'k'): 0, ('b', 'd'): 0, ('c', 'o', 'b'): 0, ('o', 'b', 'd'): 0, ('b', 'd', 'p'): 0, ('p', 'h', ' '): 0, ('o', 'x', 'i'): 0, ('x', 'i', 'd'): 0, ('x', 'c', 'h'): 0, ('k', 'r'): 0, ('f', 'h'): 0, (' ', 'k', 'r'): 0, ('k', 'r', 'i'): 0, ('s', 'h', 'n'): 0, ('h', 'n', 'a'): 0, ('t', 'i', 'p'): 0, ('i', 'p', 'r'): 0, ('s', 's', 'b'): 0, ('s', 'b', 'u'): 0, ('m', 'p', 'd'): 0, ('p', 'd', 'y'): 0, ('b', 'i', 'b'): 0, ('i', ' ', 'v'): 0, ('f', 'f', 'h'): 0, ('f', 'h', 'i'): 0, ('l', 'u', 'a'): 0, ('u', 'a', 'b'): 0, ('m', 'g', ' '): 0, ('w', 'i', 'e'): 0, ('s', 'o', 'b'): 0, ('m', 'm', 'm'): 0, ('p', 'g'): 0, ('p', 'w'): 0, ('g', 'p'): 0, ('v', 'x'): 0, ('x', 'r'): 0, ('v', 'p'): 0, ('n', 'k', 'y'): 0, ('u', 'p', 'g'): 0, ('p', 'g', 'r'): 0, ('b', 'a', 'a'): 0, ('a', 'a', 'd'): 0, (' ', 'h', 't'): 0, ('h', 't', 't'): 0, ('t', 't', 'p'): 0, ('t', 'p', 'w'): 0, ('p', 'w', 'w'): 0, ('w', 'w', 'w'): 0, ('w', 'w', 'a'): 0, ('w', 'a', 'm'): 0, ('m', 'g', 'p'): 0, ('g', 'p', 'p'): 0, ('c', 't', 'b'): 0, ('t', 'b', 'y'): 0, ('b', 'y', 'v'): 0, ('y', 'v', 'x'): 0, ('v', 'x', 'r'): 0, ('x', 'r', 'e'): 0, ('e', 'f', 'c'): 0, ('f', 'c', 'm'): 0, ('c', 'm', 'c'): 0, ('m', 'c', 'r'): 0, ('c', 'r', 'r'): 0, ('e', 'v', 'p'): 0, ('v', 'p', 'r'): 0, ('o', 'd', 't'): 0, ('d', 't', 'i'): 0, ('p', 'u', 'm'): 0, ('a', 'l', 'v'): 0, ('n', 'i', 'p'): 0, ('p', 'y', 'n'): 0, ('h', 'a', 'f'): 0, ('b', 'e', 'n'): 0, ('e', 't', 'z'): 0, ('t', 'z', 'e'): 0, ('z', 'e', 'l'): 0, ('a', 'u', 'n'): 0, ('u', 'm', 's'): 0, ('a', 'c', 'd'): 0, ('c', 'd', 'c'): 0, ('s', 'n', 'i'): 0, ('r', 'y', 'd'): 0, ('y', 'd', 'o'): 0, ('i', 'a', 'v'): 0, ('i', 'm', 'o'): 0, ('e', 'u', 'p'): 0, ('c', 'k', 't'): 0, ('b', 'p'): 0, ('u', 'b', 'j'): 0, ('u', 'b', 'p'): 0, ('b', 'p', 'l'): 0, ('g', 'u', 'p'): 0, ('g', 'h', 'b'): 0, ('o', 'r', 'h'): 0, ('r', 'h', 'o'): 0, ('i', 'a', 'r'): 0, ('c', 'h', 's'): 0, ('w', 'l', 'i'): 0, ('d', 'i', 'p'): 0, ('c', 'u', 'z'): 0, ('o', 'j'): 0, ('o', 'z'): 0, ('r', 'a', 'f'): 0, ('r', 'o', 'j'): 0, ('o', 'j', 'e'): 0, ('t', 's', 'm'): 0, (' ', 'o', 'z'): 0, ('o', 'z', ' '): 0, ('e', 'e', 'f'): 0, ('e', 'f', 'y'): 0, ('o', 't', 'c'): 0, ('t', 'r', 's'): 0, ('s', 'n', 'd'): 0, ('l', 'i', ' '): 0, ('t', 'e', 'b'): 0, ('e', ' ', 'z'): 0, (' ', 'z', 'o'): 0, ('z', 'o', 'm'): 0, ('b', 'i', 'e'): 0, ('n', 'g', 'h'): 0, ('k', 'a', 'r'): 0, ('k', 'i', 'c'): 0, ('k', 'e', 'u'): 0, ('o', 'n', 'r'): 0, ('b', 'a', 'k'): 0, ('c', 'e', 'v'): 0, ('r', 'b', 'i'): 0, ('l', 'e', 'p'): 0, ('e', 'p', 'h'): 0, ('m', 't', 'h'): 0, ('o', 'x', 'a'): 0, ('x', 'a', 's'): 0, ('i', 'j'): 0, ('c', 'a', 'g'): 0, ('n', 'y', 'c'): 0, ('y', 'c', ' '): 0, ('e', 'i', 'j'): 0, ('i', 'j', 'i'): 0, ('j', 'i', 'n'): 0, ('a', 'i', ' '): 0, (' ', 'k', 'o'): 0, ('p', 'o', 'm'): 0, ('y', 'o', 'r'): 0, ('h', 'n', ' '): 0, ('g', 'u', 'n'): 0, ('o', 'p', 'u'): 0, ('r', 'o', 'h'): 0, ('o', 'h', 'i'): 0, ('n', 's', 'b'): 0, ('s', 'b', 'i'): 0, ('b', 'i', 'o'): 0, ('c', 's', 'a'): 0, ('t', 't', 'w'): 0, ('l', 's', 'i'): 0, ('u', 'g', 'a'): 0, ('a', 'n', 'w'): 0, ('g', 'u', 'm'): 0, ('a', 'f', 'y'): 0, (' ', 'i', 'i'): 0, ('o', 'k', 'h'): 0, ('k', 'h', 'i'): 0, ('o', 'u', 'i'): 0, ('u', 'i', 'f'): 0, ('l', 'l', 'n'): 0, ('l', 'n', 'e'): 0, ('n', 'd', 'm'): 0, ('d', 'm', 'o'): 0, ('r', 'b', 's'): 0, ('g', 'l', 'u'): 0, ('u', 'c', 'o'): 0, ('f', 'i', 'b'): 0, ('y', 'p', 'n'): 0, ('p', 'n', 'o'): 0, ('t', 'e', 'p'): 0, ('b', 'u', 'e'): 0, ('y', 'x'): 0, ('t', 'y', 'x'): 0, ('y', 'x', ' '): 0, ('x', ' ', 'p'): 0, ('y', 'p', 'g'): 0, ('p', 'g', 'n'): 0, ('r', 'p', 'i'): 0, ('l', 'u', 'x'): 0, ('c', 'd', 'r'): 0, ('d', 'r', 'w'): 0, ('r', 'w', ' '): 0, ('e', 'w', 'r'): 0, ('s', 'i', 'p'): 0, ('i', 'p', 'd'): 0, ('p', 'd', 'e'): 0, (' ', 'g', 'w'): 0, ('y', 'w', 'w'): 0, ('w', 'w', ' '): 0, ('m', 's', 'u'): 0, ('f', 'r', 'y'): 0, ('x', 'b'): 0, ('y', ' ', 'x'): 0, (' ', 'x', 'b'): 0, ('x', 'b', 'o'): 0, ('o', 'x', 's'): 0, ('x', 's', 'e'): 0, ('e', 'w', 'l'): 0, ('g', 'y', 't'): 0, ('s', 'f', 'e'): 0, ('p', 'c', 'i'): 0, ('h', 'c'): 0, ('n', 'y', 's'): 0, ('s', 'h', 'c'): 0, ('h', 'c', 'o'): 0, ('d', 'v', ' '): 0, ('v', ' ', 'f'): 0, ('b', ' ', 'c'): 0, ('a', 'i', 'o'): 0, ('p', 'c', 'm'): 0, ('s', 'y', 'o'): 0, ('y', 's', 'h'): 0, ('f', 'j'): 0, ('j', 'c'): 0, ('c', ' ', 'n'): 0, (' ', 'd', 't'): 0, ('r', 's', 'c'): 0, ('f', 'f', 'j'): 0, ('f', 'j', 'c'): 0, ('e', 'p', 'd'): 0, ('r', 'f', 'l'): 0, ('o', 't', 'n'): 0, ('e', 'b', 'u'): 0, ('n', 'f', 'a'): 0, ('g', 'a', 'c'): 0, ('p', 'h', 'd'): 0, ('h', 'd', ' '): 0, ('i', 'f', 'a'): 0, ('n', 'g', 'r'): 0, ('k', 'i', 'r'): 0, ('b', 'c'): 0, ('n', 'd', 'n'): 0, ('e', 'e', 'c'): 0, (' ', 'b', 'c'): 0, ('b', 'c', ' '): 0, ('a', 's', 'q'): 0, ('y', 'g'): 0, ('u', 't', 'a'): 0, ('t', 'a', 'h'): 0, ('r', 'y', 'g'): 0, ('y', 'g', 'o'): 0, ('j', 's'): 0, (' ', 'l', 'j'): 0, ('l', 'j', 's'): 0, ('j', 's', ' '): 0, (' ', 'n', 'w'): 0, ('n', 'w', ' '): 0, ('m', 'p', 'y'): 0, ('j', 's', 's'): 0, ('r', 'f', 'i'): 0, ('a', 'k', 'l'): 0, ('n', 'q'): 0, ('t', 'n', 'u'): 0, ('r', 's', 'y'): 0, ('u', 'n', 'q'): 0, ('n', 'q', 'u'): 0, ('c', 'y', 'n'): 0, ('a', 'i', 'k'): 0, ('i', 'k', 'u'): 0, ('k', 'u', ' '): 0, ('o', 'g', 'l'): 0, ('p', 'o', 'e'): 0, ('o', 'e', 't'): 0, ('o', 'e', 'm'): 0, ('r', 'm', 'f'): 0, ('m', 'f', 'u'): 0, ('u', ' ', 'y'): 0, ('o', 'r', 'p'): 0, (' ', 'a', 'e'): 0, ('a', 'e', 's'): 0, ('x', 'c', 'u'): 0, ('k', 's', 't'): 0, ('k', 'i', 'g'): 0, ('i', 'g', 'o'): 0, ('o', 'u', 'a'): 0, ('u', 'a', 'c'): 0, ('n', 'd', 'u'): 0, ('j', 'o', 't'): 0, ('o', 'h', 'e'): 0, ('m', 's', 'd'): 0, ('i', 's', 'j'): 0, ('s', 'j', 'o'): 0, ('f', 'o', 'd'): 0, ('n', 'k', 'b'): 0, ('k', 'b', 'a'): 0, ('m', 's', 'o'): 0, ('t', 'h', 'm'): 0, ('n', 'g', 'g'): 0, ('z', 'o', 'r'): 0, ('n', 'b', 'i'): 0, ('o', 'f', 'i'): 0, (' ', 'u', 'f'): 0, ('n', 'f', 'i'): 0, ('p', 'y', 'w'): 0, ('y', 'w', 'r'): 0, ('y', 'j'): 0, ('z', 'y', 'j'): 0, ('y', 'j', 'u'): 0, ('d', 'u', 'd'): 0, ('r', 'o', 'i'): 0, ('o', 'l', 'w'): 0, ('l', 'w', 'h'): 0, ('h', 'u', 'h'): 0, ('u', 'g', 's'): 0, ('i', 'b', 'b'): 0, ('o', 'w', 'f'): 0, ('w', 'f', 'i'): 0, ('u', 't', 'r'): 0, ('v', 'e', 't'): 0, ('p', 'g', 'u'): 0, ('u', 't', 'f'): 0, ('t', 'f', 'r'): 0, ('o', 'o', 'f'): 0, (' ', 'l', 't'): 0, ('l', 't', 't'): 0, ('w', 'l', 'o'): 0, ('u', 'p', 'a'): 0, ('m', 'f', 'i'): 0, ('p', 's', 'h'): 0, ('g', 's', 'a'): 0, ('l', 'y', 'p'): 0, ('y', 'p', 's'): 0, ('c', 's', 'f'): 0, ('l', 'o', ' '): 0, ('b', ' ', 'y'): 0, ('m', 's', 'n'): 0, ('e', 'g', 'g'): 0, ('g', 'g', 'a'): 0, ('g', 'a', 'e'): 0, ('a', 'e', ' '): 0, ('a', 'b', 'u'): 0, ('b', 'm'): 0, ('l', 'b', 'e'): 0, ('l', 'y', 'l'): 0, ('y', 'l', 'i'): 0, ('a', 'p', 'b'): 0, ('p', 'b', 'o'): 0, ('s', 'y', 'e'): 0, ('y', 'e', 'v'): 0, (' ', 'd', 's'): 0, ('v', 'o', 't'): 0, ('u', 'b', 'm'): 0, ('b', 'm', 'i'): 0, ('f', 'i', 'm'): 0, ('r', 'q'): 0, ('u', 'i', 'e'): 0, (' ', 'y', ' '): 0, ('m', 'u', 'j'): 0, ('u', 'j', 'e'): 0, ('v', 'o', 'z'): 0, ('z', ' ', 's'): 0, ('u', 'a', 'v'): 0, ('f', 'u', 'e'): 0, ('o', 'r', 'q'): 0, ('r', 'q', 'u'): 0, ('n', 'a', 'v'): 0, ('u', 'n', 'o'): 0, ('c', 'u', 'c'): 0, ('a', 'd', 'o'): 0, ('l', 'd', 'b'): 0, ('d', 'b', 'i'): 0, ('o', 'r', 'f'): 0, ('f', 't', 'i'): 0, ('x', ' ', 'l'): 0, ('z', 'l'): 0, ('w', 'k'): 0, ('p', 'u', 'z'): 0, ('z', 'z', 'l'): 0, ('z', 'l', 'i'): 0, ('t', 'o', 'b'): 0, ('o', 'b', 'i'): 0, ('i', 'o', 'g'): 0, ('r', ' ', 'x'): 0, (' ', 'x', 'u'): 0, ('x', 'u', 'e'): 0, ('f', 'p', 'e'): 0, ('f', 'p', 'i'): 0, ('o', 'n', 'q'): 0, ('l', 'o', 'i'): 0, ('p', 's', 'y'): 0, ('s', 'y', 'c'): 0, ('a', 'w', 'k'): 0, ('w', 'k', 'w'): 0, ('i', 'h'): 0, ('s', 'e', 'u'): 0, ('e', 'u', 'd'): 0, ('n', 'i', 'h'): 0, ('i', 'h', 'i'): 0, ('c', ' ', 'g'): 0, ('w', 'o', 'e'): 0, ('o', 'e', 'f'): 0, ('f', 'f', 'a'): 0, ('w', 'e', 't'): 0, ('e', 't', 'n'): 0, ('e', 'g', 's'): 0, ('r', 'u', 'a'): 0, ('r', 'u', 'p'): 0, ('u', 'p', 'u'): 0, (' ', 'r', 'f'): 0, ('r', 'f', 'c'): 0, ('f', 'c', ' '): 0, ('r', 'p', 's'): 0, ('s', 'n', 'm'): 0, ('n', 'm', 'p'): 0, (' ', 'p', 'm'): 0, ('p', 'm', 'g'): 0, ('e', 'k', 'i'): 0, ('u', 'd', 'y'): 0, ('d', 'y', 'i'): 0, ('m', 'c', 's'): 0, ('c', 's', 'e'): 0, ('o', 'f', 'o'): 0, ('e', 'n', 'f'): 0, ('o', 'a', 'u'): 0, ('d', 'e', 'x'): 0, ('k', 'n', 'a'): 0, ('l', 'o', 'm'): 0, ('g', 'a', 'z'): 0, ('k', 'o', 'o'): 0, ('n', 't', 'z'): 0, ('z', ' ', 'c'): 0, ('x', 'i', 's'): 0, ('n', 'i', 'v'): 0, ('b', ' ', 'm'): 0, ('z', 'r'): 0, ('y', ' ', 'z'): 0, (' ', 'z', 'r'): 0, ('z', 'r', ' '): 0, ('b', ' ', 'f'): 0, ('n', ' ', 'z'): 0, ('v', 's'): 0, ('l', 'd', 'd'): 0, ('a', 't', 'd'): 0, ('e', 'y', 'b'): 0, ('y', 'b', 'u'): 0, ('d', 'v', 's'): 0, ('v', 's', ' '): 0, ('s', 'e', 'i'): 0, ('a', 's', 'g'): 0, ('s', 'g', 'e'): 0, ('n', 'i', 'k'): 0, ('i', 'k', 'o'): 0, ('e', 'w', 't'): 0, ('w', 't', 'e'): 0, ('o', 'l', 'm'): 0, ('i', 'l', 'k'): 0, ('x', 'e', 'c'): 0, ('e', 'c', ' '): 0, ('n', 'i', 'r'): 0, ('i', 'r', 'v'): 0, (' ', 'k', 'u'): 0, ('k', 'u', 'r'): 0, ('b', 'a', 'i'): 0, ('f', 'b'): 0, (' ', 'f', 'b'): 0, ('f', 'b', 'i'): 0, ('x', ' ', 'g'): 0, ('e', 'f', 'l'): 0, ('u', 'y', 't'): 0, ('y', 't', 'r'): 0, ('x', ' ', 'b'): 0, (' ', 'a', 'k'): 0, ('a', 'k', 'a'): 0, ('k', 'a', ' '): 0, ('t', 'i', 'k'): 0, ('g', 'w', 'e'): 0, ('w', ' ', 'k'): 0, ('e', 'a', 'i'): 0, ('z', 'l', 'e'): 0, (' ', 'c', 'b'): 0, ('c', 'b', ' '): 0, ('b', ' ', 'l'): 0, ('d', 'a', 'c'): 0, ('t', 'y', 't'): 0, (' ', 'b', 'm'): 0, ('b', 'm', 'o'): 0, ('l', 'm', 'a'): 0, ('w', 'u'): 0, ('b', 'x'): 0, (' ', 'd', 'w'): 0, ('d', 'w', 'w'): 0, ('w', 'w', 'u'): 0, ('w', 'u', 's'): 0, ('s', 'b', 'x'): 0, ('b', 'x', 'i'): 0, ('x', 'i', ' '): 0, ('m', 'f', 'r'): 0, ('f', 'r', ' '): 0, ('h', 'a', 'g'): 0, ('c', 'c', 'u'): 0, ('w', 'o', 'b'): 0, ('o', 'b', 'b'): 0, ('i', 'g', 's'): 0, ('e', 'e', 'h'): 0, ('m', 'k'): 0, (' ', 'm', 'k'): 0, ('m', 'k', ' '): 0, ('u', 'r', 'f'): 0, ('r', 'f', ' '): 0, ('d', 'i', 'z'): 0, ('i', 'z', 'z'): 0, ('z', 'z', 'y'): 0, ('t', 'o', 's'): 0, ('o', 'c', 't'): 0, ('a', 'k', 'o'): 0, ('k', 'o', 'u'): 0, ('w', 'a', 'f'): 0, ('c', 'y', 'l'): 0, ('b', ' ', 'd'): 0, ('m', 'd'): 0, (' ', 'm', 'd'): 0, ('m', 'd', ' '): 0, ('l', 'c', 'a'): 0, ('b', 't', 'e'): 0, ('u', 'p', 't'): 0, ('n', 's', 'w'): 0, ('s', 'w', 'a'): 0, ('m', 'w'): 0, ('e', 'm', 'w'): 0, ('m', 'w', 'i'): 0, ('a', 'u', 'c'): 0, ('f', 'o', 's'): 0, ('i', 'd', 'w'): 0, ('d', 'w', 'o'): 0, ('u', 'e', 'p'): 0, ('v', 'n'): 0, ('b', 'i', 'm'): 0, (' ', 'd', 'h'): 0, ('d', 'h', 'l'): 0, ('h', 'l', 'a'): 0, ('a', 'w', 'r'): 0, ('w', 'r', 'e'): 0, ('e', 'v', 'n'): 0, ('v', 'n', ' '): 0, ('h', 'e', 'b'): 0, ('l', 'y', 't'): 0, ('g', ' ', 'q'): 0, ('s', 't', 'w'): 0, ('n', 'y', 'm'): 0, ('y', 'm', 'o'): 0, ('b', 's', 'u'): 0, ('y', 'l', 'a'): 0, ('x', 'f'): 0, (' ', 'o', 'x'): 0, ('o', 'x', 'f'): 0, ('x', 'f', 'o'): 0, ('r', 'd', 'y'): 0, ('d', 'y', 's'): 0, ('u', 'a', 'n'): 0, ('b', 'u', 'b'): 0, ('a', 'i', 'j'): 0, ('o', 'f', 'a'): 0, ('j', 'e', 't'): 0, ('o', 'c', 'h'): 0, ('m', 'u', 't'): 0, ('f', 'w', 'i'): 0, ('i', 't', 'p'): 0, ('s', 'y', 'p'): 0, ('y', 'p', 'h'): 0, ('e', 'j', 'o'): 0, (' ', 'u', 'b'): 0, ('i', 'e', 'g'): 0, ('c', 'c', 'i'): 0, ('g', 'r', 'y'): 0, ('k', 'u', 'n'): 0, ('h', 't', 'n'): 0, ('a', 'y', 'l'): 0, ('x', 'p', 'r'): 0, ('h', 'f'): 0, ('k', 'd'): 0, ('e', 'd', 'd'): 0, ('x', 'i', 't'): 0, ('t', 'h', 'f'): 0, ('h', 'f', 'u'): 0, ('c', 'k', 'd'): 0, ('k', 'd', 'r'): 0, ('h', 't', 'p'): 0, ('t', 'p', 'r'): 0, ('o', 'v', 'o'): 0, ('v', 'o', 'k'): 0, ('b', 'y', 'e'): 0, ('c', 'h', 'c'): 0, ('c', 'o', 'c'): 0, ('k', 'u', 'b'): 0, ('u', 'b', 'r'): 0, ('t', 'c', 't'): 0, ('c', 't', 'h'): 0, ('r', 'w', 'h'): 0, ('n', 'e', 'b'): 0, ('e', 'b', 'i'): 0, ('t', 'u', 'i'): 0, ('i', 'e', 'b'): 0, ('i', 'p', 'i'): 0, ('l', 'f', 'u'): 0, ('n', 'b', 'r'): 0, ('i', 'd', 'l'): 0, ('h', 'n', 'e'): 0, ('n', 'a', 'n'): 0, ('u', 'a', 's'): 0, ('s', 'i', 'i'): 0, ('i', 'i', 'n'): 0, ('c', 'u', 'i'): 0, ('d', 'n', 'u'): 0, ('k', 'z'): 0, (' ', 'k', 'z'): 0, ('k', 'z', 'i'): 0, (' ', 'i', 'x'): 0, ('t', 'h', 'w'): 0, ('h', 'w', 'h'): 0, (' ', 'b', 't'): 0, ('b', 't', 'w'): 0, ('t', 'w', ' '): 0, (' ', 's', 'f'): 0, ('s', 'f', ' '): 0, ('n', 'k', 'z'): 0, ('y', 'e', 'e'): 0, ('x', ' ', 'u'): 0, ('v', ' ', 'h'): 0, ('n', 'd', 'b'): 0, ('s', 'v'): 0, ('w', 't', 'o'): 0, ('a', 't', 'b'): 0, ('t', 'b', 'e'): 0, ('d', 's', 'v'): 0, ('s', 'v', 'i'): 0, ('i', 'l', 'p'): 0, ('l', 'p', 'p'): 0, ('p', 'p', 'u'): 0, ('d', 'h', 'a'): 0, ('u', 'p', 'r'): 0, ('l', 'g', 'e'): 0, ('l', 'f', 'r'): 0, ('h', 't', 'o'): 0, ('d', 'd', 'h'): 0, ('d', 'h', 'i'): 0, ('c', 'r', ' '): 0, ('p', 'o', 'f'): 0, ('u', 'x', 'e'): 0, ('x', 'e', ' '): 0, ('x', 'c', 'a'): 0, ('l', 's', 'p'): 0, ('a', 'w', 'w'): 0, ('w', 'w', 'e'): 0, ('h', 'y', 'e'): 0, ('r', 'y', 'l'): 0, ('e', 't', 'f'): 0, ('t', 'f', 'l'): 0, ('l', 'i', 'x'): 0, ('u', 'y', 'y'): 0, ('y', 'y', 'y'): 0, ('y', 'y', ' '): 0, ('i', 'e', 'i'): 0, ('h', 'i', 'a'): 0, ('b', 'e', 'o'): 0, ('e', 'o', 'u'): 0, ('o', 'u', 'f'): 0, ('u', 'f', ' '): 0, ('o', 'u', 'o'): 0, ('e', 'l', 'm'): 0, ('l', 'm', 'i'): 0, (' ', 'r', 'd'): 0, ('l', 'u', ' '): 0, ('a', 'y', 'd'): 0, ('y', 't', 'e'): 0, ('c', 'e', 'b'): 0, ('g', 't', 'o'): 0, ('x', 'p', 'i'): 0, ('i', 'm', 'u'): 0, ('h', 'a', 'e'): 0, ('d', 'o', 'z'): 0, ('o', 'z', 'e'): 0, ('n', 'u', 'i'): 0, ('n', 'k', 'n'): 0, (' ', 'c', 'g'): 0, ('c', 'g', ' '): 0, ('l', 'e', 'h'): 0, ('e', 'h', ' '): 0, ('n', 'd', 'y'): 0, ('o', 'n', 'j'): 0, ('n', 'j', 'u'): 0, ('f', 'o', 'x'): 0, ('s', 'm', 's'): 0, ('g', 'e', 'o'): 0, ('o', 'y', 'd'): 0, ('d', 'z'): 0, ('i', 'w'): 0, ('c', 'g', 'i'): 0, ('s', 'b', 'r'): 0, ('j', 'a', 'r'): 0, ('o', 'd', 'z'): 0, ('d', 'z', 'i'): 0, ('z', 'i', 'l'): 0, ('e', 'k', 't'): 0, ('m', 'i', 'w'): 0, ('i', 'w', 'a'): 0, ('k', 'f', 'e'): 0, ('s', 'a', 'k'): 0, ('l', 'a', 'g'): 0, ('k', 'g'): 0, ('k', 'y', 's'): 0, ('y', 's', 'c'): 0, ('i', 'o', 'c'): 0, ('c', 'k', 'g'): 0, ('k', 'g', 'r'): 0, ('f', 'i', 'a'): 0, ('z', 'b'): 0, ('f', 'u', 'z'): 0, ('z', 'z', 'b'): 0, ('z', 'b', 'o'): 0, ('h', 'y', 'y'): 0, ('a', 'r', 'w'): 0, ('r', 'w', 'o'): 0, ('u', 'w'): 0, ('s', 'o', 'a'): 0, ('o', 'a', 'k'): 0, ('s', 'a', 'u'): 0, ('l', 'l', 'l'): 0, (' ', 'u', 'w'): 0, ('u', 'w', 'e'): 0, ('x', ' ', 'e'): 0, ('i', 'g', 'l'): 0, ('f', 'x'): 0, ('c', 'i', 'g'): 0, ('j', 'e', 'l'): 0, (' ', 'f', 'x'): 0, ('f', 'x', 's'): 0, ('r', 's', 'p'): 0, ('y', 'n', 'd'): 0, ('b', 'a', 'm'): 0, ('u', 't', 'w'): 0, ('t', 'w', 'h'): 0, ('h', 's', 'e'): 0, ('e', 'o', 'h'): 0, ('i', 'e', 'm'): 0, ('m', 'u', 'm'): 0, ('p', 'p', ' '): 0, ('r', 'y', 'n'): 0, ('y', 'n', 'o'): 0, ('o', 'h', 'm'): 0, ('h', 'm', 'y'): 0, ('m', 'y', 'g'): 0, ('c', 'i', ' '): 0, ('r', 'n', 'y'): 0, ('a', 'r', 'f'): 0, ('o', 't', 'p'): 0, ('t', 'p', 'o'): 0, ('d', 't', 'a'): 0, ('v', 'e', 'e'): 0, ('g', 't', 'a'): 0, ('c', 'o', 'f'): 0, ('c', 'u', 'p'): 0, (' ', 'b', 'd'): 0, ('b', 'd', ' '): 0, ('u', 's', 'd'): 0, ('m', 'o', 'g'): 0, ('x', 'o'): 0, ('n', 'i', 'x'): 0, ('i', 'x', 'o'): 0, ('x', 'o', 'n'): 0, (' ', 'r', 'h'): 0, ('r', 'h', 'y'): 0, ('h', 'y', 'm'): 0, ('y', 'm', 'e'): 0, ('c', 'y', 'b'): 0, ('v', ' ', 'c'): 0, ('c', ' ', 'q'): 0, ('h', 'p'): 0, (' ', 'h', 'p'): 0, ('h', 'p', ' '): 0, ('h', 'c', 'a'): 0, ('a', 'm', 'n'): 0, ('m', 'n', ' '): 0, ('p', 'k'): 0, ('w', 's', 'm'): 0, ('i', 't', 'w'): 0, ('d', 'n', 'a'): 0, ('e', 'd', 'h'): 0, ('d', 'h', 'e'): 0, ('u', 'p', 'k'): 0, ('p', 'k', 'n'): 0, ('e', 's', 'g'): 0, ('d', 'b', 'l'): 0, ('p', 'b', 'y'): 0, ('m', 'e', 'y'): 0, ('h', 'o', 'g'): 0, ('r', 'l', 'f'): 0, ('n', 'd', 'w'): 0, ('d', 'w', 'i'): 0, ('w', 'i', 'h'): 0, ('i', 'h', 't'): 0, ('s', 'h', 's'): 0, (' ', 'y', 'p'): 0, ('y', 'p', 'u'): 0, ('p', 'u', ' '): 0, (' ', 'u', 'r'): 0, ('x', 't', 'i'): 0, ('n', 'a', 'i'): 0, ('r', 'z', 'e'): 0, ('a', 'q'): 0, ('q', ' '): 0, ('h', 'a', 'h'): 0, ('w', 'b', 'r'): 0, ('r', 'a', 'q'): 0, ('a', 'q', ' '): 0, ('q', ' ', 'm'): 0, ('o', 'w', 't'): 0, ('w', 't', 'i'): 0, ('h', 'o', 'b'): 0, ('h', 'u', 'l'): 0, ('x', 'm'): 0, ('u', 'r', 'k'): 0, ('e', 'x', 'm'): 0, ('x', 'm', 'a'): 0, ('l', 'i', 'q'): 0, ('n', 'o', 'h'): 0, ('m', 'l'): 0, ('a', 'm', 'l'): 0, ('m', 'l', 'e'): 0, (' ', 'm', 'p'): 0, ('p', ' ', 'q'): 0, ('k', 'p'): 0, ('n', 'k', 'p'): 0, ('k', 'p', 'l'): 0, ('d', 'o', 'v'): 0, ('y', 's', 'a'): 0, ('e', 's', 'f'): 0, ('o', 'm', 't'): 0, ('r', 't', 't'): 0, (' ', 'h', 'm'): 0, ('h', 'm', 'm'): 0, ('r', 'c', 'd'): 0, ('e', 'y', 'c'): 0, ('a', 'j', 'i'): 0, (' ', 'a', 'h'): 0, ('a', 'h', 'e'): 0, (' ', 'a', 'o'): 0, ('a', 'o', 'l'): 0, ('w', 's', 'e'): 0, ('e', 'f', 'a'): 0, ('t', 'e', 'o'): 0, ('t', 'm', 'l'): 0, ('m', 'l', ' '): 0, ('y', 's', 's'): 0, ('c', ' ', 'y'): 0, ('w', ' ', 'v'): 0, ('a', 'i', 'a'): 0, ('m', ' ', 'x'): 0, (' ', 'x', 'e'): 0, ('x', 'e', 'n'): 0, ('i', 'o', 's'): 0, ('v', 'i', 'g'): 0, ('c', 'e', 'f'): 0, ('p', ' ', 'v'): 0, ('a', 'd', 'b'): 0, ('l', 'e', 'u'): 0, ('e', 'u', 'n'): 0, ('t', 'i', 'd'): 0, ('r', 'd', 'c'): 0, ('d', 'c', 'o'): 0, ('w', 'e', 'm'): 0, ('r', 's', 'd'): 0, ('u', ' ', 'u'): 0, ('e', 'u', 't'): 0, ('s', 'l', 'u'): 0, ('f', 'e', 'd'): 0, (' ', 'e', 'e'): 0, ('a', 'l', 'g'): 0, ('l', 'g', 'i'): 0, ('c', 's', 't'): 0, ('r', 't', 'f'): 0, ('y', 'p', 'r'): 0, ('z', 's'): 0, ('t', 'z', 's'): 0, ('z', 's', ' '): 0, (' ', 'r', 'l'): 0, ('w', 't', 'f'): 0, ('t', 'f', ' '): 0, ('r', 'b', ' '): 0, ('m', 'e', 'f'): 0, ('l', 'q'): 0, ('o', 'k', 'y'): 0, ('l', 'k', 'l'): 0, ('e', 's', 'q'): 0, ('e', 'l', 'q'): 0, ('l', 'q', 'u'): 0, ('p', 'o', 'v'): 0, ('d', 'g', 'r'): 0, ('d', 'y', 'c'): 0, ('y', 'c', 'o'): 0, ('e', 'i', 'm'): 0, ('g', 'y', 'w'): 0, ('c', 'e', 'y'): 0, ('l', 'y', 'd'): 0, ('y', 'd', 'a'): 0, ('f', ' ', 'q'): 0, ('b', 'i', 'z'): 0, ('r', 'e', 'x'): 0, ('d', 's', 'k'): 0, ('i', 'r', 'h'): 0, ('e', 'd', 'n'): 0, ('l', 'y', 'a'): 0, ('y', 'a', 'm'): 0, (' ', 'h', 'r'): 0, ('h', 'r', 's'): 0, ('l', 'y', 'v'): 0, ('y', 'v', 'o'): 0, ('j', 'u', 'x'): 0, ('u', 'x', 't'): 0, ('x', 't', 'a'): 0, ('r', 'i', 'k'): 0, ('o', 'u', 'w'): 0, ('u', 'w', 's'): 0, ('l', 's', 's'): 0, ('t', 'o', 'e'): 0, ('k', 's', 'f'): 0, ('l', 'n', 'o'): 0, ('s', 'o', 'i'): 0, ('g', 'e', 'w'): 0, ('c', ' ', 'k'): 0, ('p', 'i', 'a'): 0, ('x', 't', 'u'): 0, ('c', 'f'): 0, ('e', 'c', 'f'): 0, ('c', 'f', 'i'): 0, ('y', 'b', 'a'): 0, ('e', 'w', 'f'): 0, ('f', 'i', 'f'): 0, ('d', 's', 'e'): 0, ('w', 'p'): 0, ('o', 'w', 'p'): 0, ('w', 'p', 'a'): 0, ('n', 'i', 'd'): 0, ('i', 'd', 'v'): 0, ('h', 'p', 's'): 0, ('s', 'w', ' '): 0, ('l', 'f', 't'): 0, ('f', 't', 'h'): 0, ('i', 'p', 'u'): 0, ('e', 'n', 'v'): 0, ('e', 's', 'l'): 0, ('o', ' ', 'z'): 0, ('h', 'n', 'g'): 0, ('l', 'a', 'k'): 0, ('k', 'e', 'w'): 0, ('t', 'y', 'e'): 0, (' ', 'l', 'r'): 0, ('i', 'd', 'u'): 0, ('t', 'u', 'm'): 0, ('m', 'i', 'p'): 0, ('p', 'y', 'i'): 0, ('u', 's', 'c'): 0, ('n', 'l', 'a'): 0, ('h', 'l', 'i'): 0, ('d', 'd', 'a'): 0, ('s', ' ', 'x'): 0, (' ', 'x', 'p'): 0, ('x', 'p', ' '): 0, ('a', 'm', 'd'): 0, ('n', ' ', 'x'): 0, (' ', 'g', 'b'): 0, ('g', 'b', ' '): 0, ('a', 'i', 'v'): 0, ('e', 'd', 'z'): 0, ('d', 'z', 'o'): 0, ('o', 't', 'w'): 0, ('h', 's', 't'): 0, ('b', 't', 'h'): 0, ('h', 'h'): 0, ('a', 'a', 'r'): 0, ('r', 'r', 'r'): 0, ('r', 'r', 'g'): 0, ('r', 'g', 'g'): 0, ('g', 'g', 'g'): 0, ('g', 'g', 'h'): 0, ('g', 'h', 'h'): 0, ('h', 'h', 'h'): 0, ('h', 'h', ' '): 0, ('n', 'y', 'h'): 0, ('y', 'h', 'o'): 0, ('u', 'h', 'm'): 0, ('h', 'm', ' '): 0, ('k', 'j'): 0, ('h', 'r', ' '): 0, ('s', 'k', 'j'): 0, ('k', 'j', 'e'): 0, (' ', 'c', ' '): 0, ('y', 'o', 'g'): 0, ('r', 'g', 'l'): 0, ('d', 'a', 's'): 0, ('p', 'm', ' '): 0, ('w', 's', 'p'): 0, ('n', 'u', 'c'): 0, ('u', 'c', 'l'): 0, ('g', 'y', 'a'): 0, ('f', 'w', 'h'): 0, ('t', 'o', 'k'): 0, (' ', 'i', 'w'): 0, ('o', 'v', ' '): 0, ('z', 'z', 'z'): 0, ('z', 'z', ' '): 0, ('v', ' ', 'w'): 0, ('i', 'k', 'i'): 0, ('h', 'n', 'n'): 0, ('z', 'i', 's'): 0, ('o', 'v', 's'): 0, ('s', 'a', 'a'): 0, ('a', 'a', 'c'): 0, ('v', ' ', 'a'): 0, ('h', 's', 'h'): 0, ('i', 'y'): 0, ('b', ' ', 'e'): 0, ('t', 'i', 'y'): 0, ('i', 'y', ' '): 0, ('h', 'o', 'h'): 0, (' ', 'c', 's'): 0, ('l', 's', 'v'): 0, ('l', 't', 'm'): 0, ('r', 's', 'b'): 0, ('b', 'w'): 0, (' ', 'b', 'w'): 0, ('b', 'w', ' '): 0, ('i', 'e', 'e'): 0, ('m', 'a', 'b'): 0, (' ', 'b', ' '): 0, ('k', 'a', 't'): 0, ('i', 'e', 'u'): 0, ('n', 'g', 'd'): 0, ('i', 'n', 'h'): 0, ('n', 'h', 'a'): 0, ('g', 'i', 'a'): 0, ('n', 'i', 'u'): 0, ('i', 'u', 's'): 0, ('w', 'o', 's'): 0, ('o', 's', 'r'): 0, ('i', 'd', 'j'): 0, ('d', 'j', 'i'): 0, ('j', 'i', 't'): 0, ('u', 'r', 'h'): 0, ('w', 'o', 'v'): 0, ('a', 'n', 'v'): 0, ('n', 'v', 'a'): 0, ('p', ' ', 'j'): 0, (' ', 'e', 'j'): 0, ('i', 'r', 'm'): 0, ('y', 'c', 'a'): 0, ('f', ' ', 'z'): 0, ('z', 'r', 'm'): 0, ('r', 'm', 'c'): 0, ('m', 'c', ' '): 0, ('j', ' ', 'f'): 0, ('r', 's', 's'): 0, ('e', 'm', 'c'): 0, ('s', 'b', 'o'): 0, ('j', 'e', 's'): 0, ('p', 's', 'o'): 0, ('k', 's', 'o'): 0, ('b', 'e', 'v'): 0, ('y', 'n', ' '): 0, ('r', 'r', 'u'): 0, ('e', 'a', 'a'): 0, ('a', 'a', 'l'): 0, (' ', 'd', 'j'): 0, ('d', 'j', ' '): 0, ('j', ' ', 'k'): 0, ('k', 'e', 'o'): 0, ('e', 'o', 'k'): 0, ('k', 'i', 's'): 0, ('v', 'r'): 0, ('o', 'd', 'w'): 0, ('a', 'v', 'r'): 0, ('v', 'r', 'e'): 0, ('a', 'y', 'o'): 0, ('r', 's', 'r'): 0, ('s', 'r', 'u'): 0, ('p', 'o', 'b'): 0, ('q', 'w'): 0, (' ', 'q', ' '): 0, ('q', ' ', 'b'): 0, (' ', 'q', 'w'): 0, ('q', 'w', ' '): 0, ('t', 'e', 't'): 0, ('d', 'o', 'p'): 0, ('i', 'c', 'f'): 0, ('c', 'f', 'o'): 0, ('l', 'y', 'b'): 0, ('s', 'w', 'o'): 0, ('w', 'n', 'w'): 0, ('f', 'a', 'y'): 0, ('r', 'i', 'x'): 0, ('n', 'r', 'y'): 0, ('e', 'r', 'u'): 0, ('t', 'y', 'f'): 0, ('y', 'f', 'i'): 0, ('o', 'i', 'a'): 0, ('m', 'y', 't'): 0, ('y', 'n', 'c'): 0, ('b', 'a', 'u'): 0, ('b', ' ', 'g'): 0, ('c', 'k', 'c'): 0, ('k', 'c', 'h'): 0, ('o', 'm', 'l'): 0, ('m', 'l', 'y'): 0, ('h', 'o', 'k'): 0, ('w', 'm'): 0, ('e', 'w', 'm'): 0, ('w', 'm', 'a'): 0, ('i', 'n', 'b'): 0, ('n', 'c', 'u'): 0, (' ', 'j', ' '): 0, ('k', 'r', 'a'): 0, ('c', 'd', 'b'): 0, (' ', 's', 'g'): 0, ('s', 'g', 't'): 0, ('g', 't', ' '): 0, ('r', 'y', 'v'): 0, ('l', 'u', 'p'): 0, ('e', 'b', 'r'): 0, ('m', 'i', 'e'): 0, ('n', 'e', 'f'): 0, ('r', 'm', 'y'): 0, ('i', 'r', 'b'): 0, ('p', 'r', 'u'): 0, ('g', 's', 'i'): 0, ('w', 'a', ' '): 0, ('r', 's', 'w'): 0, ('n', 'o', 'p'): 0, ('o', 'l', 'n'): 0, ('w', 'o', 'k'): 0, ('z', 'e', 'w'): 0, ('a', 'e', 'r'): 0, ('r', 'm', 't'): 0, ('n', 'r', 'o'): 0, ('e', 'e', 'b'): 0, ('e', 'b', 'l'): 0, ('e', 'd', 'm'): 0, ('d', 'm', 'y'): 0, ('n', 'd', 'c'): 0, ('d', 'c', 'h'): 0, ('g', 'o', 'm'): 0, ('o', 'm', 'y'): 0, (' ', 'f', 't'): 0, ('g', 'o', 'a'): 0, ('o', 'a', 'l'): 0, ('x', 'i', 'm'): 0, ('h', 'w', 'i'): 0, ('n', 'l', 'u'): 0, ('n', 'w', 'i'): 0, (' ', 'x', 'm'): 0, ('d', 's', 't'): 0, ('a', 'd', 'h'): 0, ('v', 'o', 'n'): 0, ('s', 'r', 't'): 0, ('m', 'c', 'u'): 0, ('t', 'o', 'x'): 0, ('x', 'i', 'b'): 0, ('h', 's', 'd'): 0, ('i', 'f', 'o'): 0, ('e', 'x', 'o'): 0, ('x', 'o', 't'): 0, (' ', 'o', 'a'): 0, ('o', 'a', 'm'): 0, ('o', 'n', 'w'): 0, ('n', 'w', 'o'): 0, ('e', 't', 'l'): 0, ('r', 's', 'm'): 0, ('s', 'm', 'u'): 0, ('a', 'k', 'u'): 0, ('k', 'u', 'p'): 0, ('t', 's', 'h'): 0, ('l', 'f', 'a'): 0, ('o', 'r', 'b'): 0, ('f', 'm'): 0, ('o', 'd', 'm'): 0, ('d', 'm', 'a'): 0, (' ', 'f', 'm'): 0, ('f', 'm', ' '): 0, ('p', 'y', 't'): 0, ('f', 's', 't'): 0, ('m', 'e', 'v'): 0, ('k', 'c', 'l'): 0, ('g', 'b', 'a'): 0, ('b', 'a', 'h'): 0, ('e', 'b', 'p'): 0, ('b', 'p', 'a'): 0, (' ', 'd', 'm'): 0, ('d', 'm', 'c'): 0, ('j', 'r'): 0, ('l', 'z'): 0, ('o', 't', 'f'): 0, (' ', 's', 'r'): 0, ('s', 'r', ' '): 0, ('f', 'p', 'r'): 0, ('k', 't', 'a'): 0, (' ', 'j', 'r'): 0, ('j', 'r', ' '): 0, ('v', 'a', 'd'): 0, ('k', 's', 'h'): 0, ('b', 'o', 'b'): 0, ('e', 'l', 'z'): 0, ('l', 'z', ' '): 0, ('z', ' ', 'j'): 0, ('k', 'l', 'a'): 0, ('j', 'a', 'z'): 0, ('a', 'z', 'z'): 0, ('m', 't', 'e'): 0, ('z', ' ', 'v'): 0, ('t', 'y', 's'): 0, ('h', ' ', 'x'): 0, ('v', 'o', ' '): 0, ('b', 'y', 'i'): 0, ('l', 'u', 'k'): 0, ('u', 'm', 'c'): 0, ('d', 'o', 'k'): 0, ('o', 'p', 'n'): 0, ('u', 'n', 'y'): 0, ('n', 'y', 'e'): 0, ('y', 'e', 'i'): 0, ('r', 'o', 'e'): 0, ('m', 'i', 'b'): 0, ('i', 'b', ' '): 0, (' ', 'n', 'r'): 0, ('n', 'r', 'f'): 0, ('r', 'f', 'b'): 0, ('f', 'b', ' '): 0, ('i', 't', 'd'): 0, ('n', 'g', 'y'): 0, ('c', 'k', 'h'): 0, ('e', 'b', 'b'): 0, ('g', 'a', 'b'): 0, ('m', 'o', 'p'): 0, ('t', 'l', 'l'): 0, ('f', 'e', 'u'): 0, ('a', 'p', 'u'): 0, ('d', 'y', 'w'): 0, ('d', 's', 'u'): 0, ('o', 'k', 't'): 0, ('a', 'f', 'l'): 0, ('j', 'e', 'h'): 0, ('e', 'i', 'p'): 0, ('v', 'o', 'm'): 0, ('a', 'l', 'p'): 0, ('l', 'p', 'h'): 0, ('e', 's', 'm'): 0, ('l', 'u', 'f'): 0, ('d', 'u', 'g'): 0, ('k', 'w', 'h'): 0, ('k', 's', 'i'): 0, ('o', 'k', 'd'): 0, ('k', 'd', 'i'): 0, ('e', 'l', 'r'): 0, (' ', 'y', 'r'): 0, ('d', 'f', 'i'): 0, ('o', 'h', 'y'): 0, ('x', 't', 'w'): 0, ('o', 'k', 'w'): 0, ('e', 'y', 'f'): 0, ('e', 's', 'b'): 0, ('k', 'a', 'n'): 0, ('j', 'm'): 0, ('o', 'e', 'n'): 0, ('n', 'j', 'm'): 0, ('j', 'm', 'o'): 0, (' ', 'r', 'g'): 0, ('e', 'e', 'e'): 0, ('y', 'd', 'i'): 0, ('l', 'a', 'a'): 0, ('a', 'a', 't'): 0, ('t', 'u', ' '): 0, ('y', 'l', ' '): 0, ('g', 's', 'f'): 0, ('d', 's', 'a'): 0, ('g', 't', 'w'): 0, ('w', 'l', 's'): 0, ('g', 'i', 's'): 0, ('m', 'w', 'e'): 0, ('t', 'y', 'o'): 0, ('t', 'c', 'a'): 0, ('m', 's', 'l'): 0, ('l', 'l', 'p'): 0, ('l', 'p', 'l'): 0, ('m', 'h', 'u'): 0, ('n', 'e', 'p'): 0, ('h', 'u', 'b'): 0, ('u', 'n', 'm'): 0, ('n', 'm', 'i'): 0, (' ', 'v', 'l'): 0, ('v', 'l', 'z'): 0, ('z', ' ', 'f'): 0, ('e', 'h', 'r'): 0, (' ', 'd', 'p'): 0, ('g', 'b', 's'): 0, ('f', 't', 'r'): 0, ('u', 'f', 'c'): 0, ('i', 'l', 'v'): 0, ('v', 'a', 'f'): 0, ('n', 'e', 'k'): 0, ('r', 'p', 'l'): 0, ('w', 'd'): 0, ('w', 'b', 'u'): 0, ('a', 'y', 'f'): 0, ('a', 'w', 'd'): 0, ('w', 'd', 'o'): 0, ('d', 'n', 'y'): 0, ('s', 'h', 'b'): 0, ('c', 'k', 'b'): 0, ('k', 'b', 'u'): 0, ('r', 'e', 'u'): 0, ('s', 's', 'n'): 0, ('s', 'n', 'e'): 0, ('d', 'o', 'f'): 0, ('h', 'j'): 0, ('c', 'h', 'j'): 0, ('h', 'j', 'u'): 0, ('d', 'o', 'b'): 0, (' ', 'x', 't'): 0, ('o', 'r', 'u'): 0, ('c', 'o', 'i'): 0, ('d', ' ', 'z'): 0, ('b', ' ', 'n'): 0, ('h', 't', 'y'): 0, ('r', 'l', 'o'): 0, ('r', 'o', 'z'): 0, ('u', 'b', 'w'): 0, ('b', 'w', 'a'): 0, ('j', 'u', 'k'): 0, ('k', 'e', 'b'): 0, ('n', 'u', 'r'): 0, ('m', 'y', 'r'): 0, ('i', 'a', 'd'): 0, ('c', 's', 's'): 0, ('d', 's', 'f'): 0, ('s', 'f', 'r'): 0, (' ', 'h', 'f'): 0, ('h', 'f', ' '): 0, ('e', 's', 'r'): 0, ('v', 'o', 'o'): 0, ('d', 'a', 'g'): 0, ('f', 'e', 'v'): 0, ('e', 'd', 'p'): 0, ('d', 'p', 'l'): 0, ('y', 'e', 'o'): 0, ('e', 'o', 'g'): 0, ('o', 'g', 'h'): 0, ('o', 'k', 'r'): 0, ('k', 'r', 'o'): 0, ('s', 'm', 'h'): 0, ('m', 'h', 'i'): 0, ('a', 'u', ' '): 0, ('v', 'm'): 0, ('l', 'v', 'm'): 0, ('v', 'm', 'e'): 0, ('m', 'i', 'v'): 0, ('v', ' ', 'm'): 0, ('u', 'z', ' '): 0, ('z', 'y', 'i'): 0, ('b', 't', 'u'): 0, ('u', 't', 'p'): 0, ('t', 'p', 'u'): 0, ('e', 'f', 'r'): 0, ('t', 'g'): 0, ('g', 'm', 'a'): 0, ('a', 'm', 't'): 0, ('f', 'l', ' '): 0, ('c', 'b', 't'): 0, ('s', 't', 'g'): 0, ('t', 'g', 'e'): 0, ('e', 'o', 'v'): 0, ('y', 'b', 'c'): 0, ('b', 'c', 'l'): 0, ('r', 'c', 'c'): 0, ('c', 'e', 'g'): 0, ('s', 'g', 'r'): 0, (' ', 's', 'd'): 0, ('s', 'k', 's'): 0, ('k', 's', 'a'): 0, ('c', 'k', 'u'): 0, ('x', 'x'): 0, ('t', 'x', 'x'): 0, ('x', 'x', 'h'): 0, ('x', 'h', 'e'): 0, ('e', 'n', 'k'): 0, ('d', 'g', 'o'): 0, ('o', 'd', 'c'): 0, ('d', 'c', 's'): 0, ('d', 'c', 'a'): 0, ('r', 'p', 'h'): 0, ('a', 'l', 'h'): 0, ('l', 'h', 'o'): 0, ('i', 'o', 'b'): 0, ('g', 'i', 'g'): 0, ('o', 'y', 'f'): 0, ('y', 'f', 'r'): 0, ('u', 'z', 'e'): 0, ('s', 'o', 's'): 0, ('u', 'd', 'r'): 0, ('a', 'u', 'x'): 0, ('y', 'e', 'u'): 0, ('e', 'u', 'x'): 0, ('x', ' ', 'j'): 0, ('r', 'i', 'r'): 0, ('v', 'o', 'y'): 0, ('y', 'e', 'z'): 0, ('l', 'g', 'r'): 0, ('g', 'r', ' '): 0, ('j', 'e', ' '): 0, ('f', 'o', 'i'): 0, ('a', 'k', 'n'): 0, ('u', 'y', 'c'): 0, ('q', 'i'): 0, (' ', 'q', 'i'): 0, ('q', 'i', 'a'): 0, ('g', 'm', 'y'): 0, ('r', 'm', 'w'): 0, ('m', 'w', 'a'): 0, ('w', 'w', 'c'): 0, ('w', 'c', 'r'): 0, ('v', 'e', 'c'): 0, ('b', 'a', ' '): 0, (' ', 'o', 'o'): 0, ('u', 'g', 'r'): 0, ('b', ' ', 'u'): 0, ('m', 'o', 'b'): 0, ('w', 'a', 'g'): 0, ('a', 'y', 'm'): 0, ('d', 'r', 'm'): 0, ('b', 'o', 'i'): 0, ('n', 'k', 'a'): 0, ('l', 'p', 'e'): 0, ('s', 't', 'c'): 0, ('x', 'a', 'g'): 0, ('d', 'v', 'o'): 0, ('y', 'b', 'r'): 0, ('b', 'r', ' '): 0, ('m', 'p', 'b'): 0, ('a', 't', 'f'): 0, ('p', 'u', 'd'): 0, ('e', 'a', 'w'): 0, ('a', 'w', 'h'): 0, ('s', 'e', 'b'): 0, ('e', 'b', 'y'): 0, (' ', 'l', 's'): 0, ('l', 's', 'd'): 0, ('g', 'y', 'h'): 0, ('y', 'h', 'e'): 0, ('u', 'l', 'p'): 0, ('l', 'l', 'f'): 0, ('i', 'p', 'h'): 0, ('p', 'o', 'x'): 0, ('h', 'i', 'v'): 0, (' ', 'e', 'z'): 0, ('e', 'z', 'c'): 0, ('z', 'c', 'e'): 0, (' ', 'k', 'k'): 0, ('k', 'k', 'i'): 0, ('w', 'w', 'h'): 0, ('x', ' ', 'k'): 0, ('w', 'n', 'u'): 0, ('n', 'u', 'p'): 0, ('j', 'o', 's'): 0, ('f', 't', 'm'): 0, ('t', 'm', ' '): 0, ('m', 'i', 'm'): 0, ('u', 'd', 's'): 0, ('u', 'e', 't'): 0, ('e', 't', 'o'): 0, ('n', 'k', 'd'): 0, ('k', 'd', 'o'): 0, ('j', 'a', 'w'): 0, ('a', 'w', 'b'): 0, ('j', 'b'): 0, (' ', 'j', 'b'): 0, ('j', 'b', ' '): 0, ('j', 'a', 'b'): 0, ('y', 's', 'd'): 0, ('f', 'o', 't'): 0, ('o', 't', 'u'): 0, ('r', 'm', 'l'): 0, ('w', 'a', 'p'): 0, ('e', 'm', 'u'): 0, ('b', 't', 'v'): 0, (' ', 'g', 'n'): 0, ('t', 's', 'n'): 0, ('e', 'p', 'w'): 0, ('p', 'w', 'a'): 0, ('u', 'h', 'h'): 0, ('c', 'r', 'h'): 0, ('r', 'h', 'i'): 0, ('v', ' ', 't'): 0, (' ', 'n', 's'): 0, ('z', 'i', 'e'): 0, ('h', 'e', 'h'): 0, ('y', 'u'): 0, ('g', 'i', 'p'): 0, ('e', 'y', 'u'): 0, ('y', 'u', 'l'): 0, ('i', 'e', 'y'): 0, ('o', 'w', 'm'): 0, ('w', 'm', 'o'): 0, ('o', 's', 'b'): 0, ('s', 'b', 's'): 0, ('a', 'k', 'h'): 0, ('k', 'h', 'o'): 0, ('g', 'e', 'y'): 0, ('w', 'o', 'd'): 0, (' ', 'n', 'b'): 0, ('n', 'b', 'c'): 0, ('v', ' ', 'r'): 0, ('d', 'd', 'd'): 0, ('d', 'd', 'f'): 0, ('d', 'f', 'r'): 0, ('l', 'l', 'm'): 0, ('m', 'r', 'c'): 0, ('r', 'c', 'm'): 0, ('c', 'm', 'n'): 0, ('m', 'n', 'd'): 0, ('d', 'r', 'n'): 0, ('r', 't', 'v'): 0, (' ', 'p', 'p'): 0, ('p', 'l', ' '): 0, ('c', 's', 'g'): 0, ('s', 'g', 'a'): 0, ('i', 't', 'r'): 0, ('t', 'k'): 0, ('o', 'b', 'y'): 0, ('t', 'e', 'w'): 0, ('n', 't', 'k'): 0, ('t', 'k', 'h'): 0, ('r', 'e', 'k'): 0, ('e', 'e', 'q'): 0, ('s', 'a', 'h'): 0, ('l', 'i', 'j'): 0, ('i', 'j', 'a'): 0, ('n', 'm', 'a'): 0, ('l', 's', 'w'): 0, ('g', 'y', 'l'): 0, ('a', 'd', 'c'): 0, ('f', 'e', 'b'): 0, ('s', 't', 't'): 0, ('a', 'u', 'm'): 0, ('i', 'n', 'j'): 0, ('j', 'u', 'r'): 0, ('m', 'n', 'e'): 0, ('a', 'g', 'm'): 0, ('g', 'm', 'e'): 0, ('i', 't', 'm'): 0, ('z', 'o', 'd'): 0, ('u', 'p', 'h'): 0, ('t', 's', 'b'): 0, ('e', 'd', 'j'): 0, ('s', 'y', 't'): 0, ('g', 't', 'i'): 0, ('c', 'j'): 0, (' ', 'c', 'j'): 0, ('c', 'j', ' '): 0, ('j', ' ', 'c'): 0, ('y', 'h', ' '): 0, ('g', 'a', 'w'): 0, ('w', 'd', ' '): 0, ('r', 'p', 'a'): 0, (' ', 'y', 'u'): 0, ('y', 'u', 'k'): 0, ('u', 'k', 's'): 0, ('a', 't', 'z'): 0, ('p', 't', 'w'): 0, ('t', 'w', 'r'): 0, ('g', 'a', 'y'): 0, ('l', 'i', 'r'): 0, ('i', 'a', 'z'): 0, ('a', 'z', ' '): 0, ('z', ' ', 'w'): 0, (' ', 'd', 'l'): 0, ('d', 'l', 's'): 0, (' ', 'a', 'y'): 0, ('e', 'm', 'd'): 0, ('m', 'd', 'o'): 0, ('p', 'p', 's'): 0, ('g', 'e', 'g'): 0, ('s', 'd', 'i'): 0, ('r', 'k', 'l'): 0, ('b', 'b', 'r'): 0, ('f', 'i', 'i'): 0, ('y', 'u', 'c'): 0, ('r', 'e', 'y'): 0, ('h', 'e', 'p'): 0, ('e', 'p', 'b'): 0, ('p', 'b', 'u'): 0, ('s', 'o', 'w'): 0, ('a', 'm', 'f'): 0, ('c', 'k', 'f'): 0, ('k', 'f', 'l'): 0, ('o', 'a', 'p'): 0, ('e', 'b', 't'): 0, (' ', 'b', 'b'): 0, ('b', 'b', ' '): 0, ('l', 'l', 'd'): 0, ('a', 'n', 'b'): 0, ('e', 'g', 'n'): 0, ('d', 't', 'o'): 0, ('i', 'x', 'u'): 0, ('x', 'u', 'p'): 0, ('n', 'b', 'l'): 0, ('b', 'l', 's'): 0, ('b', 'l', ' '): 0, ('i', 'g', 't'): 0, ('e', 'd', 'v'): 0, ('n', 'j', 'e'): 0, ('n', 'd', 'p'): 0, ('d', 'p', 'a'): 0, ('c', 'a', 'a'): 0, ('a', 'a', 'n'): 0, ('c', 'k', 'm'): 0, ('k', 'm', 'o'): 0, ('c', 'e', 'e'): 0, ('v', 'd', 't'): 0, (' ', 'p', 'g'): 0, ('p', 'g', ' '): 0, ('d', 'y', 'n'): 0, ('y', 'n', 'a'): 0, ('e', 't', 'd'): 0, ('j', 'n'): 0, ('j', ' ', 'w'): 0, ('m', 'i', 'j'): 0, ('i', 'j', 'n'): 0, ('j', 'n', 's'): 0, ('j', 'n', ' '): 0, ('i', 'r', 'p'): 0, ('j', ' ', 'h'): 0, ('s', 'h', 'd'): 0, ('h', 'd', 'o'): 0, ('j', 'u', 't'): 0, ('y', 'u', 'g'): 0, ('i', 'o', 'h'): 0, ('v', ' ', 'g'): 0, ('e', 'p', 'g'): 0, ('t', 'p', 'i'): 0, ('p', 'i', 'o'): 0, ('c', 's', 'b'): 0, ('t', 'a', 'z'): 0, ('v', 'a', 'h'): 0, ('a', 'h', 's'): 0, ('c', 'a', 'c'): 0, ('b', 'i', 'd'): 0, ('r', 'n', 'd'): 0, ('n', 'd', 'h'): 0, ('a', 'v', ' '): 0, ('o', 'y', 'g'): 0, ('y', 'g', 'a'): 0, ('w', 'n', 'h'): 0, ('n', 'h', 'i'): 0, ('b', 'q'): 0, ('b', 'b', 'q'): 0, ('b', 'q', ' '): 0, ('q', ' ', 't'): 0, ('y', 'o', 'f'): 0, ('t', 'b', 'o'): 0, ('z', 'a', 'b'): 0, (' ', 'g', 'f'): 0, ('o', 'f', 'y'): 0, ('b', 'i', 'k'): 0, ('a', 'm', 'y'): 0, ('t', 'o', 'f'): 0, ('o', 'f', 'p'): 0, ('x', 'o', 'r'): 0, ('g', ' ', 'x'): 0, (' ', 'n', 'm'): 0, ('n', 'm', 's'): 0, ('u', 's', 'm'): 0, ('s', 'm', 'l'): 0, ('q', ' ', 'i'): 0, ('f', 'o', 'a'): 0, ('c', 't', 'n'): 0, ('k', 'b', 'o'): 0, (' ', 'a', 'z'): 0, ('l', 'b', 'c'): 0, ('d', 'p', 'g'): 0, ('g', 'g', ' '): 0, ('a', ' ', 'x'): 0, ('x', ' ', 'x'): 0, ('w', 'w', 's'): 0, ('i', 'c', 'b'): 0, ('c', 'b', 'l'): 0, ('u', 'e', 'c'): 0, ('r', 'a', 'o'): 0, ('p', 'a', 'm'): 0, ('p', 'h', 'l'): 0, ('i', 'z', 'o'): 0, ('z', 'o', 'p'): 0, ('c', 't', 'm'): 0, ('w', 'b', 'a'): 0, ('l', 'm', 'y'): 0, ('w', 'm', 'y'): 0, ('j', 'v'): 0, ('v', 'c'): 0, ('y', 's', 'n'): 0, ('r', 'k', 'a'): 0, ('y', 's', 'j'): 0, ('t', 's', 'a'): 0, (' ', 'j', 'v'): 0, ('j', 'v', 'c'): 0, ('v', 'c', ' '): 0, (' ', 'f', 'w'): 0, ('w', 'i', 'w'): 0, ('i', 'w', ' '): 0, ('n', 't', 'n'): 0, ('o', 'y', 'c'): 0, ('y', 'c', 'e'): 0, ('j', 'a', ' '): 0, ('x', 't', 's'): 0, ('k', 'h', 'e'): 0, ('g', 'g', 'r'): 0, ('e', 'b', 'c'): 0, ('b', 'c', 'a'): 0, (' ', 'h', 'd'): 0, (' ', 'o', 'i'): 0, ('f', ' ', 'x'): 0, ('i', 'p', 'b'): 0, ('k', 'e', 'm'): 0, ('v', ' ', 'd'): 0, ('i', 'k', 'k'): 0, ('d', 's', 'l'): 0, ('d', 'w', 'r'): 0, ('u', 'l', 'j'): 0, ('l', 'j', 'a'): 0, ('d', 'e', 'i'): 0, ('w', 'e', 'p'): 0, ('s', 'y', 'w'): 0, ('g', 'y', 'p'): 0, ('y', 'p', 't'): 0, ('e', 'k', 'k'): 0, ('g', 'h', 'p'): 0, ('h', 'p', 'i'): 0, (' ', 'l', 'd'): 0, ('e', 'o', 'd'): 0, ('o', 'd', 'v'): 0, ('t', 'a', 'w'): 0, ('a', 'y', 'h'): 0, ('n', 'p', 'o'): 0, ('w', 'e', 'f'): 0, ('l', 'a', 'x'): 0, ('a', 'x', 'i'): 0, ('w', 'h', 's'): 0, ('t', 'u', 'o'): 0, ('u', 'o', 's'): 0, ('a', 'w', 'o'): 0, ('d', 'p', 'r'): 0, ('d', 'o', 'a'): 0, ('o', 'a', 'f'): 0, ('d', 'm', 'm'): 0, ('a', 'c', 'b'): 0, ('c', 'b', 'o'): 0, (' ', 'i', 'q'): 0, ('i', 'q', ' '): 0, ('q', ' ', 'n'): 0, ('n', 'x'): 0, ('a', 'u', 'e'): 0, ('a', 'n', 'x'): 0, ('n', 'x', 'i'): 0, ('x', 'i', 'o'): 0, ('l', 'y', 'c'): 0, ('n', 's', 'k'): 0, ('a', 'b', 'a'): 0, ('b', 't', 'l'): 0, ('p', 'a', 'x'): 0, ('x', ' ', 'n'): 0, ('t', 't', 's'): 0, ('w', 'l', ' '): 0, ('c', 'k', 'p'): 0, ('k', 'p', 'a'): 0, ('s', 's', 'g'): 0, ('i', 'r', 'n'): 0, ('e', 'v', 'l'): 0, ('v', 'l', 'o'): 0, ('j', 'i', 'p'): 0, ('c', 'u', 'b'): 0, ('r', 'i', 'u'): 0, ('d', 'g', 'a'): 0, ('b', ' ', 'h'): 0, ('i', 'r', 'u'): 0, ('g', 'e', 'v'): 0, ('t', 'l', 'o'): 0, ('l', 'p', 'i'): 0, ('h', 'g'): 0, ('d', 'k'): 0, (' ', 'r', 'p'): 0, ('p', 's', 'd'): 0, ('s', 'd', 'h'): 0, ('d', 'h', 'g'): 0, ('h', 'g', 'u'): 0, ('u', 'a', ' '): 0, ('s', 'd', 'k'): 0, ('d', 'k', 'g'): 0, ('k', 'g', 'u'): 0, ('d', 'q'): 0, ('q', 'g'): 0, ('z', 'c', 'a'): 0, ('b', 'm', 's'): 0, ('m', 's', 'i'): 0, ('s', 'd', 'q'): 0, ('d', 'q', 'g'): 0, ('q', 'g', ' '): 0, ('k', 'o', ' '): 0, (' ', 'v', 'c'): 0, ('v', 'c', 'r'): 0, ('b', 'u', 'f'): 0, ('f', 'o', 'k'): 0, ('o', 'k', 'k'): 0, ('k', 'k', 'e'): 0, ('t', 'h', 'b'): 0, ('o', 'g', 'f'): 0, ('g', 'f', 'i'): 0, ('d', 'b', 'r'): 0, ('z', 'e', 'p'): 0, ('o', 's', 'n'): 0, ('s', 'j', 'e'): 0, ('e', 'z', 'o'): 0, ('z', 'o', 'h'): 0, ('w', 'i', ' '): 0, ('b', 'i', 'p'): 0, ('s', 'm', 't'): 0, ('d', 'b', 'e'): 0, ('k', 'a', 's'): 0, ('r', 'c', 'r'): 0, ('l', 'a', 'f'): 0, ('a', 'f', 'a'): 0, ('a', 'd', 'r'): 0, ('r', 't', 'b'): 0, ('m', 'a', 'm'): 0, ('i', 'r', 'f'): 0, ('e', 'n', 'w'): 0, ('n', 'w', 'r'): 0, ('m', 'n', 'o'): 0, (' ', 'e', 'w'): 0, ('e', 'w', 'w'): 0, ('e', 'n', 'h'): 0, ('s', 'c', 's'): 0, (' ', 'e', 'h'): 0, ('p', 'r', 'b'): 0, (' ', 'r', 'b'): 0, (' ', 'h', 'k'): 0, ('h', 'k', ' '): 0, ('r', 'p', 'g'): 0, ('p', 'g', 's'): 0, ('h', 'a', 'o'): 0, ('u', 'm', 'l'): 0, ('m', 'l', 'o'): 0, ('a', 's', 'd'): 0, ('i', 'd', 'b'): 0, ('i', 'g', 'm'): 0, ('w', 'k', 'e'): 0, ('x', 'u', 'v'): 0, ('u', 'v', 'i'): 0, ('e', 'j', 'u'): 0, ('h', 'y', 'd'): 0, ('y', 'd', 'r'): 0, (' ', 'm', 't'): 0, ('m', 't', ' '): 0, ('e', 'l', 'g'): 0, ('g', 'a', 'a'): 0, ('r', 'a', 'k'): 0, ('k', 'a', 'u'): 0, ('o', 'u', 'k'): 0, ('u', 'k', 'r'): 0, ('k', 'r', 'e'): 0, ('e', 'v', ' '): 0, (' ', 'l', 'g'): 0, ('l', 'g', ' '): 0, ('e', 'a', 'z'): 0, ('i', 'p', 'y'): 0, ('x', 'c', 'l'): 0, ('e', 'n', 'm'): 0, ('l', 'f', 'h'): 0, ('f', 'h', 'e'): 0, ('v', 'e', 'w'): 0, ('o', 'k', 'u'): 0, ('p', 's', 'i'): 0, ('o', 'g', 'm'): 0, ('l', 'e', 'b'): 0, ('h', 't', 'd'): 0, ('t', 'd', 'i'): 0, ('j', 'h'): 0, ('m', 'w', 'h'): 0, ('d', 's', 'h'): 0, ('h', 'a', 'j'): 0, ('a', 'j', ' '): 0, ('a', 'n', 'm'): 0, ('m', 'o', 'h'): 0, ('o', 'h', 'a'): 0, ('a', 'j', 'h'): 0, ('j', 'h', 'a'): 0, ('i', 'l', 'c'): 0, (' ', 'c', 'f'): 0, ('c', 'f', 'a'): 0, ('f', 'a', ' '): 0, ('i', 'c', 'p'): 0, ('c', 'p', 'a'): 0, ('p', 'a', ' '): 0, ('f', 'r', 'm'): 0, ('v', 'e', 'x'): 0, ('x', 't', 'b'): 0, ('c', 'p', 'u'): 0, ('e', 'x', 'x'): 0, ('x', 'x', ' '): 0, ('y', 'm', 'a'): 0, ('o', 'a', 'x'): 0, (' ', 'p', 'y'): 0, ('b', 'h'): 0, ('u', 'b', 'h'): 0, ('b', 'h', 'e'): 0, ('l', 'e', 'o'): 0, ('e', 'y', 'h'): 0, ('e', 'v', 'r'): 0, ('v', 'r', 'y'): 0, ('c', 'u', 'a'): 0, (' ', 'i', 'a'): 0, ('l', 'w', 'r'): 0, ('o', 'k', 'g'): 0, ('k', 'g', 'e'): 0, ('h', 'o', 'x'): 0, ('o', 'x', 'l'): 0, ('e', 'a', 'o'): 0, ('a', 'o', 'n'): 0, ('o', 'c', 'l'): 0, ('u', ' ', 'v'): 0, ('o', 'a', 's'): 0, ('s', 't', 'f'): 0, ('h', 'u', 'p'): 0, ('l', 's', 'h'): 0, ('v', 'd', 'r'): 0, (' ', 't', 'c'): 0, ('t', 'c', 'm'): 0, ('c', 'm', ' '): 0, ('o', 'w', 'd'): 0, ('w', 'd', 'y'): 0, ('e', 'w', 'p'): 0, ('w', 'p', 'o'): 0, ('e', 'y', 'p'): 0, ('i', 'x', 'a'): 0, ('x', 'a', 'r'): 0, ('m', 'i', 'k'): 0, ('o', 'b', 'n'): 0, ('b', 'n', 'o'): 0, ('h', 'i', ' '): 0, ('a', 'y', 't'): 0, (' ', 'i', 'z'): 0, ('i', 'z', ' '): 0, ('u', 'r', 'u'): 0, ('d', 'a', 'z'): 0, ('t', 'a', 'f'): 0, ('o', 'o', 'i'): 0, ('o', 'd', 'f'): 0, ('d', 'f', 'e'): 0, ('d', 'y', 'h'): 0, ('v', 'y', 'w'): 0, ('y', 'w', 'e'): 0, ('o', 'o', 'v'): 0, ('b', 'e', 'b'): 0, ('r', 'w', 'r'): 0, ('l', 'y', 'f'): 0, ('y', 'f', 'l'): 0, ('k', ' ', 'z'): 0, ('f', 'a', 'h'): 0, ('a', 'h', 'r'): 0, ('t', 'n', 'a'): 0, ('d', 'm', 'e'): 0, ('b', 'k'): 0, ('p', 'b', 'k'): 0, ('b', 'k', 's'): 0, ('k', 's', 'u'): 0, ('s', 'u', ' '): 0, ('f', 'i', 'z'): 0, ('m', 'i', 'i'): 0, (' ', 't', 't'): 0, ('x', 't', 't'): 0, ('f', 't', 'l'): 0, ('h', 't', 'v'): 0, ('t', 'v', 'e'): 0, ('u', 'o', ' '): 0, ('z', 's', 'c'): 0, ('v', 'a', 'p'): 0, ('o', 'f', 'u'): 0, ('s', 'm', 'w'): 0, ('w', 'k', ' '): 0, ('m', 's', 'b'): 0, ('y', 'e', 'c'): 0, (' ', 'o', 'e'): 0, ('a', 'z', 'r'): 0, ('y', 's', 'o'): 0, ('p', 'x'): 0, (' ', 'v', ' '): 0, ('v', ' ', 'v'): 0, ('v', 'i', ' '): 0, ('s', 'l', 'v'): 0, ('l', 'v', 'r'): 0, ('v', 'r', ' '): 0, ('p', 'e', 'b'): 0, ('m', 'p', 'x'): 0, ('p', 'x', ' '): 0, ('x', ' ', 'v'): 0, ('n', 't', 'v'): 0, ('t', 'v', 'o'): 0, ('f', 'a', 'w'): 0, (' ', 'n', 'p'): 0, ('n', 'p', 'c'): 0, ('k', 'e', 'q'): 0, ('p', 'i', 'p'): 0, ('i', 'm', 'l'): 0, ('m', 'l', 'i'): 0, ('a', 'y', 'y'): 0, ('y', 'y', 'b'): 0, (' ', 'a', 'x'): 0, ('o', 'o', 'z'): 0, ('o', 'z', 'i'): 0, ('l', ' ', 'x'): 0, ('a', 'h', 'i'): 0, ('s', 'u', 'k'): 0, ('n', 's', 'd'): 0, ('c', 'h', 'p'): 0, ('h', 'p', 'o'): 0, ('g', 'y', 'y'): 0, ('w', 's', 'h'): 0, ('y', 'a', 'y'): 0, ('y', 'm', ' '): 0, (' ', 'n', 'v'): 0, ('p', 'n', 'y'): 0, ('p', 'c', 's'): 0, ('u', 'i', 'o'): 0, ('v', ' ', 'o'): 0, ('m', 'c', 'i'): 0, ('h', 'd', 'f'): 0, ('y', 'm', 's'): 0, ('g', 'n', 'u'): 0, ('o', 'i', 'g'): 0, ('i', 'm', 'h'): 0, ('r', 's', 'n'): 0, ('j', 'j'): 0, (' ', 'u', 'd'): 0, (' ', 'j', 'j'): 0, ('j', 'j', 's'): 0, ('j', 'j', ' '): 0, ('f', 'w', ' '): 0, ('w', 'o', 'c'): 0, ('t', 's', 's'): 0, ('s', 's', 's'): 0, ('y', 'a', 'h'): 0, ('a', 'h', 'o'): 0, ('y', 'i', 'e'): 0, ('d', 'a', 'f'): 0, ('m', 'd', 'e'): 0, ('c', 'a', 'y'): 0, ('b', 'r', 'y'): 0, ('y', 'a', 'f'): 0, ('a', 'f', 'u'): 0, ('h', 'w', 'e'): 0, ('w', 'e', 'o'): 0, ('o', 'p', 'k'): 0, ('p', 'k', 'o'): 0, ('o', 'k', 'o'): 0, ('u', 'm', 'u'): 0, ('o', 'x', 'y'): 0, ('x', 'y', 'g'): 0, ('y', 'g', 'e'): 0, (' ', 'f', 'n'): 0, ('f', 'n', ' '): 0, ('v', 'a', 'm'): 0, ('n', 'a', 'k'): 0, ('m', 'u', 'g'): 0, ('m', 'r', 's'): 0, ('n', 'j', 'i'): 0, ('j', 'i', 'm'): 0, ('g', 'u', 'o'): 0, ('c', 'r', 't'): 0, ('s', 'k', 't'): 0, ('k', 't', 'o'): 0, (' ', 'v', 'g'): 0, ('v', 'g', 'a'): 0, ('o', 't', 'b'): 0, ('t', 'b', 'a'): 0, ('j', 'o', 'c'): 0, ('o', 'f', 'g'): 0, ('f', 'g', 'u'): 0, ('i', 'p', 'k'): 0, ('a', 'p', 'c'): 0, ('p', 'c', 'a'): 0, ('d', 'e', 'w'): 0, ('l', 'o', 'e'): 0, ('o', 'e', 'b'): 0, ('l', 'm', 'p'): 0, ('h', 'y', 't'): 0, ('u', 'm', 'f'): 0, ('m', 'f', 'e'): 0, ('z', 'u'): 0, ('t', 'z', 'u'): 0, ('z', 'u', ' '): 0, ('o', 'w', 'w'): 0, ('k', 'b', 'l'): 0, ('n', 'u', 'u'): 0, ('f', 'd'): 0, ('n', 'f', 'd'): 0, ('f', 'd', ' '): 0, ('c', 'u', 'k'): 0, ('u', 'k', 'o'): 0, ('m', 't', 'v'): 0, ('v', ' ', 'i'): 0, (' ', 'd', 'n'): 0, ('t', 'd', 'u'): 0, ('k', 'e', 'c'): 0, ('s', 'p', 's'): 0, ('r', 'g', 'r'): 0, ('p', 'a', 'q'): 0, ('q', ' ', 's'): 0, ('a', 'p', 'w'): 0, ('p', 'w', 'i'): 0, ('d', 'u', 'h'): 0, ('u', 'l', 'm'): 0, ('l', 'm', 'w'): 0, ('c', 't', 'v'): 0, ('o', 'c', 'd'): 0, (' ', 't', 'd'): 0, ('t', 'd', 'k'): 0, ('d', 'k', ' '): 0, ('x', 'a', 'n'): 0, ('h', 'y', 'b'): 0, ('e', 'i', 'w'): 0, ('f', 'x', ' '): 0, ('e', 'o', 'c'): 0, ('s', 'y', 'j'): 0, ('y', 'j', 'a'): 0, ('z', 'e', 't'): 0, ('t', 'a', 'j'): 0, ('g', 'o', 'h'): 0, ('t', 's', 'f'): 0, ('l', 'm', 'm'): 0, ('l', 't', 'l'): 0, ('p', 't', 'l'): 0, ('r', 'y', 'a'): 0, ('d', 'p', 't'): 0, ('f', 't', 's'): 0, ('n', 'p', 'e'): 0, ('a', 'p', 'f'): 0, ('p', 'f', 'e'): 0, ('r', 'd', 'r'): 0, ('i', 'x', 't'): 0, ('x', 't', 'h'): 0, ('y', 'e', 'n'): 0, ('l', 'u', 'l'): 0, ('z', 'z', 'a'): 0, ('t', 'u', 'e'): 0, ('p', 'c', 'k'): 0, ('c', 'k', 'j'): 0, ('k', 'j', 'c'): 0, ('j', 'c', ' '): 0, ('e', 'y', 'w'): 0, ('a', 's', 'v'): 0, ('s', 'v', 'a'): 0, ('b', 't', 'r'): 0, ('n', 'l', 't'): 0, ('o', 'm', 'c'): 0, ('c', 'a', 'o'): 0, (' ', 'g', 'y'): 0, ('g', 'y', 'r'): 0, ('y', 'r', 'o'): 0, ('m', 's', 'c'): 0, ('t', 'f', 'a'): 0, ('c', 'f', ' '): 0, ('s', 'c', 'k'): 0, ('t', 's', 'w'): 0, ('f', 'y', 'a'): 0, ('a', 'r', 'q'): 0, ('u', 'e', 'z'): 0, ('l', 'y', 'h'): 0, ('y', 'h', 'a'): 0, ('r', 'y', 'm'): 0, ('u', 't', 'm'): 0, ('z', ' ', 'b'): 0, ('l', 'k', 'n'): 0, ('x', 'i', 'l'): 0, ('t', 'm', 'u'): 0, ('w', 'o', 'p'): 0, ('z', ' ', 'm'): 0, ('t', 'h', 'g'): 0, ('h', 'g', 'r'): 0, ('u', 'g', 'o'): 0, ('i', 'o', 'm'): 0, ('d', 'p', 'e'): 0, ('o', 'y', 'm'): 0, ('a', 'y', 'w'): 0, ('u', 'i', 'a'): 0, ('s', 'y', 'i'): 0, ('f', 'u', 'm'): 0, ('c', 'i', 'c'): 0, (' ', 'u', 'c'): 0, ('c', 'l', 'l'): 0, ('b', 'y', 't'): 0, ('d', 'g', 'm'): 0, ('e', 'm', 'l'): 0, ('r', 'b', 'u'): 0, ('c', 'o', 'y'): 0, ('y', 'o', 't'): 0, ('m', 'b', 'd'): 0, ('b', 'd', 'i'): 0, ('e', 'n', 'y'): 0, ('y', 'r', 'a'): 0, ('g', 'c'): 0, ('r', 'l', 'c'): 0, ('g', 'o', 'f'): 0, ('f', 'a', 'g'): 0, ('i', 'g', 'c'): 0, ('g', 'c', 'i'): 0, ('v', ' ', 'e'): 0, ('x', 'i', 'e'): 0, ('a', 'x', 'l'): 0, ('x', 'l', 'o'): 0, ('f', 'h', 'o'): 0, ('l', 'm', 't'): 0, ('f', 'o', 'w'): 0, ('p', 'e', 'g'): 0, ('l', 's', 'm'): 0, ('n', 'o', 'd'): 0, ('u', 'b', 'i'): 0, ('k', 'n', 'r'): 0, ('a', 'y', 'c'): 0, ('p', 'r', ' '): 0, ('n', 'g', 'p'): 0, ('g', 'p', 'l'): 0, ('o', 'f', 'r'): 0, ('r', 'v', 'o'): 0, ('k', 's', 'g'): 0, ('s', 'g', 'i'): 0, ('t', 'o', 'a'): 0, ('o', 'x', 'p'): 0, ('n', 'u', 'x'): 0, ('t', 'c', 'w'): 0, ('c', 'w', 'h'): 0, ('m', 'c', 'k'): 0, ('s', 'n', 'l'): 0, ('n', 'l', ' '): 0, ('p', 't', 'r'): 0, ('y', 's', 'u'): 0, ('a', 'r', 'u'): 0, ('c', 't', 't'): 0, ('t', 't', 'u'): 0, ('q', 'i', 'n'): 0, ('w', 'o', 'i'): 0, ('b', 'o', 'k'): 0, ('k', 'k', ' '): 0, ('n', 'n', 't'): 0, ('o', 'h', 'u'): 0, ('i', ' ', 'y'): 0, (' ', 'k', 'b'): 0, ('k', 'b', ' '): 0, ('t', 'o', 'h'): 0, ('l', 'm', 'n'): 0, ('d', 'l', 'p'): 0, ('q', 'v'): 0, ('r', 'k', 'o'): 0, (' ', 'q', 'v'): 0, ('q', 'v', 'c'): 0, ('o', 'y', 'l'): 0, ('y', 'l', 's'): 0, ('f', 't', 'c'): 0, ('h', 'e', 'f'): 0, ('m', 'i', 'z'): 0, ('g', 'o', 'k'): 0, ('k', 'u', 'c'): 0, ('s', 'u', 't'): 0, ('d', 'a', 'h'): 0, ('o', 'k', 'v'): 0, ('o', 'o', 'c'): 0, ('g', 'u', 't'): 0, ('o', 'u', 'h'): 0, ('u', 'h', 'g'): 0, ('h', 'g', ' '): 0, ('p', 'u', 'p'): 0, ('g', 'g', 't'): 0, ('h', 'u', 'c'): 0, ('n', 'a', 'a'): 0, ('r', 'l', 't'): 0, ('r', 'e', 'z'): 0, ('s', 'a', 'x'): 0, ('i', 'a', 'u'): 0, ('k', 's', 'y'): 0, ('w', 's', 'w'): 0, ('c', 'r', 'c'): 0, ('r', 'c', ' '): 0, ('n', 'a', 'f'): 0, ('r', ' ', 'z'): 0, ('z', 'o', 'o'): 0, ('j', 'a', 'v'): 0, ('j', 'p', 'e'): 0, ('s', 'h', 'f'): 0, ('h', 'f', 'r'): 0, ('t', 'o', 'z'): 0, ('k', 'k', 'k'): 0, ('e', 'c', 'n'): 0, ('c', 'n', 'i'): 0, ('m', 'u', 'y'): 0, ('u', 'y', 'm'): 0, ('y', 'm', 'u'): 0, ('w', 'i', 'k'): 0, ('s', 'n', 'g'): 0, ('d', 'o', 'y'): 0, ('x', 't', 'f'): 0, ('h', 'q'): 0, ('y', 'e', 'x'): 0, ('g', 'h', 'q'): 0, ('h', 'q', 'u'): 0, ('i', 'm', 'c'): 0, ('n', 'o', 'k'): 0, ('t', 'y', 'c'): 0, ('w', 'n', 'o'): 0, ('d', 'b', 'y'): 0, ('b', 'y', 'w'): 0, ('o', 'd', 'h'): 0, ('w', 'n', 'y'): 0, ('p', 'e', 'y'): 0, ('t', 'h', 'p'): 0, ('h', 'p', 'a'): 0, ('i', 'a', 'p'): 0, ('t', 'f', 'e'): 0, ('b', 'm', ' '): 0, ('s', 't', 'b'): 0, ('c', 't', 'y'): 0, ('f', 'f', 'f'): 0, ('f', 'f', 'r'): 0, ('n', 'k', 'g'): 0, ('k', 'g', 'o'): 0, ('f', 'c', 'o'): 0, ('n', 'y', 'r'): 0, ('k', 'e', 'h'): 0, ('n', 'k', 'r'): 0, ('k', 'r', 'u'): 0, ('c', 'h', 'v'): 0, ('h', 'v', 'a'): 0, ('v', 'a', 'u'): 0, ('s', 't', 'v'): 0, ('m', 'n', 'h'): 0, ('n', 'h', 'y'): 0, ('o', 'z', 'o'): 0, (' ', 'm', 'l'): 0, ('l', 'f', 'e'): 0, ('g', 's', 'h'): 0, ('h', 'h', 'i'): 0, (' ', 'b', 'h'): 0, ('b', 'h', 'o'): 0, ('g', 'g', 'u'): 0, ('s', 'l', 'l'): 0, ('o', 'o', 'w'): 0, ('a', 'm', 'g'): 0, ('m', 'g', 'o'): 0, ('j', 'e', 'f'): 0, ('u', 'g', 't'): 0, ('c', 'd', 'w'): 0, ('d', 't', 's'): 0, ('w', 's', 't'): 0, ('d', 'd', 'n'): 0, ('l', 'o', 'k'): 0, ('b', 'e', 'j'): 0, ('l', 'd', 't'): 0, ('m', 'c', 'm'): 0, ('c', 'm', 'i'): 0, ('b', 'o', 'z'): 0, ('z', 'e', 'm'): 0, ('z', 'l', 'y'): 0, (' ', 'p', 'd'): 0, ('p', 'd', 'f'): 0, ('d', 'f', 's'): 0, ('r', 'a', 'a'): 0, ('e', 'e', 'w'): 0, ('e', 't', 'm'): 0, (' ', 'j', 'c'): 0, ('j', 'c', 'c'): 0, ('c', 'c', ' '): 0, ('m', 'n', 'u'): 0, ('i', 't', 'v'): 0, ('g', 'p', 'e'): 0, ('p', 'm', 'o'): 0, ('h', 'm', 'o'): 0, ('m', 'o', 'e'): 0, (' ', 'b', 'n'): 0, ('g', 's', 'l'): 0, ('v', 'c', 'd'): 0, ('b', 't', 'i'): 0, ('h', 'o', 'f'): 0, ('f', 'f', 't'): 0, ('w', 'n', 'b'): 0, ('b', 'b', 'b'): 0, ('y', 'r', 's'): 0, ('h', 's', 'o'): 0, ('a', 'f', 'o'): 0, ('h', 'b', 'u'): 0, ('n', 't', 't'): 0, ('b', 'o', 'p'): 0, ('m', 'o', 'z'): 0, ('z', 'e', 'y'): 0, ('e', 'y', 'a'): 0, ('m', 'i', 'a'): 0, ('i', 'a', 'i'): 0, ('o', 's', 'v'): 0, ('s', 'v', ' '): 0, ('l', 'l', 'v'): 0, ('a', 'b', 'c'): 0, ('n', 'o', 'e'): 0, ('l', 'b', 'l'): 0, ('i', 'm', 't'): 0, ('r', 'd', 'u'): 0, ('l', 's', 'c'): 0, ('a', 's', 'w'): 0, ('f', 'u', 'g'): 0, (' ', 'a', 'a'): 0, ('a', 'a', 'p'): 0, (' ', 'f', 'd'): 0, ('f', 'd', 'a'): 0, ('a', 'l', 'n'): 0, ('l', 'n', 'i'): 0, ('r', 'p', 't'): 0, ('b', 'y', 'd'): 0, ('p', 's', 'v'): 0, ('s', 'v', 'e'): 0, ('o', 'i', ' '): 0, (' ', 'n', 'n'): 0, ('l', 'u', 'v'): 0, ('u', 'v', 's'): 0, ('y', 'h', 'i'): 0, ('e', 'w', 'b'): 0, ('t', 'f', 'i'): 0, ('p', 'a', 'j'): 0, ('a', 'j', 'a'): 0, ('w', 'd', 'e'): 0, ('n', 't', 'd'): 0, ('s', 'z'): 0, ('e', 's', 'z'): 0, ('s', 'z', 'e'): 0, (' ', 'd', 'd'): 0, ('p', 'j'): 0, (' ', 'p', 'j'): 0, ('p', 'j', 's'): 0, ('t', 'h', 'h'): 0, ('h', 'h', 'e'): 0, ('l', 'p', 'a'): 0, ('m', 'i', 'u'): 0, ('q', 'o'): 0, ('u', 'r', 'q'): 0, ('r', 'q', 'o'): 0, ('q', 'o', 'i'): 0, ('m', 'o', 'i'): 0, ('l', 's', 'r'): 0, ('o', 'b', 'w'): 0, ('b', 'w', 'e'): 0, ('u', 'l', 'c'): 0, ('l', 'c', 'h'): 0, ('b', 'c', 'o'): 0, ('g', 'd', 'e'): 0, ('m', 'a', 'f'): 0, ('l', 'c', 'i'): 0, ('v', 's', 't'): 0, ('n', 't', 'c'): 0, ('t', 'c', 'r'): 0, (' ', 'y', 'i'): 0, ('n', 'b', ' '): 0, ('n', 't', 'j'): 0, ('t', 'j', 'h'): 0, ('t', 'l', 't'): 0, ('g', 'h', 'c'): 0, ('h', 'c', 'u'): 0, ('o', 'g', 't'): 0, ('e', 'u', 'g'): 0, ('d', 'l', 'l'): 0, ('l', 'l', 'k'): 0, ('u', 't', 'g'): 0, ('t', 'g', 'r'): 0, ('g', 'r', 'u'): 0, ('s', 'e', 'h'): 0, ('a', 'i', 'p'): 0, ('h', 'm', 's'): 0, ('i', 'b', 's'): 0, ('x', 'u', 'd'): 0, ('m', 's', 'h'): 0, ('x', 'c', 'o'): 0, ('r', 'k', 'h'): 0, ('y', 'a', 's'): 0, ('t', 's', 'u'): 0, ('u', 'd', 'a'): 0, ('s', 'e', 'g'): 0, ('k', 'o', 'd'): 0, ('d', 'a', 'k'): 0, ('m', 'h', ' '): 0, ('m', 'a', 'h'): 0, ('a', 'h', 'h'): 0, (' ', 'g', 'p'): 0, ('g', 'p', 's'): 0, ('r', 'b', 't'): 0, ('l', 'c', 'u'): 0, ('u', 'l', 'u'): 0, (' ', 'd', 'k'): 0, ('m', 's', 'p'): 0, ('n', 'z'): 0, ('u', 'n', 'z'): 0, ('n', 'z', 'e'): 0, ('n', 't', 'b'): 0, ('t', 'b', 'r'): 0, ('a', 'h', 'm'): 0, ('u', 'l', 'w'): 0, ('w', 'a', 'x'): 0, ('n', 't', 'p'): 0, ('t', 'p', 'h'): 0, ('u', 'r', 'm'): 0, ('g', 'o', 'b'): 0, ('s', 'm', 'y'): 0, ('c', 'u', ' '): 0, ('x', 'e', 'a'): 0, ('y', 'u', 'm'): 0, ('o', 'h', 's'): 0, ('r', 'f', 'r'): 0, ('d', 'i', 'y'): 0, ('i', 'y', 'e'): 0, ('o', 'd', 'b'): 0, ('h', 'e', 'v'): 0, ('e', 'k', 'a'): 0, ('r', 'f', 't'): 0, ('a', 'r', 'h'): 0, ('a', 'v', 'n'): 0, ('v', 'n', 't'): 0, (' ', 'w', 's'): 0, ('w', 's', 'a'): 0, ('y', 'l', 'y'): 0, ('l', 'j', ' '): 0, ('j', ' ', 's'): 0, ('m', 'y', 'h'): 0, ('t', 'n', 'i'): 0, ('e', 'h', 'u'): 0, (' ', 'i', 'h'): 0, ('i', 'h', 'a'): 0, ('j', 'a', 'd'): 0, ('o', 'w', 'c'): 0, ('w', 'c', 'a'): 0, ('o', 'y', 'z'): 0, ('y', 'z', ' '): 0, ('z', ' ', 'e'): 0, ('b', 'g'): 0, (' ', 'b', 'g'): 0, ('b', 'g', ' '): 0, ('e', 'i', 'b'): 0, ('b', ' ', 'k'): 0, ('e', 'u', 'z'): 0, (' ', 'h', 'h'): 0, ('h', 'h', 'o'): 0, ('t', 't', 't'): 0, ('b', 'y', 'c'): 0, ('p', 'h', 'p'): 0, ('d', 'h', 't'): 0, ('m', 'l', 'c'): 0, ('x', 'm', 'l'): 0, (' ', 'x', 'h'): 0, ('x', 'h', 't'): 0, ('g', 'h', 'n'): 0, ('a', 'b', 't'): 0, ('d', 'e', 'h'): 0, (' ', 'f', 'f'): 0, ('i', 'o', 'v'): 0, ('i', 'n', 'x'): 0, ('n', 'x', 'p'): 0, (' ', 'u', 'i'): 0, (' ', 'c', 'k'): 0, ('m', 'p', 'k'): 0, ('p', 'k', 'i'): 0, ('e', 'l', 'n'): 0, ('e', 'h', 'n'): 0, ('u', 'i', ' '): 0, ('d', 'y', 'l'): 0, ('f', 'r', 's'): 0, ('k', 'a', 'p'): 0, ('c', 'i', 'v'): 0, ('a', 'u', 'b'): 0, ('u', 'b', 'u'): 0, (' ', 'z', 'a'): 0, ('z', 'a', 'p'): 0, ('d', 'r', 'k'): 0, ('n', 'k', 'w'): 0, ('a', 'z', 'l'): 0, ('l', 's', 'u'): 0, ('c', 'e', 'u'): 0, ('o', 'k', 'f'): 0, ('k', 'f', 'o'): 0, ('o', 'k', 'p'): 0, ('k', 'p', 'e'): 0, ('l', 'y', 'g'): 0, ('t', 'c', 'i'): 0, ('k', 'w', 'e'): 0, ('z', 't'): 0, (' ', 'z', 't'): 0, ('z', 't', 'h'): 0, ('a', 'b', 'j'): 0, ('a', 'z', 't'): 0, ('z', 't', 'e'): 0, ('s', 'u', 'v'): 0, ('u', 'v', ' '): 0, ('g', 'y', 'm'): 0, ('k', 'g', 'a'): 0, ('p', 'e', 'u'): 0, ('t', 'p', 'a'): 0, (' ', 't', 's'): 0, ('t', 's', 'l'): 0, ('p', 'r', 'y'): 0, ('b', ' ', 'j'): 0, ('w', 'h', 't'): 0, ('s', 'y', 'b'): 0, ('p', 't', 'j'): 0, ('t', 'j', 'o'): 0, ('j', 'u', 'i'): 0, ('g', 'i', 'u'): 0, ('i', 'u', 'l'): 0, ('c', 'a', 'f'): 0, ('n', 'l', 'd'): 0, ('p', 'i', 'f'): 0, ('a', 'e', 'o'): 0, ('i', 'd', 'y'): 0, ('j', 'e', 'n'): 0, ('i', 'u', 'r'): 0, ('c', 'c', 'h'): 0, ('u', 'c', 'y'): 0, ('c', 'y', 's'): 0, ('m', 'u', 'p'): 0, ('l', 'u', 'o'): 0, ('u', 'l', 'z'): 0, ('d', 'e', 'z'): 0, ('n', 'd', 'k'): 0, ('d', 'k', 'i'): 0, ('y', 's', 'g'): 0, ('s', 'g', 'o'): 0, ('d', 'y', 'p'): 0, ('x', 'a', 'b'): 0, ('g', 's', 'b'): 0, ('n', 'd', 'g'): 0, ('m', 'y', 'p'): 0, ('t', 'y', 'a'): 0, ('y', 'a', 'p'): 0, ('g', 'n', 'f'): 0, ('d', 'c', 'r'): 0, (' ', 'a', 'q'): 0, ('a', 'q', 'u'): 0, ('r', 'k', 't'): 0, ('b', 'b', 's'): 0, ('e', 'g', 't'): 0, ('h', 'n', 'x'): 0, ('n', 'x', ' '): 0, (' ', 'b', 'p'): 0, ('b', 'p', ' '): 0, ('h', ' ', 'z'): 0, ('u', 'i', 'b'): 0, ('b', 'p', 's'): 0, ('s', 'o', 't'): 0, ('u', 'n', 'j'): 0, ('b', 'y', 'n'): 0, ('v', 'y', 'r'): 0, ('n', 's', 'm'): 0, ('s', 'h', 'w'): 0, ('k', 'f', 'r'): 0, ('x', 'h', 'o'): 0, ('w', 'n', 't'): 0, ('a', 'y', 'r'): 0, ('m', 's', 'm'): 0, ('c', 'y', 'h'): 0, ('c', 'e', 'c'): 0, ('m', 'p', 'f'): 0, ('p', 'f', 'i'): 0, ('l', 'h', 'e'): 0, ('y', 'n', 'g'): 0, ('l', 'b', 'i'): 0, ('i', 'a', 'h'): 0, ('l', 'i', 'w'): 0, ('i', 'w', 'e'): 0, ('o', 'n', 'x'): 0, ('m', 'v'): 0, ('h', 'm', 'v'): 0, ('s', 'c', 'm'): 0, ('e', 'z', 'm'): 0, ('z', 'm', 'a'): 0, ('c', 's', 'k'): 0, ('h', 's', 'i'): 0, ('a', 'k', 'b'): 0, ('k', 'w', 'o'): 0, ('j', 's', 'm'): 0, ('k', 'e', 'f'): 0, ('y', 'b', 'l'): 0, (' ', 'm', 'v'): 0, ('m', 'v', 'p'): 0, ('v', 'p', ' '): 0, ('y', 'e', 'w'): 0, ('r', 'u', 'j'): 0, ('u', 'j', ' '): 0, ('j', ' ', 'l'): 0, ('v', 'e', 'b'): 0, ('j', ' ', 'm'): 0, ('p', 'a', 'k'): 0, ('k', 'l', 'u'): 0, ('u', 't', 'z'): 0, ('z', ' ', 'r'): 0, ('r', 'y', 'p'): 0, ('y', 's', 'f'): 0, ('e', 'n', 'z'): 0, ('c', 'f', 'u'): 0, ('r', 'j'): 0, ('r', 't', 'g'): 0, ('t', 'g', 'a'): 0, ('s', 'i', 'y'): 0, ('a', 'r', 'j'): 0, ('r', 'j', ' '): 0, ('j', ' ', 'g'): 0, ('y', 'w', 'i'): 0, ('m', 'l', 'a'): 0, ('b', 'a', 'x'): 0, ('a', 'x', 't'): 0, ('w', 'a', 'h'): 0, ('v', 'b'): 0, ('y', 'e', 'b'): 0, ('i', 'v', ' '): 0, ('c', 'u', 'n'): 0, ('a', 'v', 'b'): 0, ('v', 'b', ' '): 0, ('h', 'f', 'i'): 0, ('t', 'd', 'w'): 0, ('l', 'h', 'm'): 0, ('m', 's', 'z'): 0, ('s', 'z', ' '): 0, ('k', 'e', 'z'): 0, ('z', ' ', 'y'): 0, ('t', 'e', 'q'): 0, ('l', 'b', 'w'): 0, ('b', 'w', 'i'): 0, ('o', 'u', 'z'): 0, ('l', 'y', 'o'): 0, ('y', 'o', 'o'): 0, ('c', 'k', 'r'): 0, ('t', 's', 'd'): 0, ('b', 'i', 'c'): 0, ('i', 'n', 'z'): 0, ('d', 'y', 'a'): 0, ('c', 'o', 'x'): 0, ('y', 'a', 'c'): 0, ('a', 'n', 'z'): 0, ('n', 'z', ' '): 0, ('l', 'p', 'o'): 0, ('f', 'a', 'e'): 0, ('r', 'a', 'j'): 0, (' ', 'd', 'g'): 0, ('d', 'g', ' '): 0, (' ', 'r', 'c'): 0, ('o', 'u', 'm'): 0, ('a', 'o', 'k'): 0, (' ', 'o', 'j'): 0, ('o', 'j', 'o'): 0, ('d', 'e', 'j'): 0, ('j', 'o', ' '): 0, ('o', 'm', 'u'): 0, (' ', 'f', 'y'): 0, ('x', ' ', 'r'): 0, ('x', 'p', 'a'): 0, (' ', 'x', 'a'): 0, ('j', ' ', 'i'): 0, ('n', 'm', ' '): 0, ('s', 'o', 'v'): 0, ('e', 'm', 'n'): 0, ('z', 'h'): 0, ('u', 'z', 'h'): 0, ('z', 'h', 'i'): 0, ('o', 'i', 'k'): 0, ('t', 'y', 'w'): 0, ('a', 't', 'g'): 0, ('t', 'g', 'i'): 0, ('r', 'b', 'y'): 0, ('b', 'o', 'h'): 0, ('h', 'a', 'y'): 0, ('u', 'f', 't'): 0, ('o', 'e', 'l'): 0, ('w', 'd', 's'): 0, ('n', 'y', 'p'): 0, ('u', 'a', 'k'): 0, ('c', 'h', 'f'): 0, ('h', 'f', 'a'): 0, ('l', 'p', 't'): 0, ('h', 'c', 'r'): 0, ('i', 'c', 'c'): 0, ('r', 'd', 'n'): 0, ('x', 'q'): 0, ('e', 'x', 'q'): 0, ('x', 'q', 'u'): 0, ('s', 'r', 'i'): 0, ('b', 'h', 'a'): 0, ('l', 'p', 'r'): 0, ('x', 'w'): 0, ('e', 'x', 'w'): 0, ('x', 'w', 'a'): 0, ('x', 'u', 'b'): 0, ('t', 'c', 'u'): 0, ('k', 'a', 'w'): 0, ('r', 'm', 'd'): 0, ('t', 's', 'p'): 0, ('g', 'w', 'r'): 0, ('o', 'y', 'b'): 0, ('r', 'j', 'a'): 0, ('j', 'a', 's'): 0, ('r', 'l', 'u'): 0, (' ', 'v', 'r'): 0, ('v', 'r', 'a'): 0, ('n', 'q', 'i'): 0, ('q', 'i', 'u'): 0, ('i', 'u', 'e'): 0, ('u', 'v', 'r'): 0, ('v', 'r', 'i'): 0, ('o', 'i', 'x'): 0, ('a', 'i', 'e'): 0, ('i', 's', 'q'): 0, ('u', 'x', 'i'): 0, ('t', 'i', 'q'): 0, ('z', ' ', 'u'): 0, ('h', 'a', 'q'): 0, ('q', 'u', 'u'): 0, ('u', 'u', 'n'): 0, ('f', 'i', 'q'): 0, ('o', 't', 'z'): 0, ('t', 'z', 'a'): 0, ('e', 'z', 'y'): 0, ('t', 'z', 'i'): 0, ('z', 'i', 'v'): 0, ('o', 'c', ' '): 0, ('u', 'p', 'f'): 0, ('p', 'f', 'r'): 0, ('s', 'c', 'y'): 0, ('c', 'y', 't'): 0, ('k', 'b', 'r'): 0, ('o', 's', 'm'): 0, ('t', 'm', 'y'): 0, ('d', 'y', 'o'): 0, ('i', 'w', 'w'): 0, ('r', 'u', 'z'): 0, ('v', 'e', 'z'): 0, ('z', ' ', 'q'): 0, ('c', 'i', 'u'): 0, ('i', 'u', 'd'): 0, ('m', 'e', 'j'): 0, (' ', 'x', 'i'): 0, ('y', 't', ' '): 0, ('a', 'u', 'f'): 0, ('u', 'f', 'm'): 0, ('f', 'm', 'a'): 0, (' ', 'v', 's'): 0, ('x', 'i', 'v'): 0, ('d', 's', 'm'): 0, (' ', 'z', 'u'): 0, ('z', 'u', 'c'): 0, ('g', 'o', 'g'): 0, ('f', 'o', 'g'): 0, ('r', 's', 'l'): 0, ('d', 'f', 'l'): 0, ('e', 'e', 'x'): 0, ('a', 'y', 'z'): 0, ('i', 'b', 't'): 0, ('o', 'q'): 0, ('l', 'o', 'q'): 0, ('o', 'q', 'u'): 0, ('y', 's', 'w'): 0, ('r', 'k', 'w'): 0, ('k', 'w', 'r'): 0, ('f', 'u', 'f'): 0, ('u', 'f', 'i'): 0, ('h', 'c', 'l'): 0, ('x', 't', 'c'): 0, ('c', 'z'): 0, (' ', 'c', 'z'): 0, ('c', 'z', 'e'): 0, ('z', 'e', 'c'): 0, ('b', 'o', 'f'): 0, ('r', 't', 'p'): 0, ('v', 'e', 'p'): 0, ('m', 's', 'a'): 0, (' ', 'c', 'c'): 0, ('l', 'd', 'm'): 0, ('a', 'i', 'i'): 0, ('n', 't', 'g'): 0, ('y', 'd', 'e'): 0, ('p', 'b', 'r'): 0, ('o', 'w', 'u'): 0, ('w', 'u', 'p'): 0, ('u', 's', 'n'): 0, ('s', 'n', 'y'): 0, ('n', 'y', 'd'): 0, ('l', 'f', 'd'): 0, ('f', 'd', 'i'): 0, ('k', 'n', 'u'): 0, ('b', 'o', 'e'): 0, ('o', 't', 'm'): 0, ('w', 't', 'r'): 0, ('h', 'd', 't'): 0, ('d', 't', 'v'): 0, (' ', 'w', 'l'): 0, (' ', 'w', 'p'): 0, ('w', 'p', 'l'): 0, ('p', 'l', 'j'): 0, ('j', ' ', 'a'): 0, ('r', 'k', 'p'): 0, ('o', 'e', 'i'): 0, ('e', 's', 'v'): 0, (' ', 'r', 'r'): 0, ('s', 'a', 'j'): 0, ('a', 'j', 'e'): 0, ('t', 'i', 'w'): 0, ('m', 'f', 'a'): 0, ('r', 'b', 'r'): 0, ('t', 'y', 'd'): 0, ('r', 'p', 'm'): 0, ('a', 'x', 'o'): 0, ('x', 'o', 'p'): 0, ('z', 'a', 'c'): 0, ('v', 'g', 'u'): 0, ('b', 'a', 'w'): 0, ('s', 'm', 'c'): 0, ('m', 'c', 'h'): 0, ('v', 'e', 'o'): 0, ('o', 'l', 'p'): 0, (' ', 'b', 'j'): 0, ('b', 'j', 'c'): 0, ('h', 'w', 'o'): 0, ('r', 'n', 'h'): 0, ('d', 'l', 'a'): 0, ('o', 'o', 'h'): 0, ('g', 'm', 's'): 0, (' ', 'w', 'u'): 0, ('w', 'u', 'n'): 0, ('o', 'v', 'p'): 0, ('v', 'p', 'h'): 0, ('n', 'e', 'j'): 0, ('a', 'g', 'h'): 0, ('v', ' ', 'u'): 0, ('a', 'x', 'y'): 0, ('c', 'o', 'k'): 0, ('e', 'r', 'z'): 0, ('r', 'z', 'o'): 0, ('z', 'o', 'g'): 0, ('d', 'g', 'y'): 0, ('g', 'h', 'y'): 0, ('h', 'y', 'o'): 0, ('m', 'i', 'f'): 0, ('v', ' ', 'l'): 0, ('g', 'h', 'f'): 0, ('h', 't', 'u'): 0, ('w', 'n', 'f'): 0, ('n', 'm', 'u'): 0, ('a', 't', 'w'): 0, ('m', 'o', 'f'): 0, ('e', 't', 'b'): 0, ('n', 'p', 'h'): 0, ('s', 'd', 'r'): 0, ('h', 'u', 'f'): 0, ('t', 's', 'j'): 0, ('p', 'p', 'h'): 0, ('t', 'e', 'j'): 0, ('y', 'a', 't'): 0, ('k', 'e', 'x'): 0, ('k', 'a', 'f'): 0, ('a', 's', 'f'): 0, ('o', 'v', 'y'): 0, ('e', 'g', 'h'): 0, ('y', 't', 'o'): 0, ('t', 'y', 'g'): 0, ('y', 'g', 'r'): 0, ('a', 'a', 'k'): 0, ('k', 'a', 'm'): 0, ('k', 'a', 'z'): 0, ('u', 't', 'b'): 0, ('l', 'd', 'a'): 0, ('d', 's', 'w'): 0, ('u', 'b', 'a'): 0, ('u', 'e', 'o'): 0, ('t', 'i', 'u'): 0, ('p', 'b', ' '): 0, ('m', 'f', 'y'): 0, ('m', 't', 'u'): 0, ('h', 'u', 'd'): 0, ('b', 'm', 'e'): 0, ('o', 'y', 't'): 0, ('f', 't', 'a'): 0, ('a', 'a', 's'): 0, ('e', 'd', 'q'): 0, ('d', 'q', 'u'): 0, ('n', 'y', 'i'): 0, ('l', 'w', 'o'): 0, ('k', 'i', 'a'): 0, ('i', 'f', 's'): 0, ('m', 's', 'f'): 0, ('h', 't', 'k'): 0, ('t', 'k', 'n'): 0, ('m', 'd', 'i'): 0, ('g', 's', 's'): 0, ('m', 'g', 't'): 0, ('e', 'e', 'y'): 0, ('a', 'n', 'h'): 0, ('k', 's', 'e'): 0, ('v', 'o', 'w'): 0, ('e', 'y', 'n'): 0, ('l', 'd', 'p'): 0, ('o', 'n', 'h'): 0, ('s', 's', 'j'): 0, ('y', 'p', 'a'): 0, ('k', 'y', 'o'): 0, ('z', 'n'): 0, ('a', 'z', 'n'): 0, ('z', 'n', 'y'): 0, ('r', 'g', 'h'): 0, ('e', 'i', 'e'): 0, ('o', 'f', 'l'): 0, ('l', 'f', 'o'): 0, ('i', 'c', 'n'): 0, ('a', 'x', 'x'): 0, ('x', 'x', 'e'): 0, ('l', 'o', 'h'): 0, ('u', 'p', 'n'): 0, ('b', ' ', 'v'): 0, ('s', 'c', 't'): 0, ('z', 'z', 'e'): 0, ('c', 's', 'c'): 0, ('d', 'y', 't'): 0, ('l', 'h', 'u'): 0, ('g', 'e', 'b'): 0, ('o', 'z', 'a'): 0, ('o', 'e', 'd'): 0, ('k', 'p', 'o'): 0, ('k', 'u', 'e'): 0, ('p', 's', 'p'): 0, ('r', 'a', 'x'): 0, ('m', 's', 'g'): 0, ('s', 'g', 's'): 0, ('r', 'u', 'r'): 0, ('f', 's', 'm'): 0, ('r', 'h', 'd'): 0, ('t', 'm', 'i'): 0, ('v', 'y', 'h'): 0, ('b', 'y', 'r'): 0, ('e', 'q', ' '): 0, ('q', ' ', 'a'): 0, ('g', 'r', 'r'): 0, ('o', 'a', 'g'): 0, ('m', 'i', 'h'): 0, ('i', 'h', 'o'): 0, ('t', 'i', 'i'): 0, ('o', 'u', 'y'): 0, ('y', 'k'): 0, ('j', 'a', 'y'): 0, ('r', 'y', 'k'): 0, ('y', 'k', 'o'): 0, ('k', 'o', 'w'): 0, ('w', 's', 'k'): 0, ('o', 'l', 'g'): 0, ('a', 'p', 'd'): 0, ('p', 'd', ' '): 0, ('z', 'y', 'h'): 0, ('i', 'p', 'n'): 0, ('u', 'h', 't'): 0, ('i', 'w', 'n'): 0, ('w', 'n', 'g'): 0, ('k', ' ', 'q'): 0, ('w', 'b', 'y'): 0, ('b', 'y', 'b'): 0, ('o', 'y', 'h'): 0, ('y', 'h', 'y'): 0, ('b', 's', 'a'): 0, (' ', 'n', 'c'): 0, ('j', 'a', 'u'): 0, ('w', 's', 'f'): 0, ('e', 'e', 'a'): 0, ('s', 'i', 'u'): 0, ('o', 'j', 'a'): 0, ('f', 'u', ' '): 0, ('w', 'n', 'a'): 0, ('q', 'u', 'r'): 0, ('i', 'k', 'y'): 0, ('q', ' ', 'f'): 0, ('o', 'h', 't'): 0, ('l', 'h', 'i'): 0, ('a', 'b', 'h'): 0, ('y', 'h', 's'): 0, ('g', 's', 'c'): 0, ('m', 'm', 'n'): 0, ('y', 't', 'a'): 0, ('i', 't', 'f'): 0, ('o', 'p', 'c'): 0, ('c', 'e', 'w'): 0, ('i', 'd', 't'): 0, ('y', 'e', 'y'): 0, ('j', 'i', 'l'): 0, ('r', 'y', 'r'): 0, ('s', 's', 'r'): 0, ('f', 's', 'p'): 0, ('l', 'l', 'h'): 0, ('o', 'b', 'u'): 0, ('n', 'h', 'u'): 0, ('w', 'l', 'a'): 0, (' ', 'x', 'x'): 0, ('x', 'x', 'x'): 0, ('u', 'w', 'o'): 0, ('l', 'd', 'c'): 0, ('r', 'l', 'l'): 0, ('s', 'c', 'w'): 0, ('c', 'w', 'o'): 0, ('t', 'a', 'o'): 0, ('a', 'o', 'i'): 0, (' ', 'x', 'y'): 0, ('x', 'y', 'l'): 0, ('r', 'd', 'p'): 0, ('i', 'n', 'q'): 0, ('j', 'a', 'x'): 0, ('o', 'a', 'b'): 0, ('o', 'i', 'm'): 0, ('a', 'p', 'm'): 0, ('o', 'y', 'w'): 0, ('i', 'h', 'e'): 0, ('o', 'f', 'j'): 0, ('f', 'j', 'o'): 0, ('w', 't', 'a'): 0, ('g', 's', 'e'): 0, ('z', 'e', 'e'): 0, ('x', 'i', 'a'): 0, ('w', 'f', 'p'): 0, ('f', 'p', ' '): 0, ('j', 'a', 'k'): 0, ('i', 'v', 'r'): 0, ('n', 'e', 'z'): 0, ('u', 'o', 'i'): 0, ('t', 'd', 'c'): 0, ('f', 'y', 'o'): 0, ('o', 'p', 'f'): 0, ('p', 'f', 'l'): 0, ('y', 's', 'b'): 0, ('i', 'i', 'i'): 0, ('o', 'w', 'r'): 0, ('h', 'j', 'o'): 0, ('a', 'f', 'g'): 0, ('f', 'g', 'h'): 0, ('l', 'w', 'i'): 0, ('l', 'b', 'a'): 0, ('p', 'h', 't'): 0, ('a', 'f', 'i'): 0, (' ', 'h', 'b'): 0, ('l', 'y', 'j'): 0, ('d', 'i', 'x'): 0, ('g', 'x'): 0, ('o', 'x', 'c'): 0, ('o', 's', 'f'): 0, ('s', 'f', 't'): 0, ('f', 't', 'p'): 0, ('t', 'p', ' '): 0, ('x', 'f', 'l'): 0, ('d', 'c', 'u'): 0, ('n', 'g', 'x'): 0, ('g', 'x', 'b'): 0, ('p', 'i', 'm'): 0, ('w', 'f', 'o'): 0, ('j', 'o', 'a'): 0, ('o', 'b', 'g'): 0, ('b', 'g', 'y'): 0, ('c', 'u', 'd'): 0, ('e', 'u', 'i'): 0, ('p', 'l', 'l'): 0, ('l', 'n', ' '): 0, ('z', 'a', 's'): 0, ('t', 'h', 'q'): 0, ('e', 'a', 'y'): 0, ('i', 'o', 'a'): 0, ('f', 'd', 'e'): 0, ('t', 'u', 'v'): 0, ('j', 'u', 'g'): 0, ('m', 'b', 'y'): 0, ('x', 'x', 'i'): 0, ('a', 'b', 'd'): 0, ('b', 'd', 'u'): 0, ('h', 'u', 'v'): 0, ('a', 'f', 'n'): 0, (' ', 't', 'z'): 0, ('e', 'e', 'j'): 0, ('e', 'j', 'a'): 0, ('d', 'j', 's'): 0, ('j', 's', 'w'): 0, ('u', 'y', 'a'): 0, ('a', 'y', 'p'): 0, ('x', 'y', 'e'): 0, ('v', 'a', 'k'): 0, ('d', 'a', 'a'): 0, ('a', 'a', 'h'): 0, ('k', 'y', 'a'): 0, ('n', 's', 'g'): 0, (' ', 'n', 'h'): 0, ('n', 'h', 'l'): 0, ('h', 'l', ' '): 0, ('h', 'l', 'k'): 0, ('z', 'o', 'l'): 0, ('s', 'c', 'd'): 0, ('t', 's', 'k'): 0, ('c', 'i', 'b'): 0, ('k', 'i', 'v'): 0, ('o', 'i', 'e'): 0, ('e', 'l', 'w'): 0, ('u', 'c', 'r'): 0, ('u', 's', 'g'): 0, ('f', 'd', 'r'): 0, ('y', 'i', 'l'): 0, ('k', 'w', 'i'): 0, ('k', 'f', 'i'): 0, ('m', 'n', 't'): 0, ('t', 'e', 'z'): 0, ('o', 'v', 'l'): 0, ('c', 'a', 'h'): 0, ('i', 'a', 'e'): 0, ('a', 'e', 'v'): 0, ('p', 'l', 's'): 0, ('a', 'o', 't'): 0, ('v', 'd', 'p'): 0, ('h', 's', 's'): 0, ('v', 'd', 'i'): 0, ('z', 'k'): 0, ('e', 'n', 'q'): 0, ('u', 'e', 'i'): 0, ('e', 'o', 'b'): 0, ('y', 'e', 'h'): 0, ('n', 'u', 'h'): 0, ('u', 'h', 'i'): 0, ('t', 'z', 'k'): 0, ('z', 'k', 'o'): 0, ('o', 'f', 'b'): 0, ('f', 'b', 'a'): 0, ('r', 't', 'j'): 0, ('t', 'j', 'a'): 0, ('w', 'y'): 0, ('a', 'n', 'j'): 0, ('o', 'w', 'y'): 0, ('w', 'y', ' '): 0, ('c', 'm', 'o'): 0, ('g', 'y', 'i'): 0, ('w', 'd', 'r'): 0, ('a', 'e', 't'): 0, ('y', 's', 'r'): 0, ('i', 'g', 'y'): 0, ('o', 'l', 'c'): 0, ('j', 'r', 'r'): 0, ('r', 'r', ' '): 0, ('e', 'f', 'k'): 0, ('d', 'm', ' '): 0, ('u', 'm', 'd'): 0, ('o', 'o', 'e'): 0, ('c', 'u', 'f'): 0, ('b', 't', 's'): 0, ('b', 'b', 'c'): 0, ('g', 'f', 'e'): 0, ('e', 'u', 'v'): 0, ('i', 'g', 'd'): 0, ('g', 'd', 'u'): 0, ('n', 'g', 'c'): 0, ('g', 'c', 'o'): 0, ('e', 'd', 'f'): 0, ('s', 'x'): 0, ('e', 'x', 's'): 0, ('x', 's', 'u'): 0, ('t', 's', 'x'): 0, ('s', 'x', ' '): 0, ('v', 'y', 'n'): 0, ('z', 'f'): 0, ('o', 'z', 'z'): 0, ('z', 'z', 'f'): 0, ('z', 'f', 'e'): 0, ('f', 's', 'u'): 0, ('d', 'p', 's'): 0, ('d', 'f', 'c'): 0, ('f', 'c', 'k'): 0, ('c', 'k', 'k'): 0, ('t', 'f', 'c'): 0, ('l', 'f', 'l'): 0, ('u', 'd', 'v'): 0, ('v', 'a', 'y'): 0, ('k', 'p', 'i'): 0, ('r', 'c', 'k'): 0, ('k', 'e', 'v'): 0, ('u', 'e', 'f'): 0, ('b', 's', 'h'): 0, ('l', 'b', ' '): 0, ('b', 'b', 'u'): 0, ('s', 'l', 'r'): 0, ('l', 'r', ' '): 0, ('r', 'k', 'r'): 0, ('m', ' ', 'z'): 0, ('f', 'u', 'j'): 0, ('u', 'j', 'i'): 0, ('j', 'i', ' '): 0, ('x', ' ', 'z'): 0, ('s', 'g', ' '): 0, ('s', 'g', 'l'): 0, ('k', 'y', 't'): 0, ('r', 'c', 't'): 0, (' ', 'm', 'g'): 0, ('m', 'g', 'm'): 0, ('g', 'm', ' '): 0, ('n', 'e', 'h'): 0, ('f', 'c', 'u'): 0, ('w', 'o', 't'): 0, ('u', 'k', 'i'): 0, ('s', 'i', 'q'): 0, ('q', ' ', 'd'): 0, ('q', ' ', 'k'): 0, ('q', ' ', 'h'): 0, ('u', 'b', 'c'): 0, ('p', 'r', 't'): 0, ('c', 'i', 'm'): 0, ('y', 'w', 'k'): 0, ('g', 'w', 'y'): 0, ('w', 'y', 'n'): 0, ('d', 'n', 'i'): 0, ('w', 'b', 'i'): 0, ('e', 's', 'j'): 0, ('o', 'i', 'j'): 0, ('i', 'j', 'e'): 0, ('c', 'd', 'v'): 0, ('e', 'r', 'j'): 0, ('r', 'j', 'u'): 0, ('i', 'v', 'y'): 0, ('r', 'k', 'b'): 0, ('a', 'h', 'l'): 0, ('i', 'r', 'z'): 0, ('h', 'u', 'a'): 0, ('f', 'e', 'f'): 0, ('d', 'u', 'v'): 0, ('u', 'v', 'a'): 0, ('m', 'x'): 0, (' ', 'm', 'x'): 0, ('m', 'x', ' '): 0, ('c', 's', 'l'): 0, ('t', 'k', 'i'): 0, ('c', 'h', 'h'): 0, ('h', 'h', 'm'): 0, ('c', 'd', 'i'): 0, ('d', 's', 'g'): 0, ('d', 'e', 'y'): 0, ('b', 'g', 'h'): 0, ('e', 'm', 'g'): 0, ('m', 'g', 'a'): 0, ('a', 'f', 'b'): 0, ('w', 'i', 'm'): 0, ('e', 'c', 'm'): 0, ('o', 'd', 'r'): 0, ('d', 's', 's'): 0, (' ', 'h', 'q'): 0, ('h', 'q', ' '): 0, ('t', 't', 'm'): 0, ('r', 's', 'g'): 0, ('s', 'b', 'y'): 0, ('e', 'z', 's'): 0, ('t', 'y', 'h'): 0, ('u', 'p', 'w'): 0, ('y', 'a', 'g'): 0, (' ', 'r', 'q'): 0, ('l', 'o', 'f'): 0, ('e', 'z', 'a'): 0, ('z', 'e', 'i'): 0, ('v', 'e', 'f'): 0, ('n', 'k', 'h'): 0, ('k', 'h', ' '): 0, ('v', 'i', 'm'): 0, ('p', 'u', 'a'): 0, ('i', 'i', 'e'): 0, ('i', 'l', 'g'): 0, ('i', 'n', 'r'): 0, ('w', 'o', 'g'): 0, ('o', 'p', 'b'): 0, ('m', 'o', 'j'): 0, ('d', 't', 'u'): 0, ('p', 'h', 'm'): 0, ('u', 'a', 'd'): 0, ('b', 't', 'f'): 0, (' ', 'c', 'n'): 0, ('c', 'n', 'd'): 0, ('k', 'i', 'o'): 0, ('o', 's', 'k'): 0, ('k', 'm', 'e'): 0, ('m', 'e', 'u'): 0, ('k', 's', 's'): 0, (' ', 'l', 'v'): 0, ('l', 'v', 'o'): 0, ('v', 'o', 'e'): 0, ('a', 'g', 'w'): 0, ('g', 'w', 'a'): 0, ('d', 'e', 'k'): 0, ('k', 'y', 'd'): 0, ('f', 'g', 'a'): 0, ('b', 'm', 'a'): 0, (' ', 's', 'j'): 0, ('s', 'y', 'r'): 0, ('n', 'd', 'j'): 0, ('a', 'i', 'f'): 0, ('i', 'e', 'p'): 0, (' ', 'r', 'v'): 0, ('p', 't', 'c'): 0, ('t', 'c', 'y'): 0, ('t', 'g', 'o'): 0, (' ', 'i', 'j'): 0, ('i', 'j', 'o'): 0, ('h', 'i', 'i'): 0, ('i', 'i', 'g'): 0, ('p', 'r', 'h'): 0, ('r', 'h', 'r'): 0, (' ', 'k', 'y'): 0, ('k', 'y', 'l'): 0, ('i', 't', 'k'): 0, ('t', 'k', 'e'): 0, ('x', 'y', 'i'): 0, ('o', 't', 'd'): 0, ('t', 'h', 'c'): 0, ('j', 'b', 'l'): 0, ('e', 'o', 'm'): 0, ('v', 'i', 'w'): 0, ('o', 'n', 'z'): 0, ('n', 'z', 'o'): 0, ('z', 'o', ' '): 0, ('z', 'o', 's'): 0, ('i', 'v', 'd'): 0, ('u', 'r', 'w'): 0, ('g', 's', 'u'): 0, ('c', 'p', 'e'): 0, ('h', 'a', 'a'): 0, ('n', 'k', 'j'): 0, ('a', 'w', 'c'): 0, ('w', 'c', 'l'): 0, ('h', 's', 'a'): 0, ('l', 'g', 'o'): 0, (' ', 'h', ' '): 0, ('a', 'k', 'f'): 0, ('k', 'f', 'a'): 0, ('a', 'd', 'z'): 0, ('d', 'z', 'u'): 0, ('z', 'u', 'k'): 0, ('f', 'f', 'u'): 0, ('z', 'o', 'e'): 0, ('o', 'e', 'y'): 0, ('s', 't', 'k'): 0, ('c', 'e', 'j'): 0, ('o', 'f', 'c'): 0, ('f', 'c', 'h'): 0, ('c', 'x'): 0, ('q', 'c'): 0, ('r', 'c', 'x'): 0, ('c', 'x', ' '): 0, (' ', 'n', 'q'): 0, ('n', 'q', 'c'): 0, ('q', 'c', ' '): 0, ('t', 'c', 'l'): 0, ('x', 'e', 'g'): 0, ('r', 's', 'j'): 0, ('y', 's', 'l'): 0, ('g', 'b', 'u'): 0, ('i', 'f', 'l'): 0, ('k', 'o', 'm'): 0, ('g', 'u', 'g'): 0, ('p', 's', 'u'): 0, ('t', 'i', 'h'): 0, ('p', 'a', 'v'): 0, ('y', 'c', 'u'): 0, ('p', 'h', 'n'): 0, ('s', 'p', 'c'): 0, ('p', 'c', 'e'): 0, ('c', 'l', ' '): 0, ('n', 'c', 'w'): 0, ('c', 'w', ' '): 0, ('e', 'w', 'd'): 0, ('g', 'u', 'c'): 0, ('x', 'p', 'w'): 0, ('w', 'g'): 0, ('b', 'i', 'w'): 0, ('i', 'w', 'i'): 0, ('o', 'm', 'd'): 0, ('a', 'w', 'g'): 0, ('w', 'g', ' '): 0, ('d', 'n', 'm'): 0, ('t', 'e', 'k'): 0, ('e', 'k', 'f'): 0, ('c', 'b', 'c'): 0, ('t', 's', 'v'): 0, ('s', 'v', 'o'): 0, ('a', 'h', 'v'): 0, ('h', 'v', 'e'): 0, ('m', 'c', 'l'): 0, ('i', 'l', 'f'): 0, ('i', 'l', 'r'): 0, ('v', 'a', 'j'): 0, ('t', 'c', 'e'): 0, ('s', 'u', 'w'): 0, ('u', 'w', 'c'): 0, ('w', 'c', 'h'): 0, ('t', 'a', 'a'): 0, ('a', 'a', 'i'): 0, ('e', 'u', 'e'): 0, ('n', 'y', 'v'): 0, ('y', 'v', 'a'): 0, ('f', 'f', 'p'): 0, ('h', 'b', 'e'): 0, ('j', 'k'): 0, ('d', 'u', 'i'): 0, ('i', 'j', 'k'): 0, ('j', 'k', ' '): 0, ('o', 's', 'q'): 0, ('u', 'e', 'k'): 0, ('m', 'p', 'g'): 0, ('i', 'e', 'a'): 0, ('c', 'v'): 0, ('m', 'c', 'v'): 0, ('c', 'v', 'a'): 0, ('l', 's', 'n'): 0, ('t', 'r', 'd'): 0, ('a', 'y', 'u'): 0, ('y', 'u', 'n'): 0, ('t', 'l', ' '): 0, ('r', 'j', 'e'): 0, ('o', 'k', 'c'): 0, ('u', 'm', 't'): 0, ('u', 'm', 'w'): 0, ('d', 'p', 'u'): 0, ('i', 'f', 'n'): 0, ('f', 'n', 'i'): 0, ('w', 'u', ' '): 0, ('u', 'f', 'r'): 0, ('m', 'w', 'u'): 0, ('w', 'u', 't'): 0, ('h', 's', 'm'): 0, ('v', 'v'): 0, ('i', 'v', 'v'): 0, ('v', 'v', ' '): 0, ('e', 'i', 'h'): 0, ('i', 'h', 'u'): 0, ('u', 'p', 'm'): 0, ('p', 'm', 'r'): 0, (' ', 'm', 'w'): 0, ('m', 'w', 'b'): 0, ('w', 'b', 'l'): 0, ('b', 'l', 'k'): 0, ('a', 'k', 'r'): 0, ('u', 'p', 'c'): 0, ('u', 'g', 'w'): 0, ('u', 'p', 'y'): 0, ('p', 'y', 'o'): 0, ('g', 'd', 'a'): 0, ('t', 'k', 'a'): 0, ('a', 'g', 'd'): 0, ('w', 'f', 'a'): 0, ('w', 'o', 'f'): 0, ('l', 'y', 'm'): 0, ('n', 'o', 'j'): 0, ('j', 'i', 'j'): 0, ('m', 'i', 'y'): 0, ('i', 'y', 'a'): 0, ('y', 'a', 'z'): 0, ('z', 'a', 'w'): 0, ('e', 'g', 'l'): 0, ('y', 'o', 'k'): 0, ('v', 'g', 'm'): 0, ('m', 'a', 'v'): 0, ('p', 'u', 'c'): 0, ('k', 'a', 'k'): 0, ('a', 'o', ' '): 0, ('w', 'r', 'y'): 0, ('h', 'o', 'y'): 0, ('r', 'r', 'h'): 0, ('r', 'n', 'c'): 0, ('b', 'm', 'n'): 0, ('o', 'o', 'a'): 0, ('a', 'h', 't'): 0, ('k', 's', 'w'): 0, (' ', 'd', 'f'): 0, ('a', 'b', 'k'): 0, ('b', 'k', 'e'): 0, ('a', 'x', 'b'): 0, ('x', 'b', 'e'): 0, ('b', 's', 'g'): 0, ('p', 'a', 'e'): 0, ('c', 'y', 'i'): 0, ('a', 'k', 'd'): 0, ('f', 't', 'b'): 0, ('h', 'w', 'r'): 0, ('t', 'y', 'v'): 0, ('u', 'x', 'u'): 0, ('x', 'u', 'r'): 0, ('g', 's', 'm'): 0, ('f', 'i', 'p'): 0, ('x', 'l', ' '): 0, ('a', 'o', 'v'): 0, ('y', 'f', 'u'): 0, (' ', 'v', 'p'): 0, ('v', 'u', 'e'): 0, ('i', 'a', 'f'): 0, ('h', 'p', 'r'): 0, ('e', 'p', 'c'): 0, ('p', 'c', 'l'): 0, ('g', 'e', 'k'): 0, ('e', 'k', 'r'): 0, ('k', 'n', 'j'): 0, ('b', 's', 'k'): 0, ('p', 'y', 'h'): 0, ('i', 'c', 'd'): 0, ('c', 'd', 'a'): 0, ('g', 'b', 'l'): 0, ('e', 'w', 'u'): 0, ('w', 'u', 'l'): 0, ('a', 'm', 'x'): 0, ('m', 'x', 's'): 0, ('x', 's', 'n'): 0, ('e', 'v', 'y'): 0, (' ', 'o', 'y'): 0, ('a', 'i', 'w'): 0, (' ', 'k', 'm'): 0, ('k', 'm', 't'): 0, ('m', 'a', 'o'): 0, ('a', 'o', 'w'): 0, ('t', 't', 'f'): 0, ('e', 'y', 'm'): 0, ('m', 't', 'b'): 0, ('t', 'b', ' '): 0, ('o', 'y', 'n'): 0, ('g', 'y', 'o'): 0, ('t', 't', 'v'): 0, ('t', 'v', 'a'): 0, ('z', 'z', 's'): 0, ('y', 'i', 's'): 0, ('z', 'i', 'm'): 0, ('d', 's', 'd'): 0, ('s', 'd', 's'): 0, (' ', 'n', 't'): 0, ('v', 'd', 'a'): 0, ('d', 'b', 't'): 0, (' ', 'v', 'y'): 0, ('e', 'x', 'r'): 0, ('z', 'z', 't'): 0, ('k', 'o', 'y'): 0, ('t', 'y', 'n'): 0, ('w', 's', 'y'): 0, ('i', 'u', 'n'): 0, ('b', 'y', 'p'): 0, ('b', 'u', 'o'): 0, (' ', 'u', 'e'): 0, ('u', 'e', 'm'): 0, ('a', 'b', 'w'): 0, ('m', 'u', ' '): 0}\n"
     ]
    }
   ],
   "source": [
    "print(CountFrequency_Sentimen_Amazon_Train[0])"
   ]
  },
  {
   "cell_type": "markdown",
   "metadata": {},
   "source": [
    "## Menghitung nilai IDF pada setiap data Amazon dan Yelp"
   ]
  },
  {
   "cell_type": "code",
   "execution_count": 36,
   "metadata": {},
   "outputs": [],
   "source": [
    "def computeIDF(WordDict):\n",
    "    idfDict = {}\n",
    "    number_of_document_with_term_t_in_it = {}\n",
    "    N = len(WordDict)\n",
    "    \n",
    "    idfDict = dict.fromkeys(WordDict[0].keys(), 0)\n",
    "    for doc in WordDict:\n",
    "        for word, val in doc.items():\n",
    "            if val > 0:\n",
    "                idfDict[word] += 1\n",
    "    \n",
    "    for word, val in idfDict.items():\n",
    "        number_of_document_with_term_t_in_it[word] = float(val)\n",
    "        idfDict[word] = np.log((1+N) / (1+val)) + 1\n",
    "        \n",
    "    return idfDict, number_of_document_with_term_t_in_it"
   ]
  },
  {
   "cell_type": "code",
   "execution_count": 37,
   "metadata": {},
   "outputs": [],
   "source": [
    "IDF_Amazon, number_of_document_with_term_t_Amazon_Train = computeIDF(WordDictionaryCount_Amazon_Train)\n",
    "IDF_Yelp, number_of_document_with_term_t_in_Yelp_Train = computeIDF(WordDictionaryCount_Yelp_Train)\n",
    "IDF_IMDB, number_of_document_with_term_t_in_IMDB_Train = computeIDF(WordDictionaryCount_IMDB_Train)"
   ]
  },
  {
   "cell_type": "code",
   "execution_count": 38,
   "metadata": {},
   "outputs": [],
   "source": [
    "def computeTFIDFnonScale(CountFrequency, idfs):\n",
    "    tfidf = None\n",
    "    tfidf = {}\n",
    "    for word, val in CountFrequency.items():\n",
    "        tfidf[word] = val*idfs[word]\n",
    "    return tfidf"
   ]
  },
  {
   "cell_type": "code",
   "execution_count": 39,
   "metadata": {},
   "outputs": [],
   "source": [
    "def computeTFIDF(tfidf_nonscaled) :\n",
    "    tfidf_nonscaled = np.array(tfidf_nonscaled)\n",
    "    tfidf_list = tfidf_nonscaled/sum(tfidf_nonscaled**2)**0.5\n",
    "    return tfidf_list"
   ]
  },
  {
   "cell_type": "code",
   "execution_count": 40,
   "metadata": {},
   "outputs": [],
   "source": [
    "def getTFIDF(wordDictionary, CountFrequency, IDF):\n",
    "    TFIDF_non_scaled = None\n",
    "    TFIDF_non_scaled = []\n",
    "    iterator = 0\n",
    "    while iterator < len(wordDictionary):\n",
    "        TFIDF_non_scaled.append(computeTFIDFnonScale(CountFrequency[iterator], IDF))\n",
    "        iterator = iterator + 1\n",
    "    \n",
    "    TFIDF = []\n",
    "    iterator = 0\n",
    "    while iterator < len(wordDictionary):\n",
    "        tf_idf_list = list(TFIDF_non_scaled[iterator].values())\n",
    "        TFIDF.append(computeTFIDF(tf_idf_list))\n",
    "        iterator = iterator + 1\n",
    "        \n",
    "    return TFIDF"
   ]
  },
  {
   "cell_type": "code",
   "execution_count": 41,
   "metadata": {},
   "outputs": [],
   "source": [
    "TFIDF_Amazon_Train = getTFIDF(WordDictionaryCount_Amazon_Train, CountFrequency_Sentimen_Amazon_Train, IDF_Amazon)"
   ]
  },
  {
   "cell_type": "code",
   "execution_count": 42,
   "metadata": {},
   "outputs": [],
   "source": [
    "TFIDF_Amazon_Test = getTFIDF(WordDictionaryCount_Amazon_Test, CountFrequency_Sentimen_Amazon_Test, IDF_Amazon)"
   ]
  },
  {
   "cell_type": "code",
   "execution_count": 43,
   "metadata": {},
   "outputs": [],
   "source": [
    "TFIDF_Yelp_Train = getTFIDF(WordDictionaryCount_Yelp_Train, CountFrequency_Sentimen_Yelp_Train, IDF_Yelp)"
   ]
  },
  {
   "cell_type": "code",
   "execution_count": 44,
   "metadata": {},
   "outputs": [],
   "source": [
    "TFIDF_Yelp_Test = getTFIDF(WordDictionaryCount_Yelp_Test, CountFrequency_Sentimen_Yelp_Test, IDF_Yelp)"
   ]
  },
  {
   "cell_type": "code",
   "execution_count": 45,
   "metadata": {},
   "outputs": [],
   "source": [
    "TFIDF_IMDB_Train = getTFIDF(WordDictionaryCount_IMDB_Train, CountFrequency_Sentimen_IMDB_Train, IDF_IMDB)"
   ]
  },
  {
   "cell_type": "code",
   "execution_count": 46,
   "metadata": {},
   "outputs": [],
   "source": [
    "TFIDF_IMDB_Test = getTFIDF(WordDictionaryCount_IMDB_Test, CountFrequency_Sentimen_IMDB_Test, IDF_IMDB)"
   ]
  },
  {
   "cell_type": "code",
   "execution_count": 47,
   "metadata": {},
   "outputs": [],
   "source": [
    "def toVectorizeList(TFIDF):\n",
    "    iterator  = 0\n",
    "    Vectorized = []\n",
    "    while iterator < len(TFIDF):\n",
    "        Vectorized.append(list(TFIDF[iterator]))\n",
    "        iterator = iterator + 1\n",
    "    return Vectorized"
   ]
  },
  {
   "cell_type": "code",
   "execution_count": 48,
   "metadata": {},
   "outputs": [],
   "source": [
    "Vectorizer_Amazon_Train = toVectorizeList(TFIDF_Amazon_Train)\n",
    "Vectorizer_Amazon_Test = toVectorizeList(TFIDF_Amazon_Test)\n",
    "Vectorizer_Yelp_Train = toVectorizeList(TFIDF_Yelp_Train)\n",
    "Vectorizer_Yelp_Test = toVectorizeList(TFIDF_Yelp_Test)\n",
    "Vectorizer_IMDB_Train = toVectorizeList(TFIDF_IMDB_Train)\n",
    "Vectorizer_IMDB_Test = toVectorizeList(TFIDF_IMDB_Test)"
   ]
  },
  {
   "cell_type": "code",
   "execution_count": 49,
   "metadata": {},
   "outputs": [
    {
     "name": "stdout",
     "output_type": "stream",
     "text": [
      "        ( , a)  ( , a,  )  ( , a, a)  ( , a, b)  ( , a, c)  ( , a, d)  \\\n",
      "0     0.174588   0.080901        0.0   0.000000   0.000000   0.000000   \n",
      "1     0.149335   0.047575        0.0   0.044579   0.052005   0.056086   \n",
      "2     0.122767   0.056888        0.0   0.026653   0.000000   0.000000   \n",
      "3     0.106905   0.041917        0.0   0.000000   0.000000   0.000000   \n",
      "4     0.121334   0.023193        0.0   0.014488   0.016902   0.000000   \n",
      "...        ...        ...        ...        ...        ...        ...   \n",
      "3745  0.134475   0.000000        0.0   0.035683   0.041627   0.000000   \n",
      "3746  0.093831   0.027593        0.0   0.000000   0.000000   0.000000   \n",
      "3747  0.112662   0.028713        0.0   0.026905   0.000000   0.033850   \n",
      "3748  0.136468   0.041405        0.0   0.000000   0.000000   0.000000   \n",
      "3749  0.093960   0.059867        0.0   0.037398   0.000000   0.000000   \n",
      "\n",
      "      ( , a, e)  ( , a, f)  ( , a, g)  ( , a, h)  ...  (z, z, a)  (z, z, b)  \\\n",
      "0           0.0   0.000000   0.000000        0.0  ...        0.0        0.0   \n",
      "1           0.0   0.000000   0.000000        0.0  ...        0.0        0.0   \n",
      "2           0.0   0.033833   0.000000        0.0  ...        0.0        0.0   \n",
      "3           0.0   0.000000   0.024315        0.0  ...        0.0        0.0   \n",
      "4           0.0   0.000000   0.000000        0.0  ...        0.0        0.0   \n",
      "...         ...        ...        ...        ...  ...        ...        ...   \n",
      "3745        0.0   0.090590   0.000000        0.0  ...        0.0        0.0   \n",
      "3746        0.0   0.000000   0.000000        0.0  ...        0.0        0.0   \n",
      "3747        0.0   0.034153   0.000000        0.0  ...        0.0        0.0   \n",
      "3748        0.0   0.019700   0.000000        0.0  ...        0.0        0.0   \n",
      "3749        0.0   0.000000   0.000000        0.0  ...        0.0        0.0   \n",
      "\n",
      "      (z, z, e)  (z, z, f)  (z, z, i)  (z, z, l)  (z, z, s)  (z, z, t)  \\\n",
      "0           0.0        0.0        0.0        0.0        0.0        0.0   \n",
      "1           0.0        0.0        0.0        0.0        0.0        0.0   \n",
      "2           0.0        0.0        0.0        0.0        0.0        0.0   \n",
      "3           0.0        0.0        0.0        0.0        0.0        0.0   \n",
      "4           0.0        0.0        0.0        0.0        0.0        0.0   \n",
      "...         ...        ...        ...        ...        ...        ...   \n",
      "3745        0.0        0.0        0.0        0.0        0.0        0.0   \n",
      "3746        0.0        0.0        0.0        0.0        0.0        0.0   \n",
      "3747        0.0        0.0        0.0        0.0        0.0        0.0   \n",
      "3748        0.0        0.0        0.0        0.0        0.0        0.0   \n",
      "3749        0.0        0.0        0.0        0.0        0.0        0.0   \n",
      "\n",
      "      (z, z, y)  (z, z, z)  \n",
      "0           0.0        0.0  \n",
      "1           0.0        0.0  \n",
      "2           0.0        0.0  \n",
      "3           0.0        0.0  \n",
      "4           0.0        0.0  \n",
      "...         ...        ...  \n",
      "3745        0.0        0.0  \n",
      "3746        0.0        0.0  \n",
      "3747        0.0        0.0  \n",
      "3748        0.0        0.0  \n",
      "3749        0.0        0.0  \n",
      "\n",
      "[3750 rows x 8181 columns]\n"
     ]
    }
   ],
   "source": [
    "DataFrame_Amazon_Train = pd.DataFrame(Vectorizer_Amazon_Train, columns = Vocabulary_Amazon_Train)\n",
    "DataFrame_Amazon_Train = DataFrame_Amazon_Train.reindex(sorted(DataFrame_Amazon_Train.columns), axis=1)\n",
    "print (DataFrame_Amazon_Train)"
   ]
  },
  {
   "cell_type": "code",
   "execution_count": 50,
   "metadata": {},
   "outputs": [
    {
     "name": "stdout",
     "output_type": "stream",
     "text": [
      "        ( , a)  ( , a,  )  ( , a, a)  ( , a, b)  ( , a, c)  ( , a, d)  \\\n",
      "0     0.146314   0.062150        0.0   0.019412        0.0   0.048845   \n",
      "1     0.087126   0.013878        0.0   0.000000        0.0   0.000000   \n",
      "2     0.091250   0.049835        0.0   0.015566        0.0   0.000000   \n",
      "3     0.089522   0.000000        0.0   0.000000        0.0   0.000000   \n",
      "4     0.085220   0.000000        0.0   0.000000        0.0   0.000000   \n",
      "...        ...        ...        ...        ...        ...        ...   \n",
      "1245  0.170102   0.032514        0.0   0.020311        0.0   0.000000   \n",
      "1246  0.151306   0.044495        0.0   0.000000        0.0   0.069940   \n",
      "1247  0.097047   0.030917        0.0   0.000000        0.0   0.072896   \n",
      "1248  0.018945   0.000000        0.0   0.000000        0.0   0.000000   \n",
      "1249  0.062201   0.019816        0.0   0.000000        0.0   0.000000   \n",
      "\n",
      "      ( , a, e)  ( , a, f)  ( , a, g)  ( , a, h)  ...  (z, z, a)  (z, z, b)  \\\n",
      "0           0.0   0.024641   0.000000        0.0  ...        0.0        0.0   \n",
      "1           0.0   0.000000   0.000000        0.0  ...        0.0        0.0   \n",
      "2           0.0   0.039517   0.000000        0.0  ...        0.0        0.0   \n",
      "3           0.0   0.000000   0.000000        0.0  ...        0.0        0.0   \n",
      "4           0.0   0.000000   0.000000        0.0  ...        0.0        0.0   \n",
      "...         ...        ...        ...        ...  ...        ...        ...   \n",
      "1245        0.0   0.000000   0.050296        0.0  ...        0.0        0.0   \n",
      "1246        0.0   0.000000   0.000000        0.0  ...        0.0        0.0   \n",
      "1247        0.0   0.000000   0.000000        0.0  ...        0.0        0.0   \n",
      "1248        0.0   0.000000   0.000000        0.0  ...        0.0        0.0   \n",
      "1249        0.0   0.000000   0.045979        0.0  ...        0.0        0.0   \n",
      "\n",
      "      (z, z, e)  (z, z, f)  (z, z, i)  (z, z, l)  (z, z, s)  (z, z, t)  \\\n",
      "0           0.0        0.0        0.0        0.0        0.0        0.0   \n",
      "1           0.0        0.0        0.0        0.0        0.0        0.0   \n",
      "2           0.0        0.0        0.0        0.0        0.0        0.0   \n",
      "3           0.0        0.0        0.0        0.0        0.0        0.0   \n",
      "4           0.0        0.0        0.0        0.0        0.0        0.0   \n",
      "...         ...        ...        ...        ...        ...        ...   \n",
      "1245        0.0        0.0        0.0        0.0        0.0        0.0   \n",
      "1246        0.0        0.0        0.0        0.0        0.0        0.0   \n",
      "1247        0.0        0.0        0.0        0.0        0.0        0.0   \n",
      "1248        0.0        0.0        0.0        0.0        0.0        0.0   \n",
      "1249        0.0        0.0        0.0        0.0        0.0        0.0   \n",
      "\n",
      "      (z, z, y)  (z, z, z)  \n",
      "0           0.0        0.0  \n",
      "1           0.0        0.0  \n",
      "2           0.0        0.0  \n",
      "3           0.0        0.0  \n",
      "4           0.0        0.0  \n",
      "...         ...        ...  \n",
      "1245        0.0        0.0  \n",
      "1246        0.0        0.0  \n",
      "1247        0.0        0.0  \n",
      "1248        0.0        0.0  \n",
      "1249        0.0        0.0  \n",
      "\n",
      "[1250 rows x 8181 columns]\n"
     ]
    }
   ],
   "source": [
    "DataFrame_Amazon_Test = pd.DataFrame(Vectorizer_Amazon_Test, columns = Vocabulary_Amazon_Train)\n",
    "DataFrame_Amazon_Test = DataFrame_Amazon_Test.reindex(sorted(DataFrame_Amazon_Test.columns), axis=1)\n",
    "print (DataFrame_Amazon_Test)"
   ]
  },
  {
   "cell_type": "code",
   "execution_count": 51,
   "metadata": {},
   "outputs": [
    {
     "name": "stdout",
     "output_type": "stream",
     "text": [
      "        ( , a)  ( , a,  )  ( , a, a)  ( , a, b)  ( , a, c)  ( , a, d)  \\\n",
      "0     0.171153   0.047851        0.0   0.035851   0.000000   0.017313   \n",
      "1     0.140159   0.043810        0.0   0.012765   0.000000   0.036986   \n",
      "2     0.159834   0.054718        0.0   0.011957   0.045784   0.017323   \n",
      "3     0.190176   0.025319        0.0   0.022131   0.000000   0.000000   \n",
      "4     0.059505   0.035650        0.0   0.000000   0.000000   0.000000   \n",
      "...        ...        ...        ...        ...        ...        ...   \n",
      "3745  0.096302   0.020980        0.0   0.000000   0.000000   0.000000   \n",
      "3746  0.100676   0.015079        0.0   0.000000   0.000000   0.000000   \n",
      "3747  0.080185   0.000000        0.0   0.033592   0.000000   0.000000   \n",
      "3748  0.147717   0.023086        0.0   0.000000   0.000000   0.000000   \n",
      "3749  0.143471   0.053721        0.0   0.000000   0.000000   0.000000   \n",
      "\n",
      "      ( , a, e)  ( , a, f)  ( , a, g)  ( , a, h)  ...  (z, z,  )  (z, z, a)  \\\n",
      "0           0.0   0.014340    0.00000        0.0  ...        0.0        0.0   \n",
      "1           0.0   0.000000    0.00000        0.0  ...        0.0        0.0   \n",
      "2           0.0   0.000000    0.00000        0.0  ...        0.0        0.0   \n",
      "3           0.0   0.026556    0.00000        0.0  ...        0.0        0.0   \n",
      "4           0.0   0.000000    0.00000        0.0  ...        0.0        0.0   \n",
      "...         ...        ...        ...        ...  ...        ...        ...   \n",
      "3745        0.0   0.000000    0.00000        0.0  ...        0.0        0.0   \n",
      "3746        0.0   0.031631    0.00000        0.0  ...        0.0        0.0   \n",
      "3747        0.0   0.000000    0.00000        0.0  ...        0.0        0.0   \n",
      "3748        0.0   0.000000    0.01668        0.0  ...        0.0        0.0   \n",
      "3749        0.0   0.000000    0.00000        0.0  ...        0.0        0.0   \n",
      "\n",
      "      (z, z, b)  (z, z, c)  (z, z, e)  (z, z, i)  (z, z, l)  (z, z, o)  \\\n",
      "0           0.0        0.0        0.0        0.0        0.0        0.0   \n",
      "1           0.0        0.0        0.0        0.0        0.0        0.0   \n",
      "2           0.0        0.0        0.0        0.0        0.0        0.0   \n",
      "3           0.0        0.0        0.0        0.0        0.0        0.0   \n",
      "4           0.0        0.0        0.0        0.0        0.0        0.0   \n",
      "...         ...        ...        ...        ...        ...        ...   \n",
      "3745        0.0        0.0        0.0        0.0        0.0        0.0   \n",
      "3746        0.0        0.0        0.0        0.0        0.0        0.0   \n",
      "3747        0.0        0.0        0.0        0.0        0.0        0.0   \n",
      "3748        0.0        0.0        0.0        0.0        0.0        0.0   \n",
      "3749        0.0        0.0        0.0        0.0        0.0        0.0   \n",
      "\n",
      "      (z, z, y)  (z, z, z)  \n",
      "0           0.0        0.0  \n",
      "1           0.0        0.0  \n",
      "2           0.0        0.0  \n",
      "3           0.0        0.0  \n",
      "4           0.0        0.0  \n",
      "...         ...        ...  \n",
      "3745        0.0        0.0  \n",
      "3746        0.0        0.0  \n",
      "3747        0.0        0.0  \n",
      "3748        0.0        0.0  \n",
      "3749        0.0        0.0  \n",
      "\n",
      "[3750 rows x 8197 columns]\n"
     ]
    }
   ],
   "source": [
    "DataFrame_Yelp_Train = pd.DataFrame(Vectorizer_Yelp_Train, columns = Vocabulary_Yelp_Train)\n",
    "DataFrame_Yelp_Train = DataFrame_Yelp_Train.reindex(sorted(DataFrame_Yelp_Train.columns), axis=1)\n",
    "print (DataFrame_Yelp_Train)"
   ]
  },
  {
   "cell_type": "code",
   "execution_count": 52,
   "metadata": {},
   "outputs": [
    {
     "name": "stdout",
     "output_type": "stream",
     "text": [
      "        ( , a)  ( , a,  )  ( , a, a)  ( , a, b)  ( , a, c)  ( , a, d)  \\\n",
      "0     0.164639   0.026303        0.0   0.022991        0.0   0.000000   \n",
      "1     0.078701   0.000000        0.0   0.000000        0.0   0.000000   \n",
      "2     0.089317   0.045865        0.0   0.000000        0.0   0.000000   \n",
      "3     0.120057   0.009590        0.0   0.000000        0.0   0.000000   \n",
      "4     0.164111   0.023980        0.0   0.000000        0.0   0.000000   \n",
      "...        ...        ...        ...        ...        ...        ...   \n",
      "1245  0.140150   0.083964        0.0   0.000000        0.0   0.035443   \n",
      "1246  0.073760   0.058919        0.0   0.000000        0.0   0.000000   \n",
      "1247  0.150321   0.045029        0.0   0.026239        0.0   0.000000   \n",
      "1248  0.021459   0.025712        0.0   0.000000        0.0   0.000000   \n",
      "1249  0.141502   0.036331        0.0   0.000000        0.0   0.000000   \n",
      "\n",
      "      ( , a, e)  ( , a, f)  ( , a, g)  ( , a, h)  ...  (z, z,  )  (z, z, a)  \\\n",
      "0           0.0   0.013794   0.000000        0.0  ...        0.0        0.0   \n",
      "1           0.0   0.000000   0.000000        0.0  ...        0.0        0.0   \n",
      "2           0.0   0.000000   0.000000        0.0  ...        0.0        0.0   \n",
      "3           0.0   0.020117   0.000000        0.0  ...        0.0        0.0   \n",
      "4           0.0   0.010061   0.031186        0.0  ...        0.0        0.0   \n",
      "...         ...        ...        ...        ...  ...        ...        ...   \n",
      "1245        0.0   0.000000   0.030332        0.0  ...        0.0        0.0   \n",
      "1246        0.0   0.000000   0.000000        0.0  ...        0.0        0.0   \n",
      "1247        0.0   0.000000   0.000000        0.0  ...        0.0        0.0   \n",
      "1248        0.0   0.000000   0.000000        0.0  ...        0.0        0.0   \n",
      "1249        0.0   0.000000   0.026250        0.0  ...        0.0        0.0   \n",
      "\n",
      "      (z, z, b)  (z, z, c)  (z, z, e)  (z, z, i)  (z, z, l)  (z, z, o)  \\\n",
      "0           0.0        0.0        0.0        0.0        0.0        0.0   \n",
      "1           0.0        0.0        0.0        0.0        0.0        0.0   \n",
      "2           0.0        0.0        0.0        0.0        0.0        0.0   \n",
      "3           0.0        0.0        0.0        0.0        0.0        0.0   \n",
      "4           0.0        0.0        0.0        0.0        0.0        0.0   \n",
      "...         ...        ...        ...        ...        ...        ...   \n",
      "1245        0.0        0.0        0.0        0.0        0.0        0.0   \n",
      "1246        0.0        0.0        0.0        0.0        0.0        0.0   \n",
      "1247        0.0        0.0        0.0        0.0        0.0        0.0   \n",
      "1248        0.0        0.0        0.0        0.0        0.0        0.0   \n",
      "1249        0.0        0.0        0.0        0.0        0.0        0.0   \n",
      "\n",
      "      (z, z, y)  (z, z, z)  \n",
      "0           0.0        0.0  \n",
      "1           0.0        0.0  \n",
      "2           0.0        0.0  \n",
      "3           0.0        0.0  \n",
      "4           0.0        0.0  \n",
      "...         ...        ...  \n",
      "1245        0.0        0.0  \n",
      "1246        0.0        0.0  \n",
      "1247        0.0        0.0  \n",
      "1248        0.0        0.0  \n",
      "1249        0.0        0.0  \n",
      "\n",
      "[1250 rows x 8197 columns]\n"
     ]
    }
   ],
   "source": [
    "DataFrame_Yelp_Test = pd.DataFrame(Vectorizer_Yelp_Test, columns = Vocabulary_Yelp_Train)\n",
    "DataFrame_Yelp_Test = DataFrame_Yelp_Test.reindex(sorted(DataFrame_Yelp_Test.columns), axis=1)\n",
    "print (DataFrame_Yelp_Test)"
   ]
  },
  {
   "cell_type": "code",
   "execution_count": 53,
   "metadata": {},
   "outputs": [
    {
     "name": "stdout",
     "output_type": "stream",
     "text": [
      "        ( , a)  ( , a,  )  ( , a, a)  ( , a, b)  ( , a, c)  ( , a, d)  \\\n",
      "0     0.126584   0.076670        0.0   0.034924   0.000000   0.000000   \n",
      "1     0.152202   0.042923        0.0   0.006221   0.011073   0.008778   \n",
      "2     0.118388   0.000000        0.0   0.000000   0.053665   0.000000   \n",
      "3     0.124489   0.025852        0.0   0.013738   0.000000   0.000000   \n",
      "4     0.150440   0.033472        0.0   0.017788   0.000000   0.000000   \n",
      "...        ...        ...        ...        ...        ...        ...   \n",
      "3745  0.131706   0.037607        0.0   0.005451   0.014552   0.000000   \n",
      "3746  0.123998   0.028611        0.0   0.000000   0.020297   0.000000   \n",
      "3747  0.203137   0.117178        0.0   0.000000   0.000000   0.000000   \n",
      "3748  0.074050   0.015378        0.0   0.000000   0.000000   0.000000   \n",
      "3749  0.208678   0.043335        0.0   0.000000   0.000000   0.000000   \n",
      "\n",
      "      ( , a, e)  ( , a, f)  ( , a, g)  ( , a, h)  ...  (z, y, s)    (z, z)  \\\n",
      "0           0.0   0.000000   0.000000        0.0  ...        0.0  0.000000   \n",
      "1           0.0   0.004216   0.004311        0.0  ...        0.0  0.007862   \n",
      "2           0.0   0.000000   0.000000        0.0  ...        0.0  0.000000   \n",
      "3           0.0   0.000000   0.000000        0.0  ...        0.0  0.000000   \n",
      "4           0.0   0.016075   0.000000        0.0  ...        0.0  0.000000   \n",
      "...         ...        ...        ...        ...  ...        ...       ...   \n",
      "3745        0.0   0.000000   0.030215        0.0  ...        0.0  0.000000   \n",
      "3746        0.0   0.000000   0.000000        0.0  ...        0.0  0.000000   \n",
      "3747        0.0   0.000000   0.103562        0.0  ...        0.0  0.000000   \n",
      "3748        0.0   0.066464   0.000000        0.0  ...        0.0  0.000000   \n",
      "3749        0.0   0.000000   0.000000        0.0  ...        0.0  0.000000   \n",
      "\n",
      "      (z, z,  )  (z, z, a)  (z, z, i)  (z, z, l)  (z, z, o)  (z, z, u)  \\\n",
      "0           0.0        0.0   0.000000        0.0        0.0        0.0   \n",
      "1           0.0        0.0   0.012378        0.0        0.0        0.0   \n",
      "2           0.0        0.0   0.000000        0.0        0.0        0.0   \n",
      "3           0.0        0.0   0.000000        0.0        0.0        0.0   \n",
      "4           0.0        0.0   0.000000        0.0        0.0        0.0   \n",
      "...         ...        ...        ...        ...        ...        ...   \n",
      "3745        0.0        0.0   0.000000        0.0        0.0        0.0   \n",
      "3746        0.0        0.0   0.000000        0.0        0.0        0.0   \n",
      "3747        0.0        0.0   0.000000        0.0        0.0        0.0   \n",
      "3748        0.0        0.0   0.000000        0.0        0.0        0.0   \n",
      "3749        0.0        0.0   0.000000        0.0        0.0        0.0   \n",
      "\n",
      "      (z, z, y)  (z, z, z)  \n",
      "0           0.0        0.0  \n",
      "1           0.0        0.0  \n",
      "2           0.0        0.0  \n",
      "3           0.0        0.0  \n",
      "4           0.0        0.0  \n",
      "...         ...        ...  \n",
      "3745        0.0        0.0  \n",
      "3746        0.0        0.0  \n",
      "3747        0.0        0.0  \n",
      "3748        0.0        0.0  \n",
      "3749        0.0        0.0  \n",
      "\n",
      "[3750 rows x 9284 columns]\n"
     ]
    }
   ],
   "source": [
    "DataFrame_IMDB_Train = pd.DataFrame(Vectorizer_IMDB_Train, columns = Vocabulary_IMDB_Train)\n",
    "DataFrame_IMDB_Train = DataFrame_IMDB_Train.reindex(sorted(DataFrame_IMDB_Train.columns), axis=1)\n",
    "print (DataFrame_IMDB_Train)"
   ]
  },
  {
   "cell_type": "code",
   "execution_count": 54,
   "metadata": {},
   "outputs": [
    {
     "name": "stdout",
     "output_type": "stream",
     "text": [
      "        ( , a)  ( , a,  )  ( , a, a)  ( , a, b)  ( , a, c)  ( , a, d)  \\\n",
      "0     0.179009   0.023233        0.0   0.037041   0.000000   0.000000   \n",
      "1     0.167577   0.082649        0.0   0.006935   0.006172   0.000000   \n",
      "2     0.188543   0.027573        0.0   0.021979   0.015649   0.012406   \n",
      "3     0.117361   0.012186        0.0   0.019427   0.000000   0.013707   \n",
      "4     0.159632   0.042972        0.0   0.000000   0.008710   0.027621   \n",
      "...        ...        ...        ...        ...        ...        ...   \n",
      "1245  0.207539   0.068565        0.0   0.000000   0.000000   0.000000   \n",
      "1246  0.153714   0.050698        0.0   0.002994   0.007993   0.000000   \n",
      "1247  0.178842   0.039094        0.0   0.000000   0.013867   0.000000   \n",
      "1248  0.191903   0.048468        0.0   0.008586   0.000000   0.000000   \n",
      "1249  0.212450   0.042017        0.0   0.000000   0.000000   0.023631   \n",
      "\n",
      "      ( , a, e)  ( , a, f)  ( , a, g)  ( , a, h)  ...  (z, y, s)  (z, z)  \\\n",
      "0           0.0   0.000000   0.017111   0.000000  ...        0.0     0.0   \n",
      "1           0.0   0.000000   0.000000   0.000000  ...        0.0     0.0   \n",
      "2           0.0   0.017876   0.006092   0.000000  ...        0.0     0.0   \n",
      "3           0.0   0.013167   0.000000   0.000000  ...        0.0     0.0   \n",
      "4           0.0   0.013266   0.000000   0.000000  ...        0.0     0.0   \n",
      "...         ...        ...        ...        ...  ...        ...     ...   \n",
      "1245        0.0   0.000000   0.000000   0.000000  ...        0.0     0.0   \n",
      "1246        0.0   0.012173   0.000000   0.000000  ...        0.0     0.0   \n",
      "1247        0.0   0.000000   0.000000   0.043138  ...        0.0     0.0   \n",
      "1248        0.0   0.000000   0.000000   0.000000  ...        0.0     0.0   \n",
      "1249        0.0   0.000000   0.046418   0.000000  ...        0.0     0.0   \n",
      "\n",
      "      (z, z,  )  (z, z, a)  (z, z, i)  (z, z, l)  (z, z, o)  (z, z, u)  \\\n",
      "0           0.0        0.0        0.0        0.0        0.0        0.0   \n",
      "1           0.0        0.0        0.0        0.0        0.0        0.0   \n",
      "2           0.0        0.0        0.0        0.0        0.0        0.0   \n",
      "3           0.0        0.0        0.0        0.0        0.0        0.0   \n",
      "4           0.0        0.0        0.0        0.0        0.0        0.0   \n",
      "...         ...        ...        ...        ...        ...        ...   \n",
      "1245        0.0        0.0        0.0        0.0        0.0        0.0   \n",
      "1246        0.0        0.0        0.0        0.0        0.0        0.0   \n",
      "1247        0.0        0.0        0.0        0.0        0.0        0.0   \n",
      "1248        0.0        0.0        0.0        0.0        0.0        0.0   \n",
      "1249        0.0        0.0        0.0        0.0        0.0        0.0   \n",
      "\n",
      "      (z, z, y)  (z, z, z)  \n",
      "0           0.0        0.0  \n",
      "1           0.0        0.0  \n",
      "2           0.0        0.0  \n",
      "3           0.0        0.0  \n",
      "4           0.0        0.0  \n",
      "...         ...        ...  \n",
      "1245        0.0        0.0  \n",
      "1246        0.0        0.0  \n",
      "1247        0.0        0.0  \n",
      "1248        0.0        0.0  \n",
      "1249        0.0        0.0  \n",
      "\n",
      "[1250 rows x 9284 columns]\n"
     ]
    }
   ],
   "source": [
    "DataFrame_IMDB_Test = pd.DataFrame(Vectorizer_IMDB_Test, columns = Vocabulary_IMDB_Train)\n",
    "DataFrame_IMDB_Test = DataFrame_IMDB_Test.reindex(sorted(DataFrame_IMDB_Test.columns), axis=1)\n",
    "print (DataFrame_IMDB_Test)"
   ]
  },
  {
   "cell_type": "markdown",
   "metadata": {},
   "source": [
    "## Akurasi dan Waktu Train Test "
   ]
  },
  {
   "cell_type": "code",
   "execution_count": 55,
   "metadata": {},
   "outputs": [
    {
     "name": "stdout",
     "output_type": "stream",
     "text": [
      "\n",
      "Waktu Training Amazon: 24.823s\n"
     ]
    }
   ],
   "source": [
    "Waktu_Training = time()\n",
    "RF_Classifier_Amazon = RandomForestClassifier(\n",
    "        max_depth= 5, n_estimators = 800, random_state=42,\n",
    "        bootstrap = False, min_samples_split = 5, min_samples_leaf = 1, max_features = 'auto')\n",
    "RF_Classifier_Amazon.fit(Vectorizer_Amazon_Train, Label_Amazon_Train)\n",
    "print(f\"\\nWaktu Training Amazon: {round(time()-Waktu_Training, 3)}s\")"
   ]
  },
  {
   "cell_type": "code",
   "execution_count": 56,
   "metadata": {},
   "outputs": [
    {
     "name": "stdout",
     "output_type": "stream",
     "text": [
      "waktu prediksi (train): 2.987s\n",
      "waktu prediksi (test): 0.927s\n",
      "\n",
      "Skor Random Forest Train Amazon : 0.8978666666666667\n",
      "Skor Random Forest Test Amazon : 0.8184\n"
     ]
    }
   ],
   "source": [
    "Waktu_Predict_Train = time()\n",
    "Skor_Train_Amazon = RF_Classifier_Amazon.score(Vectorizer_Amazon_Train, Label_Amazon_Train)\n",
    "print(f\"waktu prediksi (train): {round(time()-Waktu_Predict_Train, 3)}s\")\n",
    "\n",
    "Waktu_Predict_Test = time()\n",
    "Skor_Test_Amazon = RF_Classifier_Amazon.score(Vectorizer_Amazon_Test, Label_Amazon_Test)\n",
    "print(f\"waktu prediksi (test): {round(time()-Waktu_Predict_Test, 3)}s\")\n",
    "\n",
    "print(\"\\nSkor Random Forest Train Amazon : {}\".format(Skor_Train_Amazon))\n",
    "print(\"Skor Random Forest Test Amazon : {}\".format(Skor_Test_Amazon))\n",
    "\n"
   ]
  },
  {
   "cell_type": "code",
   "execution_count": 57,
   "metadata": {
    "scrolled": true
   },
   "outputs": [
    {
     "name": "stdout",
     "output_type": "stream",
     "text": [
      "\n",
      "Waktu Training Yelp: 25.884s\n"
     ]
    }
   ],
   "source": [
    "Waktu_Training = time()\n",
    "RF_Classifier_Yelp = RandomForestClassifier(max_depth= 5, n_estimators = 800, random_state=42,\n",
    "                                       bootstrap = False, min_samples_split = 5, min_samples_leaf = 1, max_features = 'auto')\n",
    "RF_Classifier_Yelp.fit(Vectorizer_Yelp_Train, Label_Yelp_Train)\n",
    "print(f\"\\nWaktu Training Yelp: {round(time()-Waktu_Training, 3)}s\")"
   ]
  },
  {
   "cell_type": "code",
   "execution_count": 58,
   "metadata": {},
   "outputs": [
    {
     "name": "stdout",
     "output_type": "stream",
     "text": [
      "waktu prediksi (train): 2.618s\n",
      "waktu prediksi (test): 1.771s\n",
      "\n",
      "Skor Random Forest Train Yelp : 0.9048\n",
      "Skor Random Forest Test Yelp : 0.8624\n"
     ]
    }
   ],
   "source": [
    "Waktu_Predict_Train = time()\n",
    "Skor_Train_Yelp = RF_Classifier_Yelp.score(Vectorizer_Yelp_Train, Label_Yelp_Train)\n",
    "print(f\"waktu prediksi (train): {round(time()-Waktu_Predict_Train, 3)}s\")\n",
    "\n",
    "Waktu_Predict_Test = time()\n",
    "Skor_Test_Yelp = RF_Classifier_Yelp.score(Vectorizer_Yelp_Test, Label_Yelp_Test)\n",
    "print(f\"waktu prediksi (test): {round(time()-Waktu_Predict_Test, 3)}s\")\n",
    "\n",
    "print(\"\\nSkor Random Forest Train Yelp : {}\".format(Skor_Train_Yelp))\n",
    "print(\"Skor Random Forest Test Yelp : {}\".format(Skor_Test_Yelp))\n"
   ]
  },
  {
   "cell_type": "code",
   "execution_count": 59,
   "metadata": {},
   "outputs": [
    {
     "name": "stdout",
     "output_type": "stream",
     "text": [
      "\n",
      "Waktu Training IMDB: 30.706s\n"
     ]
    }
   ],
   "source": [
    "Waktu_Training = time()\n",
    "RF_Classifier_IMDB = RandomForestClassifier(max_depth= 5, n_estimators = 800, random_state=42,\n",
    "                                       bootstrap = False, min_samples_split = 5, min_samples_leaf = 1, max_features = 'auto')\n",
    "RF_Classifier_IMDB.fit(Vectorizer_IMDB_Train, Label_IMDB_Train)\n",
    "print(f\"\\nWaktu Training IMDB: {round(time()-Waktu_Training, 3)}s\")"
   ]
  },
  {
   "cell_type": "code",
   "execution_count": 60,
   "metadata": {},
   "outputs": [
    {
     "name": "stdout",
     "output_type": "stream",
     "text": [
      "waktu prediksi (train): 2.907s\n",
      "waktu prediksi (test): 0.957s\n",
      "\n",
      "Skor Random Forest Train IMDB : 0.9157333333333333\n",
      "Skor Random Forest Test IMDB : 0.7816\n"
     ]
    }
   ],
   "source": [
    "Waktu_Predict_Train = time()\n",
    "Skor_Train_IMDB = RF_Classifier_IMDB.score(Vectorizer_IMDB_Train, Label_IMDB_Train)\n",
    "print(f\"waktu prediksi (train): {round(time()-Waktu_Predict_Train, 3)}s\")\n",
    "\n",
    "Waktu_Predict_Test = time()\n",
    "Skor_Test_IMDB = RF_Classifier_IMDB.score(Vectorizer_IMDB_Test, Label_IMDB_Test)\n",
    "print(f\"waktu prediksi (test): {round(time()-Waktu_Predict_Test, 3)}s\")\n",
    "\n",
    "print(\"\\nSkor Random Forest Train IMDB : {}\".format(Skor_Train_IMDB))\n",
    "print(\"Skor Random Forest Test IMDB : {}\".format(Skor_Test_IMDB))"
   ]
  },
  {
   "cell_type": "code",
   "execution_count": 1,
   "metadata": {},
   "outputs": [
    {
     "ename": "NameError",
     "evalue": "name 'Vocabulary_Train_Amazon' is not defined",
     "output_type": "error",
     "traceback": [
      "\u001b[1;31m---------------------------------------------------------------------------\u001b[0m",
      "\u001b[1;31mNameError\u001b[0m                                 Traceback (most recent call last)",
      "\u001b[1;32m<ipython-input-1-1af609d57e0a>\u001b[0m in \u001b[0;36m<module>\u001b[1;34m\u001b[0m\n\u001b[0;32m      1\u001b[0m \u001b[0mVocabulary_Importance_Amazon\u001b[0m \u001b[1;33m=\u001b[0m \u001b[1;33m[\u001b[0m\u001b[1;33m]\u001b[0m\u001b[1;33m\u001b[0m\u001b[1;33m\u001b[0m\u001b[0m\n\u001b[0;32m      2\u001b[0m \u001b[0miterator\u001b[0m \u001b[1;33m=\u001b[0m \u001b[1;36m0\u001b[0m\u001b[1;33m\u001b[0m\u001b[1;33m\u001b[0m\u001b[0m\n\u001b[1;32m----> 3\u001b[1;33m \u001b[0mlength\u001b[0m \u001b[1;33m=\u001b[0m \u001b[0mlen\u001b[0m \u001b[1;33m(\u001b[0m\u001b[0mVocabulary_Train_Amazon\u001b[0m\u001b[1;33m)\u001b[0m\u001b[1;33m\u001b[0m\u001b[1;33m\u001b[0m\u001b[0m\n\u001b[0m\u001b[0;32m      4\u001b[0m \u001b[1;33m\u001b[0m\u001b[0m\n\u001b[0;32m      5\u001b[0m \u001b[1;32mwhile\u001b[0m \u001b[0miterator\u001b[0m \u001b[1;33m<\u001b[0m \u001b[0mlength\u001b[0m \u001b[1;33m:\u001b[0m\u001b[1;33m\u001b[0m\u001b[1;33m\u001b[0m\u001b[0m\n",
      "\u001b[1;31mNameError\u001b[0m: name 'Vocabulary_Train_Amazon' is not defined"
     ]
    }
   ],
   "source": []
  },
  {
   "cell_type": "code",
   "execution_count": null,
   "metadata": {},
   "outputs": [],
   "source": []
  },
  {
   "cell_type": "code",
   "execution_count": null,
   "metadata": {},
   "outputs": [],
   "source": []
  }
 ],
 "metadata": {
  "kernelspec": {
   "display_name": "Python 3",
   "language": "python",
   "name": "python3"
  },
  "language_info": {
   "codemirror_mode": {
    "name": "ipython",
    "version": 3
   },
   "file_extension": ".py",
   "mimetype": "text/x-python",
   "name": "python",
   "nbconvert_exporter": "python",
   "pygments_lexer": "ipython3",
   "version": "3.7.4"
  }
 },
 "nbformat": 4,
 "nbformat_minor": 2
}
