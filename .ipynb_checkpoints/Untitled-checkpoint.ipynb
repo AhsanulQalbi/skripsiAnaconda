{
 "cells": [
  {
   "cell_type": "code",
   "execution_count": null,
   "metadata": {},
   "outputs": [],
   "source": [
    "import dill\n",
    "import types\n",
    "import module\n",
    "\n",
    "def f(x) :\n",
    "    return x*x\n",
    "\n",
    "with open(\"my_func.pkl\", 'wb') as fs:\n",
    "    dill.dump(f, fs)"
   ]
  }
 ],
 "metadata": {
  "kernelspec": {
   "display_name": "Python 3",
   "language": "python",
   "name": "python3"
  },
  "language_info": {
   "codemirror_mode": {
    "name": "ipython",
    "version": 3
   },
   "file_extension": ".py",
   "mimetype": "text/x-python",
   "name": "python",
   "nbconvert_exporter": "python",
   "pygments_lexer": "ipython3",
   "version": "3.7.4"
  }
 },
 "nbformat": 4,
 "nbformat_minor": 2
}
